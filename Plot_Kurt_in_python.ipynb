{
 "cells": [
  {
   "cell_type": "code",
   "execution_count": 1,
   "id": "4c160c87",
   "metadata": {},
   "outputs": [
    {
     "ename": "ModuleNotFoundError",
     "evalue": "No module named 'h5py'",
     "output_type": "error",
     "traceback": [
      "\u001b[1;31m---------------------------------------------------------------------------\u001b[0m",
      "\u001b[1;31mModuleNotFoundError\u001b[0m                       Traceback (most recent call last)",
      "Input \u001b[1;32mIn [1]\u001b[0m, in \u001b[0;36m<cell line: 2>\u001b[1;34m()\u001b[0m\n\u001b[0;32m      1\u001b[0m \u001b[38;5;28;01mimport\u001b[39;00m \u001b[38;5;21;01mnumpy\u001b[39;00m \u001b[38;5;28;01mas\u001b[39;00m \u001b[38;5;21;01mnp\u001b[39;00m\n\u001b[1;32m----> 2\u001b[0m \u001b[38;5;28;01mimport\u001b[39;00m \u001b[38;5;21;01mh5py\u001b[39;00m\n\u001b[0;32m      4\u001b[0m \u001b[38;5;28;01mimport\u001b[39;00m \u001b[38;5;21;01mseaborn\u001b[39;00m \u001b[38;5;28;01mas\u001b[39;00m \u001b[38;5;21;01msns\u001b[39;00m\n\u001b[0;32m      5\u001b[0m \u001b[38;5;28;01mimport\u001b[39;00m \u001b[38;5;21;01mmatplotlib\u001b[39;00m\u001b[38;5;21;01m.\u001b[39;00m\u001b[38;5;21;01mpyplot\u001b[39;00m \u001b[38;5;28;01mas\u001b[39;00m \u001b[38;5;21;01mplt\u001b[39;00m\n",
      "\u001b[1;31mModuleNotFoundError\u001b[0m: No module named 'h5py'"
     ]
    }
   ],
   "source": [
    "import numpy as np\n",
    "import h5py\n",
    "\n",
    "import seaborn as sns\n",
    "import matplotlib.pyplot as plt\n",
    "\n",
    "import pandas as pd"
   ]
  },
  {
   "cell_type": "code",
   "execution_count": null,
   "id": "ed130187",
   "metadata": {},
   "outputs": [],
   "source": [
    "def get_keys(file_name):\n",
    "    with h5py.File(file_name, 'r') as f:\n",
    "        keys = []\n",
    "        for k in f.keys():\n",
    "            keys.append(k)\n",
    "        return keys\n",
    "\n",
    "def get_time(file_name):\n",
    "    with h5py.File(file_name, 'r') as f:\n",
    "        dt = f[\"dt\"][()]\n",
    "        tmax = f[\"t_max\"][()]\n",
    "        return dt, tmax\n",
    "    \n",
    "def get_seeds(file_name):\n",
    "    with h5py.File(file_name, 'r') as f:\n",
    "        seeds = f[\"seeds\"][()]\n",
    "        return seeds\n",
    "    \n",
    "def get_noise_levels(file_name, state):\n",
    "    with h5py.File(file_name, 'r') as f:\n",
    "        noise_levels = []\n",
    "        for k in f[str(state)].keys():\n",
    "            noise_levels.append(k)\n",
    "        return noise_levels\n",
    "\n",
    "def get_by_name(file_name, states, var_name, noise_levels):\n",
    "    var_by_name = []\n",
    "    with h5py.File(file_name, 'r') as f:\n",
    "        for w in noise_levels:\n",
    "            var_by_name.append([ f[str(state)][str(w)][str(var_name)][()] for state in states])\n",
    "        return(var_by_name)\n",
    "    \n",
    "def get_variable_names(file_name, state, noise_level):\n",
    "    with h5py.File(file_name, 'r') as f:\n",
    "        var_names = []\n",
    "        for k in f[str(state)][str(noise_level)].keys():\n",
    "            var_names.append(k)\n",
    "        return(var_names)"
   ]
  },
  {
   "cell_type": "code",
   "execution_count": null,
   "id": "521b209f",
   "metadata": {},
   "outputs": [],
   "source": [
    "file_name = \"C:/Users/Zakhar/Documents/GitHub/JPOP_SID/Kurt_clust_compare_methods_started_2022-Jul-18_at_13-06.h5\"\n",
    "#get_keys(file_name)"
   ]
  },
  {
   "cell_type": "code",
   "execution_count": null,
   "id": "172dbe75",
   "metadata": {},
   "outputs": [],
   "source": [
    "noise_levels = get_noise_levels(file_name, 'State_B1')\n",
    "get_variable_names(file_name, 'State_B1', noise_levels[1])\n",
    "basis_states = [ 'State_B' + str(_) for _ in range(1,5)]\n",
    "dodeca_states = ['State_D' + str(_) for _ in range(1,21)]\n",
    "all_states = [*basis_states, *dodeca_states]"
   ]
  },
  {
   "cell_type": "code",
   "execution_count": null,
   "id": "8290f0c9",
   "metadata": {},
   "outputs": [],
   "source": [
    "fidelity_lsid = get_by_name(file_name, all_states, \"fidelity_lsid\", noise_levels)\n",
    "fidelity_kraus = get_by_name(file_name, all_states, \"fidelity_kraus\", noise_levels)\n",
    "fidelity_pade = get_by_name(file_name, all_states, \"fidelity_pade\", noise_levels)\n",
    "fidelity_simp = get_by_name(file_name, all_states, \"fidelity_simp\", noise_levels)"
   ]
  },
  {
   "cell_type": "code",
   "execution_count": null,
   "id": "74b438e2",
   "metadata": {},
   "outputs": [],
   "source": [
    "print(\"Pade: \", sum(len(_) for _ in fidelity_pade))\n",
    "\n",
    "print(\n",
    "        sum(len(_) for _ in fidelity_pade)\n",
    "        +\n",
    "        sum(len(_) for _ in fidelity_kraus)\n",
    "        +\n",
    "        sum(len(_) for _ in fidelity_simp)\n",
    ")\n",
    "\n",
    "convergence_pade = [100. * np.isfinite(_).sum() / len(_) for _ in fidelity_pade]\n",
    "convergence_kraus = [100. * np.isfinite(_).sum() / len(_) for _ in fidelity_kraus]\n",
    "convergence_simps = [100. * np.isfinite(_).sum() / len(_) for _ in fidelity_simp]\n",
    "convergence_lsid = [100. * np.isfinite(_).sum() / len(_) for _ in fidelity_lsid]\n",
    "\n",
    "x = np.arange(len(noise_levels))  # the label locations\n",
    "width = 0.3  # the width of the bars\n",
    "\n",
    "fig, ax = plt.subplots()\n",
    "\n",
    "rects = [\n",
    "        ax.bar(x - width, convergence_pade, width, label='Pade'),\n",
    "        ax.bar(x, convergence_simps, width, label='Simpson'),\n",
    "        ax.bar(x + width, convergence_kraus, width, label='Kraus'),\n",
    "]\n",
    "\n",
    "ax.set_ylabel('Percentile of reconstructions converged')\n",
    "ax.set_xlabel(\"Noise (w)\")\n",
    "ax.set_xticks(x, noise_levels)\n",
    "ax.legend()\n",
    "\n",
    "fig.tight_layout()\n",
    "\n",
    "plt.show()\n",
    "\n"
   ]
  },
  {
   "cell_type": "code",
   "execution_count": null,
   "id": "82a1431b",
   "metadata": {},
   "outputs": [],
   "source": [
    "def get_DataFrame(data):\n",
    "        frame = {k: np.hstack(v) for k, v in data.items()}\n",
    "        frame['noise ($w$)'] = np.hstack(\n",
    "                [np.repeat(w, len(d)) for w, d in zip(noise_levels, list(data.values())[0])]\n",
    "        )\n",
    "        return frame\n",
    "\n",
    "fig, ax = plt.subplots(1, 3, sharey=True, sharex=True, figsize=(3 * 3, 4), dpi=300,)\n",
    "\n",
    "params = dict(\n",
    "        x='Minimal fidelity',\n",
    "        hue='noise ($w$)',\n",
    "        fill=True,\n",
    "        common_norm=False,\n",
    "        log_scale=(False, True),\n",
    ")\n",
    "\n",
    "# Pade objective function\n",
    "#sns.kdeplot(\n",
    "#        data=get_DataFrame({'Minimal fidelity': fidelity_pade}), ax=ax[0], **params\n",
    "#)\n",
    "\n",
    "# Linear objective function\n",
    "sns.kdeplot(\n",
    "        data=get_DataFrame({'Minimal fidelity': fidelity_lsid}), ax=ax[0], **params\n",
    ")\n",
    "\n",
    "# Kraus objective function\n",
    "sns.kdeplot(\n",
    "        data=get_DataFrame({'Minimal fidelity': fidelity_kraus}), ax=ax[1], **params\n",
    ")\n",
    "\n",
    "# integral Simpson objective function\n",
    "sns.kdeplot(\n",
    "        data=get_DataFrame({'Minimal fidelity': fidelity_simp}), ax=ax[2], **params\n",
    ")\n",
    "\n",
    "#label = list(\"bcd\")[::-1]\n",
    "\n",
    "label = [\"Linear\", \"Kraus\", \"Simpson\"]\n",
    "\n",
    "for _ in ax:\n",
    "        sns.move_legend(_, \"upper left\")\n",
    "        _.set_xlabel(r'$F_{\\rm min}$')\n",
    "        _.text(0.1, 0.35, \"({})\".format(label.pop()), transform=_.transAxes)\n",
    "\n",
    "ax[0].set_ylabel('Number of tests')\n",
    "\n",
    "plt.ylim([1, 1e5])\n",
    "plt.xlim([0.98, 1.0005])\n",
    "plt.tight_layout()\n",
    "plt.savefig(\"Kurt_LiPoSID_fidelity.pdf\")\n",
    "\n",
    "plt.show()\n"
   ]
  },
  {
   "cell_type": "code",
   "execution_count": null,
   "id": "e73f6309",
   "metadata": {},
   "outputs": [],
   "source": [
    "from scipy.stats import pearsonr\n",
    "correlations = [pearsonr(*_)[0] for _ in zip(fidelity_pade, fidelity_kraus)]\n",
    "sns.barplot(noise_levels, correlations)\n",
    "plt.xlabel('noise ($w$)')\n",
    "plt.ylabel('Correlation between Pade and Kraus min fieldity')\n",
    "plt.show()\n",
    "\n"
   ]
  },
  {
   "cell_type": "code",
   "execution_count": null,
   "id": "c5201fec",
   "metadata": {},
   "outputs": [],
   "source": [
    "plt.violin(fidelity_pade)"
   ]
  },
  {
   "cell_type": "code",
   "execution_count": null,
   "id": "33a01e84",
   "metadata": {},
   "outputs": [],
   "source": []
  }
 ],
 "metadata": {
  "kernelspec": {
   "display_name": "Python 3 (ipykernel)",
   "language": "python",
   "name": "python3"
  },
  "language_info": {
   "codemirror_mode": {
    "name": "ipython",
    "version": 3
   },
   "file_extension": ".py",
   "mimetype": "text/x-python",
   "name": "python",
   "nbconvert_exporter": "python",
   "pygments_lexer": "ipython3",
   "version": "3.9.10"
  }
 },
 "nbformat": 4,
 "nbformat_minor": 5
}
