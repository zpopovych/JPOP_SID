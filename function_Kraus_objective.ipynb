{
 "cells": [
  {
   "cell_type": "markdown",
   "id": "69f85511",
   "metadata": {},
   "source": [
    "### Kraus objective builder function"
   ]
  },
  {
   "cell_type": "code",
   "execution_count": 3,
   "id": "13140201",
   "metadata": {},
   "outputs": [],
   "source": [
    "using Symbolics\n",
    "using LinearAlgebra\n",
    "using DynamicPolynomials"
   ]
  },
  {
   "cell_type": "markdown",
   "id": "29bb2786",
   "metadata": {},
   "source": [
    "Auxilary function for square Frobenius norm of the matrix $\\left\\| M \\right\\|_F^2$:"
   ]
  },
  {
   "cell_type": "code",
   "execution_count": 4,
   "id": "147208aa",
   "metadata": {},
   "outputs": [
    {
     "data": {
      "text/plain": [
       "frobenius_norm2 (generic function with 1 method)"
      ]
     },
     "execution_count": 4,
     "metadata": {},
     "output_type": "execute_result"
    }
   ],
   "source": [
    "function frobenius_norm2(m)\n",
    "    return tr(m * m')\n",
    "end"
   ]
  },
  {
   "cell_type": "markdown",
   "id": "a5bbcc2f",
   "metadata": {},
   "source": [
    "#### Consider Kraus evolution of quantum system"
   ]
  },
  {
   "cell_type": "markdown",
   "id": "1b551227",
   "metadata": {},
   "source": [
    "Consider Kraus map - a linear Completely Positive Trace Preserving (CP-TP) evolution of density matrix $\\rho$:\n",
    "\\begin{aligned}\n",
    "    \\rho(t) & = \\sum_{k=1}^{\\ell} E_k^{} \\rho(0) E_k^{\\dagger}.\n",
    "\\end{aligned}"
   ]
  },
  {
   "cell_type": "markdown",
   "id": "06b0d060",
   "metadata": {},
   "source": [
    "The operators $\\{E_k \\}_{k=1}^{\\ell}$ are called Kraus operators and satisfy the completeness relation $\\sum_{k=1}^{\\ell}E_k^\\dagger E_k = \\mathbb{1}$ with $\\ell \\leq n^2-1$."
   ]
  },
  {
   "cell_type": "markdown",
   "id": "3c00b7fc",
   "metadata": {},
   "source": [
    "#### The corresponding minimization problem"
   ]
  },
  {
   "cell_type": "markdown",
   "id": "f85fb3da",
   "metadata": {},
   "source": [
    " Terms for the objective for minimization for evolution from $\\rho_{(0)}$ to $\\rho_{(1)}$: \n",
    "\\begin{align}\n",
    "\\left\\| \\sum_{k=1}^\\ell \\hat{E}_k \\rho_{(0)} \\hat{E}_k^{\\dagger} - \\rho_{(1)} \\right\\|_F^2\n",
    "\\rightarrow \\operatorname{min}\n",
    "\\end{align} \n",
    "Under constraint:\n",
    "\\begin{align}\n",
    "\\sum_{k=1}^\\ell \\hat{E}_k^\\dagger \\hat{E}_k  = \\mathbb{1}.\n",
    "\\end{align}"
   ]
  },
  {
   "cell_type": "markdown",
   "id": "e5b3bb1e",
   "metadata": {},
   "source": [
    "For the time series of $\\rho(t)$:\n",
    "\\begin{align}\n",
    "    \\sum_{i=0}^{N-1} \\left\\| \\sum_{k=1}^\\ell \\hat{E}_k \\rho_{(i)} \\hat{E}_k^{\\dagger} - \\rho_{(i+1)} \\right\\|_F^2 \\rightarrow \\operatorname{min}\n",
    "\\end{align}\n",
    "\n",
    "under constrain:\n",
    "\\begin{align}\n",
    "\\left \\| \\sum_{k=1}^\\ell \\hat{E}_k^\\dagger \\hat{E}_k  -\\mathbb{1} \\right\\|_F^2 = 0\n",
    "\\end{align}"
   ]
  },
  {
   "cell_type": "markdown",
   "id": "4b883f41",
   "metadata": {},
   "source": [
    "The following function will essemble the Krauss objective from the time series of density matrix evolution:"
   ]
  },
  {
   "cell_type": "code",
   "execution_count": 11,
   "id": "05a528ba",
   "metadata": {},
   "outputs": [
    {
     "data": {
      "text/plain": [
       "kraus_obj (generic function with 1 method)"
      ]
     },
     "execution_count": 11,
     "metadata": {},
     "output_type": "execute_result"
    }
   ],
   "source": [
    "function kraus_obj(ρ, K1, K2) \n",
    "    obj = 0\n",
    "    for i in 1:length(ρ)-1\n",
    "        obj += frobenius_norm2(K1 * ρ[i] * K1' - ρ[i+1]) + frobenius_norm2(K2 * ρ[i] * K2' - ρ[i+1])\n",
    "    end\n",
    "    obj = sum(real(coef) * mon for (coef, mon) in zip(coefficients(obj), monomials(obj)))\n",
    "    return obj\n",
    "end"
   ]
  },
  {
   "cell_type": "markdown",
   "id": "ae3d6010",
   "metadata": {},
   "source": [
    "Consider toy example"
   ]
  },
  {
   "cell_type": "code",
   "execution_count": 12,
   "id": "8a41acd2",
   "metadata": {},
   "outputs": [
    {
     "data": {
      "text/plain": [
       "4-element Vector{Matrix{ComplexF64}}:\n",
       " [0.5 + 0.0im 0.0 - 1.0im; 0.0 + 1.0im 0.5 + 0.0im]\n",
       " [0.6 + 0.0im 0.0 + 0.0im; 0.0 + 0.0im 0.4 + 0.0im]\n",
       " [0.7 + 0.0im 0.0 + 0.0im; 0.0 + 0.0im 0.3 + 0.0im]\n",
       " [0.9 + 0.0im 0.0 + 0.0im; 0.0 + 0.0im 0.1 + 0.0im]"
      ]
     },
     "execution_count": 12,
     "metadata": {},
     "output_type": "execute_result"
    }
   ],
   "source": [
    "@polyvar a1[1:2, 1:2]\n",
    "@polyvar b1[1:2, 1:2]\n",
    "K1 = 1.0 * a1 + im * b1\n",
    "\n",
    "@polyvar a2[1:2, 1:2]\n",
    "@polyvar b2[1:2, 1:2]\n",
    "K2 = 1.0 * a2 + im * b2\n",
    "\n",
    "ρ1 = [.5 -im\n",
    "     +im  .5]\n",
    "ρ2 = [.6 0\n",
    "     0  .4]\n",
    "ρ3 = [.7 0\n",
    "     0  .3]\n",
    "ρ4 = [.9 0\n",
    "     0  .1]\n",
    "\n",
    "ρ = [ρ1, ρ2, ρ3, ρ4]"
   ]
  },
  {
   "cell_type": "code",
   "execution_count": 13,
   "id": "b0174af7",
   "metadata": {},
   "outputs": [
    {
     "data": {
      "text/latex": [
       "$$ 1.0999999999999999a1_{1,1}^{4} - 2.0a1_{1,1}^{3}b1_{1,2} + 2.1999999999999997a1_{1,1}^{2}a1_{2,1}^{2} - 2.0a1_{1,1}^{2}a1_{2,1}b1_{2,2} + 1.4a1_{1,1}^{2}a1_{1,2}^{2} + 2.0a1_{1,1}^{2}a1_{1,2}b1_{1,1} + 2.0a1_{1,1}^{2}a1_{2,2}^{2} + 2.0a1_{1,1}^{2}a1_{2,2}b1_{2,1} + 2.1999999999999997a1_{1,1}^{2}b1_{1,1}^{2} + 2.1999999999999997a1_{1,1}^{2}b1_{2,1}^{2} + 5.4a1_{1,1}^{2}b1_{1,2}^{2} + 2.0a1_{1,1}^{2}b1_{2,2}^{2} - 2.0a1_{1,1}a1_{2,1}^{2}b1_{1,2} - 1.2000000000000002a1_{1,1}a1_{2,1}a1_{1,2}a1_{2,2} + 6.8a1_{1,1}a1_{2,1}b1_{1,2}b1_{2,2} - 2.0a1_{1,1}a1_{1,2}^{2}b1_{1,2} - 8.0a1_{1,1}a1_{1,2}b1_{1,1}b1_{1,2} - 1.2000000000000002a1_{1,1}a1_{1,2}b1_{2,1}b1_{2,2} - 2.0a1_{1,1}a1_{2,2}^{2}b1_{1,2} - 6.8a1_{1,1}a1_{2,2}b1_{2,1}b1_{1,2} - 2.0a1_{1,1}b1_{1,1}^{2}b1_{1,2} - 2.0a1_{1,1}b1_{2,1}^{2}b1_{1,2} - 2.0a1_{1,1}b1_{1,2}^{3} - 2.0a1_{1,1}b1_{1,2}b1_{2,2}^{2} + 1.0999999999999999a1_{2,1}^{4} - 2.0a1_{2,1}^{3}b1_{2,2} + 2.0a1_{2,1}^{2}a1_{1,2}^{2} + 2.0a1_{2,1}^{2}a1_{1,2}b1_{1,1} + 1.4a1_{2,1}^{2}a1_{2,2}^{2} + 2.0a1_{2,1}^{2}a1_{2,2}b1_{2,1} + 2.1999999999999997a1_{2,1}^{2}b1_{1,1}^{2} + 2.1999999999999997a1_{2,1}^{2}b1_{2,1}^{2} + 2.0a1_{2,1}^{2}b1_{1,2}^{2} + 5.4a1_{2,1}^{2}b1_{2,2}^{2} - 2.0a1_{2,1}a1_{1,2}^{2}b1_{2,2} - 6.8a1_{2,1}a1_{1,2}b1_{1,1}b1_{2,2} - 2.0a1_{2,1}a1_{2,2}^{2}b1_{2,2} - 1.2000000000000002a1_{2,1}a1_{2,2}b1_{1,1}b1_{1,2} - 8.0a1_{2,1}a1_{2,2}b1_{2,1}b1_{2,2} - 2.0a1_{2,1}b1_{1,1}^{2}b1_{2,2} - 2.0a1_{2,1}b1_{2,1}^{2}b1_{2,2} - 2.0a1_{2,1}b1_{1,2}^{2}b1_{2,2} - 2.0a1_{2,1}b1_{2,2}^{3} + 0.5a1_{1,2}^{4} + 2.0a1_{1,2}^{3}b1_{1,1} + a1_{1,2}^{2}a1_{2,2}^{2} + 2.0a1_{1,2}^{2}a1_{2,2}b1_{2,1} + 5.4a1_{1,2}^{2}b1_{1,1}^{2} + 2.0a1_{1,2}^{2}b1_{2,1}^{2} + a1_{1,2}^{2}b1_{1,2}^{2} + a1_{1,2}^{2}b1_{2,2}^{2} + 2.0a1_{1,2}a1_{2,2}^{2}b1_{1,1} + 6.8a1_{1,2}a1_{2,2}b1_{1,1}b1_{2,1} + 2.0a1_{1,2}b1_{1,1}^{3} + 2.0a1_{1,2}b1_{1,1}b1_{2,1}^{2} + 2.0a1_{1,2}b1_{1,1}b1_{1,2}^{2} + 2.0a1_{1,2}b1_{1,1}b1_{2,2}^{2} + 0.5a1_{2,2}^{4} + 2.0a1_{2,2}^{3}b1_{2,1} + 2.0a1_{2,2}^{2}b1_{1,1}^{2} + 5.4a1_{2,2}^{2}b1_{2,1}^{2} + a1_{2,2}^{2}b1_{1,2}^{2} + a1_{2,2}^{2}b1_{2,2}^{2} + 2.0a1_{2,2}b1_{1,1}^{2}b1_{2,1} + 2.0a1_{2,2}b1_{2,1}^{3} + 2.0a1_{2,2}b1_{2,1}b1_{1,2}^{2} + 2.0a1_{2,2}b1_{2,1}b1_{2,2}^{2} + 1.0999999999999999b1_{1,1}^{4} + 2.1999999999999997b1_{1,1}^{2}b1_{2,1}^{2} + 1.4b1_{1,1}^{2}b1_{1,2}^{2} + 2.0b1_{1,1}^{2}b1_{2,2}^{2} - 1.2000000000000002b1_{1,1}b1_{2,1}b1_{1,2}b1_{2,2} + 1.0999999999999999b1_{2,1}^{4} + 2.0b1_{2,1}^{2}b1_{1,2}^{2} + 1.4b1_{2,1}^{2}b1_{2,2}^{2} + 0.5b1_{1,2}^{4} + b1_{1,2}^{2}b1_{2,2}^{2} + 0.5b1_{2,2}^{4} + 1.0999999999999999a2_{1,1}^{4} - 2.0a2_{1,1}^{3}b2_{1,2} + 2.1999999999999997a2_{1,1}^{2}a2_{2,1}^{2} - 2.0a2_{1,1}^{2}a2_{2,1}b2_{2,2} + 1.4a2_{1,1}^{2}a2_{1,2}^{2} + 2.0a2_{1,1}^{2}a2_{1,2}b2_{1,1} + 2.0a2_{1,1}^{2}a2_{2,2}^{2} + 2.0a2_{1,1}^{2}a2_{2,2}b2_{2,1} + 2.1999999999999997a2_{1,1}^{2}b2_{1,1}^{2} + 2.1999999999999997a2_{1,1}^{2}b2_{2,1}^{2} + 5.4a2_{1,1}^{2}b2_{1,2}^{2} + 2.0a2_{1,1}^{2}b2_{2,2}^{2} - 2.0a2_{1,1}a2_{2,1}^{2}b2_{1,2} - 1.2000000000000002a2_{1,1}a2_{2,1}a2_{1,2}a2_{2,2} + 6.8a2_{1,1}a2_{2,1}b2_{1,2}b2_{2,2} - 2.0a2_{1,1}a2_{1,2}^{2}b2_{1,2} - 8.0a2_{1,1}a2_{1,2}b2_{1,1}b2_{1,2} - 1.2000000000000002a2_{1,1}a2_{1,2}b2_{2,1}b2_{2,2} - 2.0a2_{1,1}a2_{2,2}^{2}b2_{1,2} - 6.8a2_{1,1}a2_{2,2}b2_{2,1}b2_{1,2} - 2.0a2_{1,1}b2_{1,1}^{2}b2_{1,2} - 2.0a2_{1,1}b2_{2,1}^{2}b2_{1,2} - 2.0a2_{1,1}b2_{1,2}^{3} - 2.0a2_{1,1}b2_{1,2}b2_{2,2}^{2} + 1.0999999999999999a2_{2,1}^{4} - 2.0a2_{2,1}^{3}b2_{2,2} + 2.0a2_{2,1}^{2}a2_{1,2}^{2} + 2.0a2_{2,1}^{2}a2_{1,2}b2_{1,1} + 1.4a2_{2,1}^{2}a2_{2,2}^{2} + 2.0a2_{2,1}^{2}a2_{2,2}b2_{2,1} + 2.1999999999999997a2_{2,1}^{2}b2_{1,1}^{2} + 2.1999999999999997a2_{2,1}^{2}b2_{2,1}^{2} + 2.0a2_{2,1}^{2}b2_{1,2}^{2} + 5.4a2_{2,1}^{2}b2_{2,2}^{2} - 2.0a2_{2,1}a2_{1,2}^{2}b2_{2,2} - 6.8a2_{2,1}a2_{1,2}b2_{1,1}b2_{2,2} - 2.0a2_{2,1}a2_{2,2}^{2}b2_{2,2} - 1.2000000000000002a2_{2,1}a2_{2,2}b2_{1,1}b2_{1,2} - 8.0a2_{2,1}a2_{2,2}b2_{2,1}b2_{2,2} - 2.0a2_{2,1}b2_{1,1}^{2}b2_{2,2} - 2.0a2_{2,1}b2_{2,1}^{2}b2_{2,2} - 2.0a2_{2,1}b2_{1,2}^{2}b2_{2,2} - 2.0a2_{2,1}b2_{2,2}^{3} + 0.5a2_{1,2}^{4} + 2.0a2_{1,2}^{3}b2_{1,1} + a2_{1,2}^{2}a2_{2,2}^{2} + 2.0a2_{1,2}^{2}a2_{2,2}b2_{2,1} + 5.4a2_{1,2}^{2}b2_{1,1}^{2} + 2.0a2_{1,2}^{2}b2_{2,1}^{2} + a2_{1,2}^{2}b2_{1,2}^{2} + a2_{1,2}^{2}b2_{2,2}^{2} + 2.0a2_{1,2}a2_{2,2}^{2}b2_{1,1} + 6.8a2_{1,2}a2_{2,2}b2_{1,1}b2_{2,1} + 2.0a2_{1,2}b2_{1,1}^{3} + 2.0a2_{1,2}b2_{1,1}b2_{2,1}^{2} + 2.0a2_{1,2}b2_{1,1}b2_{1,2}^{2} + 2.0a2_{1,2}b2_{1,1}b2_{2,2}^{2} + 0.5a2_{2,2}^{4} + 2.0a2_{2,2}^{3}b2_{2,1} + 2.0a2_{2,2}^{2}b2_{1,1}^{2} + 5.4a2_{2,2}^{2}b2_{2,1}^{2} + a2_{2,2}^{2}b2_{1,2}^{2} + a2_{2,2}^{2}b2_{2,2}^{2} + 2.0a2_{2,2}b2_{1,1}^{2}b2_{2,1} + 2.0a2_{2,2}b2_{2,1}^{3} + 2.0a2_{2,2}b2_{2,1}b2_{1,2}^{2} + 2.0a2_{2,2}b2_{2,1}b2_{2,2}^{2} + 1.0999999999999999b2_{1,1}^{4} + 2.1999999999999997b2_{1,1}^{2}b2_{2,1}^{2} + 1.4b2_{1,1}^{2}b2_{1,2}^{2} + 2.0b2_{1,1}^{2}b2_{2,2}^{2} - 1.2000000000000002b2_{1,1}b2_{2,1}b2_{1,2}b2_{2,2} + 1.0999999999999999b2_{2,1}^{4} + 2.0b2_{2,1}^{2}b2_{1,2}^{2} + 1.4b2_{2,1}^{2}b2_{2,2}^{2} + 0.5b2_{1,2}^{4} + b2_{1,2}^{2}b2_{2,2}^{2} + 0.5b2_{2,2}^{4} - 2.7a1_{1,1}^{2} + 2.4a1_{1,1}b1_{1,2} - 0.9a1_{2,1}^{2} + 1.6a1_{2,1}b1_{2,2} - 1.7a1_{1,2}^{2} - 2.4a1_{1,2}b1_{1,1} - 0.7a1_{2,2}^{2} - 1.6a1_{2,2}b1_{2,1} - 2.7b1_{1,1}^{2} - 0.9b1_{2,1}^{2} - 1.7b1_{1,2}^{2} - 0.7b1_{2,2}^{2} - 2.7a2_{1,1}^{2} + 2.4a2_{1,1}b2_{1,2} - 0.9a2_{2,1}^{2} + 1.6a2_{2,1}b2_{2,2} - 1.7a2_{1,2}^{2} - 2.4a2_{1,2}b2_{1,1} - 0.7a2_{2,2}^{2} - 1.6a2_{2,2}b2_{2,1} - 2.7b2_{1,1}^{2} - 0.9b2_{2,1}^{2} - 1.7b2_{1,2}^{2} - 0.7b2_{2,2}^{2} + 3.8400000000000003 $$"
      ],
      "text/plain": [
       "1.0999999999999999a1₁₋₁⁴ - 2.0a1₁₋₁³b1₁₋₂ + 2.1999999999999997a1₁₋₁²a1₂₋₁² - 2.0a1₁₋₁²a1₂₋₁b1₂₋₂ + 1.4a1₁₋₁²a1₁₋₂² + 2.0a1₁₋₁²a1₁₋₂b1₁₋₁ + 2.0a1₁₋₁²a1₂₋₂² + 2.0a1₁₋₁²a1₂₋₂b1₂₋₁ + 2.1999999999999997a1₁₋₁²b1₁₋₁² + 2.1999999999999997a1₁₋₁²b1₂₋₁² + 5.4a1₁₋₁²b1₁₋₂² + 2.0a1₁₋₁²b1₂₋₂² - 2.0a1₁₋₁a1₂₋₁²b1₁₋₂ - 1.2000000000000002a1₁₋₁a1₂₋₁a1₁₋₂a1₂₋₂ + 6.8a1₁₋₁a1₂₋₁b1₁₋₂b1₂₋₂ - 2.0a1₁₋₁a1₁₋₂²b1₁₋₂ - 8.0a1₁₋₁a1₁₋₂b1₁₋₁b1₁₋₂ - 1.2000000000000002a1₁₋₁a1₁₋₂b1₂₋₁b1₂₋₂ - 2.0a1₁₋₁a1₂₋₂²b1₁₋₂ - 6.8a1₁₋₁a1₂₋₂b1₂₋₁b1₁₋₂ - 2.0a1₁₋₁b1₁₋₁²b1₁₋₂ - 2.0a1₁₋₁b1₂₋₁²b1₁₋₂ - 2.0a1₁₋₁b1₁₋₂³ - 2.0a1₁₋₁b1₁₋₂b1₂₋₂² + 1.0999999999999999a1₂₋₁⁴ - 2.0a1₂₋₁³b1₂₋₂ + 2.0a1₂₋₁²a1₁₋₂² + 2.0a1₂₋₁²a1₁₋₂b1₁₋₁ + 1.4a1₂₋₁²a1₂₋₂² + 2.0a1₂₋₁²a1₂₋₂b1₂₋₁ + 2.1999999999999997a1₂₋₁²b1₁₋₁² + 2.1999999999999997a1₂₋₁²b1₂₋₁² + 2.0a1₂₋₁²b1₁₋₂² + 5.4a1₂₋₁²b1₂₋₂² - 2.0a1₂₋₁a1₁₋₂²b1₂₋₂ - 6.8a1₂₋₁a1₁₋₂b1₁₋₁b1₂₋₂ - 2.0a1₂₋₁a1₂₋₂²b1₂₋₂ - 1.2000000000000002a1₂₋₁a1₂₋₂b1₁₋₁b1₁₋₂ - 8.0a1₂₋₁a1₂₋₂b1₂₋₁b1₂₋₂ - 2.0a1₂₋₁b1₁₋₁²b1₂₋₂ - 2.0a1₂₋₁b1₂₋₁²b1₂₋₂ - 2.0a1₂₋₁b1₁₋₂²b1₂₋₂ - 2.0a1₂₋₁b1₂₋₂³ + 0.5a1₁₋₂⁴ + 2.0a1₁₋₂³b1₁₋₁ + a1₁₋₂²a1₂₋₂² + 2.0a1₁₋₂²a1₂₋₂b1₂₋₁ + 5.4a1₁₋₂²b1₁₋₁² + 2.0a1₁₋₂²b1₂₋₁² + a1₁₋₂²b1₁₋₂² + a1₁₋₂²b1₂₋₂² + 2.0a1₁₋₂a1₂₋₂²b1₁₋₁ + 6.8a1₁₋₂a1₂₋₂b1₁₋₁b1₂₋₁ + 2.0a1₁₋₂b1₁₋₁³ + 2.0a1₁₋₂b1₁₋₁b1₂₋₁² + 2.0a1₁₋₂b1₁₋₁b1₁₋₂² + 2.0a1₁₋₂b1₁₋₁b1₂₋₂² + 0.5a1₂₋₂⁴ + 2.0a1₂₋₂³b1₂₋₁ + 2.0a1₂₋₂²b1₁₋₁² + 5.4a1₂₋₂²b1₂₋₁² + a1₂₋₂²b1₁₋₂² + a1₂₋₂²b1₂₋₂² + 2.0a1₂₋₂b1₁₋₁²b1₂₋₁ + 2.0a1₂₋₂b1₂₋₁³ + 2.0a1₂₋₂b1₂₋₁b1₁₋₂² + 2.0a1₂₋₂b1₂₋₁b1₂₋₂² + 1.0999999999999999b1₁₋₁⁴ + 2.1999999999999997b1₁₋₁²b1₂₋₁² + 1.4b1₁₋₁²b1₁₋₂² + 2.0b1₁₋₁²b1₂₋₂² - 1.2000000000000002b1₁₋₁b1₂₋₁b1₁₋₂b1₂₋₂ + 1.0999999999999999b1₂₋₁⁴ + 2.0b1₂₋₁²b1₁₋₂² + 1.4b1₂₋₁²b1₂₋₂² + 0.5b1₁₋₂⁴ + b1₁₋₂²b1₂₋₂² + 0.5b1₂₋₂⁴ + 1.0999999999999999a2₁₋₁⁴ - 2.0a2₁₋₁³b2₁₋₂ + 2.1999999999999997a2₁₋₁²a2₂₋₁² - 2.0a2₁₋₁²a2₂₋₁b2₂₋₂ + 1.4a2₁₋₁²a2₁₋₂² + 2.0a2₁₋₁²a2₁₋₂b2₁₋₁ + 2.0a2₁₋₁²a2₂₋₂² + 2.0a2₁₋₁²a2₂₋₂b2₂₋₁ + 2.1999999999999997a2₁₋₁²b2₁₋₁² + 2.1999999999999997a2₁₋₁²b2₂₋₁² + 5.4a2₁₋₁²b2₁₋₂² + 2.0a2₁₋₁²b2₂₋₂² - 2.0a2₁₋₁a2₂₋₁²b2₁₋₂ - 1.2000000000000002a2₁₋₁a2₂₋₁a2₁₋₂a2₂₋₂ + 6.8a2₁₋₁a2₂₋₁b2₁₋₂b2₂₋₂ - 2.0a2₁₋₁a2₁₋₂²b2₁₋₂ - 8.0a2₁₋₁a2₁₋₂b2₁₋₁b2₁₋₂ - 1.2000000000000002a2₁₋₁a2₁₋₂b2₂₋₁b2₂₋₂ - 2.0a2₁₋₁a2₂₋₂²b2₁₋₂ - 6.8a2₁₋₁a2₂₋₂b2₂₋₁b2₁₋₂ - 2.0a2₁₋₁b2₁₋₁²b2₁₋₂ - 2.0a2₁₋₁b2₂₋₁²b2₁₋₂ - 2.0a2₁₋₁b2₁₋₂³ - 2.0a2₁₋₁b2₁₋₂b2₂₋₂² + 1.0999999999999999a2₂₋₁⁴ - 2.0a2₂₋₁³b2₂₋₂ + 2.0a2₂₋₁²a2₁₋₂² + 2.0a2₂₋₁²a2₁₋₂b2₁₋₁ + 1.4a2₂₋₁²a2₂₋₂² + 2.0a2₂₋₁²a2₂₋₂b2₂₋₁ + 2.1999999999999997a2₂₋₁²b2₁₋₁² + 2.1999999999999997a2₂₋₁²b2₂₋₁² + 2.0a2₂₋₁²b2₁₋₂² + 5.4a2₂₋₁²b2₂₋₂² - 2.0a2₂₋₁a2₁₋₂²b2₂₋₂ - 6.8a2₂₋₁a2₁₋₂b2₁₋₁b2₂₋₂ - 2.0a2₂₋₁a2₂₋₂²b2₂₋₂ - 1.2000000000000002a2₂₋₁a2₂₋₂b2₁₋₁b2₁₋₂ - 8.0a2₂₋₁a2₂₋₂b2₂₋₁b2₂₋₂ - 2.0a2₂₋₁b2₁₋₁²b2₂₋₂ - 2.0a2₂₋₁b2₂₋₁²b2₂₋₂ - 2.0a2₂₋₁b2₁₋₂²b2₂₋₂ - 2.0a2₂₋₁b2₂₋₂³ + 0.5a2₁₋₂⁴ + 2.0a2₁₋₂³b2₁₋₁ + a2₁₋₂²a2₂₋₂² + 2.0a2₁₋₂²a2₂₋₂b2₂₋₁ + 5.4a2₁₋₂²b2₁₋₁² + 2.0a2₁₋₂²b2₂₋₁² + a2₁₋₂²b2₁₋₂² + a2₁₋₂²b2₂₋₂² + 2.0a2₁₋₂a2₂₋₂²b2₁₋₁ + 6.8a2₁₋₂a2₂₋₂b2₁₋₁b2₂₋₁ + 2.0a2₁₋₂b2₁₋₁³ + 2.0a2₁₋₂b2₁₋₁b2₂₋₁² + 2.0a2₁₋₂b2₁₋₁b2₁₋₂² + 2.0a2₁₋₂b2₁₋₁b2₂₋₂² + 0.5a2₂₋₂⁴ + 2.0a2₂₋₂³b2₂₋₁ + 2.0a2₂₋₂²b2₁₋₁² + 5.4a2₂₋₂²b2₂₋₁² + a2₂₋₂²b2₁₋₂² + a2₂₋₂²b2₂₋₂² + 2.0a2₂₋₂b2₁₋₁²b2₂₋₁ + 2.0a2₂₋₂b2₂₋₁³ + 2.0a2₂₋₂b2₂₋₁b2₁₋₂² + 2.0a2₂₋₂b2₂₋₁b2₂₋₂² + 1.0999999999999999b2₁₋₁⁴ + 2.1999999999999997b2₁₋₁²b2₂₋₁² + 1.4b2₁₋₁²b2₁₋₂² + 2.0b2₁₋₁²b2₂₋₂² - 1.2000000000000002b2₁₋₁b2₂₋₁b2₁₋₂b2₂₋₂ + 1.0999999999999999b2₂₋₁⁴ + 2.0b2₂₋₁²b2₁₋₂² + 1.4b2₂₋₁²b2₂₋₂² + 0.5b2₁₋₂⁴ + b2₁₋₂²b2₂₋₂² + 0.5b2₂₋₂⁴ - 2.7a1₁₋₁² + 2.4a1₁₋₁b1₁₋₂ - 0.9a1₂₋₁² + 1.6a1₂₋₁b1₂₋₂ - 1.7a1₁₋₂² - 2.4a1₁₋₂b1₁₋₁ - 0.7a1₂₋₂² - 1.6a1₂₋₂b1₂₋₁ - 2.7b1₁₋₁² - 0.9b1₂₋₁² - 1.7b1₁₋₂² - 0.7b1₂₋₂² - 2.7a2₁₋₁² + 2.4a2₁₋₁b2₁₋₂ - 0.9a2₂₋₁² + 1.6a2₂₋₁b2₂₋₂ - 1.7a2₁₋₂² - 2.4a2₁₋₂b2₁₋₁ - 0.7a2₂₋₂² - 1.6a2₂₋₂b2₂₋₁ - 2.7b2₁₋₁² - 0.9b2₂₋₁² - 1.7b2₁₋₂² - 0.7b2₂₋₂² + 3.8400000000000003"
      ]
     },
     "execution_count": 13,
     "metadata": {},
     "output_type": "execute_result"
    }
   ],
   "source": [
    "obj = kraus_obj(ρ, K1, K2)"
   ]
  },
  {
   "cell_type": "code",
   "execution_count": 14,
   "id": "7db14f91",
   "metadata": {},
   "outputs": [
    {
     "name": "stdout",
     "output_type": "stream",
     "text": [
      "************************TSSOS************************\n",
      "TSSOS is launching...\n",
      "Starting to compute the block structure...\n",
      "------------------------------------------------------\n",
      "The sizes of PSD blocks:\n",
      "[25, 8, 2, 1]\n",
      "[1, 6, 8, 64]\n",
      "------------------------------------------------------\n",
      "Obtained the block structure. The maximal size of blocks is 25.\n",
      "Assembling the SDP...\n",
      "There are 349 affine constraints.\n",
      "Solving the SDP...\n",
      "Problem\n",
      "  Name                   :                 \n",
      "  Objective sense        : max             \n",
      "  Type                   : CONIC (conic optimization problem)\n",
      "  Constraints            : 349             \n",
      "  Cones                  : 0               \n",
      "  Scalar variables       : 65              \n",
      "  Matrix variables       : 15              \n",
      "  Integer variables      : 0               \n",
      "\n",
      "Optimizer started.\n",
      "Presolve started.\n",
      "Linear dependency checker started.\n",
      "Linear dependency checker terminated.\n",
      "Eliminator started.\n",
      "Freed constraints in eliminator : 0\n",
      "Eliminator terminated.\n",
      "Eliminator - tries                  : 1                 time                   : 0.00            \n",
      "Lin. dep.  - tries                  : 1                 time                   : 0.00            \n",
      "Lin. dep.  - number                 : 0               \n",
      "Presolve terminated. Time: 0.00    \n",
      "Problem\n",
      "  Name                   :                 \n",
      "  Objective sense        : max             \n",
      "  Type                   : CONIC (conic optimization problem)\n",
      "  Constraints            : 349             \n",
      "  Cones                  : 0               \n",
      "  Scalar variables       : 65              \n",
      "  Matrix variables       : 15              \n",
      "  Integer variables      : 0               \n",
      "\n",
      "Optimizer  - threads                : 4               \n",
      "Optimizer  - solved problem         : the primal      \n",
      "Optimizer  - Constraints            : 349\n",
      "Optimizer  - Cones                  : 9\n",
      "Optimizer  - Scalar variables       : 90                conic                  : 26              \n",
      "Optimizer  - Semi-definite variables: 7                 scalarized             : 541             \n",
      "Factor     - setup time             : 0.00              dense det. time        : 0.00            \n",
      "Factor     - ML order time          : 0.00              GP order time          : 0.00            \n",
      "Factor     - nonzeros before factor : 5.24e+04          after factor           : 5.24e+04        \n",
      "Factor     - dense dim.             : 0                 flops                  : 1.12e+07        \n",
      "ITE PFEAS    DFEAS    GFEAS    PRSTATUS   POBJ              DOBJ              MU       TIME  \n",
      "0   8.0e+00  1.0e+00  1.0e+00  0.00e+00   0.000000000e+00   0.000000000e+00   1.0e+00  0.02  \n",
      "1   6.1e+00  7.6e-01  7.2e-01  -7.09e-01  7.434283095e-03   -5.348348212e-02  7.6e-01  0.06  \n",
      "2   4.1e+00  5.2e-01  3.3e-01  8.10e-02   1.991849556e-01   3.160867352e-01   5.2e-01  0.06  \n",
      "3   9.1e-01  1.1e-01  2.6e-02  7.19e-01   -1.975286899e-01  -1.487777400e-01  1.1e-01  0.06  \n",
      "4   1.3e-01  1.6e-02  1.1e-03  1.29e+00   3.132722345e-01   3.210237599e-01   1.6e-02  0.06  \n",
      "5   1.2e-02  1.5e-03  2.3e-05  1.10e+00   5.183508329e-01   5.191679353e-01   1.5e-03  0.06  \n",
      "6   1.1e-03  1.4e-04  1.1e-06  1.04e+00   5.251630108e-01   5.252021315e-01   1.4e-04  0.08  \n",
      "7   9.0e-04  1.1e-04  7.6e-07  1.00e+00   5.253593568e-01   5.253903655e-01   1.1e-04  0.08  \n",
      "8   6.2e-05  7.7e-06  1.5e-08  1.01e+00   5.258453768e-01   5.258470791e-01   7.7e-06  0.08  \n",
      "9   5.8e-06  7.3e-07  4.2e-10  1.00e+00   5.258796239e-01   5.258797859e-01   7.3e-07  0.08  \n",
      "10  2.0e-07  2.5e-08  2.8e-12  1.00e+00   5.258836992e-01   5.258837043e-01   2.5e-08  0.11  \n",
      "11  7.0e-10  2.4e-09  5.1e-16  1.00e+00   5.258838333e-01   5.258838333e-01   8.3e-11  0.11  \n",
      "Optimizer terminated. Time: 0.14    \n",
      "\n",
      "SDP solving time: 1.8550968 seconds.\n",
      "optimum = 0.5258838333124717\n"
     ]
    }
   ],
   "source": [
    "using TSSOS\n",
    "\n",
    "opt,sol,data = tssos_first(obj, variables(obj));"
   ]
  },
  {
   "cell_type": "code",
   "execution_count": 15,
   "id": "bd089db2",
   "metadata": {},
   "outputs": [
    {
     "name": "stdout",
     "output_type": "stream",
     "text": [
      "Starting to compute the block structure...\n",
      "------------------------------------------------------\n",
      "The sizes of PSD blocks:\n",
      "[25, 8, 4, 2]\n",
      "[1, 6, 16, 8]\n",
      "------------------------------------------------------\n",
      "Obtained the block structure. The maximal size of blocks is 25.\n",
      "Assembling the SDP...\n",
      "There are 349 affine constraints.\n",
      "Solving the SDP...\n",
      "Problem\n",
      "  Name                   :                 \n",
      "  Objective sense        : max             \n",
      "  Type                   : CONIC (conic optimization problem)\n",
      "  Constraints            : 349             \n",
      "  Cones                  : 0               \n",
      "  Scalar variables       : 1               \n",
      "  Matrix variables       : 31              \n",
      "  Integer variables      : 0               \n",
      "\n",
      "Optimizer started.\n",
      "Presolve started.\n",
      "Linear dependency checker started.\n",
      "Linear dependency checker terminated.\n",
      "Eliminator started.\n",
      "Freed constraints in eliminator : 0\n",
      "Eliminator terminated.\n",
      "Eliminator - tries                  : 1                 time                   : 0.00            \n",
      "Lin. dep.  - tries                  : 1                 time                   : 0.00            \n",
      "Lin. dep.  - number                 : 0               \n",
      "Presolve terminated. Time: 0.01    \n",
      "Problem\n",
      "  Name                   :                 \n",
      "  Objective sense        : max             \n",
      "  Type                   : CONIC (conic optimization problem)\n",
      "  Constraints            : 349             \n",
      "  Cones                  : 0               \n",
      "  Scalar variables       : 1               \n",
      "  Matrix variables       : 31              \n",
      "  Integer variables      : 0               \n",
      "\n",
      "Optimizer  - threads                : 4               \n",
      "Optimizer  - solved problem         : the primal      \n",
      "Optimizer  - Constraints            : 349\n",
      "Optimizer  - Cones                  : 9\n",
      "Optimizer  - Scalar variables       : 26                conic                  : 26              \n",
      "Optimizer  - Semi-definite variables: 23                scalarized             : 701             \n",
      "Factor     - setup time             : 0.00              dense det. time        : 0.00            \n",
      "Factor     - ML order time          : 0.00              GP order time          : 0.00            \n",
      "Factor     - nonzeros before factor : 5.24e+04          after factor           : 5.24e+04        \n",
      "Factor     - dense dim.             : 0                 flops                  : 1.12e+07        \n",
      "ITE PFEAS    DFEAS    GFEAS    PRSTATUS   POBJ              DOBJ              MU       TIME  \n",
      "0   8.0e+00  1.0e+00  1.0e+00  0.00e+00   0.000000000e+00   0.000000000e+00   1.0e+00  0.01  \n",
      "1   6.1e+00  7.6e-01  7.2e-01  -7.09e-01  7.392881149e-03   -5.318562956e-02  7.6e-01  0.05  \n",
      "2   4.1e+00  5.1e-01  3.2e-01  1.36e-01   1.311222426e-02   1.319101555e-01   5.1e-01  0.05  \n",
      "3   8.3e-01  1.0e-01  2.2e-02  6.95e-01   -3.790786220e-01  -3.334077074e-01  1.0e-01  0.06  \n",
      "4   1.2e-01  1.5e-02  1.3e-03  1.26e+00   3.410769478e-01   3.446417833e-01   1.5e-02  0.06  \n",
      "5   1.7e-02  2.1e-03  7.0e-05  1.12e+00   5.169503858e-01   5.173949762e-01   2.1e-03  0.06  \n",
      "6   1.3e-03  1.7e-04  1.4e-06  1.03e+00   5.249592832e-01   5.250122866e-01   1.7e-04  0.08  \n",
      "7   3.8e-05  4.7e-06  5.3e-09  1.01e+00   5.258880634e-01   5.258901366e-01   4.7e-06  0.08  \n",
      "8   2.6e-07  3.2e-08  2.9e-12  1.00e+00   5.258836976e-01   5.258837121e-01   3.2e-08  0.08  \n",
      "9   2.4e-09  2.1e-10  1.5e-15  1.00e+00   5.258838325e-01   5.258838326e-01   2.0e-10  0.08  \n",
      "Optimizer terminated. Time: 0.11    \n",
      "\n",
      "SDP solving time: 0.1420496 seconds.\n",
      "optimum = 0.5258838325334517\n"
     ]
    }
   ],
   "source": [
    "opt,sol,data = tssos_higher!(data);"
   ]
  },
  {
   "cell_type": "code",
   "execution_count": 16,
   "id": "88303ba8",
   "metadata": {},
   "outputs": [
    {
     "name": "stdout",
     "output_type": "stream",
     "text": [
      "Starting to compute the block structure...\n",
      "No higher TSSOS hierarchy!\n"
     ]
    }
   ],
   "source": [
    "opt,sol,data = tssos_higher!(data);"
   ]
  },
  {
   "cell_type": "code",
   "execution_count": null,
   "id": "50fe56b3",
   "metadata": {},
   "outputs": [],
   "source": []
  }
 ],
 "metadata": {
  "kernelspec": {
   "display_name": "Julia 1.7.2",
   "language": "julia",
   "name": "julia-1.7"
  },
  "language_info": {
   "file_extension": ".jl",
   "mimetype": "application/julia",
   "name": "julia",
   "version": "1.7.2"
  }
 },
 "nbformat": 4,
 "nbformat_minor": 5
}
