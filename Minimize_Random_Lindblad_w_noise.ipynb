{
 "cells": [
  {
   "cell_type": "markdown",
   "id": "d0319259",
   "metadata": {},
   "source": [
    "### Minimization of Random Lindblad polynomial objective (with MomentTools)\n",
    "Test minimization function on the Pade objective constructed from the Random Lindblad evolution sample"
   ]
  },
  {
   "cell_type": "code",
   "execution_count": 1,
   "id": "a9ca91ec",
   "metadata": {},
   "outputs": [
    {
     "name": "stderr",
     "output_type": "stream",
     "text": [
      "\n",
      "(process:15488): GLib-GIO-WARNING **: 13:05:52.157: Unexpectedly, UWP app `Microsoft.MSPaint_6.2203.1037.0_x64__8wekyb3d8bbwe' (AUMId `Microsoft.MSPaint_8wekyb3d8bbwe!Microsoft.MSPaint') supports 17 extensions but has no verbs\n"
     ]
    }
   ],
   "source": [
    "using LinearAlgebra\n",
    "using Plots"
   ]
  },
  {
   "cell_type": "markdown",
   "id": "cda7a473",
   "metadata": {},
   "source": [
    "#### Function to generate random Lindblad evolution w noise"
   ]
  },
  {
   "cell_type": "markdown",
   "id": "f777fa68",
   "metadata": {},
   "source": [
    "Auxilary functions"
   ]
  },
  {
   "cell_type": "code",
   "execution_count": 2,
   "id": "96f8d64f",
   "metadata": {},
   "outputs": [
    {
     "data": {
      "text/plain": [
       "bloch (generic function with 1 method)"
      ]
     },
     "execution_count": 2,
     "metadata": {},
     "output_type": "execute_result"
    }
   ],
   "source": [
    "using LinearAlgebra\n",
    "using Plots\n",
    "\n",
    "function rand_dm(n)\n",
    "    # return a random density matrix\n",
    "    ρ = -1 .+ 2 * rand(n, n) \n",
    "    ρ += im * (-1 .+ 2 * rand(n, n))  \n",
    "    ρ = ρ * ρ'\n",
    "    Hermitian(ρ / tr(ρ))\n",
    "end\n",
    "\n",
    "function rand_herm(n)\n",
    "    # return a random hermitian matrix\n",
    "    h = -1 .+ 2 * rand(n, n)\n",
    "    h += im *(-1 .+ 2 *  rand(n, n))\n",
    "    h = 0.5 * (h + h')\n",
    "    Hermitian(h)\n",
    "end\n",
    "\n",
    "# Pauli matricies\n",
    "σ = [\n",
    "    [0 1; 1 0], [0 -im; im 0], [1 0; 0 -1], [1 0; 0 1]\n",
    "];\n",
    "\n",
    "\n",
    "function bloch(ρ_list::Vector{Matrix{ComplexF64}})\n",
    "    # Pauli matricies\n",
    "    σ = [ [0 1; 1 0], [0 -im; im 0], [1 0; 0 -1], [1 0; 0 1] ]\n",
    "    time_steps = length(ρ_list)\n",
    "    bloch_vec = zeros(3, time_steps)\n",
    "    for t in 1:time_steps\n",
    "        bloch_vec[:, t] = [real(tr(σ[i] * ρ_list[t])) for i=1:3]\n",
    "    end\n",
    "    bloch_vec\n",
    "end"
   ]
  },
  {
   "cell_type": "code",
   "execution_count": 3,
   "id": "f54975ed",
   "metadata": {},
   "outputs": [
    {
     "data": {
      "text/plain": [
       "rho_series_from_bloch (generic function with 1 method)"
      ]
     },
     "execution_count": 3,
     "metadata": {},
     "output_type": "execute_result"
    }
   ],
   "source": [
    "function rho_from_bloch(bloch_vec::Vector{Float64})\n",
    "    # Pauli matricies\n",
    "    σ = [ [0 1; 1 0], [0 -im; im 0], [1 0; 0 -1], [1 0; 0 1] ]\n",
    "    ρ = (sum([bloch_vec[i] * σ[i] for i=1:3]) + I)/2 \n",
    "    ρ ::Matrix{ComplexF64}\n",
    "end\n",
    "\n",
    "function rho_series_from_bloch(bloch_vec::Matrix{Float64})\n",
    "    time_steps = size(bloch_vec, 2)\n",
    "    ρ = Vector{Matrix{ComplexF64}}() # size !!!\n",
    "    for t in 1:time_steps\n",
    "        push!(ρ, rho_from_bloch(bloch_vec[:, t]))     \n",
    "    end\n",
    "    ρ ::Vector{Matrix{ComplexF64}}\n",
    "end"
   ]
  },
  {
   "cell_type": "code",
   "execution_count": 4,
   "id": "edd110e9",
   "metadata": {},
   "outputs": [
    {
     "data": {
      "text/plain": [
       "rho3d_from_bloch (generic function with 1 method)"
      ]
     },
     "execution_count": 4,
     "metadata": {},
     "output_type": "execute_result"
    }
   ],
   "source": [
    "function rho3d_from_bloch(bloch_vec::Matrix{Float64})\n",
    "    σ = [ [0 1; 1 0], [0 -im; im 0], [1 0; 0 -1], [1 0; 0 1] ]\n",
    "    time_steps = size(bloch_vec, 2)\n",
    "    ρ = zeros(2, 2, time_steps) + im*zeros(2, 2, time_steps)\n",
    "    for t in 1:time_steps\n",
    "        ρ[:, :, t] = (sum([bloch_vec[i, t] * σ[i] for i=1:3]) + I)/2       \n",
    "    end\n",
    "    ρ ::Array{ComplexF64, 3}\n",
    "end"
   ]
  },
  {
   "cell_type": "markdown",
   "id": "08245d7f",
   "metadata": {},
   "source": [
    "Set Quantum basis and declare fynction to generate random Lindblad evolution"
   ]
  },
  {
   "cell_type": "code",
   "execution_count": 5,
   "id": "2fc00605",
   "metadata": {},
   "outputs": [
    {
     "data": {
      "text/plain": [
       "rand_Linblad_w_noise (generic function with 1 method)"
      ]
     },
     "execution_count": 5,
     "metadata": {},
     "output_type": "execute_result"
    }
   ],
   "source": [
    "using Random\n",
    "using QuantumOptics\n",
    "\n",
    "basis = NLevelBasis(2) # define 2-level basis\n",
    "\n",
    "tₘₐₓ = 2.0 # maximum time \n",
    "Δt = 0.05     # time step\n",
    "time_span = [0:Δt:tₘₐₓ;] # time span\n",
    "\n",
    "function rand_Linblad_w_noise(seed, w, t_list) # put t list here!!!!\n",
    "    # seed - to generate reproducable system,\n",
    "    # w - noise level\n",
    "    # t_list - time span\n",
    "    \n",
    "    Random.seed!(seed)    \n",
    "    \n",
    "    ρ₀ = DenseOperator(basis, rand_dm(2))  # initial state density matrix\n",
    "    H = DenseOperator(basis, rand_herm(2)) # Hamiltonian of the system\n",
    "    J = DenseOperator(basis, (-1 .+ 2 *randn(2, 2)) + im*(-1 .+ 2 *randn(2, 2))) # Lindblad decipator  was rand !!!!!!\n",
    "    \n",
    "    time, ρ_exact = timeevolution.master(t_list, ρ₀, H, [J])\n",
    "\n",
    "    ρ = [ (1 - w) * ρₜ.data + w * rand_dm(2) for ρₜ in ρ_exact ];\n",
    "    \n",
    "    return bloch(ρ), ρ_exact  \n",
    "end"
   ]
  },
  {
   "cell_type": "markdown",
   "id": "bae91d66",
   "metadata": {},
   "source": [
    "Lets generate and plot evolutuion of the Bloch vector using the function declared above "
   ]
  },
  {
   "cell_type": "code",
   "execution_count": 6,
   "id": "2cafe87d",
   "metadata": {
    "scrolled": true
   },
   "outputs": [
    {
     "data": {
      "image/svg+xml": [
       "<?xml version=\"1.0\" encoding=\"utf-8\"?>\n",
       "<svg xmlns=\"http://www.w3.org/2000/svg\" xmlns:xlink=\"http://www.w3.org/1999/xlink\" width=\"600\" height=\"400\" viewBox=\"0 0 2400 1600\">\n",
       "<defs>\n",
       "  <clipPath id=\"clip020\">\n",
       "    <rect x=\"0\" y=\"0\" width=\"2400\" height=\"1600\"/>\n",
       "  </clipPath>\n",
       "</defs>\n",
       "<path clip-path=\"url(#clip020)\" d=\"\n",
       "M0 1600 L2400 1600 L2400 0 L0 0  Z\n",
       "  \" fill=\"#ffffff\" fill-rule=\"evenodd\" fill-opacity=\"1\"/>\n",
       "<defs>\n",
       "  <clipPath id=\"clip021\">\n",
       "    <rect x=\"480\" y=\"0\" width=\"1681\" height=\"1600\"/>\n",
       "  </clipPath>\n",
       "</defs>\n",
       "<path clip-path=\"url(#clip020)\" d=\"\n",
       "M194.422 1486.45 L2352.76 1486.45 L2352.76 47.2441 L194.422 47.2441  Z\n",
       "  \" fill=\"#ffffff\" fill-rule=\"evenodd\" fill-opacity=\"1\"/>\n",
       "<defs>\n",
       "  <clipPath id=\"clip022\">\n",
       "    <rect x=\"194\" y=\"47\" width=\"2159\" height=\"1440\"/>\n",
       "  </clipPath>\n",
       "</defs>\n",
       "<polyline clip-path=\"url(#clip022)\" style=\"stroke:#000000; stroke-linecap:butt; stroke-linejoin:round; stroke-width:2; stroke-opacity:0.1; fill:none\" points=\"\n",
       "  204.603,1486.45 204.603,47.2441 \n",
       "  \"/>\n",
       "<polyline clip-path=\"url(#clip022)\" style=\"stroke:#000000; stroke-linecap:butt; stroke-linejoin:round; stroke-width:2; stroke-opacity:0.1; fill:none\" points=\"\n",
       "  713.644,1486.45 713.644,47.2441 \n",
       "  \"/>\n",
       "<polyline clip-path=\"url(#clip022)\" style=\"stroke:#000000; stroke-linecap:butt; stroke-linejoin:round; stroke-width:2; stroke-opacity:0.1; fill:none\" points=\"\n",
       "  1222.68,1486.45 1222.68,47.2441 \n",
       "  \"/>\n",
       "<polyline clip-path=\"url(#clip022)\" style=\"stroke:#000000; stroke-linecap:butt; stroke-linejoin:round; stroke-width:2; stroke-opacity:0.1; fill:none\" points=\"\n",
       "  1731.73,1486.45 1731.73,47.2441 \n",
       "  \"/>\n",
       "<polyline clip-path=\"url(#clip022)\" style=\"stroke:#000000; stroke-linecap:butt; stroke-linejoin:round; stroke-width:2; stroke-opacity:0.1; fill:none\" points=\"\n",
       "  2240.77,1486.45 2240.77,47.2441 \n",
       "  \"/>\n",
       "<polyline clip-path=\"url(#clip020)\" style=\"stroke:#000000; stroke-linecap:butt; stroke-linejoin:round; stroke-width:4; stroke-opacity:1; fill:none\" points=\"\n",
       "  194.422,1486.45 2352.76,1486.45 \n",
       "  \"/>\n",
       "<polyline clip-path=\"url(#clip020)\" style=\"stroke:#000000; stroke-linecap:butt; stroke-linejoin:round; stroke-width:4; stroke-opacity:1; fill:none\" points=\"\n",
       "  204.603,1486.45 204.603,1467.55 \n",
       "  \"/>\n",
       "<polyline clip-path=\"url(#clip020)\" style=\"stroke:#000000; stroke-linecap:butt; stroke-linejoin:round; stroke-width:4; stroke-opacity:1; fill:none\" points=\"\n",
       "  713.644,1486.45 713.644,1467.55 \n",
       "  \"/>\n",
       "<polyline clip-path=\"url(#clip020)\" style=\"stroke:#000000; stroke-linecap:butt; stroke-linejoin:round; stroke-width:4; stroke-opacity:1; fill:none\" points=\"\n",
       "  1222.68,1486.45 1222.68,1467.55 \n",
       "  \"/>\n",
       "<polyline clip-path=\"url(#clip020)\" style=\"stroke:#000000; stroke-linecap:butt; stroke-linejoin:round; stroke-width:4; stroke-opacity:1; fill:none\" points=\"\n",
       "  1731.73,1486.45 1731.73,1467.55 \n",
       "  \"/>\n",
       "<polyline clip-path=\"url(#clip020)\" style=\"stroke:#000000; stroke-linecap:butt; stroke-linejoin:round; stroke-width:4; stroke-opacity:1; fill:none\" points=\"\n",
       "  2240.77,1486.45 2240.77,1467.55 \n",
       "  \"/>\n",
       "<path clip-path=\"url(#clip020)\" d=\"M204.603 1517.37 Q200.992 1517.37 199.163 1520.93 Q197.358 1524.47 197.358 1531.6 Q197.358 1538.71 199.163 1542.27 Q200.992 1545.82 204.603 1545.82 Q208.237 1545.82 210.043 1542.27 Q211.871 1538.71 211.871 1531.6 Q211.871 1524.47 210.043 1520.93 Q208.237 1517.37 204.603 1517.37 M204.603 1513.66 Q210.413 1513.66 213.469 1518.27 Q216.547 1522.85 216.547 1531.6 Q216.547 1540.33 213.469 1544.94 Q210.413 1549.52 204.603 1549.52 Q198.793 1549.52 195.714 1544.94 Q192.659 1540.33 192.659 1531.6 Q192.659 1522.85 195.714 1518.27 Q198.793 1513.66 204.603 1513.66 Z\" fill=\"#000000\" fill-rule=\"evenodd\" fill-opacity=\"1\" /><path clip-path=\"url(#clip020)\" d=\"M688.332 1544.91 L695.97 1544.91 L695.97 1518.55 L687.66 1520.21 L687.66 1515.95 L695.924 1514.29 L700.6 1514.29 L700.6 1544.91 L708.239 1544.91 L708.239 1548.85 L688.332 1548.85 L688.332 1544.91 Z\" fill=\"#000000\" fill-rule=\"evenodd\" fill-opacity=\"1\" /><path clip-path=\"url(#clip020)\" d=\"M727.683 1517.37 Q724.072 1517.37 722.243 1520.93 Q720.438 1524.47 720.438 1531.6 Q720.438 1538.71 722.243 1542.27 Q724.072 1545.82 727.683 1545.82 Q731.317 1545.82 733.123 1542.27 Q734.952 1538.71 734.952 1531.6 Q734.952 1524.47 733.123 1520.93 Q731.317 1517.37 727.683 1517.37 M727.683 1513.66 Q733.493 1513.66 736.549 1518.27 Q739.628 1522.85 739.628 1531.6 Q739.628 1540.33 736.549 1544.94 Q733.493 1549.52 727.683 1549.52 Q721.873 1549.52 718.794 1544.94 Q715.739 1540.33 715.739 1531.6 Q715.739 1522.85 718.794 1518.27 Q721.873 1513.66 727.683 1513.66 Z\" fill=\"#000000\" fill-rule=\"evenodd\" fill-opacity=\"1\" /><path clip-path=\"url(#clip020)\" d=\"M1201.46 1544.91 L1217.78 1544.91 L1217.78 1548.85 L1195.83 1548.85 L1195.83 1544.91 Q1198.5 1542.16 1203.08 1537.53 Q1207.68 1532.88 1208.87 1531.53 Q1211.11 1529.01 1211.99 1527.27 Q1212.89 1525.51 1212.89 1523.82 Q1212.89 1521.07 1210.95 1519.33 Q1209.03 1517.6 1205.93 1517.6 Q1203.73 1517.6 1201.27 1518.36 Q1198.84 1519.13 1196.06 1520.68 L1196.06 1515.95 Q1198.89 1514.82 1201.34 1514.24 Q1203.8 1513.66 1205.83 1513.66 Q1211.2 1513.66 1214.4 1516.35 Q1217.59 1519.03 1217.59 1523.52 Q1217.59 1525.65 1216.78 1527.57 Q1216 1529.47 1213.89 1532.07 Q1213.31 1532.74 1210.21 1535.95 Q1207.11 1539.15 1201.46 1544.91 Z\" fill=\"#000000\" fill-rule=\"evenodd\" fill-opacity=\"1\" /><path clip-path=\"url(#clip020)\" d=\"M1237.59 1517.37 Q1233.98 1517.37 1232.15 1520.93 Q1230.35 1524.47 1230.35 1531.6 Q1230.35 1538.71 1232.15 1542.27 Q1233.98 1545.82 1237.59 1545.82 Q1241.23 1545.82 1243.03 1542.27 Q1244.86 1538.71 1244.86 1531.6 Q1244.86 1524.47 1243.03 1520.93 Q1241.23 1517.37 1237.59 1517.37 M1237.59 1513.66 Q1243.4 1513.66 1246.46 1518.27 Q1249.54 1522.85 1249.54 1531.6 Q1249.54 1540.33 1246.46 1544.94 Q1243.4 1549.52 1237.59 1549.52 Q1231.78 1549.52 1228.7 1544.94 Q1225.65 1540.33 1225.65 1531.6 Q1225.65 1522.85 1228.7 1518.27 Q1231.78 1513.66 1237.59 1513.66 Z\" fill=\"#000000\" fill-rule=\"evenodd\" fill-opacity=\"1\" /><path clip-path=\"url(#clip020)\" d=\"M1720.57 1530.21 Q1723.93 1530.93 1725.8 1533.2 Q1727.7 1535.47 1727.7 1538.8 Q1727.7 1543.92 1724.18 1546.72 Q1720.66 1549.52 1714.18 1549.52 Q1712 1549.52 1709.69 1549.08 Q1707.4 1548.66 1704.94 1547.81 L1704.94 1543.29 Q1706.89 1544.43 1709.2 1545.01 Q1711.52 1545.58 1714.04 1545.58 Q1718.44 1545.58 1720.73 1543.85 Q1723.05 1542.11 1723.05 1538.8 Q1723.05 1535.75 1720.89 1534.03 Q1718.76 1532.3 1714.94 1532.3 L1710.92 1532.3 L1710.92 1528.45 L1715.13 1528.45 Q1718.58 1528.45 1720.41 1527.09 Q1722.24 1525.7 1722.24 1523.11 Q1722.24 1520.45 1720.34 1519.03 Q1718.46 1517.6 1714.94 1517.6 Q1713.02 1517.6 1710.82 1518.01 Q1708.62 1518.43 1705.99 1519.31 L1705.99 1515.14 Q1708.65 1514.4 1710.96 1514.03 Q1713.3 1513.66 1715.36 1513.66 Q1720.68 1513.66 1723.79 1516.09 Q1726.89 1518.5 1726.89 1522.62 Q1726.89 1525.49 1725.24 1527.48 Q1723.6 1529.45 1720.57 1530.21 Z\" fill=\"#000000\" fill-rule=\"evenodd\" fill-opacity=\"1\" /><path clip-path=\"url(#clip020)\" d=\"M1746.56 1517.37 Q1742.95 1517.37 1741.12 1520.93 Q1739.32 1524.47 1739.32 1531.6 Q1739.32 1538.71 1741.12 1542.27 Q1742.95 1545.82 1746.56 1545.82 Q1750.2 1545.82 1752 1542.27 Q1753.83 1538.71 1753.83 1531.6 Q1753.83 1524.47 1752 1520.93 Q1750.2 1517.37 1746.56 1517.37 M1746.56 1513.66 Q1752.37 1513.66 1755.43 1518.27 Q1758.51 1522.85 1758.51 1531.6 Q1758.51 1540.33 1755.43 1544.94 Q1752.37 1549.52 1746.56 1549.52 Q1740.75 1549.52 1737.67 1544.94 Q1734.62 1540.33 1734.62 1531.6 Q1734.62 1522.85 1737.67 1518.27 Q1740.75 1513.66 1746.56 1513.66 Z\" fill=\"#000000\" fill-rule=\"evenodd\" fill-opacity=\"1\" /><path clip-path=\"url(#clip020)\" d=\"M2228.94 1518.36 L2217.13 1536.81 L2228.94 1536.81 L2228.94 1518.36 M2227.71 1514.29 L2233.59 1514.29 L2233.59 1536.81 L2238.52 1536.81 L2238.52 1540.7 L2233.59 1540.7 L2233.59 1548.85 L2228.94 1548.85 L2228.94 1540.7 L2213.34 1540.7 L2213.34 1536.19 L2227.71 1514.29 Z\" fill=\"#000000\" fill-rule=\"evenodd\" fill-opacity=\"1\" /><path clip-path=\"url(#clip020)\" d=\"M2256.25 1517.37 Q2252.64 1517.37 2250.81 1520.93 Q2249.01 1524.47 2249.01 1531.6 Q2249.01 1538.71 2250.81 1542.27 Q2252.64 1545.82 2256.25 1545.82 Q2259.89 1545.82 2261.69 1542.27 Q2263.52 1538.71 2263.52 1531.6 Q2263.52 1524.47 2261.69 1520.93 Q2259.89 1517.37 2256.25 1517.37 M2256.25 1513.66 Q2262.06 1513.66 2265.12 1518.27 Q2268.2 1522.85 2268.2 1531.6 Q2268.2 1540.33 2265.12 1544.94 Q2262.06 1549.52 2256.25 1549.52 Q2250.44 1549.52 2247.36 1544.94 Q2244.31 1540.33 2244.31 1531.6 Q2244.31 1522.85 2247.36 1518.27 Q2250.44 1513.66 2256.25 1513.66 Z\" fill=\"#000000\" fill-rule=\"evenodd\" fill-opacity=\"1\" /><polyline clip-path=\"url(#clip022)\" style=\"stroke:#000000; stroke-linecap:butt; stroke-linejoin:round; stroke-width:2; stroke-opacity:0.1; fill:none\" points=\"\n",
       "  194.422,1245.42 2352.76,1245.42 \n",
       "  \"/>\n",
       "<polyline clip-path=\"url(#clip022)\" style=\"stroke:#000000; stroke-linecap:butt; stroke-linejoin:round; stroke-width:2; stroke-opacity:0.1; fill:none\" points=\"\n",
       "  194.422,942.014 2352.76,942.014 \n",
       "  \"/>\n",
       "<polyline clip-path=\"url(#clip022)\" style=\"stroke:#000000; stroke-linecap:butt; stroke-linejoin:round; stroke-width:2; stroke-opacity:0.1; fill:none\" points=\"\n",
       "  194.422,638.61 2352.76,638.61 \n",
       "  \"/>\n",
       "<polyline clip-path=\"url(#clip022)\" style=\"stroke:#000000; stroke-linecap:butt; stroke-linejoin:round; stroke-width:2; stroke-opacity:0.1; fill:none\" points=\"\n",
       "  194.422,335.206 2352.76,335.206 \n",
       "  \"/>\n",
       "<polyline clip-path=\"url(#clip020)\" style=\"stroke:#000000; stroke-linecap:butt; stroke-linejoin:round; stroke-width:4; stroke-opacity:1; fill:none\" points=\"\n",
       "  194.422,1486.45 194.422,47.2441 \n",
       "  \"/>\n",
       "<polyline clip-path=\"url(#clip020)\" style=\"stroke:#000000; stroke-linecap:butt; stroke-linejoin:round; stroke-width:4; stroke-opacity:1; fill:none\" points=\"\n",
       "  194.422,1245.42 213.32,1245.42 \n",
       "  \"/>\n",
       "<polyline clip-path=\"url(#clip020)\" style=\"stroke:#000000; stroke-linecap:butt; stroke-linejoin:round; stroke-width:4; stroke-opacity:1; fill:none\" points=\"\n",
       "  194.422,942.014 213.32,942.014 \n",
       "  \"/>\n",
       "<polyline clip-path=\"url(#clip020)\" style=\"stroke:#000000; stroke-linecap:butt; stroke-linejoin:round; stroke-width:4; stroke-opacity:1; fill:none\" points=\"\n",
       "  194.422,638.61 213.32,638.61 \n",
       "  \"/>\n",
       "<polyline clip-path=\"url(#clip020)\" style=\"stroke:#000000; stroke-linecap:butt; stroke-linejoin:round; stroke-width:4; stroke-opacity:1; fill:none\" points=\"\n",
       "  194.422,335.206 213.32,335.206 \n",
       "  \"/>\n",
       "<path clip-path=\"url(#clip020)\" d=\"M50.9921 1245.87 L80.6679 1245.87 L80.6679 1249.81 L50.9921 1249.81 L50.9921 1245.87 Z\" fill=\"#000000\" fill-rule=\"evenodd\" fill-opacity=\"1\" /><path clip-path=\"url(#clip020)\" d=\"M100.76 1231.22 Q97.1493 1231.22 95.3206 1234.78 Q93.515 1238.32 93.515 1245.45 Q93.515 1252.56 95.3206 1256.12 Q97.1493 1259.67 100.76 1259.67 Q104.395 1259.67 106.2 1256.12 Q108.029 1252.56 108.029 1245.45 Q108.029 1238.32 106.2 1234.78 Q104.395 1231.22 100.76 1231.22 M100.76 1227.51 Q106.571 1227.51 109.626 1232.12 Q112.705 1236.7 112.705 1245.45 Q112.705 1254.18 109.626 1258.79 Q106.571 1263.37 100.76 1263.37 Q94.9502 1263.37 91.8715 1258.79 Q88.816 1254.18 88.816 1245.45 Q88.816 1236.7 91.8715 1232.12 Q94.9502 1227.51 100.76 1227.51 Z\" fill=\"#000000\" fill-rule=\"evenodd\" fill-opacity=\"1\" /><path clip-path=\"url(#clip020)\" d=\"M120.922 1256.82 L125.807 1256.82 L125.807 1262.7 L120.922 1262.7 L120.922 1256.82 Z\" fill=\"#000000\" fill-rule=\"evenodd\" fill-opacity=\"1\" /><path clip-path=\"url(#clip020)\" d=\"M148.839 1232.21 L137.033 1250.66 L148.839 1250.66 L148.839 1232.21 M147.612 1228.14 L153.492 1228.14 L153.492 1250.66 L158.422 1250.66 L158.422 1254.55 L153.492 1254.55 L153.492 1262.7 L148.839 1262.7 L148.839 1254.55 L133.237 1254.55 L133.237 1250.04 L147.612 1228.14 Z\" fill=\"#000000\" fill-rule=\"evenodd\" fill-opacity=\"1\" /><path clip-path=\"url(#clip020)\" d=\"M53.0754 942.466 L82.7512 942.466 L82.7512 946.401 L53.0754 946.401 L53.0754 942.466 Z\" fill=\"#000000\" fill-rule=\"evenodd\" fill-opacity=\"1\" /><path clip-path=\"url(#clip020)\" d=\"M102.844 927.813 Q99.2326 927.813 97.4039 931.378 Q95.5984 934.92 95.5984 942.049 Q95.5984 949.156 97.4039 952.72 Q99.2326 956.262 102.844 956.262 Q106.478 956.262 108.283 952.72 Q110.112 949.156 110.112 942.049 Q110.112 934.92 108.283 931.378 Q106.478 927.813 102.844 927.813 M102.844 924.109 Q108.654 924.109 111.709 928.716 Q114.788 933.299 114.788 942.049 Q114.788 950.776 111.709 955.382 Q108.654 959.966 102.844 959.966 Q97.0335 959.966 93.9549 955.382 Q90.8993 950.776 90.8993 942.049 Q90.8993 933.299 93.9549 928.716 Q97.0335 924.109 102.844 924.109 Z\" fill=\"#000000\" fill-rule=\"evenodd\" fill-opacity=\"1\" /><path clip-path=\"url(#clip020)\" d=\"M123.006 953.415 L127.89 953.415 L127.89 959.294 L123.006 959.294 L123.006 953.415 Z\" fill=\"#000000\" fill-rule=\"evenodd\" fill-opacity=\"1\" /><path clip-path=\"url(#clip020)\" d=\"M142.103 955.359 L158.422 955.359 L158.422 959.294 L136.478 959.294 L136.478 955.359 Q139.14 952.605 143.723 947.975 Q148.33 943.322 149.51 941.98 Q151.755 939.457 152.635 937.72 Q153.538 935.961 153.538 934.271 Q153.538 931.517 151.593 929.781 Q149.672 928.045 146.57 928.045 Q144.371 928.045 141.918 928.808 Q139.487 929.572 136.709 931.123 L136.709 926.401 Q139.533 925.267 141.987 924.688 Q144.441 924.109 146.478 924.109 Q151.848 924.109 155.042 926.795 Q158.237 929.48 158.237 933.97 Q158.237 936.1 157.427 938.021 Q156.64 939.92 154.533 942.512 Q153.955 943.183 150.853 946.401 Q147.751 949.595 142.103 955.359 Z\" fill=\"#000000\" fill-rule=\"evenodd\" fill-opacity=\"1\" /><path clip-path=\"url(#clip020)\" d=\"M101.246 624.409 Q97.6354 624.409 95.8067 627.974 Q94.0012 631.515 94.0012 638.645 Q94.0012 645.751 95.8067 649.316 Q97.6354 652.858 101.246 652.858 Q104.881 652.858 106.686 649.316 Q108.515 645.751 108.515 638.645 Q108.515 631.515 106.686 627.974 Q104.881 624.409 101.246 624.409 M101.246 620.705 Q107.057 620.705 110.112 625.312 Q113.191 629.895 113.191 638.645 Q113.191 647.372 110.112 651.978 Q107.057 656.562 101.246 656.562 Q95.4363 656.562 92.3576 651.978 Q89.3021 647.372 89.3021 638.645 Q89.3021 629.895 92.3576 625.312 Q95.4363 620.705 101.246 620.705 Z\" fill=\"#000000\" fill-rule=\"evenodd\" fill-opacity=\"1\" /><path clip-path=\"url(#clip020)\" d=\"M121.408 650.011 L126.293 650.011 L126.293 655.89 L121.408 655.89 L121.408 650.011 Z\" fill=\"#000000\" fill-rule=\"evenodd\" fill-opacity=\"1\" /><path clip-path=\"url(#clip020)\" d=\"M146.478 624.409 Q142.867 624.409 141.038 627.974 Q139.232 631.515 139.232 638.645 Q139.232 645.751 141.038 649.316 Q142.867 652.858 146.478 652.858 Q150.112 652.858 151.918 649.316 Q153.746 645.751 153.746 638.645 Q153.746 631.515 151.918 627.974 Q150.112 624.409 146.478 624.409 M146.478 620.705 Q152.288 620.705 155.343 625.312 Q158.422 629.895 158.422 638.645 Q158.422 647.372 155.343 651.978 Q152.288 656.562 146.478 656.562 Q140.668 656.562 137.589 651.978 Q134.533 647.372 134.533 638.645 Q134.533 629.895 137.589 625.312 Q140.668 620.705 146.478 620.705 Z\" fill=\"#000000\" fill-rule=\"evenodd\" fill-opacity=\"1\" /><path clip-path=\"url(#clip020)\" d=\"M102.844 321.005 Q99.2326 321.005 97.4039 324.57 Q95.5984 328.111 95.5984 335.241 Q95.5984 342.347 97.4039 345.912 Q99.2326 349.454 102.844 349.454 Q106.478 349.454 108.283 345.912 Q110.112 342.347 110.112 335.241 Q110.112 328.111 108.283 324.57 Q106.478 321.005 102.844 321.005 M102.844 317.301 Q108.654 317.301 111.709 321.908 Q114.788 326.491 114.788 335.241 Q114.788 343.968 111.709 348.574 Q108.654 353.157 102.844 353.157 Q97.0335 353.157 93.9549 348.574 Q90.8993 343.968 90.8993 335.241 Q90.8993 326.491 93.9549 321.908 Q97.0335 317.301 102.844 317.301 Z\" fill=\"#000000\" fill-rule=\"evenodd\" fill-opacity=\"1\" /><path clip-path=\"url(#clip020)\" d=\"M123.006 346.606 L127.89 346.606 L127.89 352.486 L123.006 352.486 L123.006 346.606 Z\" fill=\"#000000\" fill-rule=\"evenodd\" fill-opacity=\"1\" /><path clip-path=\"url(#clip020)\" d=\"M142.103 348.551 L158.422 348.551 L158.422 352.486 L136.478 352.486 L136.478 348.551 Q139.14 345.796 143.723 341.167 Q148.33 336.514 149.51 335.171 Q151.755 332.648 152.635 330.912 Q153.538 329.153 153.538 327.463 Q153.538 324.708 151.593 322.972 Q149.672 321.236 146.57 321.236 Q144.371 321.236 141.918 322 Q139.487 322.764 136.709 324.315 L136.709 319.593 Q139.533 318.458 141.987 317.88 Q144.441 317.301 146.478 317.301 Q151.848 317.301 155.042 319.986 Q158.237 322.671 158.237 327.162 Q158.237 329.292 157.427 331.213 Q156.64 333.111 154.533 335.704 Q153.955 336.375 150.853 339.593 Q147.751 342.787 142.103 348.551 Z\" fill=\"#000000\" fill-rule=\"evenodd\" fill-opacity=\"1\" /><polyline clip-path=\"url(#clip022)\" style=\"stroke:#009af9; stroke-linecap:butt; stroke-linejoin:round; stroke-width:4; stroke-opacity:1; fill:none\" points=\"\n",
       "  255.507,1313.45 306.411,1194.89 357.315,1085.25 408.219,1003.01 459.123,954.717 510.028,938.041 560.932,945.42 611.836,967.386 662.74,995.049 713.644,1021.58 \n",
       "  764.548,1042.77 815.452,1056.88 866.356,1064.1 917.26,1065.81 968.164,1063.92 1019.07,1060.28 1069.97,1056.41 1120.88,1053.28 1171.78,1051.36 1222.68,1050.71 \n",
       "  1273.59,1051.11 1324.49,1052.2 1375.4,1053.62 1426.3,1055.06 1477.21,1056.3 1528.11,1057.25 1579.01,1057.88 1629.92,1058.23 1680.82,1058.39 1731.73,1058.42 \n",
       "  1782.63,1058.4 1833.53,1058.37 1884.44,1058.38 1935.34,1058.43 1986.25,1058.51 2037.15,1058.61 2088.05,1058.73 2138.96,1058.84 2189.86,1058.95 2240.77,1059.03 \n",
       "  2291.67,1059.1 \n",
       "  \"/>\n",
       "<polyline clip-path=\"url(#clip022)\" style=\"stroke:#e26f46; stroke-linecap:butt; stroke-linejoin:round; stroke-width:4; stroke-opacity:1; fill:none\" points=\"\n",
       "  255.507,87.9763 306.411,223.197 357.315,359.386 408.219,487.622 459.123,601.665 510.028,698.411 560.932,777.564 611.836,840.867 662.74,891.207 713.644,931.798 \n",
       "  764.548,965.589 815.452,994.912 866.356,1021.36 917.26,1045.85 968.164,1068.75 1019.07,1090.09 1069.97,1109.75 1120.88,1127.56 1171.78,1143.42 1222.68,1157.32 \n",
       "  1273.59,1169.36 1324.49,1179.71 1375.4,1188.6 1426.3,1196.25 1477.21,1202.88 1528.11,1208.69 1579.01,1213.82 1629.92,1218.38 1680.82,1222.45 1731.73,1226.09 \n",
       "  1782.63,1229.34 1833.53,1232.23 1884.44,1234.79 1935.34,1237.05 1986.25,1239.04 2037.15,1240.77 2088.05,1242.3 2138.96,1243.63 2189.86,1244.8 2240.77,1245.83 \n",
       "  2291.67,1246.74 \n",
       "  \"/>\n",
       "<polyline clip-path=\"url(#clip022)\" style=\"stroke:#3da44d; stroke-linecap:butt; stroke-linejoin:round; stroke-width:4; stroke-opacity:1; fill:none\" points=\"\n",
       "  255.507,1445.72 306.411,1330.1 357.315,1273.79 408.219,1260.16 459.123,1271.21 510.028,1291.37 560.932,1309.48 611.836,1319.27 662.74,1318.73 713.644,1308.88 \n",
       "  764.548,1292.49 815.452,1272.83 866.356,1252.9 917.26,1234.88 968.164,1220 1019.07,1208.64 1069.97,1200.52 1120.88,1195.01 1171.78,1191.3 1222.68,1188.66 \n",
       "  1273.59,1186.51 1324.49,1184.46 1375.4,1182.32 1426.3,1180.05 1477.21,1177.71 1528.11,1175.39 1579.01,1173.19 1629.92,1171.2 1680.82,1169.47 1731.73,1168 \n",
       "  1782.63,1166.78 1833.53,1165.78 1884.44,1164.95 1935.34,1164.26 1986.25,1163.66 2037.15,1163.13 2088.05,1162.65 2138.96,1162.21 2189.86,1161.81 2240.77,1161.45 \n",
       "  2291.67,1161.12 \n",
       "  \"/>\n",
       "<path clip-path=\"url(#clip020)\" d=\"\n",
       "M1987.99 302.578 L2280.81 302.578 L2280.81 95.2176 L1987.99 95.2176  Z\n",
       "  \" fill=\"#ffffff\" fill-rule=\"evenodd\" fill-opacity=\"1\"/>\n",
       "<polyline clip-path=\"url(#clip020)\" style=\"stroke:#000000; stroke-linecap:butt; stroke-linejoin:round; stroke-width:4; stroke-opacity:1; fill:none\" points=\"\n",
       "  1987.99,302.578 2280.81,302.578 2280.81,95.2176 1987.99,95.2176 1987.99,302.578 \n",
       "  \"/>\n",
       "<polyline clip-path=\"url(#clip020)\" style=\"stroke:#009af9; stroke-linecap:butt; stroke-linejoin:round; stroke-width:4; stroke-opacity:1; fill:none\" points=\"\n",
       "  2011.97,147.058 2155.86,147.058 \n",
       "  \"/>\n",
       "<path clip-path=\"url(#clip020)\" d=\"M2193.68 166.745 Q2191.88 171.375 2190.16 172.787 Q2188.45 174.199 2185.58 174.199 L2182.18 174.199 L2182.18 170.634 L2184.68 170.634 Q2186.44 170.634 2187.41 169.8 Q2188.38 168.967 2189.56 165.865 L2190.33 163.921 L2179.84 138.412 L2184.35 138.412 L2192.46 158.689 L2200.56 138.412 L2205.07 138.412 L2193.68 166.745 Z\" fill=\"#000000\" fill-rule=\"evenodd\" fill-opacity=\"1\" /><path clip-path=\"url(#clip020)\" d=\"M2212.36 160.402 L2220 160.402 L2220 134.037 L2211.69 135.703 L2211.69 131.444 L2219.96 129.778 L2224.63 129.778 L2224.63 160.402 L2232.27 160.402 L2232.27 164.338 L2212.36 164.338 L2212.36 160.402 Z\" fill=\"#000000\" fill-rule=\"evenodd\" fill-opacity=\"1\" /><polyline clip-path=\"url(#clip020)\" style=\"stroke:#e26f46; stroke-linecap:butt; stroke-linejoin:round; stroke-width:4; stroke-opacity:1; fill:none\" points=\"\n",
       "  2011.97,198.898 2155.86,198.898 \n",
       "  \"/>\n",
       "<path clip-path=\"url(#clip020)\" d=\"M2193.68 218.585 Q2191.88 223.215 2190.16 224.627 Q2188.45 226.039 2185.58 226.039 L2182.18 226.039 L2182.18 222.474 L2184.68 222.474 Q2186.44 222.474 2187.41 221.64 Q2188.38 220.807 2189.56 217.705 L2190.33 215.761 L2179.84 190.252 L2184.35 190.252 L2192.46 210.529 L2200.56 190.252 L2205.07 190.252 L2193.68 218.585 Z\" fill=\"#000000\" fill-rule=\"evenodd\" fill-opacity=\"1\" /><path clip-path=\"url(#clip020)\" d=\"M2215.58 212.242 L2231.9 212.242 L2231.9 216.178 L2209.96 216.178 L2209.96 212.242 Q2212.62 209.488 2217.2 204.858 Q2221.81 200.205 2222.99 198.863 Q2225.23 196.34 2226.11 194.604 Q2227.02 192.844 2227.02 191.155 Q2227.02 188.4 2225.07 186.664 Q2223.15 184.928 2220.05 184.928 Q2217.85 184.928 2215.39 185.692 Q2212.96 186.455 2210.19 188.006 L2210.19 183.284 Q2213.01 182.15 2215.46 181.571 Q2217.92 180.993 2219.96 180.993 Q2225.33 180.993 2228.52 183.678 Q2231.71 186.363 2231.71 190.854 Q2231.71 192.983 2230.9 194.905 Q2230.12 196.803 2228.01 199.395 Q2227.43 200.067 2224.33 203.284 Q2221.23 206.479 2215.58 212.242 Z\" fill=\"#000000\" fill-rule=\"evenodd\" fill-opacity=\"1\" /><polyline clip-path=\"url(#clip020)\" style=\"stroke:#3da44d; stroke-linecap:butt; stroke-linejoin:round; stroke-width:4; stroke-opacity:1; fill:none\" points=\"\n",
       "  2011.97,250.738 2155.86,250.738 \n",
       "  \"/>\n",
       "<path clip-path=\"url(#clip020)\" d=\"M2193.68 270.425 Q2191.88 275.055 2190.16 276.467 Q2188.45 277.879 2185.58 277.879 L2182.18 277.879 L2182.18 274.314 L2184.68 274.314 Q2186.44 274.314 2187.41 273.48 Q2188.38 272.647 2189.56 269.545 L2190.33 267.601 L2179.84 242.092 L2184.35 242.092 L2192.46 262.369 L2200.56 242.092 L2205.07 242.092 L2193.68 270.425 Z\" fill=\"#000000\" fill-rule=\"evenodd\" fill-opacity=\"1\" /><path clip-path=\"url(#clip020)\" d=\"M2225.72 249.383 Q2229.08 250.101 2230.95 252.369 Q2232.85 254.638 2232.85 257.971 Q2232.85 263.087 2229.33 265.888 Q2225.81 268.689 2219.33 268.689 Q2217.15 268.689 2214.84 268.249 Q2212.55 267.832 2210.09 266.976 L2210.09 262.462 Q2212.04 263.596 2214.35 264.175 Q2216.67 264.754 2219.19 264.754 Q2223.59 264.754 2225.88 263.018 Q2228.2 261.281 2228.2 257.971 Q2228.2 254.916 2226.04 253.203 Q2223.91 251.467 2220.09 251.467 L2216.07 251.467 L2216.07 247.624 L2220.28 247.624 Q2223.73 247.624 2225.56 246.258 Q2227.39 244.87 2227.39 242.277 Q2227.39 239.615 2225.49 238.203 Q2223.61 236.768 2220.09 236.768 Q2218.17 236.768 2215.97 237.184 Q2213.77 237.601 2211.14 238.481 L2211.14 234.314 Q2213.8 233.573 2216.11 233.203 Q2218.45 232.833 2220.51 232.833 Q2225.83 232.833 2228.94 235.263 Q2232.04 237.67 2232.04 241.791 Q2232.04 244.661 2230.39 246.652 Q2228.75 248.62 2225.72 249.383 Z\" fill=\"#000000\" fill-rule=\"evenodd\" fill-opacity=\"1\" /></svg>\n"
      ]
     },
     "execution_count": 6,
     "metadata": {},
     "output_type": "execute_result"
    }
   ],
   "source": [
    "bv, ρ_exact = rand_Linblad_w_noise(1000, 0.0, time_span) \n",
    "plot(bv')"
   ]
  },
  {
   "cell_type": "code",
   "execution_count": 7,
   "id": "6301951d",
   "metadata": {},
   "outputs": [],
   "source": [
    "using LinearAlgebra\n",
    "using QuantumOptics\n",
    "using DynamicPolynomials, MomentTools\n",
    "using MosekTools\n",
    "using Random\n",
    "using JuMP"
   ]
  },
  {
   "cell_type": "markdown",
   "id": "e7c0b62d",
   "metadata": {},
   "source": [
    "Declare functions to constract Pade objective"
   ]
  },
  {
   "cell_type": "code",
   "execution_count": 8,
   "id": "b5eca768",
   "metadata": {},
   "outputs": [
    {
     "data": {
      "text/plain": [
       "pade_obj (generic function with 2 methods)"
      ]
     },
     "execution_count": 8,
     "metadata": {},
     "output_type": "execute_result"
    }
   ],
   "source": [
    "function frobenius_norm2(m)\n",
    "    return tr(m * m')\n",
    "end\n",
    "\n",
    "function lindblad_rhs(ρ, H, J)\n",
    "    \"\"\"\n",
    "    Right hand side of the Lindblad master equation\n",
    "    \"\"\"\n",
    "    return -1im * (H * ρ - ρ * H) + J * ρ * J' - (J' * J  * ρ + ρ * J' * J) / 2\n",
    "    \n",
    "end\n",
    "\n",
    "function pade_obj(ρ::Array{ComplexF64,3}, t, H, J)\n",
    "    \n",
    "    obj = 0\n",
    "    for i in 2:size(ρ,3)\n",
    "        obj += frobenius_norm2(\n",
    "            ρ[:, :, i] - ρ[:, :, i-1] \n",
    "            - (t[i]-t[i-1])*lindblad_rhs((ρ[:, :, i]+ρ[:, :, i-1])/2, H, J)\n",
    "        )\n",
    "    end\n",
    "    obj = sum(real(coef) * mon for (coef, mon) in zip(coefficients(obj), monomials(obj)))\n",
    "    return obj\n",
    "end\n",
    "\n",
    "function pade_obj(ρ::Vector{Matrix{ComplexF64}}, t, H, J)\n",
    "    obj = 0\n",
    "    for i in 2:size(ρ,1)\n",
    "        obj += frobenius_norm2(\n",
    "            ρ[i] - ρ[i-1] \n",
    "            - (t[i]-t[i-1])*lindblad_rhs((ρ[i]+ρ[i-1])/2, H, J)\n",
    "        )\n",
    "    end\n",
    "    obj = sum(real(coef) * mon for (coef, mon) in zip(coefficients(obj), monomials(obj)))\n",
    "    return obj\n",
    "end"
   ]
  },
  {
   "cell_type": "markdown",
   "id": "4ec17d7c",
   "metadata": {},
   "source": [
    "Declare symbolic Hamiltonian and decipator"
   ]
  },
  {
   "cell_type": "code",
   "execution_count": 9,
   "id": "9d3d0883",
   "metadata": {},
   "outputs": [
    {
     "data": {
      "text/plain": [
       "Matrix{Float64} (alias for Array{Float64, 2})"
      ]
     },
     "execution_count": 9,
     "metadata": {},
     "output_type": "execute_result"
    }
   ],
   "source": [
    "@polyvar x[1:4]\n",
    "H_symb = [ 1.0 * x[1]              x[3] + im * x[4]\n",
    "           x[3] - im * x[4]        x[2]             ]\n",
    "\n",
    "@polyvar a[1:2, 1:2]\n",
    "@polyvar b[1:2, 1:2]\n",
    "J_symb = 1.0 * a + im * b\n",
    "\n",
    "typeof(bv)"
   ]
  },
  {
   "cell_type": "code",
   "execution_count": 10,
   "id": "c96a2727",
   "metadata": {},
   "outputs": [],
   "source": [
    "ρ_series = rho_series_from_bloch(bv);"
   ]
  },
  {
   "cell_type": "code",
   "execution_count": 11,
   "id": "7a7bb634",
   "metadata": {},
   "outputs": [],
   "source": [
    "@assert length(time_span)==length(ρ_series)"
   ]
  },
  {
   "cell_type": "code",
   "execution_count": 12,
   "id": "06f286fc",
   "metadata": {},
   "outputs": [],
   "source": [
    "obj = pade_obj(ρ_series, time_span, H_symb, J_symb);"
   ]
  },
  {
   "cell_type": "markdown",
   "id": "9b2ea8dd",
   "metadata": {},
   "source": [
    "Declare function to perform local minimization of objective\n"
   ]
  },
  {
   "cell_type": "code",
   "execution_count": 13,
   "id": "d4d2d061",
   "metadata": {},
   "outputs": [
    {
     "data": {
      "text/plain": [
       "minimize_local (generic function with 1 method)"
      ]
     },
     "execution_count": 13,
     "metadata": {},
     "output_type": "execute_result"
    }
   ],
   "source": [
    "using NLopt\n",
    "\n",
    "function minimize_local(obj, constr, guess) # polynomial objective, and guess x candidate\n",
    "    vars = variables(obj)\n",
    "    \n",
    "    @assert length(vars) == length(guess)\n",
    "\n",
    "    function g(a...)\n",
    "        # Converting polynomial expression to function to be minimize\n",
    "        obj(vars => a)\n",
    "    end\n",
    "    \n",
    "    model = Model(NLopt.Optimizer)\n",
    "\n",
    "    set_optimizer_attribute(model, \"algorithm\", :LD_MMA)\n",
    "    \n",
    "    #set_silent(model)\n",
    "    @variable(model, y[1:length(vars)]);\n",
    "    \n",
    "    for (var, init_val) in zip(y, guess)\n",
    "        set_start_value(var, init_val)\n",
    "    end\n",
    "    \n",
    "    if length(constr) > 0\n",
    "        @constraint(model, constr)\n",
    "    end\n",
    "    \n",
    "    register(model, :g, length(y), g; autodiff = true)\n",
    "    @NLobjective(model, Min, g(y...))\n",
    "    JuMP.optimize!(model)\n",
    "    solution = vars => map(value, y)\n",
    "    \n",
    "    return solution\n",
    "end "
   ]
  },
  {
   "cell_type": "markdown",
   "id": "e9c2ef67",
   "metadata": {},
   "source": [
    " Single function to perform all the process of minimization of objective\n",
    " \n",
    " Now we can use MomentTools.minimize function <br>\n",
    "http://www-sop.inria.fr/members/Bernard.Mourrain/software/MomentTools/code/2.optimization.html#MomentTools.minimize<br>\n",
    "v, M = minimize(f, [e1, e2, ...], [p1, p2, ...], X, d, optimizer)"
   ]
  },
  {
   "cell_type": "code",
   "execution_count": 14,
   "id": "e314dc60",
   "metadata": {},
   "outputs": [
    {
     "data": {
      "text/plain": [
       "minimize_global (generic function with 1 method)"
      ]
     },
     "execution_count": 14,
     "metadata": {},
     "output_type": "execute_result"
    }
   ],
   "source": [
    "using DynamicPolynomials, MomentTools\n",
    "using MosekTools\n",
    "using JuMP\n",
    "\n",
    "function minimize_global(obj, constr = [])\n",
    "    optimizer = optimizer_with_attributes(Mosek.Optimizer, \"QUIET\" => true)\n",
    "    obj_min, M = minimize(obj, constr, [], variables(obj), maxdegree(obj) ÷ 2, optimizer)\n",
    "    \n",
    "    r = get_minimizers(M)\n",
    "    obj_min_vals = [obj(r[:,i]) for i=1:size(r)[2]]\n",
    "    best_candidate = r[:, argmin(obj_min_vals)]\n",
    "    \n",
    "    minimize_local(obj, best_candidate) \n",
    "   \n",
    "end "
   ]
  },
  {
   "cell_type": "code",
   "execution_count": 15,
   "id": "2996a159",
   "metadata": {},
   "outputs": [
    {
     "data": {
      "text/plain": [
       "PolyVar{true}[x₁, x₂, x₃, x₄, a₁₋₁, a₂₋₁, a₁₋₂, a₂₋₂, b₁₋₁, b₂₋₁, b₁₋₂, b₂₋₂] => [-0.3630383547094394, 0.3631229869725601, 0.2723848503335767, -2.570767806778076, -1.8130460789966505, -0.6727241527244726, 0.3931653340514302, 0.15596425685399518, 1.5030941240274536, 1.7671872516004028, -0.139132370746713, 0.9318232712436706]"
      ]
     },
     "execution_count": 15,
     "metadata": {},
     "output_type": "execute_result"
    }
   ],
   "source": [
    "solution = minimize_global(obj)"
   ]
  },
  {
   "cell_type": "raw",
   "id": "ffee476f",
   "metadata": {},
   "source": [
    "solution = minimize_local(obj, rand(length(variables(obj))))"
   ]
  },
  {
   "cell_type": "code",
   "execution_count": 16,
   "id": "49d464c7",
   "metadata": {},
   "outputs": [
    {
     "data": {
      "text/plain": [
       "8.536981156923029e-7"
      ]
     },
     "execution_count": 16,
     "metadata": {},
     "output_type": "execute_result"
    }
   ],
   "source": [
    "obj(solution)"
   ]
  },
  {
   "cell_type": "markdown",
   "id": "ce586f3a",
   "metadata": {},
   "source": [
    "Restore identified Hamiltonian and disipator <br>\n",
    "\n",
    "To save we can use: <br>\n",
    "H_sid = convert(Matrix{ComplexF64}, subs(H_symb, solution))<br>\n",
    "J_sid = convert(Matrix{ComplexF64}, subs(J_symb, solution))"
   ]
  },
  {
   "cell_type": "code",
   "execution_count": 17,
   "id": "1480f6c6",
   "metadata": {},
   "outputs": [
    {
     "data": {
      "text/plain": [
       "2×2 Matrix{Polynomial{true, ComplexF64}}:\n",
       " (-1.81305+1.50309im)   (0.393165-0.139132im)\n",
       " (-0.672724+1.76719im)  (0.155964+0.931823im)"
      ]
     },
     "execution_count": 17,
     "metadata": {},
     "output_type": "execute_result"
    }
   ],
   "source": [
    "H_sid = subs(H_symb, solution)\n",
    "J_sid = subs(J_symb, solution)"
   ]
  },
  {
   "cell_type": "markdown",
   "id": "f39b6e9f",
   "metadata": {},
   "source": [
    "Now lets simulate Lindbland dynamics with new identified parameters"
   ]
  },
  {
   "cell_type": "code",
   "execution_count": 18,
   "id": "732fc558",
   "metadata": {},
   "outputs": [
    {
     "data": {
      "text/plain": [
       "Operator(dim=2x2)\n",
       "  basis: NLevel(N=2)\n",
       " (-1.81305+1.50309im)   (0.393165-0.139132im)\n",
       " (-0.672724+1.76719im)  (0.155964+0.931823im)"
      ]
     },
     "execution_count": 18,
     "metadata": {},
     "output_type": "execute_result"
    }
   ],
   "source": [
    "using QuantumOptics\n",
    "\n",
    "ρ0_sid = DenseOperator(basis, Hermitian(ρ_series[1])) \n",
    "\n",
    "H_sid = DenseOperator(basis, H_sid) # Hamiltonian of the system\n",
    "J_sid = DenseOperator(basis, J_sid)"
   ]
  },
  {
   "cell_type": "code",
   "execution_count": 19,
   "id": "7780182f",
   "metadata": {},
   "outputs": [],
   "source": [
    "time, ρ_sid_ser  = timeevolution.master(time_span, ρ0_sid, H_sid, [J_sid]);"
   ]
  },
  {
   "cell_type": "code",
   "execution_count": 20,
   "id": "07215ebe",
   "metadata": {},
   "outputs": [],
   "source": [
    "ρ_sid = [ρₜ.data for ρₜ in ρ_sid_ser];"
   ]
  },
  {
   "cell_type": "code",
   "execution_count": 21,
   "id": "a339d720",
   "metadata": {},
   "outputs": [
    {
     "data": {
      "image/svg+xml": [
       "<?xml version=\"1.0\" encoding=\"utf-8\"?>\n",
       "<svg xmlns=\"http://www.w3.org/2000/svg\" xmlns:xlink=\"http://www.w3.org/1999/xlink\" width=\"600\" height=\"400\" viewBox=\"0 0 2400 1600\">\n",
       "<defs>\n",
       "  <clipPath id=\"clip060\">\n",
       "    <rect x=\"0\" y=\"0\" width=\"2400\" height=\"1600\"/>\n",
       "  </clipPath>\n",
       "</defs>\n",
       "<path clip-path=\"url(#clip060)\" d=\"\n",
       "M0 1600 L2400 1600 L2400 0 L0 0  Z\n",
       "  \" fill=\"#ffffff\" fill-rule=\"evenodd\" fill-opacity=\"1\"/>\n",
       "<defs>\n",
       "  <clipPath id=\"clip061\">\n",
       "    <rect x=\"480\" y=\"0\" width=\"1681\" height=\"1600\"/>\n",
       "  </clipPath>\n",
       "</defs>\n",
       "<path clip-path=\"url(#clip060)\" d=\"\n",
       "M194.422 1486.45 L2352.76 1486.45 L2352.76 47.2441 L194.422 47.2441  Z\n",
       "  \" fill=\"#ffffff\" fill-rule=\"evenodd\" fill-opacity=\"1\"/>\n",
       "<defs>\n",
       "  <clipPath id=\"clip062\">\n",
       "    <rect x=\"194\" y=\"47\" width=\"2159\" height=\"1440\"/>\n",
       "  </clipPath>\n",
       "</defs>\n",
       "<polyline clip-path=\"url(#clip062)\" style=\"stroke:#000000; stroke-linecap:butt; stroke-linejoin:round; stroke-width:2; stroke-opacity:0.1; fill:none\" points=\"\n",
       "  204.603,1486.45 204.603,47.2441 \n",
       "  \"/>\n",
       "<polyline clip-path=\"url(#clip062)\" style=\"stroke:#000000; stroke-linecap:butt; stroke-linejoin:round; stroke-width:2; stroke-opacity:0.1; fill:none\" points=\"\n",
       "  713.644,1486.45 713.644,47.2441 \n",
       "  \"/>\n",
       "<polyline clip-path=\"url(#clip062)\" style=\"stroke:#000000; stroke-linecap:butt; stroke-linejoin:round; stroke-width:2; stroke-opacity:0.1; fill:none\" points=\"\n",
       "  1222.68,1486.45 1222.68,47.2441 \n",
       "  \"/>\n",
       "<polyline clip-path=\"url(#clip062)\" style=\"stroke:#000000; stroke-linecap:butt; stroke-linejoin:round; stroke-width:2; stroke-opacity:0.1; fill:none\" points=\"\n",
       "  1731.73,1486.45 1731.73,47.2441 \n",
       "  \"/>\n",
       "<polyline clip-path=\"url(#clip062)\" style=\"stroke:#000000; stroke-linecap:butt; stroke-linejoin:round; stroke-width:2; stroke-opacity:0.1; fill:none\" points=\"\n",
       "  2240.77,1486.45 2240.77,47.2441 \n",
       "  \"/>\n",
       "<polyline clip-path=\"url(#clip060)\" style=\"stroke:#000000; stroke-linecap:butt; stroke-linejoin:round; stroke-width:4; stroke-opacity:1; fill:none\" points=\"\n",
       "  194.422,1486.45 2352.76,1486.45 \n",
       "  \"/>\n",
       "<polyline clip-path=\"url(#clip060)\" style=\"stroke:#000000; stroke-linecap:butt; stroke-linejoin:round; stroke-width:4; stroke-opacity:1; fill:none\" points=\"\n",
       "  204.603,1486.45 204.603,1467.55 \n",
       "  \"/>\n",
       "<polyline clip-path=\"url(#clip060)\" style=\"stroke:#000000; stroke-linecap:butt; stroke-linejoin:round; stroke-width:4; stroke-opacity:1; fill:none\" points=\"\n",
       "  713.644,1486.45 713.644,1467.55 \n",
       "  \"/>\n",
       "<polyline clip-path=\"url(#clip060)\" style=\"stroke:#000000; stroke-linecap:butt; stroke-linejoin:round; stroke-width:4; stroke-opacity:1; fill:none\" points=\"\n",
       "  1222.68,1486.45 1222.68,1467.55 \n",
       "  \"/>\n",
       "<polyline clip-path=\"url(#clip060)\" style=\"stroke:#000000; stroke-linecap:butt; stroke-linejoin:round; stroke-width:4; stroke-opacity:1; fill:none\" points=\"\n",
       "  1731.73,1486.45 1731.73,1467.55 \n",
       "  \"/>\n",
       "<polyline clip-path=\"url(#clip060)\" style=\"stroke:#000000; stroke-linecap:butt; stroke-linejoin:round; stroke-width:4; stroke-opacity:1; fill:none\" points=\"\n",
       "  2240.77,1486.45 2240.77,1467.55 \n",
       "  \"/>\n",
       "<path clip-path=\"url(#clip060)\" d=\"M204.603 1517.37 Q200.992 1517.37 199.163 1520.93 Q197.358 1524.47 197.358 1531.6 Q197.358 1538.71 199.163 1542.27 Q200.992 1545.82 204.603 1545.82 Q208.237 1545.82 210.043 1542.27 Q211.871 1538.71 211.871 1531.6 Q211.871 1524.47 210.043 1520.93 Q208.237 1517.37 204.603 1517.37 M204.603 1513.66 Q210.413 1513.66 213.469 1518.27 Q216.547 1522.85 216.547 1531.6 Q216.547 1540.33 213.469 1544.94 Q210.413 1549.52 204.603 1549.52 Q198.793 1549.52 195.714 1544.94 Q192.659 1540.33 192.659 1531.6 Q192.659 1522.85 195.714 1518.27 Q198.793 1513.66 204.603 1513.66 Z\" fill=\"#000000\" fill-rule=\"evenodd\" fill-opacity=\"1\" /><path clip-path=\"url(#clip060)\" d=\"M688.332 1544.91 L695.97 1544.91 L695.97 1518.55 L687.66 1520.21 L687.66 1515.95 L695.924 1514.29 L700.6 1514.29 L700.6 1544.91 L708.239 1544.91 L708.239 1548.85 L688.332 1548.85 L688.332 1544.91 Z\" fill=\"#000000\" fill-rule=\"evenodd\" fill-opacity=\"1\" /><path clip-path=\"url(#clip060)\" d=\"M727.683 1517.37 Q724.072 1517.37 722.243 1520.93 Q720.438 1524.47 720.438 1531.6 Q720.438 1538.71 722.243 1542.27 Q724.072 1545.82 727.683 1545.82 Q731.317 1545.82 733.123 1542.27 Q734.952 1538.71 734.952 1531.6 Q734.952 1524.47 733.123 1520.93 Q731.317 1517.37 727.683 1517.37 M727.683 1513.66 Q733.493 1513.66 736.549 1518.27 Q739.628 1522.85 739.628 1531.6 Q739.628 1540.33 736.549 1544.94 Q733.493 1549.52 727.683 1549.52 Q721.873 1549.52 718.794 1544.94 Q715.739 1540.33 715.739 1531.6 Q715.739 1522.85 718.794 1518.27 Q721.873 1513.66 727.683 1513.66 Z\" fill=\"#000000\" fill-rule=\"evenodd\" fill-opacity=\"1\" /><path clip-path=\"url(#clip060)\" d=\"M1201.46 1544.91 L1217.78 1544.91 L1217.78 1548.85 L1195.83 1548.85 L1195.83 1544.91 Q1198.5 1542.16 1203.08 1537.53 Q1207.68 1532.88 1208.87 1531.53 Q1211.11 1529.01 1211.99 1527.27 Q1212.89 1525.51 1212.89 1523.82 Q1212.89 1521.07 1210.95 1519.33 Q1209.03 1517.6 1205.93 1517.6 Q1203.73 1517.6 1201.27 1518.36 Q1198.84 1519.13 1196.06 1520.68 L1196.06 1515.95 Q1198.89 1514.82 1201.34 1514.24 Q1203.8 1513.66 1205.83 1513.66 Q1211.2 1513.66 1214.4 1516.35 Q1217.59 1519.03 1217.59 1523.52 Q1217.59 1525.65 1216.78 1527.57 Q1216 1529.47 1213.89 1532.07 Q1213.31 1532.74 1210.21 1535.95 Q1207.11 1539.15 1201.46 1544.91 Z\" fill=\"#000000\" fill-rule=\"evenodd\" fill-opacity=\"1\" /><path clip-path=\"url(#clip060)\" d=\"M1237.59 1517.37 Q1233.98 1517.37 1232.15 1520.93 Q1230.35 1524.47 1230.35 1531.6 Q1230.35 1538.71 1232.15 1542.27 Q1233.98 1545.82 1237.59 1545.82 Q1241.23 1545.82 1243.03 1542.27 Q1244.86 1538.71 1244.86 1531.6 Q1244.86 1524.47 1243.03 1520.93 Q1241.23 1517.37 1237.59 1517.37 M1237.59 1513.66 Q1243.4 1513.66 1246.46 1518.27 Q1249.54 1522.85 1249.54 1531.6 Q1249.54 1540.33 1246.46 1544.94 Q1243.4 1549.52 1237.59 1549.52 Q1231.78 1549.52 1228.7 1544.94 Q1225.65 1540.33 1225.65 1531.6 Q1225.65 1522.85 1228.7 1518.27 Q1231.78 1513.66 1237.59 1513.66 Z\" fill=\"#000000\" fill-rule=\"evenodd\" fill-opacity=\"1\" /><path clip-path=\"url(#clip060)\" d=\"M1720.57 1530.21 Q1723.93 1530.93 1725.8 1533.2 Q1727.7 1535.47 1727.7 1538.8 Q1727.7 1543.92 1724.18 1546.72 Q1720.66 1549.52 1714.18 1549.52 Q1712 1549.52 1709.69 1549.08 Q1707.4 1548.66 1704.94 1547.81 L1704.94 1543.29 Q1706.89 1544.43 1709.2 1545.01 Q1711.52 1545.58 1714.04 1545.58 Q1718.44 1545.58 1720.73 1543.85 Q1723.05 1542.11 1723.05 1538.8 Q1723.05 1535.75 1720.89 1534.03 Q1718.76 1532.3 1714.94 1532.3 L1710.92 1532.3 L1710.92 1528.45 L1715.13 1528.45 Q1718.58 1528.45 1720.41 1527.09 Q1722.24 1525.7 1722.24 1523.11 Q1722.24 1520.45 1720.34 1519.03 Q1718.46 1517.6 1714.94 1517.6 Q1713.02 1517.6 1710.82 1518.01 Q1708.62 1518.43 1705.99 1519.31 L1705.99 1515.14 Q1708.65 1514.4 1710.96 1514.03 Q1713.3 1513.66 1715.36 1513.66 Q1720.68 1513.66 1723.79 1516.09 Q1726.89 1518.5 1726.89 1522.62 Q1726.89 1525.49 1725.24 1527.48 Q1723.6 1529.45 1720.57 1530.21 Z\" fill=\"#000000\" fill-rule=\"evenodd\" fill-opacity=\"1\" /><path clip-path=\"url(#clip060)\" d=\"M1746.56 1517.37 Q1742.95 1517.37 1741.12 1520.93 Q1739.32 1524.47 1739.32 1531.6 Q1739.32 1538.71 1741.12 1542.27 Q1742.95 1545.82 1746.56 1545.82 Q1750.2 1545.82 1752 1542.27 Q1753.83 1538.71 1753.83 1531.6 Q1753.83 1524.47 1752 1520.93 Q1750.2 1517.37 1746.56 1517.37 M1746.56 1513.66 Q1752.37 1513.66 1755.43 1518.27 Q1758.51 1522.85 1758.51 1531.6 Q1758.51 1540.33 1755.43 1544.94 Q1752.37 1549.52 1746.56 1549.52 Q1740.75 1549.52 1737.67 1544.94 Q1734.62 1540.33 1734.62 1531.6 Q1734.62 1522.85 1737.67 1518.27 Q1740.75 1513.66 1746.56 1513.66 Z\" fill=\"#000000\" fill-rule=\"evenodd\" fill-opacity=\"1\" /><path clip-path=\"url(#clip060)\" d=\"M2228.94 1518.36 L2217.13 1536.81 L2228.94 1536.81 L2228.94 1518.36 M2227.71 1514.29 L2233.59 1514.29 L2233.59 1536.81 L2238.52 1536.81 L2238.52 1540.7 L2233.59 1540.7 L2233.59 1548.85 L2228.94 1548.85 L2228.94 1540.7 L2213.34 1540.7 L2213.34 1536.19 L2227.71 1514.29 Z\" fill=\"#000000\" fill-rule=\"evenodd\" fill-opacity=\"1\" /><path clip-path=\"url(#clip060)\" d=\"M2256.25 1517.37 Q2252.64 1517.37 2250.81 1520.93 Q2249.01 1524.47 2249.01 1531.6 Q2249.01 1538.71 2250.81 1542.27 Q2252.64 1545.82 2256.25 1545.82 Q2259.89 1545.82 2261.69 1542.27 Q2263.52 1538.71 2263.52 1531.6 Q2263.52 1524.47 2261.69 1520.93 Q2259.89 1517.37 2256.25 1517.37 M2256.25 1513.66 Q2262.06 1513.66 2265.12 1518.27 Q2268.2 1522.85 2268.2 1531.6 Q2268.2 1540.33 2265.12 1544.94 Q2262.06 1549.52 2256.25 1549.52 Q2250.44 1549.52 2247.36 1544.94 Q2244.31 1540.33 2244.31 1531.6 Q2244.31 1522.85 2247.36 1518.27 Q2250.44 1513.66 2256.25 1513.66 Z\" fill=\"#000000\" fill-rule=\"evenodd\" fill-opacity=\"1\" /><polyline clip-path=\"url(#clip062)\" style=\"stroke:#000000; stroke-linecap:butt; stroke-linejoin:round; stroke-width:2; stroke-opacity:0.1; fill:none\" points=\"\n",
       "  194.422,1245.42 2352.76,1245.42 \n",
       "  \"/>\n",
       "<polyline clip-path=\"url(#clip062)\" style=\"stroke:#000000; stroke-linecap:butt; stroke-linejoin:round; stroke-width:2; stroke-opacity:0.1; fill:none\" points=\"\n",
       "  194.422,942.014 2352.76,942.014 \n",
       "  \"/>\n",
       "<polyline clip-path=\"url(#clip062)\" style=\"stroke:#000000; stroke-linecap:butt; stroke-linejoin:round; stroke-width:2; stroke-opacity:0.1; fill:none\" points=\"\n",
       "  194.422,638.61 2352.76,638.61 \n",
       "  \"/>\n",
       "<polyline clip-path=\"url(#clip062)\" style=\"stroke:#000000; stroke-linecap:butt; stroke-linejoin:round; stroke-width:2; stroke-opacity:0.1; fill:none\" points=\"\n",
       "  194.422,335.206 2352.76,335.206 \n",
       "  \"/>\n",
       "<polyline clip-path=\"url(#clip060)\" style=\"stroke:#000000; stroke-linecap:butt; stroke-linejoin:round; stroke-width:4; stroke-opacity:1; fill:none\" points=\"\n",
       "  194.422,1486.45 194.422,47.2441 \n",
       "  \"/>\n",
       "<polyline clip-path=\"url(#clip060)\" style=\"stroke:#000000; stroke-linecap:butt; stroke-linejoin:round; stroke-width:4; stroke-opacity:1; fill:none\" points=\"\n",
       "  194.422,1245.42 213.32,1245.42 \n",
       "  \"/>\n",
       "<polyline clip-path=\"url(#clip060)\" style=\"stroke:#000000; stroke-linecap:butt; stroke-linejoin:round; stroke-width:4; stroke-opacity:1; fill:none\" points=\"\n",
       "  194.422,942.014 213.32,942.014 \n",
       "  \"/>\n",
       "<polyline clip-path=\"url(#clip060)\" style=\"stroke:#000000; stroke-linecap:butt; stroke-linejoin:round; stroke-width:4; stroke-opacity:1; fill:none\" points=\"\n",
       "  194.422,638.61 213.32,638.61 \n",
       "  \"/>\n",
       "<polyline clip-path=\"url(#clip060)\" style=\"stroke:#000000; stroke-linecap:butt; stroke-linejoin:round; stroke-width:4; stroke-opacity:1; fill:none\" points=\"\n",
       "  194.422,335.206 213.32,335.206 \n",
       "  \"/>\n",
       "<path clip-path=\"url(#clip060)\" d=\"M50.9921 1245.87 L80.6679 1245.87 L80.6679 1249.81 L50.9921 1249.81 L50.9921 1245.87 Z\" fill=\"#000000\" fill-rule=\"evenodd\" fill-opacity=\"1\" /><path clip-path=\"url(#clip060)\" d=\"M100.76 1231.22 Q97.1493 1231.22 95.3206 1234.78 Q93.515 1238.32 93.515 1245.45 Q93.515 1252.56 95.3206 1256.12 Q97.1493 1259.67 100.76 1259.67 Q104.395 1259.67 106.2 1256.12 Q108.029 1252.56 108.029 1245.45 Q108.029 1238.32 106.2 1234.78 Q104.395 1231.22 100.76 1231.22 M100.76 1227.51 Q106.571 1227.51 109.626 1232.12 Q112.705 1236.7 112.705 1245.45 Q112.705 1254.18 109.626 1258.79 Q106.571 1263.37 100.76 1263.37 Q94.9502 1263.37 91.8715 1258.79 Q88.816 1254.18 88.816 1245.45 Q88.816 1236.7 91.8715 1232.12 Q94.9502 1227.51 100.76 1227.51 Z\" fill=\"#000000\" fill-rule=\"evenodd\" fill-opacity=\"1\" /><path clip-path=\"url(#clip060)\" d=\"M120.922 1256.82 L125.807 1256.82 L125.807 1262.7 L120.922 1262.7 L120.922 1256.82 Z\" fill=\"#000000\" fill-rule=\"evenodd\" fill-opacity=\"1\" /><path clip-path=\"url(#clip060)\" d=\"M148.839 1232.21 L137.033 1250.66 L148.839 1250.66 L148.839 1232.21 M147.612 1228.14 L153.492 1228.14 L153.492 1250.66 L158.422 1250.66 L158.422 1254.55 L153.492 1254.55 L153.492 1262.7 L148.839 1262.7 L148.839 1254.55 L133.237 1254.55 L133.237 1250.04 L147.612 1228.14 Z\" fill=\"#000000\" fill-rule=\"evenodd\" fill-opacity=\"1\" /><path clip-path=\"url(#clip060)\" d=\"M53.0754 942.466 L82.7512 942.466 L82.7512 946.401 L53.0754 946.401 L53.0754 942.466 Z\" fill=\"#000000\" fill-rule=\"evenodd\" fill-opacity=\"1\" /><path clip-path=\"url(#clip060)\" d=\"M102.844 927.813 Q99.2326 927.813 97.4039 931.378 Q95.5984 934.92 95.5984 942.049 Q95.5984 949.156 97.4039 952.72 Q99.2326 956.262 102.844 956.262 Q106.478 956.262 108.283 952.72 Q110.112 949.156 110.112 942.049 Q110.112 934.92 108.283 931.378 Q106.478 927.813 102.844 927.813 M102.844 924.109 Q108.654 924.109 111.709 928.716 Q114.788 933.299 114.788 942.049 Q114.788 950.776 111.709 955.382 Q108.654 959.966 102.844 959.966 Q97.0335 959.966 93.9549 955.382 Q90.8993 950.776 90.8993 942.049 Q90.8993 933.299 93.9549 928.716 Q97.0335 924.109 102.844 924.109 Z\" fill=\"#000000\" fill-rule=\"evenodd\" fill-opacity=\"1\" /><path clip-path=\"url(#clip060)\" d=\"M123.006 953.415 L127.89 953.415 L127.89 959.294 L123.006 959.294 L123.006 953.415 Z\" fill=\"#000000\" fill-rule=\"evenodd\" fill-opacity=\"1\" /><path clip-path=\"url(#clip060)\" d=\"M142.103 955.359 L158.422 955.359 L158.422 959.294 L136.478 959.294 L136.478 955.359 Q139.14 952.605 143.723 947.975 Q148.33 943.322 149.51 941.98 Q151.755 939.457 152.635 937.72 Q153.538 935.961 153.538 934.271 Q153.538 931.517 151.593 929.781 Q149.672 928.045 146.57 928.045 Q144.371 928.045 141.918 928.808 Q139.487 929.572 136.709 931.123 L136.709 926.401 Q139.533 925.267 141.987 924.688 Q144.441 924.109 146.478 924.109 Q151.848 924.109 155.042 926.795 Q158.237 929.48 158.237 933.97 Q158.237 936.1 157.427 938.021 Q156.64 939.92 154.533 942.512 Q153.955 943.183 150.853 946.401 Q147.751 949.595 142.103 955.359 Z\" fill=\"#000000\" fill-rule=\"evenodd\" fill-opacity=\"1\" /><path clip-path=\"url(#clip060)\" d=\"M101.246 624.409 Q97.6354 624.409 95.8067 627.974 Q94.0012 631.515 94.0012 638.645 Q94.0012 645.751 95.8067 649.316 Q97.6354 652.858 101.246 652.858 Q104.881 652.858 106.686 649.316 Q108.515 645.751 108.515 638.645 Q108.515 631.515 106.686 627.974 Q104.881 624.409 101.246 624.409 M101.246 620.705 Q107.057 620.705 110.112 625.312 Q113.191 629.895 113.191 638.645 Q113.191 647.372 110.112 651.978 Q107.057 656.562 101.246 656.562 Q95.4363 656.562 92.3576 651.978 Q89.3021 647.372 89.3021 638.645 Q89.3021 629.895 92.3576 625.312 Q95.4363 620.705 101.246 620.705 Z\" fill=\"#000000\" fill-rule=\"evenodd\" fill-opacity=\"1\" /><path clip-path=\"url(#clip060)\" d=\"M121.408 650.011 L126.293 650.011 L126.293 655.89 L121.408 655.89 L121.408 650.011 Z\" fill=\"#000000\" fill-rule=\"evenodd\" fill-opacity=\"1\" /><path clip-path=\"url(#clip060)\" d=\"M146.478 624.409 Q142.867 624.409 141.038 627.974 Q139.232 631.515 139.232 638.645 Q139.232 645.751 141.038 649.316 Q142.867 652.858 146.478 652.858 Q150.112 652.858 151.918 649.316 Q153.746 645.751 153.746 638.645 Q153.746 631.515 151.918 627.974 Q150.112 624.409 146.478 624.409 M146.478 620.705 Q152.288 620.705 155.343 625.312 Q158.422 629.895 158.422 638.645 Q158.422 647.372 155.343 651.978 Q152.288 656.562 146.478 656.562 Q140.668 656.562 137.589 651.978 Q134.533 647.372 134.533 638.645 Q134.533 629.895 137.589 625.312 Q140.668 620.705 146.478 620.705 Z\" fill=\"#000000\" fill-rule=\"evenodd\" fill-opacity=\"1\" /><path clip-path=\"url(#clip060)\" d=\"M102.844 321.005 Q99.2326 321.005 97.4039 324.57 Q95.5984 328.111 95.5984 335.241 Q95.5984 342.347 97.4039 345.912 Q99.2326 349.454 102.844 349.454 Q106.478 349.454 108.283 345.912 Q110.112 342.347 110.112 335.241 Q110.112 328.111 108.283 324.57 Q106.478 321.005 102.844 321.005 M102.844 317.301 Q108.654 317.301 111.709 321.908 Q114.788 326.491 114.788 335.241 Q114.788 343.968 111.709 348.574 Q108.654 353.157 102.844 353.157 Q97.0335 353.157 93.9549 348.574 Q90.8993 343.968 90.8993 335.241 Q90.8993 326.491 93.9549 321.908 Q97.0335 317.301 102.844 317.301 Z\" fill=\"#000000\" fill-rule=\"evenodd\" fill-opacity=\"1\" /><path clip-path=\"url(#clip060)\" d=\"M123.006 346.606 L127.89 346.606 L127.89 352.486 L123.006 352.486 L123.006 346.606 Z\" fill=\"#000000\" fill-rule=\"evenodd\" fill-opacity=\"1\" /><path clip-path=\"url(#clip060)\" d=\"M142.103 348.551 L158.422 348.551 L158.422 352.486 L136.478 352.486 L136.478 348.551 Q139.14 345.796 143.723 341.167 Q148.33 336.514 149.51 335.171 Q151.755 332.648 152.635 330.912 Q153.538 329.153 153.538 327.463 Q153.538 324.708 151.593 322.972 Q149.672 321.236 146.57 321.236 Q144.371 321.236 141.918 322 Q139.487 322.764 136.709 324.315 L136.709 319.593 Q139.533 318.458 141.987 317.88 Q144.441 317.301 146.478 317.301 Q151.848 317.301 155.042 319.986 Q158.237 322.671 158.237 327.162 Q158.237 329.292 157.427 331.213 Q156.64 333.111 154.533 335.704 Q153.955 336.375 150.853 339.593 Q147.751 342.787 142.103 348.551 Z\" fill=\"#000000\" fill-rule=\"evenodd\" fill-opacity=\"1\" /><polyline clip-path=\"url(#clip062)\" style=\"stroke:#009af9; stroke-linecap:butt; stroke-linejoin:round; stroke-width:4; stroke-opacity:1; fill:none\" points=\"\n",
       "  255.507,1313.45 306.411,1193.14 357.315,1083.43 408.219,1002.48 459.123,956.099 510.028,941.199 560.932,949.684 611.836,971.864 662.74,998.92 713.644,1024.29 \n",
       "  764.548,1044.1 815.452,1056.94 866.356,1063.21 917.26,1064.39 968.164,1062.38 1019.07,1058.95 1069.97,1055.47 1120.88,1052.79 1171.78,1051.28 1222.68,1050.93 \n",
       "  1273.59,1051.48 1324.49,1052.6 1375.4,1053.95 1426.3,1055.27 1477.21,1056.37 1528.11,1057.19 1579.01,1057.73 1629.92,1058.03 1680.82,1058.17 1731.73,1058.21 \n",
       "  1782.63,1058.22 1833.53,1058.23 1884.44,1058.27 1935.34,1058.34 1986.25,1058.44 2037.15,1058.55 2088.05,1058.66 2138.96,1058.77 2189.86,1058.87 2240.77,1058.94 \n",
       "  2291.67,1059.01 \n",
       "  \"/>\n",
       "<polyline clip-path=\"url(#clip062)\" style=\"stroke:#e26f46; stroke-linecap:butt; stroke-linejoin:round; stroke-width:4; stroke-opacity:1; fill:none\" points=\"\n",
       "  255.507,87.9763 306.411,223.515 357.315,360.35 408.219,488.928 459.123,602.785 510.028,698.885 560.932,777.153 611.836,839.581 662.74,889.246 713.644,929.462 \n",
       "  764.548,963.18 815.452,992.669 866.356,1019.43 917.26,1044.27 968.164,1067.49 1019.07,1089.09 1069.97,1108.9 1120.88,1126.79 1171.78,1142.68 1222.68,1156.58 \n",
       "  1273.59,1168.62 1324.49,1179.01 1375.4,1187.95 1426.3,1195.69 1477.21,1202.43 1528.11,1208.35 1579.01,1213.6 1629.92,1218.27 1680.82,1222.44 1731.73,1226.17 \n",
       "  1782.63,1229.49 1833.53,1232.44 1884.44,1235.05 1935.34,1237.35 1986.25,1239.38 2037.15,1241.15 2088.05,1242.71 2138.96,1244.09 2189.86,1245.29 2240.77,1246.35 \n",
       "  2291.67,1247.29 \n",
       "  \"/>\n",
       "<polyline clip-path=\"url(#clip062)\" style=\"stroke:#3da44d; stroke-linecap:butt; stroke-linejoin:round; stroke-width:4; stroke-opacity:1; fill:none\" points=\"\n",
       "  255.507,1445.72 306.411,1330.86 357.315,1276.07 408.219,1263.75 459.123,1275.35 510.028,1295.14 560.932,1312.19 611.836,1320.59 662.74,1318.72 713.644,1307.9 \n",
       "  764.548,1291.02 815.452,1271.37 866.356,1251.81 917.26,1234.35 968.164,1220.08 1019.07,1209.22 1069.97,1201.43 1120.88,1196.04 1171.78,1192.28 1222.68,1189.46 \n",
       "  1273.59,1187.06 1324.49,1184.76 1375.4,1182.41 1426.3,1179.98 1477.21,1177.54 1528.11,1175.18 1579.01,1172.98 1629.92,1171.01 1680.82,1169.31 1731.73,1167.86 \n",
       "  1782.63,1166.65 1833.53,1165.64 1884.44,1164.79 1935.34,1164.07 1986.25,1163.44 2037.15,1162.87 2088.05,1162.37 2138.96,1161.91 2189.86,1161.49 2240.77,1161.11 \n",
       "  2291.67,1160.78 \n",
       "  \"/>\n",
       "<path clip-path=\"url(#clip060)\" d=\"\n",
       "M1987.99 302.578 L2280.81 302.578 L2280.81 95.2176 L1987.99 95.2176  Z\n",
       "  \" fill=\"#ffffff\" fill-rule=\"evenodd\" fill-opacity=\"1\"/>\n",
       "<polyline clip-path=\"url(#clip060)\" style=\"stroke:#000000; stroke-linecap:butt; stroke-linejoin:round; stroke-width:4; stroke-opacity:1; fill:none\" points=\"\n",
       "  1987.99,302.578 2280.81,302.578 2280.81,95.2176 1987.99,95.2176 1987.99,302.578 \n",
       "  \"/>\n",
       "<polyline clip-path=\"url(#clip060)\" style=\"stroke:#009af9; stroke-linecap:butt; stroke-linejoin:round; stroke-width:4; stroke-opacity:1; fill:none\" points=\"\n",
       "  2011.97,147.058 2155.86,147.058 \n",
       "  \"/>\n",
       "<path clip-path=\"url(#clip060)\" d=\"M2193.68 166.745 Q2191.88 171.375 2190.16 172.787 Q2188.45 174.199 2185.58 174.199 L2182.18 174.199 L2182.18 170.634 L2184.68 170.634 Q2186.44 170.634 2187.41 169.8 Q2188.38 168.967 2189.56 165.865 L2190.33 163.921 L2179.84 138.412 L2184.35 138.412 L2192.46 158.689 L2200.56 138.412 L2205.07 138.412 L2193.68 166.745 Z\" fill=\"#000000\" fill-rule=\"evenodd\" fill-opacity=\"1\" /><path clip-path=\"url(#clip060)\" d=\"M2212.36 160.402 L2220 160.402 L2220 134.037 L2211.69 135.703 L2211.69 131.444 L2219.96 129.778 L2224.63 129.778 L2224.63 160.402 L2232.27 160.402 L2232.27 164.338 L2212.36 164.338 L2212.36 160.402 Z\" fill=\"#000000\" fill-rule=\"evenodd\" fill-opacity=\"1\" /><polyline clip-path=\"url(#clip060)\" style=\"stroke:#e26f46; stroke-linecap:butt; stroke-linejoin:round; stroke-width:4; stroke-opacity:1; fill:none\" points=\"\n",
       "  2011.97,198.898 2155.86,198.898 \n",
       "  \"/>\n",
       "<path clip-path=\"url(#clip060)\" d=\"M2193.68 218.585 Q2191.88 223.215 2190.16 224.627 Q2188.45 226.039 2185.58 226.039 L2182.18 226.039 L2182.18 222.474 L2184.68 222.474 Q2186.44 222.474 2187.41 221.64 Q2188.38 220.807 2189.56 217.705 L2190.33 215.761 L2179.84 190.252 L2184.35 190.252 L2192.46 210.529 L2200.56 190.252 L2205.07 190.252 L2193.68 218.585 Z\" fill=\"#000000\" fill-rule=\"evenodd\" fill-opacity=\"1\" /><path clip-path=\"url(#clip060)\" d=\"M2215.58 212.242 L2231.9 212.242 L2231.9 216.178 L2209.96 216.178 L2209.96 212.242 Q2212.62 209.488 2217.2 204.858 Q2221.81 200.205 2222.99 198.863 Q2225.23 196.34 2226.11 194.604 Q2227.02 192.844 2227.02 191.155 Q2227.02 188.4 2225.07 186.664 Q2223.15 184.928 2220.05 184.928 Q2217.85 184.928 2215.39 185.692 Q2212.96 186.455 2210.19 188.006 L2210.19 183.284 Q2213.01 182.15 2215.46 181.571 Q2217.92 180.993 2219.96 180.993 Q2225.33 180.993 2228.52 183.678 Q2231.71 186.363 2231.71 190.854 Q2231.71 192.983 2230.9 194.905 Q2230.12 196.803 2228.01 199.395 Q2227.43 200.067 2224.33 203.284 Q2221.23 206.479 2215.58 212.242 Z\" fill=\"#000000\" fill-rule=\"evenodd\" fill-opacity=\"1\" /><polyline clip-path=\"url(#clip060)\" style=\"stroke:#3da44d; stroke-linecap:butt; stroke-linejoin:round; stroke-width:4; stroke-opacity:1; fill:none\" points=\"\n",
       "  2011.97,250.738 2155.86,250.738 \n",
       "  \"/>\n",
       "<path clip-path=\"url(#clip060)\" d=\"M2193.68 270.425 Q2191.88 275.055 2190.16 276.467 Q2188.45 277.879 2185.58 277.879 L2182.18 277.879 L2182.18 274.314 L2184.68 274.314 Q2186.44 274.314 2187.41 273.48 Q2188.38 272.647 2189.56 269.545 L2190.33 267.601 L2179.84 242.092 L2184.35 242.092 L2192.46 262.369 L2200.56 242.092 L2205.07 242.092 L2193.68 270.425 Z\" fill=\"#000000\" fill-rule=\"evenodd\" fill-opacity=\"1\" /><path clip-path=\"url(#clip060)\" d=\"M2225.72 249.383 Q2229.08 250.101 2230.95 252.369 Q2232.85 254.638 2232.85 257.971 Q2232.85 263.087 2229.33 265.888 Q2225.81 268.689 2219.33 268.689 Q2217.15 268.689 2214.84 268.249 Q2212.55 267.832 2210.09 266.976 L2210.09 262.462 Q2212.04 263.596 2214.35 264.175 Q2216.67 264.754 2219.19 264.754 Q2223.59 264.754 2225.88 263.018 Q2228.2 261.281 2228.2 257.971 Q2228.2 254.916 2226.04 253.203 Q2223.91 251.467 2220.09 251.467 L2216.07 251.467 L2216.07 247.624 L2220.28 247.624 Q2223.73 247.624 2225.56 246.258 Q2227.39 244.87 2227.39 242.277 Q2227.39 239.615 2225.49 238.203 Q2223.61 236.768 2220.09 236.768 Q2218.17 236.768 2215.97 237.184 Q2213.77 237.601 2211.14 238.481 L2211.14 234.314 Q2213.8 233.573 2216.11 233.203 Q2218.45 232.833 2220.51 232.833 Q2225.83 232.833 2228.94 235.263 Q2232.04 237.67 2232.04 241.791 Q2232.04 244.661 2230.39 246.652 Q2228.75 248.62 2225.72 249.383 Z\" fill=\"#000000\" fill-rule=\"evenodd\" fill-opacity=\"1\" /></svg>\n"
      ]
     },
     "execution_count": 21,
     "metadata": {},
     "output_type": "execute_result"
    }
   ],
   "source": [
    "bv_sid = bloch(ρ_sid) \n",
    "plot(bv_sid')"
   ]
  },
  {
   "cell_type": "code",
   "execution_count": 22,
   "id": "27e68d79",
   "metadata": {},
   "outputs": [
    {
     "data": {
      "image/svg+xml": [
       "<?xml version=\"1.0\" encoding=\"utf-8\"?>\n",
       "<svg xmlns=\"http://www.w3.org/2000/svg\" xmlns:xlink=\"http://www.w3.org/1999/xlink\" width=\"600\" height=\"400\" viewBox=\"0 0 2400 1600\">\n",
       "<defs>\n",
       "  <clipPath id=\"clip100\">\n",
       "    <rect x=\"0\" y=\"0\" width=\"2400\" height=\"1600\"/>\n",
       "  </clipPath>\n",
       "</defs>\n",
       "<path clip-path=\"url(#clip100)\" d=\"\n",
       "M0 1600 L2400 1600 L2400 0 L0 0  Z\n",
       "  \" fill=\"#ffffff\" fill-rule=\"evenodd\" fill-opacity=\"1\"/>\n",
       "<defs>\n",
       "  <clipPath id=\"clip101\">\n",
       "    <rect x=\"480\" y=\"0\" width=\"1681\" height=\"1600\"/>\n",
       "  </clipPath>\n",
       "</defs>\n",
       "<path clip-path=\"url(#clip100)\" d=\"\n",
       "M194.422 1486.45 L2352.76 1486.45 L2352.76 47.2441 L194.422 47.2441  Z\n",
       "  \" fill=\"#ffffff\" fill-rule=\"evenodd\" fill-opacity=\"1\"/>\n",
       "<defs>\n",
       "  <clipPath id=\"clip102\">\n",
       "    <rect x=\"194\" y=\"47\" width=\"2159\" height=\"1440\"/>\n",
       "  </clipPath>\n",
       "</defs>\n",
       "<polyline clip-path=\"url(#clip102)\" style=\"stroke:#000000; stroke-linecap:butt; stroke-linejoin:round; stroke-width:2; stroke-opacity:0.1; fill:none\" points=\"\n",
       "  204.603,1486.45 204.603,47.2441 \n",
       "  \"/>\n",
       "<polyline clip-path=\"url(#clip102)\" style=\"stroke:#000000; stroke-linecap:butt; stroke-linejoin:round; stroke-width:2; stroke-opacity:0.1; fill:none\" points=\"\n",
       "  713.644,1486.45 713.644,47.2441 \n",
       "  \"/>\n",
       "<polyline clip-path=\"url(#clip102)\" style=\"stroke:#000000; stroke-linecap:butt; stroke-linejoin:round; stroke-width:2; stroke-opacity:0.1; fill:none\" points=\"\n",
       "  1222.68,1486.45 1222.68,47.2441 \n",
       "  \"/>\n",
       "<polyline clip-path=\"url(#clip102)\" style=\"stroke:#000000; stroke-linecap:butt; stroke-linejoin:round; stroke-width:2; stroke-opacity:0.1; fill:none\" points=\"\n",
       "  1731.73,1486.45 1731.73,47.2441 \n",
       "  \"/>\n",
       "<polyline clip-path=\"url(#clip102)\" style=\"stroke:#000000; stroke-linecap:butt; stroke-linejoin:round; stroke-width:2; stroke-opacity:0.1; fill:none\" points=\"\n",
       "  2240.77,1486.45 2240.77,47.2441 \n",
       "  \"/>\n",
       "<polyline clip-path=\"url(#clip100)\" style=\"stroke:#000000; stroke-linecap:butt; stroke-linejoin:round; stroke-width:4; stroke-opacity:1; fill:none\" points=\"\n",
       "  194.422,1486.45 2352.76,1486.45 \n",
       "  \"/>\n",
       "<polyline clip-path=\"url(#clip100)\" style=\"stroke:#000000; stroke-linecap:butt; stroke-linejoin:round; stroke-width:4; stroke-opacity:1; fill:none\" points=\"\n",
       "  204.603,1486.45 204.603,1467.55 \n",
       "  \"/>\n",
       "<polyline clip-path=\"url(#clip100)\" style=\"stroke:#000000; stroke-linecap:butt; stroke-linejoin:round; stroke-width:4; stroke-opacity:1; fill:none\" points=\"\n",
       "  713.644,1486.45 713.644,1467.55 \n",
       "  \"/>\n",
       "<polyline clip-path=\"url(#clip100)\" style=\"stroke:#000000; stroke-linecap:butt; stroke-linejoin:round; stroke-width:4; stroke-opacity:1; fill:none\" points=\"\n",
       "  1222.68,1486.45 1222.68,1467.55 \n",
       "  \"/>\n",
       "<polyline clip-path=\"url(#clip100)\" style=\"stroke:#000000; stroke-linecap:butt; stroke-linejoin:round; stroke-width:4; stroke-opacity:1; fill:none\" points=\"\n",
       "  1731.73,1486.45 1731.73,1467.55 \n",
       "  \"/>\n",
       "<polyline clip-path=\"url(#clip100)\" style=\"stroke:#000000; stroke-linecap:butt; stroke-linejoin:round; stroke-width:4; stroke-opacity:1; fill:none\" points=\"\n",
       "  2240.77,1486.45 2240.77,1467.55 \n",
       "  \"/>\n",
       "<path clip-path=\"url(#clip100)\" d=\"M204.603 1517.37 Q200.992 1517.37 199.163 1520.93 Q197.358 1524.47 197.358 1531.6 Q197.358 1538.71 199.163 1542.27 Q200.992 1545.82 204.603 1545.82 Q208.237 1545.82 210.043 1542.27 Q211.871 1538.71 211.871 1531.6 Q211.871 1524.47 210.043 1520.93 Q208.237 1517.37 204.603 1517.37 M204.603 1513.66 Q210.413 1513.66 213.469 1518.27 Q216.547 1522.85 216.547 1531.6 Q216.547 1540.33 213.469 1544.94 Q210.413 1549.52 204.603 1549.52 Q198.793 1549.52 195.714 1544.94 Q192.659 1540.33 192.659 1531.6 Q192.659 1522.85 195.714 1518.27 Q198.793 1513.66 204.603 1513.66 Z\" fill=\"#000000\" fill-rule=\"evenodd\" fill-opacity=\"1\" /><path clip-path=\"url(#clip100)\" d=\"M688.332 1544.91 L695.97 1544.91 L695.97 1518.55 L687.66 1520.21 L687.66 1515.95 L695.924 1514.29 L700.6 1514.29 L700.6 1544.91 L708.239 1544.91 L708.239 1548.85 L688.332 1548.85 L688.332 1544.91 Z\" fill=\"#000000\" fill-rule=\"evenodd\" fill-opacity=\"1\" /><path clip-path=\"url(#clip100)\" d=\"M727.683 1517.37 Q724.072 1517.37 722.243 1520.93 Q720.438 1524.47 720.438 1531.6 Q720.438 1538.71 722.243 1542.27 Q724.072 1545.82 727.683 1545.82 Q731.317 1545.82 733.123 1542.27 Q734.952 1538.71 734.952 1531.6 Q734.952 1524.47 733.123 1520.93 Q731.317 1517.37 727.683 1517.37 M727.683 1513.66 Q733.493 1513.66 736.549 1518.27 Q739.628 1522.85 739.628 1531.6 Q739.628 1540.33 736.549 1544.94 Q733.493 1549.52 727.683 1549.52 Q721.873 1549.52 718.794 1544.94 Q715.739 1540.33 715.739 1531.6 Q715.739 1522.85 718.794 1518.27 Q721.873 1513.66 727.683 1513.66 Z\" fill=\"#000000\" fill-rule=\"evenodd\" fill-opacity=\"1\" /><path clip-path=\"url(#clip100)\" d=\"M1201.46 1544.91 L1217.78 1544.91 L1217.78 1548.85 L1195.83 1548.85 L1195.83 1544.91 Q1198.5 1542.16 1203.08 1537.53 Q1207.68 1532.88 1208.87 1531.53 Q1211.11 1529.01 1211.99 1527.27 Q1212.89 1525.51 1212.89 1523.82 Q1212.89 1521.07 1210.95 1519.33 Q1209.03 1517.6 1205.93 1517.6 Q1203.73 1517.6 1201.27 1518.36 Q1198.84 1519.13 1196.06 1520.68 L1196.06 1515.95 Q1198.89 1514.82 1201.34 1514.24 Q1203.8 1513.66 1205.83 1513.66 Q1211.2 1513.66 1214.4 1516.35 Q1217.59 1519.03 1217.59 1523.52 Q1217.59 1525.65 1216.78 1527.57 Q1216 1529.47 1213.89 1532.07 Q1213.31 1532.74 1210.21 1535.95 Q1207.11 1539.15 1201.46 1544.91 Z\" fill=\"#000000\" fill-rule=\"evenodd\" fill-opacity=\"1\" /><path clip-path=\"url(#clip100)\" d=\"M1237.59 1517.37 Q1233.98 1517.37 1232.15 1520.93 Q1230.35 1524.47 1230.35 1531.6 Q1230.35 1538.71 1232.15 1542.27 Q1233.98 1545.82 1237.59 1545.82 Q1241.23 1545.82 1243.03 1542.27 Q1244.86 1538.71 1244.86 1531.6 Q1244.86 1524.47 1243.03 1520.93 Q1241.23 1517.37 1237.59 1517.37 M1237.59 1513.66 Q1243.4 1513.66 1246.46 1518.27 Q1249.54 1522.85 1249.54 1531.6 Q1249.54 1540.33 1246.46 1544.94 Q1243.4 1549.52 1237.59 1549.52 Q1231.78 1549.52 1228.7 1544.94 Q1225.65 1540.33 1225.65 1531.6 Q1225.65 1522.85 1228.7 1518.27 Q1231.78 1513.66 1237.59 1513.66 Z\" fill=\"#000000\" fill-rule=\"evenodd\" fill-opacity=\"1\" /><path clip-path=\"url(#clip100)\" d=\"M1720.57 1530.21 Q1723.93 1530.93 1725.8 1533.2 Q1727.7 1535.47 1727.7 1538.8 Q1727.7 1543.92 1724.18 1546.72 Q1720.66 1549.52 1714.18 1549.52 Q1712 1549.52 1709.69 1549.08 Q1707.4 1548.66 1704.94 1547.81 L1704.94 1543.29 Q1706.89 1544.43 1709.2 1545.01 Q1711.52 1545.58 1714.04 1545.58 Q1718.44 1545.58 1720.73 1543.85 Q1723.05 1542.11 1723.05 1538.8 Q1723.05 1535.75 1720.89 1534.03 Q1718.76 1532.3 1714.94 1532.3 L1710.92 1532.3 L1710.92 1528.45 L1715.13 1528.45 Q1718.58 1528.45 1720.41 1527.09 Q1722.24 1525.7 1722.24 1523.11 Q1722.24 1520.45 1720.34 1519.03 Q1718.46 1517.6 1714.94 1517.6 Q1713.02 1517.6 1710.82 1518.01 Q1708.62 1518.43 1705.99 1519.31 L1705.99 1515.14 Q1708.65 1514.4 1710.96 1514.03 Q1713.3 1513.66 1715.36 1513.66 Q1720.68 1513.66 1723.79 1516.09 Q1726.89 1518.5 1726.89 1522.62 Q1726.89 1525.49 1725.24 1527.48 Q1723.6 1529.45 1720.57 1530.21 Z\" fill=\"#000000\" fill-rule=\"evenodd\" fill-opacity=\"1\" /><path clip-path=\"url(#clip100)\" d=\"M1746.56 1517.37 Q1742.95 1517.37 1741.12 1520.93 Q1739.32 1524.47 1739.32 1531.6 Q1739.32 1538.71 1741.12 1542.27 Q1742.95 1545.82 1746.56 1545.82 Q1750.2 1545.82 1752 1542.27 Q1753.83 1538.71 1753.83 1531.6 Q1753.83 1524.47 1752 1520.93 Q1750.2 1517.37 1746.56 1517.37 M1746.56 1513.66 Q1752.37 1513.66 1755.43 1518.27 Q1758.51 1522.85 1758.51 1531.6 Q1758.51 1540.33 1755.43 1544.94 Q1752.37 1549.52 1746.56 1549.52 Q1740.75 1549.52 1737.67 1544.94 Q1734.62 1540.33 1734.62 1531.6 Q1734.62 1522.85 1737.67 1518.27 Q1740.75 1513.66 1746.56 1513.66 Z\" fill=\"#000000\" fill-rule=\"evenodd\" fill-opacity=\"1\" /><path clip-path=\"url(#clip100)\" d=\"M2228.94 1518.36 L2217.13 1536.81 L2228.94 1536.81 L2228.94 1518.36 M2227.71 1514.29 L2233.59 1514.29 L2233.59 1536.81 L2238.52 1536.81 L2238.52 1540.7 L2233.59 1540.7 L2233.59 1548.85 L2228.94 1548.85 L2228.94 1540.7 L2213.34 1540.7 L2213.34 1536.19 L2227.71 1514.29 Z\" fill=\"#000000\" fill-rule=\"evenodd\" fill-opacity=\"1\" /><path clip-path=\"url(#clip100)\" d=\"M2256.25 1517.37 Q2252.64 1517.37 2250.81 1520.93 Q2249.01 1524.47 2249.01 1531.6 Q2249.01 1538.71 2250.81 1542.27 Q2252.64 1545.82 2256.25 1545.82 Q2259.89 1545.82 2261.69 1542.27 Q2263.52 1538.71 2263.52 1531.6 Q2263.52 1524.47 2261.69 1520.93 Q2259.89 1517.37 2256.25 1517.37 M2256.25 1513.66 Q2262.06 1513.66 2265.12 1518.27 Q2268.2 1522.85 2268.2 1531.6 Q2268.2 1540.33 2265.12 1544.94 Q2262.06 1549.52 2256.25 1549.52 Q2250.44 1549.52 2247.36 1544.94 Q2244.31 1540.33 2244.31 1531.6 Q2244.31 1522.85 2247.36 1518.27 Q2250.44 1513.66 2256.25 1513.66 Z\" fill=\"#000000\" fill-rule=\"evenodd\" fill-opacity=\"1\" /><polyline clip-path=\"url(#clip102)\" style=\"stroke:#000000; stroke-linecap:butt; stroke-linejoin:round; stroke-width:2; stroke-opacity:0.1; fill:none\" points=\"\n",
       "  194.422,1245.42 2352.76,1245.42 \n",
       "  \"/>\n",
       "<polyline clip-path=\"url(#clip102)\" style=\"stroke:#000000; stroke-linecap:butt; stroke-linejoin:round; stroke-width:2; stroke-opacity:0.1; fill:none\" points=\"\n",
       "  194.422,942.014 2352.76,942.014 \n",
       "  \"/>\n",
       "<polyline clip-path=\"url(#clip102)\" style=\"stroke:#000000; stroke-linecap:butt; stroke-linejoin:round; stroke-width:2; stroke-opacity:0.1; fill:none\" points=\"\n",
       "  194.422,638.61 2352.76,638.61 \n",
       "  \"/>\n",
       "<polyline clip-path=\"url(#clip102)\" style=\"stroke:#000000; stroke-linecap:butt; stroke-linejoin:round; stroke-width:2; stroke-opacity:0.1; fill:none\" points=\"\n",
       "  194.422,335.206 2352.76,335.206 \n",
       "  \"/>\n",
       "<polyline clip-path=\"url(#clip100)\" style=\"stroke:#000000; stroke-linecap:butt; stroke-linejoin:round; stroke-width:4; stroke-opacity:1; fill:none\" points=\"\n",
       "  194.422,1486.45 194.422,47.2441 \n",
       "  \"/>\n",
       "<polyline clip-path=\"url(#clip100)\" style=\"stroke:#000000; stroke-linecap:butt; stroke-linejoin:round; stroke-width:4; stroke-opacity:1; fill:none\" points=\"\n",
       "  194.422,1245.42 213.32,1245.42 \n",
       "  \"/>\n",
       "<polyline clip-path=\"url(#clip100)\" style=\"stroke:#000000; stroke-linecap:butt; stroke-linejoin:round; stroke-width:4; stroke-opacity:1; fill:none\" points=\"\n",
       "  194.422,942.014 213.32,942.014 \n",
       "  \"/>\n",
       "<polyline clip-path=\"url(#clip100)\" style=\"stroke:#000000; stroke-linecap:butt; stroke-linejoin:round; stroke-width:4; stroke-opacity:1; fill:none\" points=\"\n",
       "  194.422,638.61 213.32,638.61 \n",
       "  \"/>\n",
       "<polyline clip-path=\"url(#clip100)\" style=\"stroke:#000000; stroke-linecap:butt; stroke-linejoin:round; stroke-width:4; stroke-opacity:1; fill:none\" points=\"\n",
       "  194.422,335.206 213.32,335.206 \n",
       "  \"/>\n",
       "<path clip-path=\"url(#clip100)\" d=\"M50.9921 1245.87 L80.6679 1245.87 L80.6679 1249.81 L50.9921 1249.81 L50.9921 1245.87 Z\" fill=\"#000000\" fill-rule=\"evenodd\" fill-opacity=\"1\" /><path clip-path=\"url(#clip100)\" d=\"M100.76 1231.22 Q97.1493 1231.22 95.3206 1234.78 Q93.515 1238.32 93.515 1245.45 Q93.515 1252.56 95.3206 1256.12 Q97.1493 1259.67 100.76 1259.67 Q104.395 1259.67 106.2 1256.12 Q108.029 1252.56 108.029 1245.45 Q108.029 1238.32 106.2 1234.78 Q104.395 1231.22 100.76 1231.22 M100.76 1227.51 Q106.571 1227.51 109.626 1232.12 Q112.705 1236.7 112.705 1245.45 Q112.705 1254.18 109.626 1258.79 Q106.571 1263.37 100.76 1263.37 Q94.9502 1263.37 91.8715 1258.79 Q88.816 1254.18 88.816 1245.45 Q88.816 1236.7 91.8715 1232.12 Q94.9502 1227.51 100.76 1227.51 Z\" fill=\"#000000\" fill-rule=\"evenodd\" fill-opacity=\"1\" /><path clip-path=\"url(#clip100)\" d=\"M120.922 1256.82 L125.807 1256.82 L125.807 1262.7 L120.922 1262.7 L120.922 1256.82 Z\" fill=\"#000000\" fill-rule=\"evenodd\" fill-opacity=\"1\" /><path clip-path=\"url(#clip100)\" d=\"M148.839 1232.21 L137.033 1250.66 L148.839 1250.66 L148.839 1232.21 M147.612 1228.14 L153.492 1228.14 L153.492 1250.66 L158.422 1250.66 L158.422 1254.55 L153.492 1254.55 L153.492 1262.7 L148.839 1262.7 L148.839 1254.55 L133.237 1254.55 L133.237 1250.04 L147.612 1228.14 Z\" fill=\"#000000\" fill-rule=\"evenodd\" fill-opacity=\"1\" /><path clip-path=\"url(#clip100)\" d=\"M53.0754 942.466 L82.7512 942.466 L82.7512 946.401 L53.0754 946.401 L53.0754 942.466 Z\" fill=\"#000000\" fill-rule=\"evenodd\" fill-opacity=\"1\" /><path clip-path=\"url(#clip100)\" d=\"M102.844 927.813 Q99.2326 927.813 97.4039 931.378 Q95.5984 934.92 95.5984 942.049 Q95.5984 949.156 97.4039 952.72 Q99.2326 956.262 102.844 956.262 Q106.478 956.262 108.283 952.72 Q110.112 949.156 110.112 942.049 Q110.112 934.92 108.283 931.378 Q106.478 927.813 102.844 927.813 M102.844 924.109 Q108.654 924.109 111.709 928.716 Q114.788 933.299 114.788 942.049 Q114.788 950.776 111.709 955.382 Q108.654 959.966 102.844 959.966 Q97.0335 959.966 93.9549 955.382 Q90.8993 950.776 90.8993 942.049 Q90.8993 933.299 93.9549 928.716 Q97.0335 924.109 102.844 924.109 Z\" fill=\"#000000\" fill-rule=\"evenodd\" fill-opacity=\"1\" /><path clip-path=\"url(#clip100)\" d=\"M123.006 953.415 L127.89 953.415 L127.89 959.294 L123.006 959.294 L123.006 953.415 Z\" fill=\"#000000\" fill-rule=\"evenodd\" fill-opacity=\"1\" /><path clip-path=\"url(#clip100)\" d=\"M142.103 955.359 L158.422 955.359 L158.422 959.294 L136.478 959.294 L136.478 955.359 Q139.14 952.605 143.723 947.975 Q148.33 943.322 149.51 941.98 Q151.755 939.457 152.635 937.72 Q153.538 935.961 153.538 934.271 Q153.538 931.517 151.593 929.781 Q149.672 928.045 146.57 928.045 Q144.371 928.045 141.918 928.808 Q139.487 929.572 136.709 931.123 L136.709 926.401 Q139.533 925.267 141.987 924.688 Q144.441 924.109 146.478 924.109 Q151.848 924.109 155.042 926.795 Q158.237 929.48 158.237 933.97 Q158.237 936.1 157.427 938.021 Q156.64 939.92 154.533 942.512 Q153.955 943.183 150.853 946.401 Q147.751 949.595 142.103 955.359 Z\" fill=\"#000000\" fill-rule=\"evenodd\" fill-opacity=\"1\" /><path clip-path=\"url(#clip100)\" d=\"M101.246 624.409 Q97.6354 624.409 95.8067 627.974 Q94.0012 631.515 94.0012 638.645 Q94.0012 645.751 95.8067 649.316 Q97.6354 652.858 101.246 652.858 Q104.881 652.858 106.686 649.316 Q108.515 645.751 108.515 638.645 Q108.515 631.515 106.686 627.974 Q104.881 624.409 101.246 624.409 M101.246 620.705 Q107.057 620.705 110.112 625.312 Q113.191 629.895 113.191 638.645 Q113.191 647.372 110.112 651.978 Q107.057 656.562 101.246 656.562 Q95.4363 656.562 92.3576 651.978 Q89.3021 647.372 89.3021 638.645 Q89.3021 629.895 92.3576 625.312 Q95.4363 620.705 101.246 620.705 Z\" fill=\"#000000\" fill-rule=\"evenodd\" fill-opacity=\"1\" /><path clip-path=\"url(#clip100)\" d=\"M121.408 650.011 L126.293 650.011 L126.293 655.89 L121.408 655.89 L121.408 650.011 Z\" fill=\"#000000\" fill-rule=\"evenodd\" fill-opacity=\"1\" /><path clip-path=\"url(#clip100)\" d=\"M146.478 624.409 Q142.867 624.409 141.038 627.974 Q139.232 631.515 139.232 638.645 Q139.232 645.751 141.038 649.316 Q142.867 652.858 146.478 652.858 Q150.112 652.858 151.918 649.316 Q153.746 645.751 153.746 638.645 Q153.746 631.515 151.918 627.974 Q150.112 624.409 146.478 624.409 M146.478 620.705 Q152.288 620.705 155.343 625.312 Q158.422 629.895 158.422 638.645 Q158.422 647.372 155.343 651.978 Q152.288 656.562 146.478 656.562 Q140.668 656.562 137.589 651.978 Q134.533 647.372 134.533 638.645 Q134.533 629.895 137.589 625.312 Q140.668 620.705 146.478 620.705 Z\" fill=\"#000000\" fill-rule=\"evenodd\" fill-opacity=\"1\" /><path clip-path=\"url(#clip100)\" d=\"M102.844 321.005 Q99.2326 321.005 97.4039 324.57 Q95.5984 328.111 95.5984 335.241 Q95.5984 342.347 97.4039 345.912 Q99.2326 349.454 102.844 349.454 Q106.478 349.454 108.283 345.912 Q110.112 342.347 110.112 335.241 Q110.112 328.111 108.283 324.57 Q106.478 321.005 102.844 321.005 M102.844 317.301 Q108.654 317.301 111.709 321.908 Q114.788 326.491 114.788 335.241 Q114.788 343.968 111.709 348.574 Q108.654 353.157 102.844 353.157 Q97.0335 353.157 93.9549 348.574 Q90.8993 343.968 90.8993 335.241 Q90.8993 326.491 93.9549 321.908 Q97.0335 317.301 102.844 317.301 Z\" fill=\"#000000\" fill-rule=\"evenodd\" fill-opacity=\"1\" /><path clip-path=\"url(#clip100)\" d=\"M123.006 346.606 L127.89 346.606 L127.89 352.486 L123.006 352.486 L123.006 346.606 Z\" fill=\"#000000\" fill-rule=\"evenodd\" fill-opacity=\"1\" /><path clip-path=\"url(#clip100)\" d=\"M142.103 348.551 L158.422 348.551 L158.422 352.486 L136.478 352.486 L136.478 348.551 Q139.14 345.796 143.723 341.167 Q148.33 336.514 149.51 335.171 Q151.755 332.648 152.635 330.912 Q153.538 329.153 153.538 327.463 Q153.538 324.708 151.593 322.972 Q149.672 321.236 146.57 321.236 Q144.371 321.236 141.918 322 Q139.487 322.764 136.709 324.315 L136.709 319.593 Q139.533 318.458 141.987 317.88 Q144.441 317.301 146.478 317.301 Q151.848 317.301 155.042 319.986 Q158.237 322.671 158.237 327.162 Q158.237 329.292 157.427 331.213 Q156.64 333.111 154.533 335.704 Q153.955 336.375 150.853 339.593 Q147.751 342.787 142.103 348.551 Z\" fill=\"#000000\" fill-rule=\"evenodd\" fill-opacity=\"1\" /><polyline clip-path=\"url(#clip102)\" style=\"stroke:#009af9; stroke-linecap:butt; stroke-linejoin:round; stroke-width:4; stroke-opacity:1; fill:none\" points=\"\n",
       "  255.507,1313.45 306.411,1193.14 357.315,1083.43 408.219,1002.48 459.123,956.099 510.028,941.199 560.932,949.684 611.836,971.864 662.74,998.92 713.644,1024.29 \n",
       "  764.548,1044.1 815.452,1056.94 866.356,1063.21 917.26,1064.39 968.164,1062.38 1019.07,1058.95 1069.97,1055.47 1120.88,1052.79 1171.78,1051.28 1222.68,1050.93 \n",
       "  1273.59,1051.48 1324.49,1052.6 1375.4,1053.95 1426.3,1055.27 1477.21,1056.37 1528.11,1057.19 1579.01,1057.73 1629.92,1058.03 1680.82,1058.17 1731.73,1058.21 \n",
       "  1782.63,1058.22 1833.53,1058.23 1884.44,1058.27 1935.34,1058.34 1986.25,1058.44 2037.15,1058.55 2088.05,1058.66 2138.96,1058.77 2189.86,1058.87 2240.77,1058.94 \n",
       "  2291.67,1059.01 \n",
       "  \"/>\n",
       "<polyline clip-path=\"url(#clip102)\" style=\"stroke:#e26f46; stroke-linecap:butt; stroke-linejoin:round; stroke-width:4; stroke-opacity:1; fill:none\" points=\"\n",
       "  255.507,87.9763 306.411,223.515 357.315,360.35 408.219,488.928 459.123,602.785 510.028,698.885 560.932,777.153 611.836,839.581 662.74,889.246 713.644,929.462 \n",
       "  764.548,963.18 815.452,992.669 866.356,1019.43 917.26,1044.27 968.164,1067.49 1019.07,1089.09 1069.97,1108.9 1120.88,1126.79 1171.78,1142.68 1222.68,1156.58 \n",
       "  1273.59,1168.62 1324.49,1179.01 1375.4,1187.95 1426.3,1195.69 1477.21,1202.43 1528.11,1208.35 1579.01,1213.6 1629.92,1218.27 1680.82,1222.44 1731.73,1226.17 \n",
       "  1782.63,1229.49 1833.53,1232.44 1884.44,1235.05 1935.34,1237.35 1986.25,1239.38 2037.15,1241.15 2088.05,1242.71 2138.96,1244.09 2189.86,1245.29 2240.77,1246.35 \n",
       "  2291.67,1247.29 \n",
       "  \"/>\n",
       "<polyline clip-path=\"url(#clip102)\" style=\"stroke:#3da44d; stroke-linecap:butt; stroke-linejoin:round; stroke-width:4; stroke-opacity:1; fill:none\" points=\"\n",
       "  255.507,1445.72 306.411,1330.86 357.315,1276.07 408.219,1263.75 459.123,1275.35 510.028,1295.14 560.932,1312.19 611.836,1320.59 662.74,1318.72 713.644,1307.9 \n",
       "  764.548,1291.02 815.452,1271.37 866.356,1251.81 917.26,1234.35 968.164,1220.08 1019.07,1209.22 1069.97,1201.43 1120.88,1196.04 1171.78,1192.28 1222.68,1189.46 \n",
       "  1273.59,1187.06 1324.49,1184.76 1375.4,1182.41 1426.3,1179.98 1477.21,1177.54 1528.11,1175.18 1579.01,1172.98 1629.92,1171.01 1680.82,1169.31 1731.73,1167.86 \n",
       "  1782.63,1166.65 1833.53,1165.64 1884.44,1164.79 1935.34,1164.07 1986.25,1163.44 2037.15,1162.87 2088.05,1162.37 2138.96,1161.91 2189.86,1161.49 2240.77,1161.11 \n",
       "  2291.67,1160.78 \n",
       "  \"/>\n",
       "<polyline clip-path=\"url(#clip102)\" style=\"stroke:#c271d2; stroke-linecap:butt; stroke-linejoin:round; stroke-width:4; stroke-opacity:1; fill:none\" points=\"\n",
       "  255.507,1313.45 306.411,1194.89 357.315,1085.25 408.219,1003.01 459.123,954.717 510.028,938.041 560.932,945.42 611.836,967.386 662.74,995.049 713.644,1021.58 \n",
       "  764.548,1042.77 815.452,1056.88 866.356,1064.1 917.26,1065.81 968.164,1063.92 1019.07,1060.28 1069.97,1056.41 1120.88,1053.28 1171.78,1051.36 1222.68,1050.71 \n",
       "  1273.59,1051.11 1324.49,1052.2 1375.4,1053.62 1426.3,1055.06 1477.21,1056.3 1528.11,1057.25 1579.01,1057.88 1629.92,1058.23 1680.82,1058.39 1731.73,1058.42 \n",
       "  1782.63,1058.4 1833.53,1058.37 1884.44,1058.38 1935.34,1058.43 1986.25,1058.51 2037.15,1058.61 2088.05,1058.73 2138.96,1058.84 2189.86,1058.95 2240.77,1059.03 \n",
       "  2291.67,1059.1 \n",
       "  \"/>\n",
       "<polyline clip-path=\"url(#clip102)\" style=\"stroke:#ac8d18; stroke-linecap:butt; stroke-linejoin:round; stroke-width:4; stroke-opacity:1; fill:none\" points=\"\n",
       "  255.507,87.9763 306.411,223.197 357.315,359.386 408.219,487.622 459.123,601.665 510.028,698.411 560.932,777.564 611.836,840.867 662.74,891.207 713.644,931.798 \n",
       "  764.548,965.589 815.452,994.912 866.356,1021.36 917.26,1045.85 968.164,1068.75 1019.07,1090.09 1069.97,1109.75 1120.88,1127.56 1171.78,1143.42 1222.68,1157.32 \n",
       "  1273.59,1169.36 1324.49,1179.71 1375.4,1188.6 1426.3,1196.25 1477.21,1202.88 1528.11,1208.69 1579.01,1213.82 1629.92,1218.38 1680.82,1222.45 1731.73,1226.09 \n",
       "  1782.63,1229.34 1833.53,1232.23 1884.44,1234.79 1935.34,1237.05 1986.25,1239.04 2037.15,1240.77 2088.05,1242.3 2138.96,1243.63 2189.86,1244.8 2240.77,1245.83 \n",
       "  2291.67,1246.74 \n",
       "  \"/>\n",
       "<polyline clip-path=\"url(#clip102)\" style=\"stroke:#00a9ad; stroke-linecap:butt; stroke-linejoin:round; stroke-width:4; stroke-opacity:1; fill:none\" points=\"\n",
       "  255.507,1445.72 306.411,1330.1 357.315,1273.79 408.219,1260.16 459.123,1271.21 510.028,1291.37 560.932,1309.48 611.836,1319.27 662.74,1318.73 713.644,1308.88 \n",
       "  764.548,1292.49 815.452,1272.83 866.356,1252.9 917.26,1234.88 968.164,1220 1019.07,1208.64 1069.97,1200.52 1120.88,1195.01 1171.78,1191.3 1222.68,1188.66 \n",
       "  1273.59,1186.51 1324.49,1184.46 1375.4,1182.32 1426.3,1180.05 1477.21,1177.71 1528.11,1175.39 1579.01,1173.19 1629.92,1171.2 1680.82,1169.47 1731.73,1168 \n",
       "  1782.63,1166.78 1833.53,1165.78 1884.44,1164.95 1935.34,1164.26 1986.25,1163.66 2037.15,1163.13 2088.05,1162.65 2138.96,1162.21 2189.86,1161.81 2240.77,1161.45 \n",
       "  2291.67,1161.12 \n",
       "  \"/>\n",
       "<path clip-path=\"url(#clip100)\" d=\"\n",
       "M1986.85 458.098 L2280.81 458.098 L2280.81 95.2176 L1986.85 95.2176  Z\n",
       "  \" fill=\"#ffffff\" fill-rule=\"evenodd\" fill-opacity=\"1\"/>\n",
       "<polyline clip-path=\"url(#clip100)\" style=\"stroke:#000000; stroke-linecap:butt; stroke-linejoin:round; stroke-width:4; stroke-opacity:1; fill:none\" points=\"\n",
       "  1986.85,458.098 2280.81,458.098 2280.81,95.2176 1986.85,95.2176 1986.85,458.098 \n",
       "  \"/>\n",
       "<polyline clip-path=\"url(#clip100)\" style=\"stroke:#009af9; stroke-linecap:butt; stroke-linejoin:round; stroke-width:4; stroke-opacity:1; fill:none\" points=\"\n",
       "  2010.83,147.058 2154.72,147.058 \n",
       "  \"/>\n",
       "<path clip-path=\"url(#clip100)\" d=\"M2192.55 166.745 Q2190.74 171.375 2189.03 172.787 Q2187.32 174.199 2184.45 174.199 L2181.04 174.199 L2181.04 170.634 L2183.54 170.634 Q2185.3 170.634 2186.27 169.8 Q2187.25 168.967 2188.43 165.865 L2189.19 163.921 L2178.71 138.412 L2183.22 138.412 L2191.32 158.689 L2199.42 138.412 L2203.94 138.412 L2192.55 166.745 Z\" fill=\"#000000\" fill-rule=\"evenodd\" fill-opacity=\"1\" /><path clip-path=\"url(#clip100)\" d=\"M2211.23 160.402 L2218.87 160.402 L2218.87 134.037 L2210.56 135.703 L2210.56 131.444 L2218.82 129.778 L2223.5 129.778 L2223.5 160.402 L2231.14 160.402 L2231.14 164.338 L2211.23 164.338 L2211.23 160.402 Z\" fill=\"#000000\" fill-rule=\"evenodd\" fill-opacity=\"1\" /><polyline clip-path=\"url(#clip100)\" style=\"stroke:#e26f46; stroke-linecap:butt; stroke-linejoin:round; stroke-width:4; stroke-opacity:1; fill:none\" points=\"\n",
       "  2010.83,198.898 2154.72,198.898 \n",
       "  \"/>\n",
       "<path clip-path=\"url(#clip100)\" d=\"M2192.55 218.585 Q2190.74 223.215 2189.03 224.627 Q2187.32 226.039 2184.45 226.039 L2181.04 226.039 L2181.04 222.474 L2183.54 222.474 Q2185.3 222.474 2186.27 221.64 Q2187.25 220.807 2188.43 217.705 L2189.19 215.761 L2178.71 190.252 L2183.22 190.252 L2191.32 210.529 L2199.42 190.252 L2203.94 190.252 L2192.55 218.585 Z\" fill=\"#000000\" fill-rule=\"evenodd\" fill-opacity=\"1\" /><path clip-path=\"url(#clip100)\" d=\"M2214.45 212.242 L2230.77 212.242 L2230.77 216.178 L2208.82 216.178 L2208.82 212.242 Q2211.48 209.488 2216.07 204.858 Q2220.67 200.205 2221.85 198.863 Q2224.1 196.34 2224.98 194.604 Q2225.88 192.844 2225.88 191.155 Q2225.88 188.4 2223.94 186.664 Q2222.02 184.928 2218.91 184.928 Q2216.71 184.928 2214.26 185.692 Q2211.83 186.455 2209.05 188.006 L2209.05 183.284 Q2211.88 182.15 2214.33 181.571 Q2216.78 180.993 2218.82 180.993 Q2224.19 180.993 2227.39 183.678 Q2230.58 186.363 2230.58 190.854 Q2230.58 192.983 2229.77 194.905 Q2228.98 196.803 2226.88 199.395 Q2226.3 200.067 2223.2 203.284 Q2220.09 206.479 2214.45 212.242 Z\" fill=\"#000000\" fill-rule=\"evenodd\" fill-opacity=\"1\" /><polyline clip-path=\"url(#clip100)\" style=\"stroke:#3da44d; stroke-linecap:butt; stroke-linejoin:round; stroke-width:4; stroke-opacity:1; fill:none\" points=\"\n",
       "  2010.83,250.738 2154.72,250.738 \n",
       "  \"/>\n",
       "<path clip-path=\"url(#clip100)\" d=\"M2192.55 270.425 Q2190.74 275.055 2189.03 276.467 Q2187.32 277.879 2184.45 277.879 L2181.04 277.879 L2181.04 274.314 L2183.54 274.314 Q2185.3 274.314 2186.27 273.48 Q2187.25 272.647 2188.43 269.545 L2189.19 267.601 L2178.71 242.092 L2183.22 242.092 L2191.32 262.369 L2199.42 242.092 L2203.94 242.092 L2192.55 270.425 Z\" fill=\"#000000\" fill-rule=\"evenodd\" fill-opacity=\"1\" /><path clip-path=\"url(#clip100)\" d=\"M2224.58 249.383 Q2227.94 250.101 2229.82 252.369 Q2231.71 254.638 2231.71 257.971 Q2231.71 263.087 2228.2 265.888 Q2224.68 268.689 2218.2 268.689 Q2216.02 268.689 2213.71 268.249 Q2211.41 267.832 2208.96 266.976 L2208.96 262.462 Q2210.9 263.596 2213.22 264.175 Q2215.53 264.754 2218.06 264.754 Q2222.46 264.754 2224.75 263.018 Q2227.06 261.281 2227.06 257.971 Q2227.06 254.916 2224.91 253.203 Q2222.78 251.467 2218.96 251.467 L2214.93 251.467 L2214.93 247.624 L2219.14 247.624 Q2222.59 247.624 2224.42 246.258 Q2226.25 244.87 2226.25 242.277 Q2226.25 239.615 2224.35 238.203 Q2222.48 236.768 2218.96 236.768 Q2217.04 236.768 2214.84 237.184 Q2212.64 237.601 2210 238.481 L2210 234.314 Q2212.66 233.573 2214.98 233.203 Q2217.32 232.833 2219.38 232.833 Q2224.7 232.833 2227.8 235.263 Q2230.9 237.67 2230.9 241.791 Q2230.9 244.661 2229.26 246.652 Q2227.62 248.62 2224.58 249.383 Z\" fill=\"#000000\" fill-rule=\"evenodd\" fill-opacity=\"1\" /><polyline clip-path=\"url(#clip100)\" style=\"stroke:#c271d2; stroke-linecap:butt; stroke-linejoin:round; stroke-width:4; stroke-opacity:1; fill:none\" points=\"\n",
       "  2010.83,302.578 2154.72,302.578 \n",
       "  \"/>\n",
       "<path clip-path=\"url(#clip100)\" d=\"M2192.55 322.265 Q2190.74 326.895 2189.03 328.307 Q2187.32 329.719 2184.45 329.719 L2181.04 329.719 L2181.04 326.154 L2183.54 326.154 Q2185.3 326.154 2186.27 325.32 Q2187.25 324.487 2188.43 321.385 L2189.19 319.441 L2178.71 293.932 L2183.22 293.932 L2191.32 314.209 L2199.42 293.932 L2203.94 293.932 L2192.55 322.265 Z\" fill=\"#000000\" fill-rule=\"evenodd\" fill-opacity=\"1\" /><path clip-path=\"url(#clip100)\" d=\"M2223.27 289.372 L2211.46 307.821 L2223.27 307.821 L2223.27 289.372 M2222.04 285.298 L2227.92 285.298 L2227.92 307.821 L2232.85 307.821 L2232.85 311.709 L2227.92 311.709 L2227.92 319.858 L2223.27 319.858 L2223.27 311.709 L2207.66 311.709 L2207.66 307.196 L2222.04 285.298 Z\" fill=\"#000000\" fill-rule=\"evenodd\" fill-opacity=\"1\" /><polyline clip-path=\"url(#clip100)\" style=\"stroke:#ac8d18; stroke-linecap:butt; stroke-linejoin:round; stroke-width:4; stroke-opacity:1; fill:none\" points=\"\n",
       "  2010.83,354.418 2154.72,354.418 \n",
       "  \"/>\n",
       "<path clip-path=\"url(#clip100)\" d=\"M2192.55 374.105 Q2190.74 378.735 2189.03 380.147 Q2187.32 381.559 2184.45 381.559 L2181.04 381.559 L2181.04 377.994 L2183.54 377.994 Q2185.3 377.994 2186.27 377.16 Q2187.25 376.327 2188.43 373.225 L2189.19 371.281 L2178.71 345.772 L2183.22 345.772 L2191.32 366.049 L2199.42 345.772 L2203.94 345.772 L2192.55 374.105 Z\" fill=\"#000000\" fill-rule=\"evenodd\" fill-opacity=\"1\" /><path clip-path=\"url(#clip100)\" d=\"M2210.46 337.138 L2228.82 337.138 L2228.82 341.073 L2214.75 341.073 L2214.75 349.545 Q2215.77 349.198 2216.78 349.036 Q2217.8 348.85 2218.82 348.85 Q2224.61 348.85 2227.99 352.022 Q2231.37 355.193 2231.37 360.61 Q2231.37 366.188 2227.89 369.29 Q2224.42 372.369 2218.1 372.369 Q2215.93 372.369 2213.66 371.998 Q2211.41 371.628 2209.01 370.887 L2209.01 366.188 Q2211.09 367.323 2213.31 367.878 Q2215.53 368.434 2218.01 368.434 Q2222.02 368.434 2224.35 366.327 Q2226.69 364.221 2226.69 360.61 Q2226.69 356.999 2224.35 354.892 Q2222.02 352.786 2218.01 352.786 Q2216.14 352.786 2214.26 353.202 Q2212.41 353.619 2210.46 354.499 L2210.46 337.138 Z\" fill=\"#000000\" fill-rule=\"evenodd\" fill-opacity=\"1\" /><polyline clip-path=\"url(#clip100)\" style=\"stroke:#00a9ad; stroke-linecap:butt; stroke-linejoin:round; stroke-width:4; stroke-opacity:1; fill:none\" points=\"\n",
       "  2010.83,406.258 2154.72,406.258 \n",
       "  \"/>\n",
       "<path clip-path=\"url(#clip100)\" d=\"M2192.55 425.945 Q2190.74 430.575 2189.03 431.987 Q2187.32 433.399 2184.45 433.399 L2181.04 433.399 L2181.04 429.834 L2183.54 429.834 Q2185.3 429.834 2186.27 429 Q2187.25 428.167 2188.43 425.065 L2189.19 423.121 L2178.71 397.612 L2183.22 397.612 L2191.32 417.889 L2199.42 397.612 L2203.94 397.612 L2192.55 425.945 Z\" fill=\"#000000\" fill-rule=\"evenodd\" fill-opacity=\"1\" /><path clip-path=\"url(#clip100)\" d=\"M2221 404.394 Q2217.85 404.394 2216 406.547 Q2214.17 408.7 2214.17 412.45 Q2214.17 416.176 2216 418.352 Q2217.85 420.505 2221 420.505 Q2224.14 420.505 2225.97 418.352 Q2227.83 416.176 2227.83 412.45 Q2227.83 408.7 2225.97 406.547 Q2224.14 404.394 2221 404.394 M2230.28 389.741 L2230.28 394.001 Q2228.52 393.167 2226.71 392.728 Q2224.93 392.288 2223.17 392.288 Q2218.54 392.288 2216.09 395.413 Q2213.66 398.538 2213.31 404.857 Q2214.68 402.843 2216.74 401.778 Q2218.8 400.69 2221.27 400.69 Q2226.48 400.69 2229.49 403.862 Q2232.52 407.01 2232.52 412.45 Q2232.52 417.774 2229.38 420.991 Q2226.23 424.209 2221 424.209 Q2215 424.209 2211.83 419.626 Q2208.66 415.019 2208.66 406.292 Q2208.66 398.098 2212.55 393.237 Q2216.44 388.353 2222.99 388.353 Q2224.75 388.353 2226.53 388.7 Q2228.33 389.047 2230.28 389.741 Z\" fill=\"#000000\" fill-rule=\"evenodd\" fill-opacity=\"1\" /></svg>\n"
      ]
     },
     "execution_count": 22,
     "metadata": {},
     "output_type": "execute_result"
    }
   ],
   "source": [
    "plot(bv_sid')\n",
    "plot!(bv')"
   ]
  },
  {
   "cell_type": "markdown",
   "id": "891b353a",
   "metadata": {},
   "source": [
    "To generate set of random seeds we will then use"
   ]
  },
  {
   "cell_type": "code",
   "execution_count": 23,
   "id": "7434b12f",
   "metadata": {},
   "outputs": [],
   "source": [
    "seeds = rand(UInt, 100000)\n",
    "@assert allunique(seeds)"
   ]
  },
  {
   "cell_type": "markdown",
   "id": "6053af86",
   "metadata": {},
   "source": [
    "Lets use fidelity function from QuantumOptics.jl package to evaluate similarity of the exact and recovered evolutions\n",
    "https://docs.qojulia.org/api/#QuantumOpticsBase.fidelity"
   ]
  },
  {
   "cell_type": "markdown",
   "id": "708b13dc",
   "metadata": {},
   "source": [
    "\\begin{align}\n",
    "    F_{\\min} & = \\min_{i = 0, \\ldots, N} F\\left(\\rho^{\\rm exact}_{(i)}, \\rho^{\\rm sid}_{(i)} \\right), \\label{eq:fmin} \\\\\n",
    "    F\\left(\\rho^{\\rm exact}_{(i)}, \\rho^{\\rm sid}_{(i)} \\right) & = \\operatorname{Tr} \\sqrt{ \\sqrt{\\rho^{\\rm exact}_{(i)}} \\rho^{\\rm sid}_{(i)} \\sqrt{\\rho^{\\rm exact}_{(i)}}}.\n",
    "\\end{align}"
   ]
  },
  {
   "cell_type": "code",
   "execution_count": 29,
   "id": "89c6e06d",
   "metadata": {},
   "outputs": [
    {
     "data": {
      "text/plain": [
       "0.9999999999999996"
      ]
     },
     "execution_count": 29,
     "metadata": {},
     "output_type": "execute_result"
    }
   ],
   "source": [
    "abs(fidelity(ρ_exact[1], ρ_sid_ser[1]))"
   ]
  },
  {
   "cell_type": "code",
   "execution_count": 30,
   "id": "9c60aecd",
   "metadata": {},
   "outputs": [
    {
     "data": {
      "text/plain": [
       "0.999998308682337"
      ]
     },
     "execution_count": 30,
     "metadata": {},
     "output_type": "execute_result"
    }
   ],
   "source": [
    "minimum([abs(fidelity(ρ_exact[i], ρ_sid_ser[i])) for i in 1:length(ρ_exact)])"
   ]
  },
  {
   "cell_type": "code",
   "execution_count": 31,
   "id": "473f8ce4",
   "metadata": {},
   "outputs": [
    {
     "data": {
      "text/plain": [
       "0.9999999999999996"
      ]
     },
     "execution_count": 31,
     "metadata": {},
     "output_type": "execute_result"
    }
   ],
   "source": [
    "maximum([abs(fidelity(ρ_exact[i], ρ_sid_ser[i])) for i in 1:length(ρ_exact)])"
   ]
  },
  {
   "cell_type": "code",
   "execution_count": null,
   "id": "b2f0abfa",
   "metadata": {},
   "outputs": [],
   "source": []
  }
 ],
 "metadata": {
  "kernelspec": {
   "display_name": "Julia 1.7.2",
   "language": "julia",
   "name": "julia-1.7"
  },
  "language_info": {
   "file_extension": ".jl",
   "mimetype": "application/julia",
   "name": "julia",
   "version": "1.7.2"
  }
 },
 "nbformat": 4,
 "nbformat_minor": 5
}
