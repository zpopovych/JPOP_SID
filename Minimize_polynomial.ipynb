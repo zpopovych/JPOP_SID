{
 "cells": [
  {
   "cell_type": "markdown",
   "id": "7bcd9405",
   "metadata": {},
   "source": [
    "### Minimization of polynomial objective"
   ]
  },
  {
   "cell_type": "code",
   "execution_count": 1,
   "id": "d7b41351",
   "metadata": {},
   "outputs": [],
   "source": [
    "using Symbolics\n",
    "using LinearAlgebra\n",
    "using DynamicPolynomials"
   ]
  },
  {
   "cell_type": "code",
   "execution_count": 12,
   "id": "cce6056d",
   "metadata": {},
   "outputs": [
    {
     "data": {
      "text/plain": [
       "1"
      ]
     },
     "execution_count": 12,
     "metadata": {},
     "output_type": "execute_result"
    }
   ],
   "source": [
    "Threads.nthreads()"
   ]
  },
  {
   "cell_type": "code",
   "execution_count": 11,
   "id": "405fa4eb",
   "metadata": {},
   "outputs": [],
   "source": [
    "import Ipopt"
   ]
  },
  {
   "cell_type": "markdown",
   "id": "f5b402be",
   "metadata": {},
   "source": [
    "Declare functions to constract Pade objective"
   ]
  },
  {
   "cell_type": "code",
   "execution_count": 3,
   "id": "17383908",
   "metadata": {},
   "outputs": [
    {
     "data": {
      "text/plain": [
       "pade_obj (generic function with 1 method)"
      ]
     },
     "execution_count": 3,
     "metadata": {},
     "output_type": "execute_result"
    }
   ],
   "source": [
    "function frobenius_norm2(m)\n",
    "    return tr(m * m')\n",
    "end\n",
    "\n",
    "function lindblad_rhs(rho, H, A)\n",
    "    \"\"\"\n",
    "    Right hand side of the Lindblad master equation\n",
    "    \"\"\"\n",
    "    return -1im * (H * rho - rho * H) + A * rho * A' - (A' * A  * rho + rho * A' * A) / 2\n",
    "    \n",
    "end\n",
    "\n",
    "function pade_obj(ρ, t, H, A)\n",
    "    \n",
    "    obj = 0\n",
    "    for i in 2:size(ρ,3)\n",
    "        obj += frobenius_norm2(\n",
    "            ρ[:, :, i] - ρ[:, :, 1] \n",
    "            - (t[i]-t[i-1])*lindblad_rhs((ρ[:, :, i]+ρ[:, :, i-1])/2, H, A)\n",
    "        )\n",
    "    end\n",
    "    obj = sum(real(coef) * mon for (coef, mon) in zip(coefficients(obj), monomials(obj)))\n",
    "    return obj\n",
    "end"
   ]
  },
  {
   "cell_type": "markdown",
   "id": "1d58a3f7",
   "metadata": {},
   "source": [
    "Construct sample objective"
   ]
  },
  {
   "cell_type": "code",
   "execution_count": 8,
   "id": "99c5a8e6",
   "metadata": {},
   "outputs": [],
   "source": [
    "@polyvar x[1:4]\n",
    "H = [ 1.0 * x[1]              x[3] + im * x[4]\n",
    "      x[3] - im * x[4]        x[2]             ]\n",
    "\n",
    "@polyvar a[1:2, 1:2]\n",
    "@polyvar b[1:2, 1:2]\n",
    "A = 1.0 * a + im * b\n",
    "\n",
    "ρ1 = [.5 -im\n",
    "     +im  .5]\n",
    "ρ2 = [.6 0\n",
    "     0  .4]\n",
    "ρ3 = [.7 0\n",
    "     0  .3]\n",
    "ρ4 = [.9 0\n",
    "     0  .1]\n",
    "\n",
    "ρ = [ρ1;;; ρ2;;; ρ3;;; ρ4]\n",
    "t = [0.0, 0.1, 0.2, 0.3]\n",
    "\n",
    "obj = pade_obj(ρ, t, H, A);"
   ]
  },
  {
   "cell_type": "markdown",
   "id": "e368939d",
   "metadata": {},
   "source": [
    "Use Optim.jl package to perfrom optimixation"
   ]
  },
  {
   "cell_type": "code",
   "execution_count": 10,
   "id": "6e13fde4",
   "metadata": {},
   "outputs": [
    {
     "ename": "LoadError",
     "evalue": "MethodError: no method matching real(::Polynomial{true, Int64})\n\u001b[0mClosest candidates are:\n\u001b[0m  real(\u001b[91m::Diagonal\u001b[39m) at C:\\Users\\Zakhar\\AppData\\Local\\Programs\\Julia-1.7.2\\share\\julia\\stdlib\\v1.7\\LinearAlgebra\\src\\diagonal.jl:139\n\u001b[0m  real(\u001b[91m::UnitUpperTriangular{var\"#s858\", S} where {var\"#s858\"<:Real, S<:AbstractMatrix{var\"#s858\"}}\u001b[39m) at C:\\Users\\Zakhar\\AppData\\Local\\Programs\\Julia-1.7.2\\share\\julia\\stdlib\\v1.7\\LinearAlgebra\\src\\triangular.jl:48\n\u001b[0m  real(\u001b[91m::UnitUpperTriangular{var\"#s857\", S} where {var\"#s857\"<:Complex, S<:AbstractMatrix{var\"#s857\"}}\u001b[39m) at C:\\Users\\Zakhar\\AppData\\Local\\Programs\\Julia-1.7.2\\share\\julia\\stdlib\\v1.7\\LinearAlgebra\\src\\triangular.jl:49\n\u001b[0m  ...",
     "output_type": "error",
     "traceback": [
      "MethodError: no method matching real(::Polynomial{true, Int64})\n\u001b[0mClosest candidates are:\n\u001b[0m  real(\u001b[91m::Diagonal\u001b[39m) at C:\\Users\\Zakhar\\AppData\\Local\\Programs\\Julia-1.7.2\\share\\julia\\stdlib\\v1.7\\LinearAlgebra\\src\\diagonal.jl:139\n\u001b[0m  real(\u001b[91m::UnitUpperTriangular{var\"#s858\", S} where {var\"#s858\"<:Real, S<:AbstractMatrix{var\"#s858\"}}\u001b[39m) at C:\\Users\\Zakhar\\AppData\\Local\\Programs\\Julia-1.7.2\\share\\julia\\stdlib\\v1.7\\LinearAlgebra\\src\\triangular.jl:48\n\u001b[0m  real(\u001b[91m::UnitUpperTriangular{var\"#s857\", S} where {var\"#s857\"<:Complex, S<:AbstractMatrix{var\"#s857\"}}\u001b[39m) at C:\\Users\\Zakhar\\AppData\\Local\\Programs\\Julia-1.7.2\\share\\julia\\stdlib\\v1.7\\LinearAlgebra\\src\\triangular.jl:49\n\u001b[0m  ...",
      "",
      "Stacktrace:",
      " [1] promote_objtype(method::NelderMead{Optim.AffineSimplexer, Optim.AdaptiveParameters}, x::Vector{PolyVar{true}}, autodiff::Symbol, inplace::Bool, args::Function)",
      "   @ Optim C:\\Users\\Zakhar\\.julia\\packages\\Optim\\6Lpjy\\src\\multivariate\\optimize\\interface.jl:63",
      " [2] optimize(f::Function, initial_x::Vector{PolyVar{true}}; inplace::Bool, autodiff::Symbol, kwargs::Base.Pairs{Symbol, Union{}, Tuple{}, NamedTuple{(), Tuple{}}})",
      "   @ Optim C:\\Users\\Zakhar\\.julia\\packages\\Optim\\6Lpjy\\src\\multivariate\\optimize\\interface.jl:86",
      " [3] optimize(f::Function, initial_x::Vector{PolyVar{true}})",
      "   @ Optim C:\\Users\\Zakhar\\.julia\\packages\\Optim\\6Lpjy\\src\\multivariate\\optimize\\interface.jl:84",
      " [4] top-level scope",
      "   @ In[10]:1",
      " [5] eval",
      "   @ .\\boot.jl:373 [inlined]",
      " [6] include_string(mapexpr::typeof(REPL.softscope), mod::Module, code::String, filename::String)",
      "   @ Base .\\loading.jl:1196"
     ]
    }
   ],
   "source": [
    "res = Optim.optimize(pade_obj, variables(obj))"
   ]
  },
  {
   "cell_type": "code",
   "execution_count": 6,
   "id": "64393dc8",
   "metadata": {},
   "outputs": [
    {
     "ename": "LoadError",
     "evalue": "UndefVarError: res not defined",
     "output_type": "error",
     "traceback": [
      "UndefVarError: res not defined",
      "",
      "Stacktrace:",
      " [1] top-level scope",
      "   @ In[6]:1",
      " [2] eval",
      "   @ .\\boot.jl:373 [inlined]",
      " [3] include_string(mapexpr::typeof(REPL.softscope), mod::Module, code::String, filename::String)",
      "   @ Base .\\loading.jl:1196"
     ]
    }
   ],
   "source": [
    "Optim.minimizer(res)"
   ]
  },
  {
   "cell_type": "code",
   "execution_count": 7,
   "id": "3bf0b721",
   "metadata": {},
   "outputs": [
    {
     "ename": "LoadError",
     "evalue": "UndefVarError: res not defined",
     "output_type": "error",
     "traceback": [
      "UndefVarError: res not defined",
      "",
      "Stacktrace:",
      " [1] top-level scope",
      "   @ In[7]:1",
      " [2] eval",
      "   @ .\\boot.jl:373 [inlined]",
      " [3] include_string(mapexpr::typeof(REPL.softscope), mod::Module, code::String, filename::String)",
      "   @ Base .\\loading.jl:1196"
     ]
    }
   ],
   "source": [
    "Optim.minimum(res)(res)"
   ]
  },
  {
   "cell_type": "code",
   "execution_count": null,
   "id": "7e995cb7",
   "metadata": {},
   "outputs": [],
   "source": []
  }
 ],
 "metadata": {
  "kernelspec": {
   "display_name": "Julia 1.7.2",
   "language": "julia",
   "name": "julia-1.7"
  },
  "language_info": {
   "file_extension": ".jl",
   "mimetype": "application/julia",
   "name": "julia",
   "version": "1.7.2"
  }
 },
 "nbformat": 4,
 "nbformat_minor": 5
}
