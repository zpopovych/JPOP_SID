{
 "cells": [
  {
   "cell_type": "markdown",
   "id": "3bb72e5d",
   "metadata": {},
   "source": [
    "# Fidelity "
   ]
  },
  {
   "cell_type": "markdown",
   "id": "0c4e9cf1",
   "metadata": {},
   "source": [
    "Lets use fidelity function from QuantumOptics.jl package to evaluate similarity of the exact and recovered evolutions\n",
    "https://docs.qojulia.org/api/#QuantumOpticsBase.fidelity"
   ]
  },
  {
   "cell_type": "markdown",
   "id": "be4dc59e",
   "metadata": {},
   "source": [
    "\\begin{align}\n",
    "    F_{\\min} & = \\min_{i = 0, \\ldots, N} F\\left(\\rho^{\\rm exact}_{(i)}, \\rho^{\\rm sid}_{(i)} \\right), \\label{eq:fmin} \\\\\n",
    "    F\\left(\\rho^{\\rm exact}_{(i)}, \\rho^{\\rm sid}_{(i)} \\right) & = \\operatorname{Tr} \\sqrt{ \\sqrt{\\rho^{\\rm exact}_{(i)}} \\rho^{\\rm sid}_{(i)} \\sqrt{\\rho^{\\rm exact}_{(i)}}}.\n",
    "\\end{align}"
   ]
  },
  {
   "cell_type": "code",
   "execution_count": 1,
   "id": "ebe609e6",
   "metadata": {},
   "outputs": [
    {
     "name": "stderr",
     "output_type": "stream",
     "text": [
      "\n",
      "(process:25868): GLib-GIO-WARNING **: 11:16:28.469: Unexpectedly, UWP app `Microsoft.MSPaint_6.2203.1037.0_x64__8wekyb3d8bbwe' (AUMId `Microsoft.MSPaint_8wekyb3d8bbwe!Microsoft.MSPaint') supports 17 extensions but has no verbs\n"
     ]
    }
   ],
   "source": [
    "using Random\n",
    "using QuantumOptics\n",
    "using LinearAlgebra\n",
    "using Plots"
   ]
  },
  {
   "cell_type": "code",
   "execution_count": 2,
   "id": "cb71cfff",
   "metadata": {},
   "outputs": [
    {
     "data": {
      "text/plain": [
       "rand_Linblad_w_noise (generic function with 1 method)"
      ]
     },
     "execution_count": 2,
     "metadata": {},
     "output_type": "execute_result"
    }
   ],
   "source": [
    "basis = NLevelBasis(2) # define 2-level basis\n",
    "\n",
    "tₘₐₓ = 2.0 # maximum time \n",
    "Δt = 0.05     # time step\n",
    "time_span = [0:Δt:tₘₐₓ;] # time span\n",
    "\n",
    "function rand_Linblad_w_noise(seed, w, t_list) # put t list here!!!!\n",
    "    # seed - to generate reproducable system,\n",
    "    # w - noise level\n",
    "    # t_list - time span\n",
    "    \n",
    "    Random.seed!(seed)    \n",
    "    \n",
    "    ρ₀ = DenseOperator(basis, rand_dm(2))  # initial state density matrix\n",
    "    H = DenseOperator(basis, rand_herm(2)) # Hamiltonian of the system\n",
    "    J = DenseOperator(basis, (-1 .+ 2 *randn(2, 2)) + im*(-1 .+ 2 *randn(2, 2))) # Lindblad decipator  was rand !!!!!!\n",
    "    \n",
    "    time, ρ_exact = timeevolution.master(t_list, ρ₀, H, [J])\n",
    "\n",
    "    ρ = [ (1 - w) * ρₜ.data + w * rand_dm(2) for ρₜ in ρ_exact ];\n",
    "    \n",
    "    return bloch(ρ), ρ_exact  \n",
    "end"
   ]
  },
  {
   "cell_type": "code",
   "execution_count": 3,
   "id": "77849967",
   "metadata": {},
   "outputs": [
    {
     "ename": "LoadError",
     "evalue": "UndefVarError: rand_dm not defined",
     "output_type": "error",
     "traceback": [
      "UndefVarError: rand_dm not defined",
      "",
      "Stacktrace:",
      " [1] rand_Linblad_w_noise(seed::Int64, w::Float64, t_list::Vector{Float64})",
      "   @ Main .\\In[2]:14",
      " [2] top-level scope",
      "   @ In[3]:1",
      " [3] eval",
      "   @ .\\boot.jl:373 [inlined]",
      " [4] include_string(mapexpr::typeof(REPL.softscope), mod::Module, code::String, filename::String)",
      "   @ Base .\\loading.jl:1196"
     ]
    }
   ],
   "source": [
    "bv, ρ_exact = rand_Linblad_w_noise(1000, 0.0, time_span) \n",
    "plot(bv')"
   ]
  },
  {
   "cell_type": "code",
   "execution_count": 4,
   "id": "37ecc4cb",
   "metadata": {},
   "outputs": [
    {
     "ename": "LoadError",
     "evalue": "UndefVarError: ρ_exact not defined",
     "output_type": "error",
     "traceback": [
      "UndefVarError: ρ_exact not defined",
      "",
      "Stacktrace:",
      " [1] top-level scope",
      "   @ In[4]:1",
      " [2] eval",
      "   @ .\\boot.jl:373 [inlined]",
      " [3] include_string(mapexpr::typeof(REPL.softscope), mod::Module, code::String, filename::String)",
      "   @ Base .\\loading.jl:1196"
     ]
    }
   ],
   "source": [
    "abs(fidelity(ρ_exact[1], ρ_exact[1]))"
   ]
  },
  {
   "cell_type": "code",
   "execution_count": 5,
   "id": "4cc0df38",
   "metadata": {},
   "outputs": [
    {
     "ename": "LoadError",
     "evalue": "UndefVarError: ρ_exact not defined",
     "output_type": "error",
     "traceback": [
      "UndefVarError: ρ_exact not defined",
      "",
      "Stacktrace:",
      " [1] top-level scope",
      "   @ In[5]:1",
      " [2] eval",
      "   @ .\\boot.jl:373 [inlined]",
      " [3] include_string(mapexpr::typeof(REPL.softscope), mod::Module, code::String, filename::String)",
      "   @ Base .\\loading.jl:1196"
     ]
    }
   ],
   "source": [
    "maximum([abs(fidelity(ρ_exact[i], ρ_exact[i-1])) for i in 1:length(ρ_exact)-1])"
   ]
  }
 ],
 "metadata": {
  "kernelspec": {
   "display_name": "Julia 1.7.2",
   "language": "julia",
   "name": "julia-1.7"
  },
  "language_info": {
   "file_extension": ".jl",
   "mimetype": "application/julia",
   "name": "julia",
   "version": "1.7.2"
  }
 },
 "nbformat": 4,
 "nbformat_minor": 5
}
