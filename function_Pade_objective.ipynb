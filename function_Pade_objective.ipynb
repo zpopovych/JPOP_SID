{
 "cells": [
  {
   "cell_type": "markdown",
   "id": "69f85511",
   "metadata": {},
   "source": [
    "### Pade objective builder function"
   ]
  },
  {
   "cell_type": "code",
   "execution_count": 1,
   "id": "13140201",
   "metadata": {},
   "outputs": [],
   "source": [
    "using Symbolics\n",
    "using LinearAlgebra\n",
    "using DynamicPolynomials"
   ]
  },
  {
   "cell_type": "code",
   "execution_count": 2,
   "id": "147208aa",
   "metadata": {},
   "outputs": [
    {
     "data": {
      "text/plain": [
       "frobenius_norm2 (generic function with 1 method)"
      ]
     },
     "execution_count": 2,
     "metadata": {},
     "output_type": "execute_result"
    }
   ],
   "source": [
    "function frobenius_norm2(m)\n",
    "    return tr(m * m')\n",
    "end"
   ]
  },
  {
   "cell_type": "markdown",
   "id": "1b551227",
   "metadata": {},
   "source": [
    "Lindblad master equation is given by\n",
    "\\begin{align}\\label{eq:L1}\n",
    "    \\frac{d}{dt}{\\rho}(t) = \\mathcal{L}\\rho(t),\n",
    "\\end{align}"
   ]
  },
  {
   "cell_type": "markdown",
   "id": "06b0d060",
   "metadata": {},
   "source": [
    "where Lindbladian right hand side operator is given as\n",
    "\\begin{align}\\label{eq:L2}\n",
    "    \\mathcal{L} [\\rho] = \\frac{i}{\\hbar}[H, \\rho]+\\sum_{j=1}^{\\ell}\\left[2 A_j \\rho A_j^\\dagger - \\left\\{ A_j^\\dagger A_j, \\rho \\right\\} \\right],\n",
    "\\end{align}"
   ]
  },
  {
   "cell_type": "code",
   "execution_count": 3,
   "id": "d4c389e1",
   "metadata": {},
   "outputs": [
    {
     "data": {
      "text/plain": [
       "lindblad_rhs (generic function with 1 method)"
      ]
     },
     "execution_count": 3,
     "metadata": {},
     "output_type": "execute_result"
    }
   ],
   "source": [
    "function lindblad_rhs(rho, H, A)\n",
    "    \"\"\"\n",
    "    Right hand side of the Lindblad master equation\n",
    "    \"\"\"\n",
    "    return -1im * (H * rho - rho * H) + A * rho * A' - (A' * A  * rho + rho * A' * A) / 2\n",
    "    \n",
    "end"
   ]
  },
  {
   "cell_type": "markdown",
   "id": "f85fb3da",
   "metadata": {},
   "source": [
    "Terms for the objective for minimization:\n",
    "\\begin{align}\n",
    "{\\rho_{(i)} - \\rho_{(0)} - \\Delta t \\mathcal{L} \\left[\\frac{{\\rho}_{(i)} + {\\rho}_{(i-1)}}{2} \\right]} \\rightarrow \\operatorname{min}\n",
    "\\end{align}"
   ]
  },
  {
   "cell_type": "code",
   "execution_count": 4,
   "id": "05a528ba",
   "metadata": {},
   "outputs": [
    {
     "data": {
      "text/plain": [
       "pade_obj (generic function with 1 method)"
      ]
     },
     "execution_count": 4,
     "metadata": {},
     "output_type": "execute_result"
    }
   ],
   "source": [
    "function pade_obj(ρ, H, A)\n",
    "    obj = frobenius_norm2(lindblad_rhs(ρ[:, :, 1], H, A))\n",
    "    for i in 2:size(ρ,3)\n",
    "        obj += frobenius_norm2(ρ[:, :, i] - ρ[:, :, 1] - lindblad_rhs(ρ[:, :, i], H, A))\n",
    "    end\n",
    "    obj2 = sum(real(coef) * mon for (coef, mon) in zip(coefficients(obj), monomials(obj)))\n",
    "    return obj2\n",
    "end"
   ]
  },
  {
   "cell_type": "markdown",
   "id": "ae3d6010",
   "metadata": {},
   "source": [
    "Consider test example"
   ]
  },
  {
   "cell_type": "code",
   "execution_count": 5,
   "id": "8a41acd2",
   "metadata": {},
   "outputs": [],
   "source": [
    "@polyvar x[1:4]\n",
    "H = [ 1.0 * x[1]              x[3] + im * x[4]\n",
    "      x[3] - im * x[4]        x[2]             ]\n",
    "\n",
    "@polyvar a[1:2, 1:2]\n",
    "@polyvar b[1:2, 1:2]\n",
    "A = 1.0 * a + im * b\n",
    "\n",
    "ρ1 = [.5 -im\n",
    "     +im  .5]\n",
    "ρ2 = [.6 0\n",
    "     0  .4]\n",
    "ρ3 = [.7 0\n",
    "     0  .3]\n",
    "ρ4 = [.9 0\n",
    "     0  .1]\n",
    "\n",
    "ρ = [ρ1;;; ρ2;;; ρ3;;; ρ4]\n",
    "\n",
    "obj = pade_obj(ρ, H, A);"
   ]
  },
  {
   "cell_type": "code",
   "execution_count": 6,
   "id": "7db14f91",
   "metadata": {},
   "outputs": [
    {
     "name": "stdout",
     "output_type": "stream",
     "text": [
      "************************TSSOS************************\n",
      "TSSOS is launching...\n",
      "Starting to compute the block structure...\n",
      "------------------------------------------------------\n",
      "The sizes of PSD blocks:\n",
      "[22, 19, 4]\n",
      "[1, 1, 2]\n",
      "------------------------------------------------------\n",
      "Obtained the block structure. The maximal size of blocks is 22.\n",
      "Assembling the SDP...\n",
      "There are 267 affine constraints.\n",
      "Solving the SDP...\n",
      "Problem\n",
      "  Name                   :                 \n",
      "  Objective sense        : max             \n",
      "  Type                   : CONIC (conic optimization problem)\n",
      "  Constraints            : 267             \n",
      "  Cones                  : 0               \n",
      "  Scalar variables       : 1               \n",
      "  Matrix variables       : 4               \n",
      "  Integer variables      : 0               \n",
      "\n",
      "Optimizer started.\n",
      "Presolve started.\n",
      "Linear dependency checker started.\n",
      "Linear dependency checker terminated.\n",
      "Eliminator started.\n",
      "Freed constraints in eliminator : 0\n",
      "Eliminator terminated.\n",
      "Eliminator - tries                  : 1                 time                   : 0.00            \n",
      "Lin. dep.  - tries                  : 1                 time                   : 0.00            \n",
      "Lin. dep.  - number                 : 0               \n",
      "Presolve terminated. Time: 0.01    \n",
      "Problem\n",
      "  Name                   :                 \n",
      "  Objective sense        : max             \n",
      "  Type                   : CONIC (conic optimization problem)\n",
      "  Constraints            : 267             \n",
      "  Cones                  : 0               \n",
      "  Scalar variables       : 1               \n",
      "  Matrix variables       : 4               \n",
      "  Integer variables      : 0               \n",
      "\n",
      "Optimizer  - threads                : 4               \n",
      "Optimizer  - solved problem         : the primal      \n",
      "Optimizer  - Constraints            : 267\n",
      "Optimizer  - Cones                  : 1\n",
      "Optimizer  - Scalar variables       : 2                 conic                  : 2               \n",
      "Optimizer  - Semi-definite variables: 4                 scalarized             : 463             \n",
      "Factor     - setup time             : 0.00              dense det. time        : 0.00            \n",
      "Factor     - ML order time          : 0.00              GP order time          : 0.00            \n",
      "Factor     - nonzeros before factor : 2.97e+04          after factor           : 2.97e+04        \n",
      "Factor     - dense dim.             : 0                 flops                  : 4.45e+06        \n",
      "ITE PFEAS    DFEAS    GFEAS    PRSTATUS   POBJ              DOBJ              MU       TIME  \n",
      "0   1.1e+01  1.0e+00  1.0e+00  0.00e+00   0.000000000e+00   0.000000000e+00   1.0e+00  0.01  \n",
      "1   4.0e+00  3.7e-01  5.2e-01  -8.81e-01  -7.524707321e-01  -1.946058690e+00  3.7e-01  0.03  \n",
      "2   1.3e+00  1.2e-01  1.5e-01  -3.00e-01  -8.331899570e-01  -1.990966289e+00  1.2e-01  0.03  \n",
      "3   3.8e-01  3.5e-02  1.9e-02  6.67e-01   2.370041175e+00   2.207376477e+00   3.5e-02  0.03  \n",
      "4   8.4e-02  7.8e-03  2.0e-03  1.02e+00   3.883514651e+00   3.846572342e+00   7.8e-03  0.03  \n",
      "5   2.0e-02  1.9e-03  2.5e-04  1.11e+00   4.273880663e+00   4.262287401e+00   1.9e-03  0.03  \n",
      "6   4.9e-03  4.5e-04  3.0e-05  1.09e+00   4.377028724e+00   4.373986197e+00   4.5e-04  0.03  \n",
      "7   1.1e-03  9.8e-05  3.1e-06  9.83e-01   4.402096867e+00   4.401433150e+00   9.8e-05  0.03  \n",
      "8   2.3e-04  2.1e-05  3.0e-07  9.66e-01   4.407720780e+00   4.407581753e+00   2.1e-05  0.03  \n",
      "9   5.2e-05  4.8e-06  3.3e-08  1.00e+00   4.408909833e+00   4.408877131e+00   4.8e-06  0.05  \n",
      "10  1.2e-05  1.1e-06  3.8e-09  1.01e+00   4.409181848e+00   4.409174056e+00   1.1e-06  0.05  \n",
      "11  3.2e-06  2.9e-07  5.1e-10  1.01e+00   4.409245563e+00   4.409243452e+00   2.9e-07  0.05  \n",
      "12  7.8e-07  7.2e-08  6.2e-11  1.06e+00   4.409263090e+00   4.409262574e+00   7.2e-08  0.05  \n",
      "13  1.6e-07  1.5e-08  5.9e-12  9.57e-01   4.409267604e+00   4.409267503e+00   1.5e-08  0.05  \n",
      "14  4.5e-08  4.1e-09  8.1e-13  9.51e-01   4.409268462e+00   4.409268435e+00   4.0e-09  0.05  \n",
      "15  2.1e-08  1.5e-09  1.1e-13  9.52e-01   4.409268665e+00   4.409268658e+00   1.0e-09  0.05  \n",
      "Optimizer terminated. Time: 0.06    \n",
      "\n",
      "SDP solving time: 1.0987127 seconds.\n",
      "optimum = 4.409268664907696\n"
     ]
    }
   ],
   "source": [
    "using TSSOS\n",
    "\n",
    "opt,sol,data = tssos_first(obj, variables(obj));"
   ]
  },
  {
   "cell_type": "code",
   "execution_count": 7,
   "id": "bd089db2",
   "metadata": {},
   "outputs": [
    {
     "name": "stdout",
     "output_type": "stream",
     "text": [
      "Starting to compute the block structure...\n",
      "No higher TSSOS hierarchy!\n"
     ]
    }
   ],
   "source": [
    "opt,sol,data = tssos_higher!(data);"
   ]
  },
  {
   "cell_type": "code",
   "execution_count": 8,
   "id": "88303ba8",
   "metadata": {},
   "outputs": [
    {
     "name": "stdout",
     "output_type": "stream",
     "text": [
      "Starting to compute the block structure...\n",
      "No higher TSSOS hierarchy!\n"
     ]
    }
   ],
   "source": [
    "opt,sol,data = tssos_higher!(data);"
   ]
  }
 ],
 "metadata": {
  "kernelspec": {
   "display_name": "Julia 1.7.2",
   "language": "julia",
   "name": "julia-1.7"
  },
  "language_info": {
   "file_extension": ".jl",
   "mimetype": "application/julia",
   "name": "julia",
   "version": "1.7.2"
  }
 },
 "nbformat": 4,
 "nbformat_minor": 5
}
