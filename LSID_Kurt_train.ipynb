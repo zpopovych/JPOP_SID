{
 "cells": [
  {
   "cell_type": "code",
   "execution_count": 1,
   "id": "1556cf09",
   "metadata": {},
   "outputs": [
    {
     "ename": "LoadError",
     "evalue": "ArgumentError: Package Threads not found in current path:\n- Run `import Pkg; Pkg.add(\"Threads\")` to install the Threads package.\n",
     "output_type": "error",
     "traceback": [
      "ArgumentError: Package Threads not found in current path:\n- Run `import Pkg; Pkg.add(\"Threads\")` to install the Threads package.\n",
      "",
      "Stacktrace:",
      " [1] require(into::Module, mod::Symbol)",
      "   @ Base .\\loading.jl:967",
      " [2] eval",
      "   @ .\\boot.jl:373 [inlined]",
      " [3] include_string(mapexpr::typeof(REPL.softscope), mod::Module, code::String, filename::String)",
      "   @ Base .\\loading.jl:1196"
     ]
    }
   ],
   "source": [
    "using Clustering\n",
    "using HDF5\n",
    "using LinearAlgebra\n",
    "using Dates\n",
    "using Threads"
   ]
  },
  {
   "cell_type": "code",
   "execution_count": 2,
   "id": "af2a5baf",
   "metadata": {},
   "outputs": [
    {
     "data": {
      "text/plain": [
       "get_Y (generic function with 1 method)"
      ]
     },
     "execution_count": 2,
     "metadata": {},
     "output_type": "execute_result"
    }
   ],
   "source": [
    "function get_keys(df)\n",
    "    h5open(df, \"r\") do file\n",
    "        return keys(file)\n",
    "    end\n",
    "end\n",
    "\n",
    "function hankel(y::AbstractArray)\n",
    "    m, time_duration = size(y) # m - dimention of output vector y, time_duration - length of timeseries (number of time steps)\n",
    "    q = Int(round(time_duration/2)) # q - is the size of Hankel matrix \n",
    "    H = zeros(eltype(y), q * m , q) \n",
    "    for r = 1:q, c = 1:q # r - rows, c -columns\n",
    "        H[(r-1)*m+1:r*m, c] = y[:, r+c-1]\n",
    "    end\n",
    "    return H, m\n",
    "end\n",
    "\n",
    "function lsid_ACx0S(Y::AbstractArray, Δt) #, δ = 1e-6)\n",
    "    # y - output time series dim[y] = m x number_of_time_steps\n",
    "    # δ - precission cutoff all the smaller values of Σ will be discarded \n",
    "    \n",
    "    H, m = hankel(Y) # Hankel matrix and dimention of output (should be 12 in our case)\n",
    "    U, Σ, Vᵈ = svd(H) # Singular value decomposition of H to U,  Σ,  V†\n",
    "    \n",
    "    s = Diagonal(sqrt.(Σ)) # Matrix square root \n",
    "    U = U * s\n",
    "    Vᵈ = s * Vᵈ\n",
    "     \n",
    "    # n = argmin(abs.(Σ/maximum(Σ) .- δ)) - 1 # estimated rank of the system\n",
    "\n",
    "    Σ_log = log.(Σ/maximum(Σ))\n",
    "    Σ²ᴰ = reshape(Σ_log, (1, length(Σ_log)))\n",
    "\n",
    "    n = minimum(counts(kmeans(Σ²ᴰ, 2))) + 1\n",
    "    \n",
    "    C = U[1:m, 1:n] # m - dimention of output, n - rank of the system\n",
    "    \n",
    "    U_up = U[1:end-m, :] # U↑\n",
    "    U_down = U[m+1:end, :] # U↓\n",
    "    \n",
    "    A = pinv(U_up) * U_down\n",
    "    Ac = log(A)/Δt \n",
    "    \n",
    "    Ac = Ac[1:n, 1:n] \n",
    "    A = A[1:n, 1:n] # n - estimated rank of the system\n",
    "    \n",
    "    x₀ = pinv(U) * H\n",
    "    x₀ = x₀[1:n, 1]\n",
    "    \n",
    "    return A, Ac, C, x₀, n, Σ²ᴰ # was A, Ac, C, x0\n",
    "\n",
    "end\n",
    "\n",
    "function get_rho_series(file_name, γ)\n",
    "    h5open(file_name, \"r\") do file\n",
    "        ρᵧ = read(file[string(γ)])\n",
    "        tᵧ = ρᵧ[\"t\"]\n",
    "        ρ₀₀ = ρᵧ[\"p0\"]; Re_ρ₀₁ = ρᵧ[\"s_re\"];  Im_ρ₀₁ = ρᵧ[\"s_im\"]\n",
    "        ρ = []\n",
    "        t = []\n",
    "\n",
    "        for i in 1:length(tᵧ)\n",
    "            ρᵢ= [ ρ₀₀[i]                      Re_ρ₀₁[i] + im * Im_ρ₀₁[i]\n",
    "                  Re_ρ₀₁[i] - im * Im_ρ₀₁[i]  1 - ρ₀₀[i]                 ]\n",
    "            \n",
    "            push!(ρ, convert(Matrix{ComplexF64}, ρᵢ))\n",
    "            push!(t, convert(Float64, tᵧ[i]))\n",
    "        end\n",
    "        return(ρ, t)\n",
    "    end\n",
    "end\n",
    "\n",
    "function get_vec_rho_series(file_name, γ)\n",
    "    h5open(file_name, \"r\") do file\n",
    "        ρ = read(file[string(γ)])\n",
    "        ρ₀₀ = ρ[\"p0\"]; Re_ρ₀₁ = ρ[\"s_re\"];  Im_ρ₀₁ = ρ[\"s_im\"]\n",
    "        return([ρ₀₀;; Re_ρ₀₁;; Im_ρ₀₁], ρ[\"t\"])\n",
    "    end\n",
    "end\n",
    "\n",
    "function get_Y(directory, γᵢ)\n",
    "    \n",
    "    ρᵉᵥ, tᵉ = get_vec_rho_series(directory*\"State_B1_data.h5\", string(γᵢ))\n",
    "    ρᵍᵥ, tᵍ = get_vec_rho_series(directory*\"State_B2_data.h5\", string(γᵢ))\n",
    "    ρˣᵥ, tˣ = get_vec_rho_series(directory*\"State_B3_data.h5\", string(γᵢ))\n",
    "    ρʸᵥ, tʸ = get_vec_rho_series(directory*\"State_B4_data.h5\", string(γᵢ))\n",
    "    \n",
    "    lᵉ = size(ρᵉᵥ, 1); lᵍ = size(ρᵍᵥ, 1); lˣ = size(ρˣᵥ, 1); lʸ = size(ρʸᵥ, 1)\n",
    "    lᵐᵃˣ = min(lᵉ, lᵍ,  lˣ, lʸ)  #choose time limit by shortest series\n",
    "    \n",
    "    @assert(tᵉ[ lᵐᵃˣ ] == tᵍ[ lᵐᵃˣ ] == tˣ[ lᵐᵃˣ ] == tʸ[ lᵐᵃˣ ])\n",
    "    \n",
    "    Y = [ρᵉᵥ[1:lᵐᵃˣ, :];; ρᵍᵥ[1:lᵐᵃˣ, :];; ρˣᵥ[1:lᵐᵃˣ, :];; ρʸᵥ[1:lᵐᵃˣ, :]]\n",
    "    \n",
    "    return transpose(Y), tᵉ[ 1:lᵐᵃˣ]\n",
    "end"
   ]
  },
  {
   "cell_type": "code",
   "execution_count": 3,
   "id": "2d268eff",
   "metadata": {},
   "outputs": [
    {
     "name": "stdout",
     "output_type": "stream",
     "text": [
      "[\"State_B1\", \"State_B2\", \"State_B3\", \"State_B4\"]\n",
      "[\"State_D1\", \"State_D2\", \"State_D3\", \"State_D4\", \"State_D5\", \"State_D6\", \"State_D7\", \"State_D8\", \"State_D9\", \"State_D10\", \"State_D11\", \"State_D12\", \"State_D13\", \"State_D14\", \"State_D15\", \"State_D16\", \"State_D17\", \"State_D18\", \"State_D19\", \"State_D20\"]"
     ]
    },
    {
     "data": {
      "text/plain": [
       "8-element Vector{String}:\n",
       " \"0.079477\"\n",
       " \"0.25133\"\n",
       " \"0.79477\"\n",
       " \"2.5133\"\n",
       " \"25.133\"\n",
       " \"251.33\"\n",
       " \"7.9477\"\n",
       " \"79.477\""
      ]
     },
     "execution_count": 3,
     "metadata": {},
     "output_type": "execute_result"
    }
   ],
   "source": [
    "# Names of files with Kurt data\n",
    "basis_file_names = [\"State_B\"*string(n) for n=1:4]\n",
    "println(basis_file_names)\n",
    "dodeca_file_names = [\"State_D\"*string(n) for n=1:20]\n",
    "print(dodeca_file_names)\n",
    "#directory = \"C:/Users/Zakhar/Documents/GitHub/JPOP_SID/DATA/\"\n",
    "directory = \"C:/Users/Zakhar/Documents/GitHub/Kurt2021/2022JAN24/DATA/\"\n",
    "\n",
    "date_and_time_string =  string(Dates.format(now(), \"yyyy-u-dd_at_HH-MM\"))\n",
    "res_file_name = \"Kurt_LSID_ACx0S_\" * date_and_time_string * \".h5\"\n",
    "\n",
    "γ = get_keys(directory*basis_file_names[1]*\"_data.h5\")"
   ]
  },
  {
   "cell_type": "code",
   "execution_count": 4,
   "id": "24bbbc69",
   "metadata": {},
   "outputs": [
    {
     "name": "stdout",
     "output_type": "stream",
     "text": [
      "| SID for γ = 79.477...\n"
     ]
    },
    {
     "ename": "LoadError",
     "evalue": "TaskFailedException\n\n\u001b[91m    nested task error: \u001b[39mUndefVarError: t not defined\n    Stacktrace:\n     [1] \u001b[0m\u001b[1mmacro expansion\u001b[22m\n    \u001b[90m   @ \u001b[39m\u001b[90m.\\\u001b[39m\u001b[90m\u001b[4mIn[4]:17\u001b[24m\u001b[39m\u001b[90m [inlined]\u001b[39m\n     [2] \u001b[0m\u001b[1m(::var\"#39#threadsfor_fun#12\"{Vector{String}})\u001b[22m\u001b[0m\u001b[1m(\u001b[22m\u001b[90monethread\u001b[39m::\u001b[0mBool\u001b[0m\u001b[1m)\u001b[22m\n    \u001b[90m   @ \u001b[39m\u001b[35mMain\u001b[39m \u001b[90m.\\\u001b[39m\u001b[90m\u001b[4mthreadingconstructs.jl:85\u001b[24m\u001b[39m\n     [3] \u001b[0m\u001b[1m(::var\"#39#threadsfor_fun#12\"{Vector{String}})\u001b[22m\u001b[0m\u001b[1m(\u001b[22m\u001b[0m\u001b[1m)\u001b[22m\n    \u001b[90m   @ \u001b[39m\u001b[35mMain\u001b[39m \u001b[90m.\\\u001b[39m\u001b[90m\u001b[4mthreadingconstructs.jl:52\u001b[24m\u001b[39m",
     "output_type": "error",
     "traceback": [
      "TaskFailedException\n\n\u001b[91m    nested task error: \u001b[39mUndefVarError: t not defined\n    Stacktrace:\n     [1] \u001b[0m\u001b[1mmacro expansion\u001b[22m\n    \u001b[90m   @ \u001b[39m\u001b[90m.\\\u001b[39m\u001b[90m\u001b[4mIn[4]:17\u001b[24m\u001b[39m\u001b[90m [inlined]\u001b[39m\n     [2] \u001b[0m\u001b[1m(::var\"#39#threadsfor_fun#12\"{Vector{String}})\u001b[22m\u001b[0m\u001b[1m(\u001b[22m\u001b[90monethread\u001b[39m::\u001b[0mBool\u001b[0m\u001b[1m)\u001b[22m\n    \u001b[90m   @ \u001b[39m\u001b[35mMain\u001b[39m \u001b[90m.\\\u001b[39m\u001b[90m\u001b[4mthreadingconstructs.jl:85\u001b[24m\u001b[39m\n     [3] \u001b[0m\u001b[1m(::var\"#39#threadsfor_fun#12\"{Vector{String}})\u001b[22m\u001b[0m\u001b[1m(\u001b[22m\u001b[0m\u001b[1m)\u001b[22m\n    \u001b[90m   @ \u001b[39m\u001b[35mMain\u001b[39m \u001b[90m.\\\u001b[39m\u001b[90m\u001b[4mthreadingconstructs.jl:52\u001b[24m\u001b[39m",
      "",
      "Stacktrace:",
      " [1] wait",
      "   @ .\\task.jl:334 [inlined]",
      " [2] threading_run(func::Function)",
      "   @ Base.Threads .\\threadingconstructs.jl:38",
      " [3] macro expansion",
      "   @ .\\threadingconstructs.jl:97 [inlined]",
      " [4] top-level scope",
      "   @ .\\timing.jl:220 [inlined]",
      " [5] top-level scope",
      "   @ .\\In[4]:0",
      " [6] eval",
      "   @ .\\boot.jl:373 [inlined]",
      " [7] include_string(mapexpr::typeof(REPL.softscope), mod::Module, code::String, filename::String)",
      "   @ Base .\\loading.jl:1196"
     ]
    }
   ],
   "source": [
    "γ = [\"79.477\", \"251.33\"]\n",
    "\n",
    "lck_read  = ReentrantLock() # create lock to use when reading in the loop below\n",
    "lck_write = ReentrantLock() # create lock to use when writing in the loop below\n",
    "\n",
    "Y = []; Δt = []\n",
    "\n",
    "for i in length(γ)\n",
    "    Yᵢ, tᵢ = get_Y(directory, γ[i])\n",
    "    @assert maximum(diff(tᵢ)) ≈ minimum(diff(tᵢ))\n",
    "    Δtᵢ = tᵢ[2]-tᵢ[1]\n",
    "    push!(Y, Yᵢ)\n",
    "    push!(Δt, Δtᵢ)\n",
    "end # of reading loop\n",
    "    \n",
    "        \n",
    "\n",
    "    \n",
    "\n",
    "@time Threads.@threads for i in length(γ)\n",
    "    \n",
    "    γᵢ = γ[i]\n",
    "    println(\"| SID for γ = \"*γᵢ*\"...\")\n",
    "      \n",
    "    A, Ac, C, x₀, n, Σ²ᴰ = lsid_ACx0S(Y[i], Δt[i])   \n",
    "    \n",
    "    println(\" SID for γ =\"*string(γᵢ)*\"done.|\")\n",
    "    \n",
    "    lock(lck_write)\n",
    "            \n",
    "        try\n",
    "\n",
    "            h5open(directory*res_file_name,\"cw\") do fid  \n",
    "            # read-write, create file if not existing, preserve existing contents\n",
    "\n",
    "                γ_group = create_group(fid, \"gamma_\"*string(γᵢ))\n",
    "\n",
    "                γ_group[\"A\"] = convert.(ComplexF64, A)\n",
    "                γ_group[\"Ac\"] = convert.(ComplexF64, Ac)\n",
    "                γ_group[\"C\"] = convert.(ComplexF64, C)\n",
    "                γ_group[\"x0\"] = convert.(ComplexF64, x₀)\n",
    "                γ_group[\"n\"] = n\n",
    "                γ_group[\"sigma\"] = Σ²ᴰ\n",
    "\n",
    "            end # of HDF5 writing\n",
    "\n",
    "        finally\n",
    "            unlock(lck_write)\n",
    "        end\n",
    "\n",
    "        println(\" Saving for γ =\"*string(γᵢ)*\"done.|\")\n",
    "    \n",
    "end # of loop over the coupling levels γ\n"
   ]
  },
  {
   "cell_type": "code",
   "execution_count": 5,
   "id": "70302f5c",
   "metadata": {},
   "outputs": [
    {
     "data": {
      "text/plain": [
       "get_kurt_lsid (generic function with 1 method)"
      ]
     },
     "execution_count": 5,
     "metadata": {},
     "output_type": "execute_result"
    }
   ],
   "source": [
    "function get_kurt_lsid(file, γ_group)\n",
    "\n",
    "    h5open(file,\"r\") do fid # read-only\n",
    "        A = read(fid[γ_group][\"A\"])\n",
    "        Ac = read(fid[γ_group][\"Ac\"])\n",
    "        C = read(fid[γ_group][\"C\"])\n",
    "        x₀ = read(fid[γ_group][\"x0\"])\n",
    "        n = read(fid[γ_group][\"n\"])\n",
    "        Σ = read(fid[γ_group][\"sigma\"])\n",
    "        \n",
    "        return A, Ac, C, x₀, n, Σ\n",
    "    end\n",
    "end"
   ]
  },
  {
   "cell_type": "code",
   "execution_count": 6,
   "id": "b60f9274",
   "metadata": {},
   "outputs": [
    {
     "ename": "LoadError",
     "evalue": "unable to determine if C:/Users/Zakhar/Documents/GitHub/Kurt2021/2022JAN24/DATA/Kurt_LSID_ACx0S_2022-Sep-29_at_21-02.h5 is accessible in the HDF5 format (file may not exist)",
     "output_type": "error",
     "traceback": [
      "unable to determine if C:/Users/Zakhar/Documents/GitHub/Kurt2021/2022JAN24/DATA/Kurt_LSID_ACx0S_2022-Sep-29_at_21-02.h5 is accessible in the HDF5 format (file may not exist)",
      "",
      "Stacktrace:",
      " [1] error(s::String)",
      "   @ Base .\\error.jl:33",
      " [2] h5open(filename::String, mode::String, fapl::HDF5.FileAccessProperties, fcpl::HDF5.FileCreateProperties; swmr::Bool)",
      "   @ HDF5 C:\\Users\\Zakhar\\.julia\\packages\\HDF5\\I9NLZ\\src\\HDF5.jl:258",
      " [3] h5open(filename::String, mode::String; swmr::Bool, fapl::HDF5.FileAccessProperties, fcpl::HDF5.FileCreateProperties, pv::Base.Pairs{Symbol, Union{}, Tuple{}, NamedTuple{(), Tuple{}}})",
      "   @ HDF5 C:\\Users\\Zakhar\\.julia\\packages\\HDF5\\I9NLZ\\src\\HDF5.jl:280",
      " [4] h5open(::var\"#14#15\"{String}, ::String, ::Vararg{String}; swmr::Bool, pv::Base.Pairs{Symbol, Union{}, Tuple{}, NamedTuple{(), Tuple{}}})",
      "   @ HDF5 C:\\Users\\Zakhar\\.julia\\packages\\HDF5\\I9NLZ\\src\\HDF5.jl:301",
      " [5] h5open",
      "   @ C:\\Users\\Zakhar\\.julia\\packages\\HDF5\\I9NLZ\\src\\HDF5.jl:301 [inlined]",
      " [6] get_kurt_lsid(file::String, γ_group::String)",
      "   @ Main .\\In[5]:3",
      " [7] top-level scope",
      "   @ In[6]:1",
      " [8] eval",
      "   @ .\\boot.jl:373 [inlined]",
      " [9] include_string(mapexpr::typeof(REPL.softscope), mod::Module, code::String, filename::String)",
      "   @ Base .\\loading.jl:1196"
     ]
    }
   ],
   "source": [
    "A, Ac, C, x₀, n, Σ²ᴰ = get_kurt_lsid(directory*res_file_name, \"gamma_\"*\"251.33\") "
   ]
  },
  {
   "cell_type": "code",
   "execution_count": 7,
   "id": "0b6b8f78",
   "metadata": {},
   "outputs": [
    {
     "ename": "LoadError",
     "evalue": "UndefVarError: A not defined",
     "output_type": "error",
     "traceback": [
      "UndefVarError: A not defined",
      "",
      "Stacktrace:",
      " [1] top-level scope",
      "   @ :0",
      " [2] eval",
      "   @ .\\boot.jl:373 [inlined]",
      " [3] include_string(mapexpr::typeof(REPL.softscope), mod::Module, code::String, filename::String)",
      "   @ Base .\\loading.jl:1196"
     ]
    }
   ],
   "source": [
    "A "
   ]
  },
  {
   "cell_type": "code",
   "execution_count": null,
   "id": "65ad8d2b",
   "metadata": {},
   "outputs": [],
   "source": []
  }
 ],
 "metadata": {
  "kernelspec": {
   "display_name": "Julia 1.7.2",
   "language": "julia",
   "name": "julia-1.7"
  },
  "language_info": {
   "file_extension": ".jl",
   "mimetype": "application/julia",
   "name": "julia",
   "version": "1.7.2"
  }
 },
 "nbformat": 4,
 "nbformat_minor": 5
}
