{
 "cells": [
  {
   "cell_type": "code",
   "execution_count": 1,
   "id": "f14007b9",
   "metadata": {},
   "outputs": [
    {
     "ename": "LoadError",
     "evalue": "ArgumentError: Package Threads not found in current path:\n- Run `import Pkg; Pkg.add(\"Threads\")` to install the Threads package.\n",
     "output_type": "error",
     "traceback": [
      "ArgumentError: Package Threads not found in current path:\n- Run `import Pkg; Pkg.add(\"Threads\")` to install the Threads package.\n",
      "",
      "Stacktrace:",
      " [1] require(into::Module, mod::Symbol)",
      "   @ Base .\\loading.jl:967",
      " [2] eval",
      "   @ .\\boot.jl:373 [inlined]",
      " [3] include_string(mapexpr::typeof(REPL.softscope), mod::Module, code::String, filename::String)",
      "   @ Base .\\loading.jl:1196"
     ]
    }
   ],
   "source": [
    "using Clustering\n",
    "using HDF5\n",
    "using LinearAlgebra\n",
    "using Dates\n",
    "using Threads"
   ]
  },
  {
   "cell_type": "code",
   "execution_count": 2,
   "id": "a33b996c",
   "metadata": {},
   "outputs": [
    {
     "data": {
      "text/plain": [
       "get_Y (generic function with 1 method)"
      ]
     },
     "execution_count": 2,
     "metadata": {},
     "output_type": "execute_result"
    }
   ],
   "source": [
    "function get_keys(df)\n",
    "    h5open(df, \"r\") do file\n",
    "        return keys(file)\n",
    "    end\n",
    "end\n",
    "\n",
    "function hankel(y::AbstractArray)\n",
    "    m, time_duration = size(y) # m - dimention of output vector y, time_duration - length of timeseries (number of time steps)\n",
    "    q = Int(round(time_duration/2)) # q - is the size of Hankel matrix \n",
    "    H = zeros(eltype(y), q * m , q) \n",
    "    for r = 1:q, c = 1:q # r - rows, c -columns\n",
    "        H[(r-1)*m+1:r*m, c] = y[:, r+c-1]\n",
    "    end\n",
    "    return H, m\n",
    "end\n",
    "\n",
    "function lsid_ACx0S(Y::AbstractArray, Δt) #, δ = 1e-6)\n",
    "    # y - output time series dim[y] = m x number_of_time_steps\n",
    "    # δ - precission cutoff all the smaller values of Σ will be discarded \n",
    "    \n",
    "    H, m = hankel(Y) # Hankel matrix and dimention of output (should be 12 in our case)\n",
    "    U, Σ, Vᵈ = svd(H) # Singular value decomposition of H to U,  Σ,  V†\n",
    "    \n",
    "    s = Diagonal(sqrt.(Σ)) # Matrix square root \n",
    "    U = U * s\n",
    "    Vᵈ = s * Vᵈ\n",
    "     \n",
    "    # n = argmin(abs.(Σ/maximum(Σ) .- δ)) - 1 # estimated rank of the system\n",
    "\n",
    "    Σ_log = log.(Σ/maximum(Σ))\n",
    "    Σ²ᴰ = reshape(Σ_log, (1, length(Σ_log)))\n",
    "\n",
    "    n = minimum(counts(kmeans(Σ²ᴰ, 2))) + 1\n",
    "    \n",
    "    C = U[1:m, 1:n] # m - dimention of output, n - rank of the system\n",
    "    \n",
    "    U_up = U[1:end-m, :] # U↑\n",
    "    U_down = U[m+1:end, :] # U↓\n",
    "    \n",
    "    A = pinv(U_up) * U_down\n",
    "    Ac = log(A)/Δt \n",
    "    \n",
    "    Ac = Ac[1:n, 1:n] \n",
    "    A = A[1:n, 1:n] # n - estimated rank of the system\n",
    "    \n",
    "    x₀ = pinv(U) * H\n",
    "    x₀ = x₀[1:n, 1]\n",
    "    \n",
    "    return A, Ac, C, x₀, n, Σ²ᴰ # was A, Ac, C, x0\n",
    "\n",
    "end\n",
    "\n",
    "function get_rho_series(file_name, γ)\n",
    "    h5open(file_name, \"r\") do file\n",
    "        ρᵧ = read(file[string(γ)])\n",
    "        tᵧ = ρᵧ[\"t\"]\n",
    "        ρ₀₀ = ρᵧ[\"p0\"]; Re_ρ₀₁ = ρᵧ[\"s_re\"];  Im_ρ₀₁ = ρᵧ[\"s_im\"]\n",
    "        ρ = []\n",
    "        t = []\n",
    "\n",
    "        for i in 1:length(tᵧ)\n",
    "            ρᵢ= [ ρ₀₀[i]                      Re_ρ₀₁[i] + im * Im_ρ₀₁[i]\n",
    "                  Re_ρ₀₁[i] - im * Im_ρ₀₁[i]  1 - ρ₀₀[i]                 ]\n",
    "            \n",
    "            push!(ρ, convert(Matrix{ComplexF64}, ρᵢ))\n",
    "            push!(t, convert(Float64, tᵧ[i]))\n",
    "        end\n",
    "        return(ρ, t)\n",
    "    end\n",
    "end\n",
    "\n",
    "function get_vec_rho_series(file_name, γ)\n",
    "    h5open(file_name, \"r\") do file\n",
    "        ρ = read(file[string(γ)])\n",
    "        ρ₀₀ = ρ[\"p0\"]; Re_ρ₀₁ = ρ[\"s_re\"];  Im_ρ₀₁ = ρ[\"s_im\"]\n",
    "        return([ρ₀₀;; Re_ρ₀₁;; Im_ρ₀₁], ρ[\"t\"])\n",
    "    end\n",
    "end\n",
    "\n",
    "function get_Y(directory, γᵢ)\n",
    "    \n",
    "    ρᵉᵥ, tᵉ = get_vec_rho_series(directory*\"State_B1_data.h5\", string(γᵢ))\n",
    "    ρᵍᵥ, tᵍ = get_vec_rho_series(directory*\"State_B2_data.h5\", string(γᵢ))\n",
    "    ρˣᵥ, tˣ = get_vec_rho_series(directory*\"State_B3_data.h5\", string(γᵢ))\n",
    "    ρʸᵥ, tʸ = get_vec_rho_series(directory*\"State_B4_data.h5\", string(γᵢ))\n",
    "    \n",
    "    lᵉ = size(ρᵉᵥ, 1); lᵍ = size(ρᵍᵥ, 1); lˣ = size(ρˣᵥ, 1); lʸ = size(ρʸᵥ, 1)\n",
    "    lᵐᵃˣ = min(lᵉ, lᵍ,  lˣ, lʸ)  #choose time limit by shortest series\n",
    "    \n",
    "    @assert(tᵉ[ lᵐᵃˣ ] == tᵍ[ lᵐᵃˣ ] == tˣ[ lᵐᵃˣ ] == tʸ[ lᵐᵃˣ ])\n",
    "    \n",
    "    Y = [ρᵉᵥ[1:lᵐᵃˣ, :];; ρᵍᵥ[1:lᵐᵃˣ, :];; ρˣᵥ[1:lᵐᵃˣ, :];; ρʸᵥ[1:lᵐᵃˣ, :]]\n",
    "    \n",
    "    return transpose(Y), tᵉ[ 1:lᵐᵃˣ]\n",
    "end"
   ]
  },
  {
   "cell_type": "code",
   "execution_count": 3,
   "id": "dad1c701",
   "metadata": {},
   "outputs": [
    {
     "name": "stdout",
     "output_type": "stream",
     "text": [
      "[\"State_B1\", \"State_B2\", \"State_B3\", \"State_B4\"]\n",
      "[\"State_D1\", \"State_D2\", \"State_D3\", \"State_D4\", \"State_D5\", \"State_D6\", \"State_D7\", \"State_D8\", \"State_D9\", \"State_D10\", \"State_D11\", \"State_D12\", \"State_D13\", \"State_D14\", \"State_D15\", \"State_D16\", \"State_D17\", \"State_D18\", \"State_D19\", \"State_D20\"]"
     ]
    },
    {
     "data": {
      "text/plain": [
       "8-element Vector{String}:\n",
       " \"0.079477\"\n",
       " \"0.25133\"\n",
       " \"0.79477\"\n",
       " \"2.5133\"\n",
       " \"25.133\"\n",
       " \"251.33\"\n",
       " \"7.9477\"\n",
       " \"79.477\""
      ]
     },
     "execution_count": 3,
     "metadata": {},
     "output_type": "execute_result"
    }
   ],
   "source": [
    "# Names of files with Kurt data\n",
    "basis_file_names = [\"State_B\"*string(n) for n=1:4]\n",
    "println(basis_file_names)\n",
    "dodeca_file_names = [\"State_D\"*string(n) for n=1:20]\n",
    "print(dodeca_file_names)\n",
    "#directory = \"C:/Users/Zakhar/Documents/GitHub/JPOP_SID/DATA/\"\n",
    "directory = \"C:/Users/Zakhar/Documents/GitHub/Kurt2021/2022JAN24/DATA/\"\n",
    "\n",
    "date_and_time_string =  string(Dates.format(now(), \"yyyy-u-dd_at_HH-MM\"))\n",
    "res_file_name = \"Kurt_LSID_ACx0S_\" * date_and_time_string * \".h5\"\n",
    "\n",
    "γ = get_keys(directory*basis_file_names[1]*\"_data.h5\")"
   ]
  },
  {
   "cell_type": "code",
   "execution_count": 4,
   "id": "7f2f43ea",
   "metadata": {},
   "outputs": [
    {
     "name": "stdout",
     "output_type": "stream",
     "text": [
      "| SID for γ = 0.079477...\n",
      " SID for γ =0.079477done.|\n",
      " Saving for γ =0.079477done.|\n",
      "| SID for γ = 0.25133...\n",
      " SID for γ =0.25133done.|\n",
      " Saving for γ =0.25133done.|\n",
      "| SID for γ = 0.79477...\n",
      " SID for γ =0.79477done.|\n",
      " Saving for γ =0.79477done.|\n",
      "| SID for γ = 2.5133...\n",
      " SID for γ =2.5133done.|\n",
      " Saving for γ =2.5133done.|\n",
      "| SID for γ = 25.133...\n",
      " SID for γ =25.133done.|\n",
      " Saving for γ =25.133done.|\n",
      "| SID for γ = 251.33...\n",
      " SID for γ =251.33done.|\n",
      " Saving for γ =251.33done.|\n",
      "| SID for γ = 7.9477...\n",
      " SID for γ =7.9477done.|\n",
      " Saving for γ =7.9477done.|\n",
      "| SID for γ = 79.477...\n",
      " SID for γ =79.477done.|\n",
      " Saving for γ =79.477done.|\n",
      "326.584594 seconds (55.38 M allocations: 25.214 GiB, 0.96% gc time, 2.79% compilation time)\n"
     ]
    }
   ],
   "source": [
    "# γ = [\"79.477\", \"251.33\"]\n",
    "\n",
    "lck_read  = ReentrantLock() # create lock to use when reading in the loop below\n",
    "lck_write = ReentrantLock() # create lock to use when writing in the loop below\n",
    "\n",
    "Y = []; Δt = []\n",
    "\n",
    "for i in 1:length(γ)\n",
    "    Yᵢ, tᵢ = get_Y(directory, γ[i])\n",
    "    @assert maximum(diff(tᵢ)) ≈ minimum(diff(tᵢ))\n",
    "    Δtᵢ = tᵢ[2]-tᵢ[1]\n",
    "    push!(Y, Yᵢ)\n",
    "    push!(Δt, Δtᵢ)\n",
    "end # of reading loop          \n",
    "\n",
    "@time for i in 1:length(γ) #Threads.@threads \n",
    "    \n",
    "    γᵢ = γ[i]\n",
    "    println(\"| SID for γ = \"*γᵢ*\"...\")\n",
    "      \n",
    "    A, Ac, C, x₀, n, Σ²ᴰ = lsid_ACx0S(Y[i], Δt[i])   \n",
    "    \n",
    "    println(\" SID for γ =\"*string(γᵢ)*\" done.|\")\n",
    "    \n",
    "    lock(lck_write)\n",
    "            \n",
    "        try\n",
    "\n",
    "            h5open(directory*res_file_name,\"cw\") do fid  \n",
    "            # read-write, create file if not existing, preserve existing contents\n",
    "\n",
    "                γ_group = create_group(fid, \"gamma_\"*string(γᵢ))\n",
    "\n",
    "                γ_group[\"A\"] = convert.(ComplexF64, A)\n",
    "                γ_group[\"Ac\"] = convert.(ComplexF64, Ac)\n",
    "                γ_group[\"C\"] = convert.(ComplexF64, C)\n",
    "                γ_group[\"x0\"] = convert.(ComplexF64, x₀)\n",
    "                γ_group[\"n\"] = n\n",
    "                γ_group[\"sigma\"] = Σ²ᴰ\n",
    "\n",
    "            end # of HDF5 writing\n",
    "\n",
    "        finally\n",
    "            unlock(lck_write)\n",
    "        end\n",
    "\n",
    "        println(\" Saving for γ =\"*string(γᵢ)*\" done.|\")\n",
    "    \n",
    "end # of loop over the coupling levels γ\n"
   ]
  },
  {
   "cell_type": "code",
   "execution_count": 5,
   "id": "f9125808",
   "metadata": {},
   "outputs": [
    {
     "data": {
      "text/plain": [
       "get_kurt_lsid (generic function with 1 method)"
      ]
     },
     "execution_count": 5,
     "metadata": {},
     "output_type": "execute_result"
    }
   ],
   "source": [
    "function get_kurt_lsid(file, γ_group)\n",
    "\n",
    "    h5open(file,\"r\") do fid # read-only\n",
    "        A = read(fid[γ_group][\"A\"])\n",
    "        Ac = read(fid[γ_group][\"Ac\"])\n",
    "        C = read(fid[γ_group][\"C\"])\n",
    "        x₀ = read(fid[γ_group][\"x0\"])\n",
    "        n = read(fid[γ_group][\"n\"])\n",
    "        Σ = read(fid[γ_group][\"sigma\"])\n",
    "        \n",
    "        return A, Ac, C, x₀, n, Σ\n",
    "    end\n",
    "end"
   ]
  },
  {
   "cell_type": "code",
   "execution_count": 6,
   "id": "172dba53",
   "metadata": {},
   "outputs": [
    {
     "data": {
      "text/plain": [
       "(ComplexF64[1.0000054296321246 + 0.0im -0.0002699091316564694 + 0.0im … -5.490871934553546e-8 + 0.0im -1.3583547957247044e-7 + 0.0im; 0.0027027652163920833 + 0.0im 0.982834165634632 + 0.0im … 3.1701412764342544e-7 + 0.0im 2.093683232714668e-6 + 0.0im; … ; 2.5409229778006193e-6 + 0.0im -3.3633836462598765e-6 + 0.0im … 0.9689298896516573 + 0.0im -0.10532143487437848 + 0.0im; 1.4105975481015776e-6 + 0.0im 7.112952886245694e-6 + 0.0im … 0.21725994373500743 + 0.0im 0.9700436320779982 + 0.0im], ComplexF64[0.023312583504179182 - 1.2454772456427343e-14im -1.0807254492270584 + 1.4464612233672246e-13im … -0.00020117220442859244 + 9.226987089642829e-10im -0.0006096771190230496 - 1.583874959966003e-9im; 10.856385678109865 - 9.194034422677107e-14im -65.48613480799116 + 1.1934897514720227e-12im … -0.0009457580654526222 + 8.206807354868652e-9im 0.010421406177594498 - 1.4087530594104526e-8im; … ; 0.009948504897082457 + 3.9327200350435867e-10im -0.06274339657262605 - 5.094932776453938e-9im … -0.2838552582292085 - 3.452412467019814e-5im -429.9635592792211 + 5.926295476577097e-5im; -0.0004112266130521819 + 3.810849205643165e-10im 0.06310167369040921 - 4.937371583628486e-9im … 881.0053384986848 - 3.345643229124551e-5im -15.687084166308301 + 5.743018984677474e-5im], ComplexF64[-0.5375924792564917 + 0.0im 0.41059664975950755 + 0.0im … 1.2910387629486908e-5 + 0.0im -3.1131924007086953e-5 + 0.0im; 3.1951814016917804e-14 + 0.0im 9.563387450964702e-14 + 0.0im … 2.026457226322642e-10 + 0.0im 3.1516657850082427e-11 + 0.0im; … ; -0.06329223544798665 + 0.0im -0.047858100997279905 + 0.0im … -2.42761164084315e-6 + 0.0im 3.1534654417383763e-6 + 0.0im; -0.03681463080982957 + 0.0im 0.4636359732586941 + 0.0im … -9.12341522620582e-6 + 0.0im -2.6435930460199862e-5 + 0.0im], ComplexF64[-1.0931596649307476 + 0.0im, 0.8059353442905672 + 0.0im, 0.36703312663292936 + 0.0im, 0.6029077818644284 + 0.0im, -0.2021791822146435 + 0.0im, 0.10823692294881634 + 0.0im, -0.19030562030160542 + 0.0im, -0.15590270944836285 + 0.0im, 0.12636052636782108 + 0.0im, -0.13254847101114298 + 0.0im  …  0.0021259330026781598 + 0.0im, 0.0014382682600233565 + 0.0im, 0.000754145083071478 + 0.0im, 0.0004240294166439895 + 0.0im, 0.00038066263614666696 + 0.0im, 0.0002494817709610686 + 0.0im, 0.00026992373260270597 + 0.0im, 0.0002252014736967567 + 0.0im, 0.00014937660507285955 + 0.0im, -0.00011654994520426953 + 0.0im], 33, [0.0 -2.8997955363458128 … -31.09722214200541 -31.111407811212583])"
      ]
     },
     "execution_count": 6,
     "metadata": {},
     "output_type": "execute_result"
    }
   ],
   "source": [
    "A, Ac, C, x₀, n, Σ²ᴰ = get_kurt_lsid(directory*res_file_name, \"gamma_\"*\"251.33\") "
   ]
  },
  {
   "cell_type": "code",
   "execution_count": 7,
   "id": "9f09aea2",
   "metadata": {},
   "outputs": [
    {
     "data": {
      "text/plain": [
       "33×33 Matrix{ComplexF64}:\n",
       "      1.00001+0.0im  -0.000269909+0.0im  …  -1.35835e-7+0.0im\n",
       "   0.00270277+0.0im      0.982834+0.0im      2.09368e-6+0.0im\n",
       "  0.000974489+0.0im    -0.0453356+0.0im     -1.22872e-6+0.0im\n",
       "   0.00187744+0.0im    -0.0192603+0.0im      5.89642e-6+0.0im\n",
       "  -0.00101008+0.0im     0.0092677+0.0im      3.29295e-6+0.0im\n",
       "  0.000603323+0.0im   -0.00401442+0.0im  …   1.83014e-7+0.0im\n",
       " -0.000504812+0.0im    0.00887665+0.0im      5.56957e-6+0.0im\n",
       " -0.000846175+0.0im     0.0054812+0.0im     -2.19045e-6+0.0im\n",
       "  0.000259331+0.0im   -0.00550061+0.0im        -1.11e-6+0.0im\n",
       " -0.000342391+0.0im    0.00566688+0.0im      9.38101e-6+0.0im\n",
       "  0.000331372+0.0im   -0.00531031+0.0im  …  -1.58696e-5+0.0im\n",
       "  -0.00026955+0.0im    0.00246092+0.0im      -1.7361e-5+0.0im\n",
       "   3.46567e-5+0.0im   -0.00302466+0.0im      3.68458e-5+0.0im\n",
       "             ⋮                           ⋱  \n",
       "   1.27894e-5+0.0im   -5.76216e-5+0.0im     0.000736155+0.0im\n",
       "  -2.39533e-6+0.0im    -4.5853e-5+0.0im      0.00011038+0.0im\n",
       "   2.08279e-5+0.0im   -6.81534e-5+0.0im     0.000210459+0.0im\n",
       "  -6.46819e-6+0.0im   -7.33054e-5+0.0im     -0.00104522+0.0im\n",
       "   8.80742e-6+0.0im   -2.22994e-5+0.0im  …  -0.00228919+0.0im\n",
       "  -2.42401e-6+0.0im   -2.22959e-5+0.0im     -0.00165142+0.0im\n",
       "   4.83715e-6+0.0im   -1.07379e-5+0.0im     -0.00564155+0.0im\n",
       "  -1.68143e-6+0.0im   -1.34556e-5+0.0im     -0.00249163+0.0im\n",
       "   3.88789e-6+0.0im   -7.00837e-6+0.0im     -0.00899785+0.0im\n",
       "     -2.04e-6+0.0im   -1.28369e-5+0.0im  …  -0.00877067+0.0im\n",
       "   2.54092e-6+0.0im   -3.36338e-6+0.0im       -0.105321+0.0im\n",
       "    1.4106e-6+0.0im    7.11295e-6+0.0im        0.970044+0.0im"
      ]
     },
     "execution_count": 7,
     "metadata": {},
     "output_type": "execute_result"
    }
   ],
   "source": [
    "A "
   ]
  },
  {
   "cell_type": "code",
   "execution_count": 8,
   "id": "80d6c2cd",
   "metadata": {},
   "outputs": [
    {
     "data": {
      "text/plain": [
       "\"Kurt_LSID_ACx0S_2022-Sep-29_at_21-19.h5\""
      ]
     },
     "execution_count": 8,
     "metadata": {},
     "output_type": "execute_result"
    }
   ],
   "source": [
    "res_file_name"
   ]
  },
  {
   "cell_type": "code",
   "execution_count": null,
   "id": "16106ff2",
   "metadata": {},
   "outputs": [],
   "source": []
  }
 ],
 "metadata": {
  "kernelspec": {
   "display_name": "Julia 1.7.2",
   "language": "julia",
   "name": "julia-1.7"
  },
  "language_info": {
   "file_extension": ".jl",
   "mimetype": "application/julia",
   "name": "julia",
   "version": "1.7.2"
  }
 },
 "nbformat": 4,
 "nbformat_minor": 5
}
