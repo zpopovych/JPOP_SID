{
 "cells": [
  {
   "cell_type": "code",
   "execution_count": 76,
   "id": "d74c581c",
   "metadata": {},
   "outputs": [],
   "source": [
    "using Clustering\n",
    "using HDF5\n",
    "using LinearAlgebra\n",
    "using Dates\n",
    "using Threads"
   ]
  },
  {
   "cell_type": "code",
   "execution_count": 69,
   "id": "bd3153bd",
   "metadata": {},
   "outputs": [
    {
     "data": {
      "text/plain": [
       "get_Y (generic function with 1 method)"
      ]
     },
     "execution_count": 69,
     "metadata": {},
     "output_type": "execute_result"
    }
   ],
   "source": [
    "function get_keys(df)\n",
    "    h5open(df, \"r\") do file\n",
    "        return keys(file)\n",
    "    end\n",
    "end\n",
    "\n",
    "function hankel(y::AbstractArray)\n",
    "    m, time_duration = size(y) # m - dimention of output vector y, time_duration - length of timeseries (number of time steps)\n",
    "    q = Int(round(time_duration/2)) # q - is the size of Hankel matrix \n",
    "    H = zeros(eltype(y), q * m , q) \n",
    "    for r = 1:q, c = 1:q # r - rows, c -columns\n",
    "        H[(r-1)*m+1:r*m, c] = y[:, r+c-1]\n",
    "    end\n",
    "    return H, m\n",
    "end\n",
    "\n",
    "function lsid_ACx0S(Y::AbstractArray, Δt) #, δ = 1e-6)\n",
    "    # y - output time series dim[y] = m x number_of_time_steps\n",
    "    # δ - precission cutoff all the smaller values of Σ will be discarded \n",
    "    \n",
    "    H, m = hankel(Y) # Hankel matrix and dimention of output (should be 12 in our case)\n",
    "    U, Σ, Vᵈ = svd(H) # Singular value decomposition of H to U,  Σ,  V†\n",
    "    \n",
    "    s = Diagonal(sqrt.(Σ)) # Matrix square root \n",
    "    U = U * s\n",
    "    Vᵈ = s * Vᵈ\n",
    "     \n",
    "    # n = argmin(abs.(Σ/maximum(Σ) .- δ)) - 1 # estimated rank of the system\n",
    "\n",
    "    Σ_log = log.(Σ/maximum(Σ))\n",
    "    Σ²ᴰ = reshape(Σ_log, (1, length(Σ_log)))\n",
    "\n",
    "    n = minimum(counts(kmeans(Σ²ᴰ, 2))) + 1\n",
    "    \n",
    "    C = U[1:m, 1:n] # m - dimention of output, n - rank of the system\n",
    "    \n",
    "    U_up = U[1:end-m, :] # U↑\n",
    "    U_down = U[m+1:end, :] # U↓\n",
    "    \n",
    "    A = pinv(U_up) * U_down\n",
    "    Ac = log(A)/Δt \n",
    "    \n",
    "    Ac = Ac[1:n, 1:n] \n",
    "    A = A[1:n, 1:n] # n - estimated rank of the system\n",
    "    \n",
    "    x₀ = pinv(U) * H\n",
    "    x₀ = x₀[1:n, 1]\n",
    "    \n",
    "    return A, Ac, C, x₀, n, Σ²ᴰ # was A, Ac, C, x0\n",
    "\n",
    "end\n",
    "\n",
    "function get_rho_series(file_name, γ)\n",
    "    h5open(file_name, \"r\") do file\n",
    "        ρᵧ = read(file[string(γ)])\n",
    "        tᵧ = ρᵧ[\"t\"]\n",
    "        ρ₀₀ = ρᵧ[\"p0\"]; Re_ρ₀₁ = ρᵧ[\"s_re\"];  Im_ρ₀₁ = ρᵧ[\"s_im\"]\n",
    "        ρ = []\n",
    "        t = []\n",
    "\n",
    "        for i in 1:length(tᵧ)\n",
    "            ρᵢ= [ ρ₀₀[i]                      Re_ρ₀₁[i] + im * Im_ρ₀₁[i]\n",
    "                  Re_ρ₀₁[i] - im * Im_ρ₀₁[i]  1 - ρ₀₀[i]                 ]\n",
    "            \n",
    "            push!(ρ, convert(Matrix{ComplexF64}, ρᵢ))\n",
    "            push!(t, convert(Float64, tᵧ[i]))\n",
    "        end\n",
    "        return(ρ, t)\n",
    "    end\n",
    "end\n",
    "\n",
    "function get_vec_rho_series(file_name, γ)\n",
    "    h5open(file_name, \"r\") do file\n",
    "        ρ = read(file[string(γ)])\n",
    "        ρ₀₀ = ρ[\"p0\"]; Re_ρ₀₁ = ρ[\"s_re\"];  Im_ρ₀₁ = ρ[\"s_im\"]\n",
    "        return([ρ₀₀;; Re_ρ₀₁;; Im_ρ₀₁], ρ[\"t\"])\n",
    "    end\n",
    "end\n",
    "\n",
    "function get_Y(directory, γᵢ)\n",
    "    \n",
    "    ρᵉᵥ, tᵉ = get_vec_rho_series(directory*\"State_B1_data.h5\", string(γᵢ))\n",
    "    ρᵍᵥ, tᵍ = get_vec_rho_series(directory*\"State_B2_data.h5\", string(γᵢ))\n",
    "    ρˣᵥ, tˣ = get_vec_rho_series(directory*\"State_B3_data.h5\", string(γᵢ))\n",
    "    ρʸᵥ, tʸ = get_vec_rho_series(directory*\"State_B4_data.h5\", string(γᵢ))\n",
    "    \n",
    "    lᵉ = size(ρᵉᵥ, 1); lᵍ = size(ρᵍᵥ, 1); lˣ = size(ρˣᵥ, 1); lʸ = size(ρʸᵥ, 1)\n",
    "    lᵐᵃˣ = min(lᵉ, lᵍ,  lˣ, lʸ)  #choose time limit by shortest series\n",
    "    \n",
    "    @assert(tᵉ[ lᵐᵃˣ ] == tᵍ[ lᵐᵃˣ ] == tˣ[ lᵐᵃˣ ] == tʸ[ lᵐᵃˣ ])\n",
    "    \n",
    "    Y = [ρᵉᵥ[1:lᵐᵃˣ, :];; ρᵍᵥ[1:lᵐᵃˣ, :];; ρˣᵥ[1:lᵐᵃˣ, :];; ρʸᵥ[1:lᵐᵃˣ, :]]\n",
    "    \n",
    "    return transpose(Y), tᵉ[ 1:lᵐᵃˣ]\n",
    "end"
   ]
  },
  {
   "cell_type": "code",
   "execution_count": 79,
   "id": "03ad2e57",
   "metadata": {},
   "outputs": [
    {
     "name": "stdout",
     "output_type": "stream",
     "text": [
      "[\"State_B1\", \"State_B2\", \"State_B3\", \"State_B4\"]\n",
      "[\"State_D1\", \"State_D2\", \"State_D3\", \"State_D4\", \"State_D5\", \"State_D6\", \"State_D7\", \"State_D8\", \"State_D9\", \"State_D10\", \"State_D11\", \"State_D12\", \"State_D13\", \"State_D14\", \"State_D15\", \"State_D16\", \"State_D17\", \"State_D18\", \"State_D19\", \"State_D20\"]"
     ]
    },
    {
     "data": {
      "text/plain": [
       "8-element Vector{String}:\n",
       " \"0.079477\"\n",
       " \"0.25133\"\n",
       " \"0.79477\"\n",
       " \"2.5133\"\n",
       " \"25.133\"\n",
       " \"251.33\"\n",
       " \"7.9477\"\n",
       " \"79.477\""
      ]
     },
     "execution_count": 79,
     "metadata": {},
     "output_type": "execute_result"
    }
   ],
   "source": [
    "# Names of files with Kurt data\n",
    "basis_file_names = [\"State_B\"*string(n) for n=1:4]\n",
    "println(basis_file_names)\n",
    "dodeca_file_names = [\"State_D\"*string(n) for n=1:20]\n",
    "print(dodeca_file_names)\n",
    "#directory = \"C:/Users/Zakhar/Documents/GitHub/JPOP_SID/DATA/\"\n",
    "directory = \"C:/Users/Zakhar/Documents/GitHub/Kurt2021/2022JAN24/DATA/\"\n",
    "\n",
    "date_and_time_string =  string(Dates.format(now(), \"yyyy-u-dd_at_HH-MM\"))\n",
    "res_file_name = \"Kurt_LSID_ACx0S_\" * date_and_time_string * \".h5\"\n",
    "\n",
    "γ = get_keys(directory*basis_file_names[1]*\"_data.h5\")"
   ]
  },
  {
   "cell_type": "code",
   "execution_count": 80,
   "id": "d8a7d777",
   "metadata": {},
   "outputs": [
    {
     "name": "stdout",
     "output_type": "stream",
     "text": [
      "| SID for γ = 79.477...\n",
      " SID for γ =79.477done.|\n",
      " Saving for γ =79.477done.|\n",
      "| SID for γ = 251.33...\n",
      " SID for γ =251.33done.|\n",
      " Saving for γ =251.33done.|\n"
     ]
    }
   ],
   "source": [
    "γ = [\"79.477\", \"251.33\"]\n",
    "\n",
    "lck_read  = ReentrantLock() # create lock to use when reading in the loop below\n",
    "lck_write = ReentrantLock() # create lock to use when writing in the loop below\n",
    "\n",
    "@time Threads.@threads for γᵢ in γ\n",
    "    \n",
    "    println(\"| SID for γ = \"*γᵢ*\"...\")\n",
    "    \n",
    "    lock(lck_read)\n",
    "    try\n",
    "        Y, t = get_Y(directory, γᵢ)\n",
    "    finally\n",
    "        unlock(lck_read)\n",
    "    end\n",
    "\n",
    "    @assert maximum(diff(t)) ≈ minimum(diff(t))\n",
    "    Δt = t[2]-t[1]\n",
    "    \n",
    "    A, Ac, C, x₀, n, Σ²ᴰ = lsid_ACx0S(Y, Δt)   \n",
    "    \n",
    "    println(\" SID for γ =\"*string(γᵢ)*\"done.|\")\n",
    "    \n",
    "    lock(lck_write)\n",
    "            \n",
    "        try\n",
    "\n",
    "            h5open(directory*res_file_name,\"cw\") do fid  \n",
    "            # read-write, create file if not existing, preserve existing contents\n",
    "\n",
    "                γ_group = create_group(fid, \"gamma_\"*string(γᵢ))\n",
    "\n",
    "                γ_group[\"A\"] = convert.(ComplexF64, A)\n",
    "                γ_group[\"Ac\"] = convert.(ComplexF64, Ac)\n",
    "                γ_group[\"C\"] = convert.(ComplexF64, C)\n",
    "                γ_group[\"x0\"] = convert.(ComplexF64, x₀)\n",
    "                γ_group[\"n\"] = n\n",
    "                γ_group[\"sigma\"] = Σ²ᴰ\n",
    "\n",
    "            end # of HDF5 writing\n",
    "\n",
    "        finally\n",
    "            unlock(lck_write)\n",
    "        end\n",
    "\n",
    "        println(\" Saving for γ =\"*string(γᵢ)*\"done.|\")\n",
    "    \n",
    "end # of loop over the coupling levels γ\n"
   ]
  },
  {
   "cell_type": "code",
   "execution_count": 81,
   "id": "7c84a949",
   "metadata": {},
   "outputs": [
    {
     "data": {
      "text/plain": [
       "get_kurt_lsid (generic function with 1 method)"
      ]
     },
     "execution_count": 81,
     "metadata": {},
     "output_type": "execute_result"
    }
   ],
   "source": [
    "function get_kurt_lsid(file, γ_group)\n",
    "\n",
    "    h5open(file,\"r\") do fid # read-only\n",
    "        A = read(fid[γ_group][\"A\"])\n",
    "        Ac = read(fid[γ_group][\"Ac\"])\n",
    "        C = read(fid[γ_group][\"C\"])\n",
    "        x₀ = read(fid[γ_group][\"x0\"])\n",
    "        n = read(fid[γ_group][\"n\"])\n",
    "        Σ = read(fid[γ_group][\"sigma\"])\n",
    "        \n",
    "        return A, Ac, C, x₀, n, Σ\n",
    "    end\n",
    "end"
   ]
  },
  {
   "cell_type": "code",
   "execution_count": 83,
   "id": "9cb897b7",
   "metadata": {},
   "outputs": [
    {
     "data": {
      "text/plain": [
       "(ComplexF64[1.0000054296321246 + 0.0im -0.0002699091316564694 + 0.0im … -1.3583547957247044e-7 + 0.0im 1.3091533834921305e-8 + 0.0im; 0.0027027652163920833 + 0.0im 0.982834165634632 + 0.0im … 2.093683232714668e-6 + 0.0im -5.803849386247395e-7 + 0.0im; … ; 1.4105975481015776e-6 + 0.0im 7.112952886245694e-6 + 0.0im … 0.9700436320779982 + 0.0im -0.11104453209166158 + 0.0im; 1.309677344352167e-6 + 0.0im -1.2211858759769711e-6 + 0.0im … 0.22343928319081938 + 0.0im 0.962455514660106 + 0.0im], ComplexF64[0.023312583504179182 - 1.2454772456427343e-14im -1.0807254492270584 + 1.4464612233672246e-13im … -0.0006096771190230496 - 1.583874959966003e-9im 8.396466035790323e-5 + 1.8766880324511762e-9im; 10.856385678109865 - 9.194034422677107e-14im -65.48613480799116 + 1.1934897514720227e-12im … 0.010421406177594498 - 1.4087530594104526e-8im -0.003223278396254719 + 1.6691924088047424e-8im; … ; -0.0004112266130521819 + 3.810849205643165e-10im 0.06310167369040921 - 4.937371583628486e-9im … -15.687084166308301 + 5.743018984677474e-5im -450.13834031417207 - 6.804743959976026e-5im; 0.00496253612995544 + 7.70869208310131e-10im -0.03191808922669672 - 9.987012369980662e-9im … 905.3175137819204 + 0.00011616634382205515im -10.032574915532093 - 0.00013764228024015624im], ComplexF64[-0.5375924792564917 + 0.0im 0.41059664975950755 + 0.0im … -3.1131924007086953e-5 + 0.0im 2.655555285666059e-5 + 0.0im; 3.1951814016917804e-14 + 0.0im 9.563387450964702e-14 + 0.0im … 3.1516657850082427e-11 + 0.0im -3.545039099145593e-10 + 0.0im; … ; -0.06329223544798665 + 0.0im -0.047858100997279905 + 0.0im … 3.1534654417383763e-6 + 0.0im -1.3138561741116678e-6 + 0.0im; -0.03681463080982957 + 0.0im 0.4636359732586941 + 0.0im … -2.6435930460199862e-5 + 0.0im -2.634774390221484e-6 + 0.0im], ComplexF64[-1.0931596649307476 + 0.0im, 0.8059353442905672 + 0.0im, 0.36703312663292936 + 0.0im, 0.6029077818644284 + 0.0im, -0.2021791822146435 + 0.0im, 0.10823692294881634 + 0.0im, -0.19030562030160542 + 0.0im, -0.15590270944836285 + 0.0im, 0.12636052636782108 + 0.0im, -0.13254847101114298 + 0.0im  …  0.0014382682600233565 + 0.0im, 0.000754145083071478 + 0.0im, 0.0004240294166439895 + 0.0im, 0.00038066263614666696 + 0.0im, 0.0002494817709610686 + 0.0im, 0.00026992373260270597 + 0.0im, 0.0002252014736967567 + 0.0im, 0.00014937660507285955 + 0.0im, -0.00011654994520426953 + 0.0im, 6.561140667571408e-5 + 0.0im], 34, [0.0 -2.8997955363458128 … -31.09722214200541 -31.111407811212583])"
      ]
     },
     "execution_count": 83,
     "metadata": {},
     "output_type": "execute_result"
    }
   ],
   "source": [
    "A, Ac, C, x₀, n, Σ²ᴰ = get_kurt_lsid(directory*res_file_name, \"gamma_\"*\"251.33\") "
   ]
  },
  {
   "cell_type": "code",
   "execution_count": 84,
   "id": "de1cf466",
   "metadata": {},
   "outputs": [
    {
     "data": {
      "text/plain": [
       "34×34 Matrix{ComplexF64}:\n",
       "      1.00001+0.0im  -0.000269909+0.0im  …    1.30915e-8+0.0im\n",
       "   0.00270277+0.0im      0.982834+0.0im      -5.80385e-7+0.0im\n",
       "  0.000974489+0.0im    -0.0453356+0.0im       5.40257e-7+0.0im\n",
       "   0.00187744+0.0im    -0.0192603+0.0im      -1.53089e-6+0.0im\n",
       "  -0.00101008+0.0im     0.0092677+0.0im      -2.17192e-6+0.0im\n",
       "  0.000603323+0.0im   -0.00401442+0.0im  …   -9.62598e-7+0.0im\n",
       " -0.000504812+0.0im    0.00887665+0.0im      -1.68273e-6+0.0im\n",
       " -0.000846175+0.0im     0.0054812+0.0im       1.74946e-6+0.0im\n",
       "  0.000259331+0.0im   -0.00550061+0.0im       4.31628e-6+0.0im\n",
       " -0.000342391+0.0im    0.00566688+0.0im       2.05467e-6+0.0im\n",
       "  0.000331372+0.0im   -0.00531031+0.0im  …    5.09239e-6+0.0im\n",
       "  -0.00026955+0.0im    0.00246092+0.0im       3.57941e-6+0.0im\n",
       "   3.46567e-5+0.0im   -0.00302466+0.0im      -1.60782e-5+0.0im\n",
       "             ⋮                           ⋱  \n",
       "  -2.39533e-6+0.0im    -4.5853e-5+0.0im     -0.000182193+0.0im\n",
       "   2.08279e-5+0.0im   -6.81534e-5+0.0im     -0.000203299+0.0im\n",
       "  -6.46819e-6+0.0im   -7.33054e-5+0.0im      0.000315906+0.0im\n",
       "   8.80742e-6+0.0im   -2.22994e-5+0.0im  …   0.000366419+0.0im\n",
       "  -2.42401e-6+0.0im   -2.22959e-5+0.0im       0.00038518+0.0im\n",
       "   4.83715e-6+0.0im   -1.07379e-5+0.0im      -2.76787e-6+0.0im\n",
       "  -1.68143e-6+0.0im   -1.34556e-5+0.0im       0.00178804+0.0im\n",
       "   3.88789e-6+0.0im   -7.00837e-6+0.0im      0.000147463+0.0im\n",
       "     -2.04e-6+0.0im   -1.28369e-5+0.0im  …     0.0110418+0.0im\n",
       "   2.54092e-6+0.0im   -3.36338e-6+0.0im       0.00252269+0.0im\n",
       "    1.4106e-6+0.0im    7.11295e-6+0.0im        -0.111045+0.0im\n",
       "   1.30968e-6+0.0im   -1.22119e-6+0.0im         0.962456+0.0im"
      ]
     },
     "execution_count": 84,
     "metadata": {},
     "output_type": "execute_result"
    }
   ],
   "source": [
    "A "
   ]
  },
  {
   "cell_type": "code",
   "execution_count": null,
   "id": "ee896d90",
   "metadata": {},
   "outputs": [],
   "source": []
  }
 ],
 "metadata": {
  "kernelspec": {
   "display_name": "Julia 1.7.2",
   "language": "julia",
   "name": "julia-1.7"
  },
  "language_info": {
   "file_extension": ".jl",
   "mimetype": "application/julia",
   "name": "julia",
   "version": "1.7.2"
  }
 },
 "nbformat": 4,
 "nbformat_minor": 5
}
