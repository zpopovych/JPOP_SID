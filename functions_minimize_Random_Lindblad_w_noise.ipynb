{
 "cells": [
  {
   "cell_type": "markdown",
   "id": "d0319259",
   "metadata": {},
   "source": [
    "### Minimization of Random Lindblad polynomial objective (with MomentTools)\n",
    "Test minimization function on the Pade objective constructed from the Random Lindblad evolution sample"
   ]
  },
  {
   "cell_type": "code",
   "execution_count": 1,
   "id": "a9ca91ec",
   "metadata": {
    "scrolled": true
   },
   "outputs": [
    {
     "name": "stderr",
     "output_type": "stream",
     "text": [
      "\n",
      "(process:19632): GLib-GIO-WARNING **: 09:05:13.304: Unexpectedly, UWP app `Microsoft.MSPaint_6.2203.1037.0_x64__8wekyb3d8bbwe' (AUMId `Microsoft.MSPaint_8wekyb3d8bbwe!Microsoft.MSPaint') supports 17 extensions but has no verbs\n"
     ]
    }
   ],
   "source": [
    "using LinearAlgebra\n",
    "using Plots"
   ]
  },
  {
   "cell_type": "markdown",
   "id": "cda7a473",
   "metadata": {},
   "source": [
    "#### Function to generate random Lindblad evolution w noise"
   ]
  },
  {
   "cell_type": "markdown",
   "id": "09acd071",
   "metadata": {},
   "source": [
    "Auxilary functions"
   ]
  },
  {
   "cell_type": "code",
   "execution_count": 2,
   "id": "96f8d64f",
   "metadata": {},
   "outputs": [
    {
     "data": {
      "text/plain": [
       "bloch (generic function with 1 method)"
      ]
     },
     "execution_count": 2,
     "metadata": {},
     "output_type": "execute_result"
    }
   ],
   "source": [
    "using LinearAlgebra\n",
    "using Plots\n",
    "\n",
    "function rand_dm(n)\n",
    "    # return a random density matrix\n",
    "    ρ = -1 .+ 2 * rand(n, n) \n",
    "    ρ += im * (-1 .+ 2 * rand(n, n))  \n",
    "    ρ = ρ * ρ'\n",
    "    Hermitian(ρ / tr(ρ))\n",
    "end\n",
    "\n",
    "function rand_herm(n)\n",
    "    # return a random hermitian matrix\n",
    "    h = -1 .+ 2 * rand(n, n)\n",
    "    h += im *(-1 .+ 2 *  rand(n, n))\n",
    "    h = 0.5 * (h + h')\n",
    "    Hermitian(h)\n",
    "end\n",
    "\n",
    "# Pauli matricies\n",
    "σ = [\n",
    "    [0 1; 1 0], [0 -im; im 0], [1 0; 0 -1], [1 0; 0 1]\n",
    "];\n",
    "\n",
    "\n",
    "function bloch(ρ_list::Vector{Matrix{ComplexF64}})\n",
    "    # Pauli matricies\n",
    "    σ = [ [0 1; 1 0], [0 -im; im 0], [1 0; 0 -1], [1 0; 0 1] ]\n",
    "    time_steps = length(ρ_list)\n",
    "    bloch_vec = zeros(3, time_steps)\n",
    "    for t in 1:time_steps\n",
    "        bloch_vec[:, t] = [real(tr(σ[i] * ρ_list[t])) for i=1:3]\n",
    "    end\n",
    "    bloch_vec\n",
    "end"
   ]
  },
  {
   "cell_type": "code",
   "execution_count": 3,
   "id": "522d6189",
   "metadata": {},
   "outputs": [
    {
     "data": {
      "text/plain": [
       "rho_series_from_bloch (generic function with 1 method)"
      ]
     },
     "execution_count": 3,
     "metadata": {},
     "output_type": "execute_result"
    }
   ],
   "source": [
    "function rho_from_bloch(bloch_vec::Vector{Float64})\n",
    "    # Pauli matricies\n",
    "    σ = [ [0 1; 1 0], [0 -im; im 0], [1 0; 0 -1], [1 0; 0 1] ]\n",
    "    ρ = (sum([bloch_vec[i] * σ[i] for i=1:3]) + I)/2 \n",
    "    ρ ::Matrix{ComplexF64}\n",
    "end\n",
    "\n",
    "function rho_series_from_bloch(bloch_vec::Matrix{Float64})\n",
    "    time_steps = size(bloch_vec, 2)\n",
    "    ρ = Vector{Matrix{ComplexF64}}() # size !!!\n",
    "    for t in 1:time_steps\n",
    "        push!(ρ, rho_from_bloch(bloch_vec[:, t]))     \n",
    "    end\n",
    "    ρ ::Vector{Matrix{ComplexF64}}\n",
    "end"
   ]
  },
  {
   "cell_type": "code",
   "execution_count": 4,
   "id": "edd110e9",
   "metadata": {},
   "outputs": [
    {
     "data": {
      "text/plain": [
       "rho3d_from_bloch (generic function with 1 method)"
      ]
     },
     "execution_count": 4,
     "metadata": {},
     "output_type": "execute_result"
    }
   ],
   "source": [
    "function rho3d_from_bloch(bloch_vec::Matrix{Float64})\n",
    "    σ = [ [0 1; 1 0], [0 -im; im 0], [1 0; 0 -1], [1 0; 0 1] ]\n",
    "    time_steps = size(bloch_vec, 2)\n",
    "    ρ = zeros(2, 2, time_steps) + im*zeros(2, 2, time_steps)\n",
    "    for t in 1:time_steps\n",
    "        ρ[:, :, t] = (sum([bloch_vec[i, t] * σ[i] for i=1:3]) + I)/2       \n",
    "    end\n",
    "    ρ ::Array{ComplexF64, 3}\n",
    "end"
   ]
  },
  {
   "cell_type": "markdown",
   "id": "08245d7f",
   "metadata": {},
   "source": [
    "Set Quantum basis and declare fynction to generate random Lindblad evolution"
   ]
  },
  {
   "cell_type": "code",
   "execution_count": 5,
   "id": "2fc00605",
   "metadata": {},
   "outputs": [
    {
     "data": {
      "text/plain": [
       "rand_Linblad_w_noise (generic function with 1 method)"
      ]
     },
     "execution_count": 5,
     "metadata": {},
     "output_type": "execute_result"
    }
   ],
   "source": [
    "using Random\n",
    "using QuantumOptics\n",
    "\n",
    "basis = NLevelBasis(2) # define 2-level basis\n",
    "\n",
    "tₘₐₓ = 2.0 # maximum time \n",
    "Δt = 0.05     # time step\n",
    "time_span = [0:Δt:tₘₐₓ;] # time span\n",
    "\n",
    "function rand_Linblad_w_noise(seed, w, t_list) # put t list here!!!!\n",
    "    # seed - to generate reproducable system,\n",
    "    # w - noise level\n",
    "    # t_list - time span\n",
    "    \n",
    "    Random.seed!(seed)    \n",
    "    \n",
    "    ρ₀ = DenseOperator(basis, rand_dm(2))  # initial state density matrix\n",
    "    H = DenseOperator(basis, rand_herm(2)) # Hamiltonian of the system\n",
    "    J = DenseOperator(basis, (-1 .+ 2 *randn(2, 2)) + im*(-1 .+ 2 *randn(2, 2))) # Lindblad decipator  was rand !!!!!!\n",
    "    \n",
    "    time, ρ_exact = timeevolution.master(t_list, ρ₀, H, [J])\n",
    "\n",
    "    ρ = [ (1 - w) * ρₜ.data + w * rand_dm(2) for ρₜ in ρ_exact ];\n",
    "    \n",
    "    bloch(ρ)    \n",
    "end"
   ]
  },
  {
   "cell_type": "markdown",
   "id": "bae91d66",
   "metadata": {},
   "source": [
    "Lets generate and plot evolutuion of the Bloch vector using the function declared above "
   ]
  },
  {
   "cell_type": "code",
   "execution_count": 6,
   "id": "2cafe87d",
   "metadata": {
    "scrolled": true
   },
   "outputs": [
    {
     "data": {
      "image/svg+xml": [
       "<?xml version=\"1.0\" encoding=\"utf-8\"?>\n",
       "<svg xmlns=\"http://www.w3.org/2000/svg\" xmlns:xlink=\"http://www.w3.org/1999/xlink\" width=\"600\" height=\"400\" viewBox=\"0 0 2400 1600\">\n",
       "<defs>\n",
       "  <clipPath id=\"clip830\">\n",
       "    <rect x=\"0\" y=\"0\" width=\"2400\" height=\"1600\"/>\n",
       "  </clipPath>\n",
       "</defs>\n",
       "<path clip-path=\"url(#clip830)\" d=\"\n",
       "M0 1600 L2400 1600 L2400 0 L0 0  Z\n",
       "  \" fill=\"#ffffff\" fill-rule=\"evenodd\" fill-opacity=\"1\"/>\n",
       "<defs>\n",
       "  <clipPath id=\"clip831\">\n",
       "    <rect x=\"480\" y=\"0\" width=\"1681\" height=\"1600\"/>\n",
       "  </clipPath>\n",
       "</defs>\n",
       "<path clip-path=\"url(#clip830)\" d=\"\n",
       "M194.422 1486.45 L2352.76 1486.45 L2352.76 47.2441 L194.422 47.2441  Z\n",
       "  \" fill=\"#ffffff\" fill-rule=\"evenodd\" fill-opacity=\"1\"/>\n",
       "<defs>\n",
       "  <clipPath id=\"clip832\">\n",
       "    <rect x=\"194\" y=\"47\" width=\"2159\" height=\"1440\"/>\n",
       "  </clipPath>\n",
       "</defs>\n",
       "<polyline clip-path=\"url(#clip832)\" style=\"stroke:#000000; stroke-linecap:butt; stroke-linejoin:round; stroke-width:2; stroke-opacity:0.1; fill:none\" points=\"\n",
       "  204.603,1486.45 204.603,47.2441 \n",
       "  \"/>\n",
       "<polyline clip-path=\"url(#clip832)\" style=\"stroke:#000000; stroke-linecap:butt; stroke-linejoin:round; stroke-width:2; stroke-opacity:0.1; fill:none\" points=\"\n",
       "  713.644,1486.45 713.644,47.2441 \n",
       "  \"/>\n",
       "<polyline clip-path=\"url(#clip832)\" style=\"stroke:#000000; stroke-linecap:butt; stroke-linejoin:round; stroke-width:2; stroke-opacity:0.1; fill:none\" points=\"\n",
       "  1222.68,1486.45 1222.68,47.2441 \n",
       "  \"/>\n",
       "<polyline clip-path=\"url(#clip832)\" style=\"stroke:#000000; stroke-linecap:butt; stroke-linejoin:round; stroke-width:2; stroke-opacity:0.1; fill:none\" points=\"\n",
       "  1731.73,1486.45 1731.73,47.2441 \n",
       "  \"/>\n",
       "<polyline clip-path=\"url(#clip832)\" style=\"stroke:#000000; stroke-linecap:butt; stroke-linejoin:round; stroke-width:2; stroke-opacity:0.1; fill:none\" points=\"\n",
       "  2240.77,1486.45 2240.77,47.2441 \n",
       "  \"/>\n",
       "<polyline clip-path=\"url(#clip830)\" style=\"stroke:#000000; stroke-linecap:butt; stroke-linejoin:round; stroke-width:4; stroke-opacity:1; fill:none\" points=\"\n",
       "  194.422,1486.45 2352.76,1486.45 \n",
       "  \"/>\n",
       "<polyline clip-path=\"url(#clip830)\" style=\"stroke:#000000; stroke-linecap:butt; stroke-linejoin:round; stroke-width:4; stroke-opacity:1; fill:none\" points=\"\n",
       "  204.603,1486.45 204.603,1467.55 \n",
       "  \"/>\n",
       "<polyline clip-path=\"url(#clip830)\" style=\"stroke:#000000; stroke-linecap:butt; stroke-linejoin:round; stroke-width:4; stroke-opacity:1; fill:none\" points=\"\n",
       "  713.644,1486.45 713.644,1467.55 \n",
       "  \"/>\n",
       "<polyline clip-path=\"url(#clip830)\" style=\"stroke:#000000; stroke-linecap:butt; stroke-linejoin:round; stroke-width:4; stroke-opacity:1; fill:none\" points=\"\n",
       "  1222.68,1486.45 1222.68,1467.55 \n",
       "  \"/>\n",
       "<polyline clip-path=\"url(#clip830)\" style=\"stroke:#000000; stroke-linecap:butt; stroke-linejoin:round; stroke-width:4; stroke-opacity:1; fill:none\" points=\"\n",
       "  1731.73,1486.45 1731.73,1467.55 \n",
       "  \"/>\n",
       "<polyline clip-path=\"url(#clip830)\" style=\"stroke:#000000; stroke-linecap:butt; stroke-linejoin:round; stroke-width:4; stroke-opacity:1; fill:none\" points=\"\n",
       "  2240.77,1486.45 2240.77,1467.55 \n",
       "  \"/>\n",
       "<path clip-path=\"url(#clip830)\" d=\"M204.603 1517.37 Q200.992 1517.37 199.163 1520.93 Q197.358 1524.47 197.358 1531.6 Q197.358 1538.71 199.163 1542.27 Q200.992 1545.82 204.603 1545.82 Q208.237 1545.82 210.043 1542.27 Q211.871 1538.71 211.871 1531.6 Q211.871 1524.47 210.043 1520.93 Q208.237 1517.37 204.603 1517.37 M204.603 1513.66 Q210.413 1513.66 213.469 1518.27 Q216.547 1522.85 216.547 1531.6 Q216.547 1540.33 213.469 1544.94 Q210.413 1549.52 204.603 1549.52 Q198.793 1549.52 195.714 1544.94 Q192.659 1540.33 192.659 1531.6 Q192.659 1522.85 195.714 1518.27 Q198.793 1513.66 204.603 1513.66 Z\" fill=\"#000000\" fill-rule=\"evenodd\" fill-opacity=\"1\" /><path clip-path=\"url(#clip830)\" d=\"M688.332 1544.91 L695.97 1544.91 L695.97 1518.55 L687.66 1520.21 L687.66 1515.95 L695.924 1514.29 L700.6 1514.29 L700.6 1544.91 L708.239 1544.91 L708.239 1548.85 L688.332 1548.85 L688.332 1544.91 Z\" fill=\"#000000\" fill-rule=\"evenodd\" fill-opacity=\"1\" /><path clip-path=\"url(#clip830)\" d=\"M727.683 1517.37 Q724.072 1517.37 722.243 1520.93 Q720.438 1524.47 720.438 1531.6 Q720.438 1538.71 722.243 1542.27 Q724.072 1545.82 727.683 1545.82 Q731.317 1545.82 733.123 1542.27 Q734.952 1538.71 734.952 1531.6 Q734.952 1524.47 733.123 1520.93 Q731.317 1517.37 727.683 1517.37 M727.683 1513.66 Q733.493 1513.66 736.549 1518.27 Q739.628 1522.85 739.628 1531.6 Q739.628 1540.33 736.549 1544.94 Q733.493 1549.52 727.683 1549.52 Q721.873 1549.52 718.794 1544.94 Q715.739 1540.33 715.739 1531.6 Q715.739 1522.85 718.794 1518.27 Q721.873 1513.66 727.683 1513.66 Z\" fill=\"#000000\" fill-rule=\"evenodd\" fill-opacity=\"1\" /><path clip-path=\"url(#clip830)\" d=\"M1201.46 1544.91 L1217.78 1544.91 L1217.78 1548.85 L1195.83 1548.85 L1195.83 1544.91 Q1198.5 1542.16 1203.08 1537.53 Q1207.68 1532.88 1208.87 1531.53 Q1211.11 1529.01 1211.99 1527.27 Q1212.89 1525.51 1212.89 1523.82 Q1212.89 1521.07 1210.95 1519.33 Q1209.03 1517.6 1205.93 1517.6 Q1203.73 1517.6 1201.27 1518.36 Q1198.84 1519.13 1196.06 1520.68 L1196.06 1515.95 Q1198.89 1514.82 1201.34 1514.24 Q1203.8 1513.66 1205.83 1513.66 Q1211.2 1513.66 1214.4 1516.35 Q1217.59 1519.03 1217.59 1523.52 Q1217.59 1525.65 1216.78 1527.57 Q1216 1529.47 1213.89 1532.07 Q1213.31 1532.74 1210.21 1535.95 Q1207.11 1539.15 1201.46 1544.91 Z\" fill=\"#000000\" fill-rule=\"evenodd\" fill-opacity=\"1\" /><path clip-path=\"url(#clip830)\" d=\"M1237.59 1517.37 Q1233.98 1517.37 1232.15 1520.93 Q1230.35 1524.47 1230.35 1531.6 Q1230.35 1538.71 1232.15 1542.27 Q1233.98 1545.82 1237.59 1545.82 Q1241.23 1545.82 1243.03 1542.27 Q1244.86 1538.71 1244.86 1531.6 Q1244.86 1524.47 1243.03 1520.93 Q1241.23 1517.37 1237.59 1517.37 M1237.59 1513.66 Q1243.4 1513.66 1246.46 1518.27 Q1249.54 1522.85 1249.54 1531.6 Q1249.54 1540.33 1246.46 1544.94 Q1243.4 1549.52 1237.59 1549.52 Q1231.78 1549.52 1228.7 1544.94 Q1225.65 1540.33 1225.65 1531.6 Q1225.65 1522.85 1228.7 1518.27 Q1231.78 1513.66 1237.59 1513.66 Z\" fill=\"#000000\" fill-rule=\"evenodd\" fill-opacity=\"1\" /><path clip-path=\"url(#clip830)\" d=\"M1720.57 1530.21 Q1723.93 1530.93 1725.8 1533.2 Q1727.7 1535.47 1727.7 1538.8 Q1727.7 1543.92 1724.18 1546.72 Q1720.66 1549.52 1714.18 1549.52 Q1712 1549.52 1709.69 1549.08 Q1707.4 1548.66 1704.94 1547.81 L1704.94 1543.29 Q1706.89 1544.43 1709.2 1545.01 Q1711.52 1545.58 1714.04 1545.58 Q1718.44 1545.58 1720.73 1543.85 Q1723.05 1542.11 1723.05 1538.8 Q1723.05 1535.75 1720.89 1534.03 Q1718.76 1532.3 1714.94 1532.3 L1710.92 1532.3 L1710.92 1528.45 L1715.13 1528.45 Q1718.58 1528.45 1720.41 1527.09 Q1722.24 1525.7 1722.24 1523.11 Q1722.24 1520.45 1720.34 1519.03 Q1718.46 1517.6 1714.94 1517.6 Q1713.02 1517.6 1710.82 1518.01 Q1708.62 1518.43 1705.99 1519.31 L1705.99 1515.14 Q1708.65 1514.4 1710.96 1514.03 Q1713.3 1513.66 1715.36 1513.66 Q1720.68 1513.66 1723.79 1516.09 Q1726.89 1518.5 1726.89 1522.62 Q1726.89 1525.49 1725.24 1527.48 Q1723.6 1529.45 1720.57 1530.21 Z\" fill=\"#000000\" fill-rule=\"evenodd\" fill-opacity=\"1\" /><path clip-path=\"url(#clip830)\" d=\"M1746.56 1517.37 Q1742.95 1517.37 1741.12 1520.93 Q1739.32 1524.47 1739.32 1531.6 Q1739.32 1538.71 1741.12 1542.27 Q1742.95 1545.82 1746.56 1545.82 Q1750.2 1545.82 1752 1542.27 Q1753.83 1538.71 1753.83 1531.6 Q1753.83 1524.47 1752 1520.93 Q1750.2 1517.37 1746.56 1517.37 M1746.56 1513.66 Q1752.37 1513.66 1755.43 1518.27 Q1758.51 1522.85 1758.51 1531.6 Q1758.51 1540.33 1755.43 1544.94 Q1752.37 1549.52 1746.56 1549.52 Q1740.75 1549.52 1737.67 1544.94 Q1734.62 1540.33 1734.62 1531.6 Q1734.62 1522.85 1737.67 1518.27 Q1740.75 1513.66 1746.56 1513.66 Z\" fill=\"#000000\" fill-rule=\"evenodd\" fill-opacity=\"1\" /><path clip-path=\"url(#clip830)\" d=\"M2228.94 1518.36 L2217.13 1536.81 L2228.94 1536.81 L2228.94 1518.36 M2227.71 1514.29 L2233.59 1514.29 L2233.59 1536.81 L2238.52 1536.81 L2238.52 1540.7 L2233.59 1540.7 L2233.59 1548.85 L2228.94 1548.85 L2228.94 1540.7 L2213.34 1540.7 L2213.34 1536.19 L2227.71 1514.29 Z\" fill=\"#000000\" fill-rule=\"evenodd\" fill-opacity=\"1\" /><path clip-path=\"url(#clip830)\" d=\"M2256.25 1517.37 Q2252.64 1517.37 2250.81 1520.93 Q2249.01 1524.47 2249.01 1531.6 Q2249.01 1538.71 2250.81 1542.27 Q2252.64 1545.82 2256.25 1545.82 Q2259.89 1545.82 2261.69 1542.27 Q2263.52 1538.71 2263.52 1531.6 Q2263.52 1524.47 2261.69 1520.93 Q2259.89 1517.37 2256.25 1517.37 M2256.25 1513.66 Q2262.06 1513.66 2265.12 1518.27 Q2268.2 1522.85 2268.2 1531.6 Q2268.2 1540.33 2265.12 1544.94 Q2262.06 1549.52 2256.25 1549.52 Q2250.44 1549.52 2247.36 1544.94 Q2244.31 1540.33 2244.31 1531.6 Q2244.31 1522.85 2247.36 1518.27 Q2250.44 1513.66 2256.25 1513.66 Z\" fill=\"#000000\" fill-rule=\"evenodd\" fill-opacity=\"1\" /><polyline clip-path=\"url(#clip832)\" style=\"stroke:#000000; stroke-linecap:butt; stroke-linejoin:round; stroke-width:2; stroke-opacity:0.1; fill:none\" points=\"\n",
       "  194.422,1247.36 2352.76,1247.36 \n",
       "  \"/>\n",
       "<polyline clip-path=\"url(#clip832)\" style=\"stroke:#000000; stroke-linecap:butt; stroke-linejoin:round; stroke-width:2; stroke-opacity:0.1; fill:none\" points=\"\n",
       "  194.422,943.463 2352.76,943.463 \n",
       "  \"/>\n",
       "<polyline clip-path=\"url(#clip832)\" style=\"stroke:#000000; stroke-linecap:butt; stroke-linejoin:round; stroke-width:2; stroke-opacity:0.1; fill:none\" points=\"\n",
       "  194.422,639.569 2352.76,639.569 \n",
       "  \"/>\n",
       "<polyline clip-path=\"url(#clip832)\" style=\"stroke:#000000; stroke-linecap:butt; stroke-linejoin:round; stroke-width:2; stroke-opacity:0.1; fill:none\" points=\"\n",
       "  194.422,335.674 2352.76,335.674 \n",
       "  \"/>\n",
       "<polyline clip-path=\"url(#clip830)\" style=\"stroke:#000000; stroke-linecap:butt; stroke-linejoin:round; stroke-width:4; stroke-opacity:1; fill:none\" points=\"\n",
       "  194.422,1486.45 194.422,47.2441 \n",
       "  \"/>\n",
       "<polyline clip-path=\"url(#clip830)\" style=\"stroke:#000000; stroke-linecap:butt; stroke-linejoin:round; stroke-width:4; stroke-opacity:1; fill:none\" points=\"\n",
       "  194.422,1247.36 213.32,1247.36 \n",
       "  \"/>\n",
       "<polyline clip-path=\"url(#clip830)\" style=\"stroke:#000000; stroke-linecap:butt; stroke-linejoin:round; stroke-width:4; stroke-opacity:1; fill:none\" points=\"\n",
       "  194.422,943.463 213.32,943.463 \n",
       "  \"/>\n",
       "<polyline clip-path=\"url(#clip830)\" style=\"stroke:#000000; stroke-linecap:butt; stroke-linejoin:round; stroke-width:4; stroke-opacity:1; fill:none\" points=\"\n",
       "  194.422,639.569 213.32,639.569 \n",
       "  \"/>\n",
       "<polyline clip-path=\"url(#clip830)\" style=\"stroke:#000000; stroke-linecap:butt; stroke-linejoin:round; stroke-width:4; stroke-opacity:1; fill:none\" points=\"\n",
       "  194.422,335.674 213.32,335.674 \n",
       "  \"/>\n",
       "<path clip-path=\"url(#clip830)\" d=\"M50.9921 1247.81 L80.6679 1247.81 L80.6679 1251.74 L50.9921 1251.74 L50.9921 1247.81 Z\" fill=\"#000000\" fill-rule=\"evenodd\" fill-opacity=\"1\" /><path clip-path=\"url(#clip830)\" d=\"M100.76 1233.16 Q97.1493 1233.16 95.3206 1236.72 Q93.515 1240.26 93.515 1247.39 Q93.515 1254.5 95.3206 1258.06 Q97.1493 1261.61 100.76 1261.61 Q104.395 1261.61 106.2 1258.06 Q108.029 1254.5 108.029 1247.39 Q108.029 1240.26 106.2 1236.72 Q104.395 1233.16 100.76 1233.16 M100.76 1229.45 Q106.571 1229.45 109.626 1234.06 Q112.705 1238.64 112.705 1247.39 Q112.705 1256.12 109.626 1260.73 Q106.571 1265.31 100.76 1265.31 Q94.9502 1265.31 91.8715 1260.73 Q88.816 1256.12 88.816 1247.39 Q88.816 1238.64 91.8715 1234.06 Q94.9502 1229.45 100.76 1229.45 Z\" fill=\"#000000\" fill-rule=\"evenodd\" fill-opacity=\"1\" /><path clip-path=\"url(#clip830)\" d=\"M120.922 1258.76 L125.807 1258.76 L125.807 1264.64 L120.922 1264.64 L120.922 1258.76 Z\" fill=\"#000000\" fill-rule=\"evenodd\" fill-opacity=\"1\" /><path clip-path=\"url(#clip830)\" d=\"M148.839 1234.15 L137.033 1252.6 L148.839 1252.6 L148.839 1234.15 M147.612 1230.08 L153.492 1230.08 L153.492 1252.6 L158.422 1252.6 L158.422 1256.49 L153.492 1256.49 L153.492 1264.64 L148.839 1264.64 L148.839 1256.49 L133.237 1256.49 L133.237 1251.98 L147.612 1230.08 Z\" fill=\"#000000\" fill-rule=\"evenodd\" fill-opacity=\"1\" /><path clip-path=\"url(#clip830)\" d=\"M53.0754 943.915 L82.7512 943.915 L82.7512 947.85 L53.0754 947.85 L53.0754 943.915 Z\" fill=\"#000000\" fill-rule=\"evenodd\" fill-opacity=\"1\" /><path clip-path=\"url(#clip830)\" d=\"M102.844 929.262 Q99.2326 929.262 97.4039 932.827 Q95.5984 936.368 95.5984 943.498 Q95.5984 950.604 97.4039 954.169 Q99.2326 957.711 102.844 957.711 Q106.478 957.711 108.283 954.169 Q110.112 950.604 110.112 943.498 Q110.112 936.368 108.283 932.827 Q106.478 929.262 102.844 929.262 M102.844 925.558 Q108.654 925.558 111.709 930.165 Q114.788 934.748 114.788 943.498 Q114.788 952.225 111.709 956.831 Q108.654 961.414 102.844 961.414 Q97.0335 961.414 93.9549 956.831 Q90.8993 952.225 90.8993 943.498 Q90.8993 934.748 93.9549 930.165 Q97.0335 925.558 102.844 925.558 Z\" fill=\"#000000\" fill-rule=\"evenodd\" fill-opacity=\"1\" /><path clip-path=\"url(#clip830)\" d=\"M123.006 954.864 L127.89 954.864 L127.89 960.743 L123.006 960.743 L123.006 954.864 Z\" fill=\"#000000\" fill-rule=\"evenodd\" fill-opacity=\"1\" /><path clip-path=\"url(#clip830)\" d=\"M142.103 956.808 L158.422 956.808 L158.422 960.743 L136.478 960.743 L136.478 956.808 Q139.14 954.053 143.723 949.424 Q148.33 944.771 149.51 943.428 Q151.755 940.905 152.635 939.169 Q153.538 937.41 153.538 935.72 Q153.538 932.965 151.593 931.229 Q149.672 929.493 146.57 929.493 Q144.371 929.493 141.918 930.257 Q139.487 931.021 136.709 932.572 L136.709 927.85 Q139.533 926.716 141.987 926.137 Q144.441 925.558 146.478 925.558 Q151.848 925.558 155.042 928.243 Q158.237 930.928 158.237 935.419 Q158.237 937.549 157.427 939.47 Q156.64 941.368 154.533 943.961 Q153.955 944.632 150.853 947.85 Q147.751 951.044 142.103 956.808 Z\" fill=\"#000000\" fill-rule=\"evenodd\" fill-opacity=\"1\" /><path clip-path=\"url(#clip830)\" d=\"M101.246 625.367 Q97.6354 625.367 95.8067 628.932 Q94.0012 632.474 94.0012 639.603 Q94.0012 646.71 95.8067 650.275 Q97.6354 653.816 101.246 653.816 Q104.881 653.816 106.686 650.275 Q108.515 646.71 108.515 639.603 Q108.515 632.474 106.686 628.932 Q104.881 625.367 101.246 625.367 M101.246 621.664 Q107.057 621.664 110.112 626.27 Q113.191 630.853 113.191 639.603 Q113.191 648.33 110.112 652.937 Q107.057 657.52 101.246 657.52 Q95.4363 657.52 92.3576 652.937 Q89.3021 648.33 89.3021 639.603 Q89.3021 630.853 92.3576 626.27 Q95.4363 621.664 101.246 621.664 Z\" fill=\"#000000\" fill-rule=\"evenodd\" fill-opacity=\"1\" /><path clip-path=\"url(#clip830)\" d=\"M121.408 650.969 L126.293 650.969 L126.293 656.849 L121.408 656.849 L121.408 650.969 Z\" fill=\"#000000\" fill-rule=\"evenodd\" fill-opacity=\"1\" /><path clip-path=\"url(#clip830)\" d=\"M146.478 625.367 Q142.867 625.367 141.038 628.932 Q139.232 632.474 139.232 639.603 Q139.232 646.71 141.038 650.275 Q142.867 653.816 146.478 653.816 Q150.112 653.816 151.918 650.275 Q153.746 646.71 153.746 639.603 Q153.746 632.474 151.918 628.932 Q150.112 625.367 146.478 625.367 M146.478 621.664 Q152.288 621.664 155.343 626.27 Q158.422 630.853 158.422 639.603 Q158.422 648.33 155.343 652.937 Q152.288 657.52 146.478 657.52 Q140.668 657.52 137.589 652.937 Q134.533 648.33 134.533 639.603 Q134.533 630.853 137.589 626.27 Q140.668 621.664 146.478 621.664 Z\" fill=\"#000000\" fill-rule=\"evenodd\" fill-opacity=\"1\" /><path clip-path=\"url(#clip830)\" d=\"M102.844 321.473 Q99.2326 321.473 97.4039 325.037 Q95.5984 328.579 95.5984 335.709 Q95.5984 342.815 97.4039 346.38 Q99.2326 349.922 102.844 349.922 Q106.478 349.922 108.283 346.38 Q110.112 342.815 110.112 335.709 Q110.112 328.579 108.283 325.037 Q106.478 321.473 102.844 321.473 M102.844 317.769 Q108.654 317.769 111.709 322.375 Q114.788 326.959 114.788 335.709 Q114.788 344.436 111.709 349.042 Q108.654 353.625 102.844 353.625 Q97.0335 353.625 93.9549 349.042 Q90.8993 344.436 90.8993 335.709 Q90.8993 326.959 93.9549 322.375 Q97.0335 317.769 102.844 317.769 Z\" fill=\"#000000\" fill-rule=\"evenodd\" fill-opacity=\"1\" /><path clip-path=\"url(#clip830)\" d=\"M123.006 347.074 L127.89 347.074 L127.89 352.954 L123.006 352.954 L123.006 347.074 Z\" fill=\"#000000\" fill-rule=\"evenodd\" fill-opacity=\"1\" /><path clip-path=\"url(#clip830)\" d=\"M142.103 349.019 L158.422 349.019 L158.422 352.954 L136.478 352.954 L136.478 349.019 Q139.14 346.264 143.723 341.635 Q148.33 336.982 149.51 335.639 Q151.755 333.116 152.635 331.38 Q153.538 329.621 153.538 327.931 Q153.538 325.176 151.593 323.44 Q149.672 321.704 146.57 321.704 Q144.371 321.704 141.918 322.468 Q139.487 323.232 136.709 324.783 L136.709 320.061 Q139.533 318.926 141.987 318.348 Q144.441 317.769 146.478 317.769 Q151.848 317.769 155.042 320.454 Q158.237 323.139 158.237 327.63 Q158.237 329.76 157.427 331.681 Q156.64 333.579 154.533 336.172 Q153.955 336.843 150.853 340.061 Q147.751 343.255 142.103 349.019 Z\" fill=\"#000000\" fill-rule=\"evenodd\" fill-opacity=\"1\" /><polyline clip-path=\"url(#clip832)\" style=\"stroke:#009af9; stroke-linecap:butt; stroke-linejoin:round; stroke-width:4; stroke-opacity:1; fill:none\" points=\"\n",
       "  255.507,1301.23 306.411,1191.41 357.315,1079.34 408.219,1011.13 459.123,944.583 510.028,941.968 560.932,937.852 611.836,961.243 662.74,990.743 713.644,1024.57 \n",
       "  764.548,1048.73 815.452,1054.82 866.356,1061.39 917.26,1075.85 968.164,1053.57 1019.07,1065.55 1069.97,1055.6 1120.88,1036.76 1171.78,1041.92 1222.68,1043.08 \n",
       "  1273.59,1048.32 1324.49,1036.1 1375.4,1057.88 1426.3,1063.15 1477.21,1050.68 1528.11,1052.01 1579.01,1050.32 1629.92,1070.44 1680.82,1047.89 1731.73,1054.4 \n",
       "  1782.63,1056.84 1833.53,1053.86 1884.44,1063.47 1935.34,1052.33 1986.25,1059.69 2037.15,1066.08 2088.05,1047.19 2138.96,1047.63 2189.86,1053.26 2240.77,1070.07 \n",
       "  2291.67,1053.23 \n",
       "  \"/>\n",
       "<polyline clip-path=\"url(#clip832)\" style=\"stroke:#e26f46; stroke-linecap:butt; stroke-linejoin:round; stroke-width:4; stroke-opacity:1; fill:none\" points=\"\n",
       "  255.507,87.9763 306.411,219.437 357.315,365.221 408.219,487.764 459.123,611.582 510.028,704.131 560.932,783.426 611.836,835.459 662.74,889.275 713.644,917.207 \n",
       "  764.548,956.384 815.452,995.706 866.356,1023.3 917.26,1051.05 968.164,1076.52 1019.07,1084.48 1069.97,1100.82 1120.88,1123.9 1171.78,1149.41 1222.68,1158.87 \n",
       "  1273.59,1169.53 1324.49,1175.19 1375.4,1187.51 1426.3,1195.77 1477.21,1207.33 1528.11,1201.87 1579.01,1208.52 1629.92,1215.57 1680.82,1214.11 1731.73,1211.93 \n",
       "  1782.63,1224.49 1833.53,1225.09 1884.44,1225.64 1935.34,1237.93 1986.25,1234.45 2037.15,1234.5 2088.05,1248.36 2138.96,1246.14 2189.86,1230.78 2240.77,1239.39 \n",
       "  2291.67,1233.66 \n",
       "  \"/>\n",
       "<polyline clip-path=\"url(#clip832)\" style=\"stroke:#3da44d; stroke-linecap:butt; stroke-linejoin:round; stroke-width:4; stroke-opacity:1; fill:none\" points=\"\n",
       "  255.507,1445.72 306.411,1333.6 357.315,1270.02 408.219,1258.16 459.123,1275.53 510.028,1295.37 560.932,1309 611.836,1313.05 662.74,1322.85 713.644,1304.71 \n",
       "  764.548,1292.89 815.452,1264.07 866.356,1255.46 917.26,1233.16 968.164,1208.7 1019.07,1210.08 1069.97,1189.87 1120.88,1195.72 1171.78,1178.07 1222.68,1187.4 \n",
       "  1273.59,1186.29 1324.49,1180 1375.4,1181.5 1426.3,1171.86 1477.21,1178.67 1528.11,1180.66 1579.01,1171.68 1629.92,1166.9 1680.82,1166.98 1731.73,1166.33 \n",
       "  1782.63,1160.71 1833.53,1157.04 1884.44,1161.78 1935.34,1162.6 1986.25,1157.35 2037.15,1160.01 2088.05,1165.03 2138.96,1154.1 2189.86,1160.12 2240.77,1160.57 \n",
       "  2291.67,1160.62 \n",
       "  \"/>\n",
       "<path clip-path=\"url(#clip830)\" d=\"\n",
       "M1987.99 302.578 L2280.81 302.578 L2280.81 95.2176 L1987.99 95.2176  Z\n",
       "  \" fill=\"#ffffff\" fill-rule=\"evenodd\" fill-opacity=\"1\"/>\n",
       "<polyline clip-path=\"url(#clip830)\" style=\"stroke:#000000; stroke-linecap:butt; stroke-linejoin:round; stroke-width:4; stroke-opacity:1; fill:none\" points=\"\n",
       "  1987.99,302.578 2280.81,302.578 2280.81,95.2176 1987.99,95.2176 1987.99,302.578 \n",
       "  \"/>\n",
       "<polyline clip-path=\"url(#clip830)\" style=\"stroke:#009af9; stroke-linecap:butt; stroke-linejoin:round; stroke-width:4; stroke-opacity:1; fill:none\" points=\"\n",
       "  2011.97,147.058 2155.86,147.058 \n",
       "  \"/>\n",
       "<path clip-path=\"url(#clip830)\" d=\"M2193.68 166.745 Q2191.88 171.375 2190.16 172.787 Q2188.45 174.199 2185.58 174.199 L2182.18 174.199 L2182.18 170.634 L2184.68 170.634 Q2186.44 170.634 2187.41 169.8 Q2188.38 168.967 2189.56 165.865 L2190.33 163.921 L2179.84 138.412 L2184.35 138.412 L2192.46 158.689 L2200.56 138.412 L2205.07 138.412 L2193.68 166.745 Z\" fill=\"#000000\" fill-rule=\"evenodd\" fill-opacity=\"1\" /><path clip-path=\"url(#clip830)\" d=\"M2212.36 160.402 L2220 160.402 L2220 134.037 L2211.69 135.703 L2211.69 131.444 L2219.96 129.778 L2224.63 129.778 L2224.63 160.402 L2232.27 160.402 L2232.27 164.338 L2212.36 164.338 L2212.36 160.402 Z\" fill=\"#000000\" fill-rule=\"evenodd\" fill-opacity=\"1\" /><polyline clip-path=\"url(#clip830)\" style=\"stroke:#e26f46; stroke-linecap:butt; stroke-linejoin:round; stroke-width:4; stroke-opacity:1; fill:none\" points=\"\n",
       "  2011.97,198.898 2155.86,198.898 \n",
       "  \"/>\n",
       "<path clip-path=\"url(#clip830)\" d=\"M2193.68 218.585 Q2191.88 223.215 2190.16 224.627 Q2188.45 226.039 2185.58 226.039 L2182.18 226.039 L2182.18 222.474 L2184.68 222.474 Q2186.44 222.474 2187.41 221.64 Q2188.38 220.807 2189.56 217.705 L2190.33 215.761 L2179.84 190.252 L2184.35 190.252 L2192.46 210.529 L2200.56 190.252 L2205.07 190.252 L2193.68 218.585 Z\" fill=\"#000000\" fill-rule=\"evenodd\" fill-opacity=\"1\" /><path clip-path=\"url(#clip830)\" d=\"M2215.58 212.242 L2231.9 212.242 L2231.9 216.178 L2209.96 216.178 L2209.96 212.242 Q2212.62 209.488 2217.2 204.858 Q2221.81 200.205 2222.99 198.863 Q2225.23 196.34 2226.11 194.604 Q2227.02 192.844 2227.02 191.155 Q2227.02 188.4 2225.07 186.664 Q2223.15 184.928 2220.05 184.928 Q2217.85 184.928 2215.39 185.692 Q2212.96 186.455 2210.19 188.006 L2210.19 183.284 Q2213.01 182.15 2215.46 181.571 Q2217.92 180.993 2219.96 180.993 Q2225.33 180.993 2228.52 183.678 Q2231.71 186.363 2231.71 190.854 Q2231.71 192.983 2230.9 194.905 Q2230.12 196.803 2228.01 199.395 Q2227.43 200.067 2224.33 203.284 Q2221.23 206.479 2215.58 212.242 Z\" fill=\"#000000\" fill-rule=\"evenodd\" fill-opacity=\"1\" /><polyline clip-path=\"url(#clip830)\" style=\"stroke:#3da44d; stroke-linecap:butt; stroke-linejoin:round; stroke-width:4; stroke-opacity:1; fill:none\" points=\"\n",
       "  2011.97,250.738 2155.86,250.738 \n",
       "  \"/>\n",
       "<path clip-path=\"url(#clip830)\" d=\"M2193.68 270.425 Q2191.88 275.055 2190.16 276.467 Q2188.45 277.879 2185.58 277.879 L2182.18 277.879 L2182.18 274.314 L2184.68 274.314 Q2186.44 274.314 2187.41 273.48 Q2188.38 272.647 2189.56 269.545 L2190.33 267.601 L2179.84 242.092 L2184.35 242.092 L2192.46 262.369 L2200.56 242.092 L2205.07 242.092 L2193.68 270.425 Z\" fill=\"#000000\" fill-rule=\"evenodd\" fill-opacity=\"1\" /><path clip-path=\"url(#clip830)\" d=\"M2225.72 249.383 Q2229.08 250.101 2230.95 252.369 Q2232.85 254.638 2232.85 257.971 Q2232.85 263.087 2229.33 265.888 Q2225.81 268.689 2219.33 268.689 Q2217.15 268.689 2214.84 268.249 Q2212.55 267.832 2210.09 266.976 L2210.09 262.462 Q2212.04 263.596 2214.35 264.175 Q2216.67 264.754 2219.19 264.754 Q2223.59 264.754 2225.88 263.018 Q2228.2 261.281 2228.2 257.971 Q2228.2 254.916 2226.04 253.203 Q2223.91 251.467 2220.09 251.467 L2216.07 251.467 L2216.07 247.624 L2220.28 247.624 Q2223.73 247.624 2225.56 246.258 Q2227.39 244.87 2227.39 242.277 Q2227.39 239.615 2225.49 238.203 Q2223.61 236.768 2220.09 236.768 Q2218.17 236.768 2215.97 237.184 Q2213.77 237.601 2211.14 238.481 L2211.14 234.314 Q2213.8 233.573 2216.11 233.203 Q2218.45 232.833 2220.51 232.833 Q2225.83 232.833 2228.94 235.263 Q2232.04 237.67 2232.04 241.791 Q2232.04 244.661 2230.39 246.652 Q2228.75 248.62 2225.72 249.383 Z\" fill=\"#000000\" fill-rule=\"evenodd\" fill-opacity=\"1\" /></svg>\n"
      ]
     },
     "execution_count": 6,
     "metadata": {},
     "output_type": "execute_result"
    }
   ],
   "source": [
    "bv = rand_Linblad_w_noise(1000, 0.01, time_span) \n",
    "plot(bv')"
   ]
  },
  {
   "cell_type": "code",
   "execution_count": 7,
   "id": "6301951d",
   "metadata": {},
   "outputs": [],
   "source": [
    "using LinearAlgebra\n",
    "using QuantumOptics\n",
    "using DynamicPolynomials, MomentTools\n",
    "using MosekTools\n",
    "using Random\n",
    "using JuMP"
   ]
  },
  {
   "cell_type": "markdown",
   "id": "e7c0b62d",
   "metadata": {},
   "source": [
    "Declare functions to constract Pade objective"
   ]
  },
  {
   "cell_type": "code",
   "execution_count": 8,
   "id": "b5eca768",
   "metadata": {},
   "outputs": [
    {
     "data": {
      "text/plain": [
       "pade_obj (generic function with 2 methods)"
      ]
     },
     "execution_count": 8,
     "metadata": {},
     "output_type": "execute_result"
    }
   ],
   "source": [
    "function frobenius_norm2(m)\n",
    "    return tr(m * m')\n",
    "end\n",
    "\n",
    "function lindblad_rhs(ρ, H, J)\n",
    "    \"\"\"\n",
    "    Right hand side of the Lindblad master equation\n",
    "    \"\"\"\n",
    "    return -1im * (H * ρ - ρ * H) + J * ρ * J' - (J' * J  * ρ + ρ * J' * J) / 2\n",
    "    \n",
    "end\n",
    "\n",
    "function pade_obj(ρ::Array{ComplexF64,3}, t, H, J)\n",
    "    \n",
    "    obj = 0\n",
    "    for i in 2:size(ρ,3)\n",
    "        obj += frobenius_norm2(\n",
    "            ρ[:, :, i] - ρ[:, :, i-1] \n",
    "            - (t[i]-t[i-1])*lindblad_rhs((ρ[:, :, i]+ρ[:, :, i-1])/2, H, J)\n",
    "        )\n",
    "    end\n",
    "    obj = sum(real(coef) * mon for (coef, mon) in zip(coefficients(obj), monomials(obj)))\n",
    "    return obj\n",
    "end\n",
    "\n",
    "function pade_obj(ρ::Vector{Matrix{ComplexF64}}, t, H, J)\n",
    "    obj = 0\n",
    "    for i in 2:size(ρ,1)\n",
    "        obj += frobenius_norm2(\n",
    "            ρ[i] - ρ[i-1] \n",
    "            - (t[i]-t[i-1])*lindblad_rhs((ρ[i]+ρ[i-1])/2, H, J)\n",
    "        )\n",
    "    end\n",
    "    obj = sum(real(coef) * mon for (coef, mon) in zip(coefficients(obj), monomials(obj)))\n",
    "    return obj\n",
    "end"
   ]
  },
  {
   "cell_type": "markdown",
   "id": "d46131b5",
   "metadata": {},
   "source": [
    "Declare symbolic Hamiltonian and decipator"
   ]
  },
  {
   "cell_type": "code",
   "execution_count": 9,
   "id": "8888fe3b",
   "metadata": {},
   "outputs": [
    {
     "data": {
      "text/plain": [
       "Matrix{Float64} (alias for Array{Float64, 2})"
      ]
     },
     "execution_count": 9,
     "metadata": {},
     "output_type": "execute_result"
    }
   ],
   "source": [
    "@polyvar x[1:4]\n",
    "H_symb = [ 1.0 * x[1]              x[3] + im * x[4]\n",
    "           x[3] - im * x[4]        x[2]             ]\n",
    "\n",
    "@polyvar a[1:2, 1:2]\n",
    "@polyvar b[1:2, 1:2]\n",
    "J_symb = 1.0 * a + im * b\n",
    "\n",
    "typeof(bv)"
   ]
  },
  {
   "cell_type": "code",
   "execution_count": 10,
   "id": "5ed128c9",
   "metadata": {},
   "outputs": [],
   "source": [
    "ρ_series = rho_series_from_bloch(bv);"
   ]
  },
  {
   "cell_type": "code",
   "execution_count": 11,
   "id": "7a7bb634",
   "metadata": {},
   "outputs": [],
   "source": [
    "@assert length(time_span)==length(ρ_series)"
   ]
  },
  {
   "cell_type": "code",
   "execution_count": 12,
   "id": "8286f207",
   "metadata": {},
   "outputs": [],
   "source": [
    "obj = pade_obj(ρ_series, time_span, H_symb, J_symb);"
   ]
  },
  {
   "cell_type": "markdown",
   "id": "9b2ea8dd",
   "metadata": {},
   "source": [
    "Declare function to perform local minimization of objective"
   ]
  },
  {
   "cell_type": "code",
   "execution_count": 13,
   "id": "d4d2d061",
   "metadata": {},
   "outputs": [
    {
     "data": {
      "text/plain": [
       "minimize_local (generic function with 1 method)"
      ]
     },
     "execution_count": 13,
     "metadata": {},
     "output_type": "execute_result"
    }
   ],
   "source": [
    "using NLopt\n",
    "\n",
    "function minimize_local(obj, guess) # polynomial objective, and guess x candidate\n",
    "    vars = variables(obj)\n",
    "    \n",
    "    @assert length(vars) == length(guess)\n",
    "\n",
    "    function g(a...)\n",
    "        # Converting polynomial expression to function to be minimize\n",
    "        obj(vars => a)\n",
    "    end\n",
    "    \n",
    "    model = Model(NLopt.Optimizer)\n",
    "\n",
    "    set_optimizer_attribute(model, \"algorithm\", :LD_MMA)\n",
    "    \n",
    "    #set_silent(model)\n",
    "    @variable(model, y[1:length(vars)]);\n",
    "    \n",
    "    for (var, init_val) in zip(y, guess)\n",
    "        set_start_value(var, init_val)\n",
    "    end\n",
    "    \n",
    "    register(model, :g, length(y), g; autodiff = true)\n",
    "    @NLobjective(model, Min, g(y...))\n",
    "    JuMP.optimize!(model)\n",
    "    solution = vars => map(value, y)\n",
    "    \n",
    "    return solution\n",
    "end "
   ]
  },
  {
   "cell_type": "markdown",
   "id": "e9c2ef67",
   "metadata": {},
   "source": [
    " Single function to perform all the process of minimization of objective"
   ]
  },
  {
   "cell_type": "code",
   "execution_count": 14,
   "id": "e314dc60",
   "metadata": {},
   "outputs": [
    {
     "data": {
      "text/plain": [
       "minimize_global (generic function with 1 method)"
      ]
     },
     "execution_count": 14,
     "metadata": {},
     "output_type": "execute_result"
    }
   ],
   "source": [
    "using DynamicPolynomials, MomentTools\n",
    "using MosekTools\n",
    "using JuMP\n",
    "\n",
    "function minimize_global(obj)\n",
    "    optimizer = optimizer_with_attributes(Mosek.Optimizer, \"QUIET\" => true)\n",
    "    obj_min, M = minimize(obj, [], [], variables(obj), maxdegree(obj) ÷ 2, optimizer)\n",
    "    \n",
    "    r = get_minimizers(M)\n",
    "    obj_min_vals = [obj(r[:,i]) for i=1:size(r)[2]]\n",
    "    best_candidate = r[:, argmin(obj_min_vals)]\n",
    "    \n",
    "    minimize_local(obj, best_candidate) \n",
    "   \n",
    "end "
   ]
  },
  {
   "cell_type": "code",
   "execution_count": 15,
   "id": "2996a159",
   "metadata": {},
   "outputs": [
    {
     "data": {
      "text/plain": [
       "PolyVar{true}[x₁, x₂, x₃, x₄, a₁₋₁, a₂₋₁, a₁₋₂, a₂₋₂, b₁₋₁, b₂₋₁, b₁₋₂, b₂₋₂] => [-1.8149185758919868, 1.8147091043280439, 0.6218912146770148, -4.495291394582347, -1.1375700947887937, -0.22566911574404938, 0.3311522980761146, 0.6738237872756939, 0.13841101176151122, 1.8451341715780316, -0.2142014404206339, -0.9103258129340991]"
      ]
     },
     "execution_count": 15,
     "metadata": {},
     "output_type": "execute_result"
    }
   ],
   "source": [
    "solution = minimize_global(obj)"
   ]
  },
  {
   "cell_type": "raw",
   "id": "ffee476f",
   "metadata": {},
   "source": [
    "solution = minimize_local(obj, rand(length(variables(obj))))"
   ]
  },
  {
   "cell_type": "code",
   "execution_count": 16,
   "id": "49d464c7",
   "metadata": {},
   "outputs": [
    {
     "data": {
      "text/plain": [
       "0.0020954284485980093"
      ]
     },
     "execution_count": 16,
     "metadata": {},
     "output_type": "execute_result"
    }
   ],
   "source": [
    "obj(solution)"
   ]
  },
  {
   "cell_type": "markdown",
   "id": "ce586f3a",
   "metadata": {},
   "source": [
    "Restore identified Hamiltonian and disipator <br>\n",
    "\n",
    "To save we can use: <br>\n",
    "H_sid = convert(Matrix{ComplexF64}, subs(H_symb, solution))<br>\n",
    "J_sid = convert(Matrix{ComplexF64}, subs(J_symb, solution))"
   ]
  },
  {
   "cell_type": "code",
   "execution_count": 17,
   "id": "e937af14",
   "metadata": {},
   "outputs": [
    {
     "data": {
      "text/plain": [
       "2×2 Matrix{Polynomial{true, ComplexF64}}:\n",
       " (-1.13757+0.138411im)  (0.331152-0.214201im)\n",
       " (-0.225669+1.84513im)  (0.673824-0.910326im)"
      ]
     },
     "execution_count": 17,
     "metadata": {},
     "output_type": "execute_result"
    }
   ],
   "source": [
    "H_sid = subs(H_symb, solution)\n",
    "J_sid = subs(J_symb, solution)"
   ]
  },
  {
   "cell_type": "markdown",
   "id": "f39b6e9f",
   "metadata": {},
   "source": [
    "Now lets simulate Lindbland dynamics with new identified parameters"
   ]
  },
  {
   "cell_type": "code",
   "execution_count": 18,
   "id": "732fc558",
   "metadata": {},
   "outputs": [
    {
     "data": {
      "text/plain": [
       "Operator(dim=2x2)\n",
       "  basis: NLevel(N=2)\n",
       " (-1.13757+0.138411im)  (0.331152-0.214201im)\n",
       " (-0.225669+1.84513im)  (0.673824-0.910326im)"
      ]
     },
     "execution_count": 18,
     "metadata": {},
     "output_type": "execute_result"
    }
   ],
   "source": [
    "using QuantumOptics\n",
    "\n",
    "ρ0_sid = DenseOperator(basis, Hermitian(ρ_series[1])) \n",
    "\n",
    "H_sid = DenseOperator(basis, H_sid) # Hamiltonian of the system\n",
    "J_sid = DenseOperator(basis, J_sid)"
   ]
  },
  {
   "cell_type": "code",
   "execution_count": 19,
   "id": "7780182f",
   "metadata": {},
   "outputs": [],
   "source": [
    "time, ρ_sid_ser  = timeevolution.master(time_span, ρ0_sid, H_sid, [J_sid]);"
   ]
  },
  {
   "cell_type": "code",
   "execution_count": 20,
   "id": "07215ebe",
   "metadata": {},
   "outputs": [],
   "source": [
    "ρ_sid = [ρₜ.data for ρₜ in ρ_sid_ser];"
   ]
  },
  {
   "cell_type": "code",
   "execution_count": 21,
   "id": "a339d720",
   "metadata": {},
   "outputs": [
    {
     "data": {
      "image/svg+xml": [
       "<?xml version=\"1.0\" encoding=\"utf-8\"?>\n",
       "<svg xmlns=\"http://www.w3.org/2000/svg\" xmlns:xlink=\"http://www.w3.org/1999/xlink\" width=\"600\" height=\"400\" viewBox=\"0 0 2400 1600\">\n",
       "<defs>\n",
       "  <clipPath id=\"clip870\">\n",
       "    <rect x=\"0\" y=\"0\" width=\"2400\" height=\"1600\"/>\n",
       "  </clipPath>\n",
       "</defs>\n",
       "<path clip-path=\"url(#clip870)\" d=\"\n",
       "M0 1600 L2400 1600 L2400 0 L0 0  Z\n",
       "  \" fill=\"#ffffff\" fill-rule=\"evenodd\" fill-opacity=\"1\"/>\n",
       "<defs>\n",
       "  <clipPath id=\"clip871\">\n",
       "    <rect x=\"480\" y=\"0\" width=\"1681\" height=\"1600\"/>\n",
       "  </clipPath>\n",
       "</defs>\n",
       "<path clip-path=\"url(#clip870)\" d=\"\n",
       "M194.422 1486.45 L2352.76 1486.45 L2352.76 47.2441 L194.422 47.2441  Z\n",
       "  \" fill=\"#ffffff\" fill-rule=\"evenodd\" fill-opacity=\"1\"/>\n",
       "<defs>\n",
       "  <clipPath id=\"clip872\">\n",
       "    <rect x=\"194\" y=\"47\" width=\"2159\" height=\"1440\"/>\n",
       "  </clipPath>\n",
       "</defs>\n",
       "<polyline clip-path=\"url(#clip872)\" style=\"stroke:#000000; stroke-linecap:butt; stroke-linejoin:round; stroke-width:2; stroke-opacity:0.1; fill:none\" points=\"\n",
       "  204.603,1486.45 204.603,47.2441 \n",
       "  \"/>\n",
       "<polyline clip-path=\"url(#clip872)\" style=\"stroke:#000000; stroke-linecap:butt; stroke-linejoin:round; stroke-width:2; stroke-opacity:0.1; fill:none\" points=\"\n",
       "  713.644,1486.45 713.644,47.2441 \n",
       "  \"/>\n",
       "<polyline clip-path=\"url(#clip872)\" style=\"stroke:#000000; stroke-linecap:butt; stroke-linejoin:round; stroke-width:2; stroke-opacity:0.1; fill:none\" points=\"\n",
       "  1222.68,1486.45 1222.68,47.2441 \n",
       "  \"/>\n",
       "<polyline clip-path=\"url(#clip872)\" style=\"stroke:#000000; stroke-linecap:butt; stroke-linejoin:round; stroke-width:2; stroke-opacity:0.1; fill:none\" points=\"\n",
       "  1731.73,1486.45 1731.73,47.2441 \n",
       "  \"/>\n",
       "<polyline clip-path=\"url(#clip872)\" style=\"stroke:#000000; stroke-linecap:butt; stroke-linejoin:round; stroke-width:2; stroke-opacity:0.1; fill:none\" points=\"\n",
       "  2240.77,1486.45 2240.77,47.2441 \n",
       "  \"/>\n",
       "<polyline clip-path=\"url(#clip870)\" style=\"stroke:#000000; stroke-linecap:butt; stroke-linejoin:round; stroke-width:4; stroke-opacity:1; fill:none\" points=\"\n",
       "  194.422,1486.45 2352.76,1486.45 \n",
       "  \"/>\n",
       "<polyline clip-path=\"url(#clip870)\" style=\"stroke:#000000; stroke-linecap:butt; stroke-linejoin:round; stroke-width:4; stroke-opacity:1; fill:none\" points=\"\n",
       "  204.603,1486.45 204.603,1467.55 \n",
       "  \"/>\n",
       "<polyline clip-path=\"url(#clip870)\" style=\"stroke:#000000; stroke-linecap:butt; stroke-linejoin:round; stroke-width:4; stroke-opacity:1; fill:none\" points=\"\n",
       "  713.644,1486.45 713.644,1467.55 \n",
       "  \"/>\n",
       "<polyline clip-path=\"url(#clip870)\" style=\"stroke:#000000; stroke-linecap:butt; stroke-linejoin:round; stroke-width:4; stroke-opacity:1; fill:none\" points=\"\n",
       "  1222.68,1486.45 1222.68,1467.55 \n",
       "  \"/>\n",
       "<polyline clip-path=\"url(#clip870)\" style=\"stroke:#000000; stroke-linecap:butt; stroke-linejoin:round; stroke-width:4; stroke-opacity:1; fill:none\" points=\"\n",
       "  1731.73,1486.45 1731.73,1467.55 \n",
       "  \"/>\n",
       "<polyline clip-path=\"url(#clip870)\" style=\"stroke:#000000; stroke-linecap:butt; stroke-linejoin:round; stroke-width:4; stroke-opacity:1; fill:none\" points=\"\n",
       "  2240.77,1486.45 2240.77,1467.55 \n",
       "  \"/>\n",
       "<path clip-path=\"url(#clip870)\" d=\"M204.603 1517.37 Q200.992 1517.37 199.163 1520.93 Q197.358 1524.47 197.358 1531.6 Q197.358 1538.71 199.163 1542.27 Q200.992 1545.82 204.603 1545.82 Q208.237 1545.82 210.043 1542.27 Q211.871 1538.71 211.871 1531.6 Q211.871 1524.47 210.043 1520.93 Q208.237 1517.37 204.603 1517.37 M204.603 1513.66 Q210.413 1513.66 213.469 1518.27 Q216.547 1522.85 216.547 1531.6 Q216.547 1540.33 213.469 1544.94 Q210.413 1549.52 204.603 1549.52 Q198.793 1549.52 195.714 1544.94 Q192.659 1540.33 192.659 1531.6 Q192.659 1522.85 195.714 1518.27 Q198.793 1513.66 204.603 1513.66 Z\" fill=\"#000000\" fill-rule=\"evenodd\" fill-opacity=\"1\" /><path clip-path=\"url(#clip870)\" d=\"M688.332 1544.91 L695.97 1544.91 L695.97 1518.55 L687.66 1520.21 L687.66 1515.95 L695.924 1514.29 L700.6 1514.29 L700.6 1544.91 L708.239 1544.91 L708.239 1548.85 L688.332 1548.85 L688.332 1544.91 Z\" fill=\"#000000\" fill-rule=\"evenodd\" fill-opacity=\"1\" /><path clip-path=\"url(#clip870)\" d=\"M727.683 1517.37 Q724.072 1517.37 722.243 1520.93 Q720.438 1524.47 720.438 1531.6 Q720.438 1538.71 722.243 1542.27 Q724.072 1545.82 727.683 1545.82 Q731.317 1545.82 733.123 1542.27 Q734.952 1538.71 734.952 1531.6 Q734.952 1524.47 733.123 1520.93 Q731.317 1517.37 727.683 1517.37 M727.683 1513.66 Q733.493 1513.66 736.549 1518.27 Q739.628 1522.85 739.628 1531.6 Q739.628 1540.33 736.549 1544.94 Q733.493 1549.52 727.683 1549.52 Q721.873 1549.52 718.794 1544.94 Q715.739 1540.33 715.739 1531.6 Q715.739 1522.85 718.794 1518.27 Q721.873 1513.66 727.683 1513.66 Z\" fill=\"#000000\" fill-rule=\"evenodd\" fill-opacity=\"1\" /><path clip-path=\"url(#clip870)\" d=\"M1201.46 1544.91 L1217.78 1544.91 L1217.78 1548.85 L1195.83 1548.85 L1195.83 1544.91 Q1198.5 1542.16 1203.08 1537.53 Q1207.68 1532.88 1208.87 1531.53 Q1211.11 1529.01 1211.99 1527.27 Q1212.89 1525.51 1212.89 1523.82 Q1212.89 1521.07 1210.95 1519.33 Q1209.03 1517.6 1205.93 1517.6 Q1203.73 1517.6 1201.27 1518.36 Q1198.84 1519.13 1196.06 1520.68 L1196.06 1515.95 Q1198.89 1514.82 1201.34 1514.24 Q1203.8 1513.66 1205.83 1513.66 Q1211.2 1513.66 1214.4 1516.35 Q1217.59 1519.03 1217.59 1523.52 Q1217.59 1525.65 1216.78 1527.57 Q1216 1529.47 1213.89 1532.07 Q1213.31 1532.74 1210.21 1535.95 Q1207.11 1539.15 1201.46 1544.91 Z\" fill=\"#000000\" fill-rule=\"evenodd\" fill-opacity=\"1\" /><path clip-path=\"url(#clip870)\" d=\"M1237.59 1517.37 Q1233.98 1517.37 1232.15 1520.93 Q1230.35 1524.47 1230.35 1531.6 Q1230.35 1538.71 1232.15 1542.27 Q1233.98 1545.82 1237.59 1545.82 Q1241.23 1545.82 1243.03 1542.27 Q1244.86 1538.71 1244.86 1531.6 Q1244.86 1524.47 1243.03 1520.93 Q1241.23 1517.37 1237.59 1517.37 M1237.59 1513.66 Q1243.4 1513.66 1246.46 1518.27 Q1249.54 1522.85 1249.54 1531.6 Q1249.54 1540.33 1246.46 1544.94 Q1243.4 1549.52 1237.59 1549.52 Q1231.78 1549.52 1228.7 1544.94 Q1225.65 1540.33 1225.65 1531.6 Q1225.65 1522.85 1228.7 1518.27 Q1231.78 1513.66 1237.59 1513.66 Z\" fill=\"#000000\" fill-rule=\"evenodd\" fill-opacity=\"1\" /><path clip-path=\"url(#clip870)\" d=\"M1720.57 1530.21 Q1723.93 1530.93 1725.8 1533.2 Q1727.7 1535.47 1727.7 1538.8 Q1727.7 1543.92 1724.18 1546.72 Q1720.66 1549.52 1714.18 1549.52 Q1712 1549.52 1709.69 1549.08 Q1707.4 1548.66 1704.94 1547.81 L1704.94 1543.29 Q1706.89 1544.43 1709.2 1545.01 Q1711.52 1545.58 1714.04 1545.58 Q1718.44 1545.58 1720.73 1543.85 Q1723.05 1542.11 1723.05 1538.8 Q1723.05 1535.75 1720.89 1534.03 Q1718.76 1532.3 1714.94 1532.3 L1710.92 1532.3 L1710.92 1528.45 L1715.13 1528.45 Q1718.58 1528.45 1720.41 1527.09 Q1722.24 1525.7 1722.24 1523.11 Q1722.24 1520.45 1720.34 1519.03 Q1718.46 1517.6 1714.94 1517.6 Q1713.02 1517.6 1710.82 1518.01 Q1708.62 1518.43 1705.99 1519.31 L1705.99 1515.14 Q1708.65 1514.4 1710.96 1514.03 Q1713.3 1513.66 1715.36 1513.66 Q1720.68 1513.66 1723.79 1516.09 Q1726.89 1518.5 1726.89 1522.62 Q1726.89 1525.49 1725.24 1527.48 Q1723.6 1529.45 1720.57 1530.21 Z\" fill=\"#000000\" fill-rule=\"evenodd\" fill-opacity=\"1\" /><path clip-path=\"url(#clip870)\" d=\"M1746.56 1517.37 Q1742.95 1517.37 1741.12 1520.93 Q1739.32 1524.47 1739.32 1531.6 Q1739.32 1538.71 1741.12 1542.27 Q1742.95 1545.82 1746.56 1545.82 Q1750.2 1545.82 1752 1542.27 Q1753.83 1538.71 1753.83 1531.6 Q1753.83 1524.47 1752 1520.93 Q1750.2 1517.37 1746.56 1517.37 M1746.56 1513.66 Q1752.37 1513.66 1755.43 1518.27 Q1758.51 1522.85 1758.51 1531.6 Q1758.51 1540.33 1755.43 1544.94 Q1752.37 1549.52 1746.56 1549.52 Q1740.75 1549.52 1737.67 1544.94 Q1734.62 1540.33 1734.62 1531.6 Q1734.62 1522.85 1737.67 1518.27 Q1740.75 1513.66 1746.56 1513.66 Z\" fill=\"#000000\" fill-rule=\"evenodd\" fill-opacity=\"1\" /><path clip-path=\"url(#clip870)\" d=\"M2228.94 1518.36 L2217.13 1536.81 L2228.94 1536.81 L2228.94 1518.36 M2227.71 1514.29 L2233.59 1514.29 L2233.59 1536.81 L2238.52 1536.81 L2238.52 1540.7 L2233.59 1540.7 L2233.59 1548.85 L2228.94 1548.85 L2228.94 1540.7 L2213.34 1540.7 L2213.34 1536.19 L2227.71 1514.29 Z\" fill=\"#000000\" fill-rule=\"evenodd\" fill-opacity=\"1\" /><path clip-path=\"url(#clip870)\" d=\"M2256.25 1517.37 Q2252.64 1517.37 2250.81 1520.93 Q2249.01 1524.47 2249.01 1531.6 Q2249.01 1538.71 2250.81 1542.27 Q2252.64 1545.82 2256.25 1545.82 Q2259.89 1545.82 2261.69 1542.27 Q2263.52 1538.71 2263.52 1531.6 Q2263.52 1524.47 2261.69 1520.93 Q2259.89 1517.37 2256.25 1517.37 M2256.25 1513.66 Q2262.06 1513.66 2265.12 1518.27 Q2268.2 1522.85 2268.2 1531.6 Q2268.2 1540.33 2265.12 1544.94 Q2262.06 1549.52 2256.25 1549.52 Q2250.44 1549.52 2247.36 1544.94 Q2244.31 1540.33 2244.31 1531.6 Q2244.31 1522.85 2247.36 1518.27 Q2250.44 1513.66 2256.25 1513.66 Z\" fill=\"#000000\" fill-rule=\"evenodd\" fill-opacity=\"1\" /><polyline clip-path=\"url(#clip872)\" style=\"stroke:#000000; stroke-linecap:butt; stroke-linejoin:round; stroke-width:2; stroke-opacity:0.1; fill:none\" points=\"\n",
       "  194.422,1247.36 2352.76,1247.36 \n",
       "  \"/>\n",
       "<polyline clip-path=\"url(#clip872)\" style=\"stroke:#000000; stroke-linecap:butt; stroke-linejoin:round; stroke-width:2; stroke-opacity:0.1; fill:none\" points=\"\n",
       "  194.422,943.463 2352.76,943.463 \n",
       "  \"/>\n",
       "<polyline clip-path=\"url(#clip872)\" style=\"stroke:#000000; stroke-linecap:butt; stroke-linejoin:round; stroke-width:2; stroke-opacity:0.1; fill:none\" points=\"\n",
       "  194.422,639.569 2352.76,639.569 \n",
       "  \"/>\n",
       "<polyline clip-path=\"url(#clip872)\" style=\"stroke:#000000; stroke-linecap:butt; stroke-linejoin:round; stroke-width:2; stroke-opacity:0.1; fill:none\" points=\"\n",
       "  194.422,335.674 2352.76,335.674 \n",
       "  \"/>\n",
       "<polyline clip-path=\"url(#clip870)\" style=\"stroke:#000000; stroke-linecap:butt; stroke-linejoin:round; stroke-width:4; stroke-opacity:1; fill:none\" points=\"\n",
       "  194.422,1486.45 194.422,47.2441 \n",
       "  \"/>\n",
       "<polyline clip-path=\"url(#clip870)\" style=\"stroke:#000000; stroke-linecap:butt; stroke-linejoin:round; stroke-width:4; stroke-opacity:1; fill:none\" points=\"\n",
       "  194.422,1247.36 213.32,1247.36 \n",
       "  \"/>\n",
       "<polyline clip-path=\"url(#clip870)\" style=\"stroke:#000000; stroke-linecap:butt; stroke-linejoin:round; stroke-width:4; stroke-opacity:1; fill:none\" points=\"\n",
       "  194.422,943.463 213.32,943.463 \n",
       "  \"/>\n",
       "<polyline clip-path=\"url(#clip870)\" style=\"stroke:#000000; stroke-linecap:butt; stroke-linejoin:round; stroke-width:4; stroke-opacity:1; fill:none\" points=\"\n",
       "  194.422,639.569 213.32,639.569 \n",
       "  \"/>\n",
       "<polyline clip-path=\"url(#clip870)\" style=\"stroke:#000000; stroke-linecap:butt; stroke-linejoin:round; stroke-width:4; stroke-opacity:1; fill:none\" points=\"\n",
       "  194.422,335.674 213.32,335.674 \n",
       "  \"/>\n",
       "<path clip-path=\"url(#clip870)\" d=\"M50.9921 1247.81 L80.6679 1247.81 L80.6679 1251.74 L50.9921 1251.74 L50.9921 1247.81 Z\" fill=\"#000000\" fill-rule=\"evenodd\" fill-opacity=\"1\" /><path clip-path=\"url(#clip870)\" d=\"M100.76 1233.16 Q97.1493 1233.16 95.3206 1236.72 Q93.515 1240.26 93.515 1247.39 Q93.515 1254.5 95.3206 1258.06 Q97.1493 1261.61 100.76 1261.61 Q104.395 1261.61 106.2 1258.06 Q108.029 1254.5 108.029 1247.39 Q108.029 1240.26 106.2 1236.72 Q104.395 1233.16 100.76 1233.16 M100.76 1229.45 Q106.571 1229.45 109.626 1234.06 Q112.705 1238.64 112.705 1247.39 Q112.705 1256.12 109.626 1260.73 Q106.571 1265.31 100.76 1265.31 Q94.9502 1265.31 91.8715 1260.73 Q88.816 1256.12 88.816 1247.39 Q88.816 1238.64 91.8715 1234.06 Q94.9502 1229.45 100.76 1229.45 Z\" fill=\"#000000\" fill-rule=\"evenodd\" fill-opacity=\"1\" /><path clip-path=\"url(#clip870)\" d=\"M120.922 1258.76 L125.807 1258.76 L125.807 1264.64 L120.922 1264.64 L120.922 1258.76 Z\" fill=\"#000000\" fill-rule=\"evenodd\" fill-opacity=\"1\" /><path clip-path=\"url(#clip870)\" d=\"M148.839 1234.15 L137.033 1252.6 L148.839 1252.6 L148.839 1234.15 M147.612 1230.08 L153.492 1230.08 L153.492 1252.6 L158.422 1252.6 L158.422 1256.49 L153.492 1256.49 L153.492 1264.64 L148.839 1264.64 L148.839 1256.49 L133.237 1256.49 L133.237 1251.98 L147.612 1230.08 Z\" fill=\"#000000\" fill-rule=\"evenodd\" fill-opacity=\"1\" /><path clip-path=\"url(#clip870)\" d=\"M53.0754 943.915 L82.7512 943.915 L82.7512 947.85 L53.0754 947.85 L53.0754 943.915 Z\" fill=\"#000000\" fill-rule=\"evenodd\" fill-opacity=\"1\" /><path clip-path=\"url(#clip870)\" d=\"M102.844 929.262 Q99.2326 929.262 97.4039 932.827 Q95.5984 936.368 95.5984 943.498 Q95.5984 950.604 97.4039 954.169 Q99.2326 957.711 102.844 957.711 Q106.478 957.711 108.283 954.169 Q110.112 950.604 110.112 943.498 Q110.112 936.368 108.283 932.827 Q106.478 929.262 102.844 929.262 M102.844 925.558 Q108.654 925.558 111.709 930.165 Q114.788 934.748 114.788 943.498 Q114.788 952.225 111.709 956.831 Q108.654 961.414 102.844 961.414 Q97.0335 961.414 93.9549 956.831 Q90.8993 952.225 90.8993 943.498 Q90.8993 934.748 93.9549 930.165 Q97.0335 925.558 102.844 925.558 Z\" fill=\"#000000\" fill-rule=\"evenodd\" fill-opacity=\"1\" /><path clip-path=\"url(#clip870)\" d=\"M123.006 954.864 L127.89 954.864 L127.89 960.743 L123.006 960.743 L123.006 954.864 Z\" fill=\"#000000\" fill-rule=\"evenodd\" fill-opacity=\"1\" /><path clip-path=\"url(#clip870)\" d=\"M142.103 956.808 L158.422 956.808 L158.422 960.743 L136.478 960.743 L136.478 956.808 Q139.14 954.053 143.723 949.424 Q148.33 944.771 149.51 943.428 Q151.755 940.905 152.635 939.169 Q153.538 937.41 153.538 935.72 Q153.538 932.965 151.593 931.229 Q149.672 929.493 146.57 929.493 Q144.371 929.493 141.918 930.257 Q139.487 931.021 136.709 932.572 L136.709 927.85 Q139.533 926.716 141.987 926.137 Q144.441 925.558 146.478 925.558 Q151.848 925.558 155.042 928.243 Q158.237 930.928 158.237 935.419 Q158.237 937.549 157.427 939.47 Q156.64 941.368 154.533 943.961 Q153.955 944.632 150.853 947.85 Q147.751 951.044 142.103 956.808 Z\" fill=\"#000000\" fill-rule=\"evenodd\" fill-opacity=\"1\" /><path clip-path=\"url(#clip870)\" d=\"M101.246 625.367 Q97.6354 625.367 95.8067 628.932 Q94.0012 632.474 94.0012 639.603 Q94.0012 646.71 95.8067 650.275 Q97.6354 653.816 101.246 653.816 Q104.881 653.816 106.686 650.275 Q108.515 646.71 108.515 639.603 Q108.515 632.474 106.686 628.932 Q104.881 625.367 101.246 625.367 M101.246 621.664 Q107.057 621.664 110.112 626.27 Q113.191 630.853 113.191 639.603 Q113.191 648.33 110.112 652.937 Q107.057 657.52 101.246 657.52 Q95.4363 657.52 92.3576 652.937 Q89.3021 648.33 89.3021 639.603 Q89.3021 630.853 92.3576 626.27 Q95.4363 621.664 101.246 621.664 Z\" fill=\"#000000\" fill-rule=\"evenodd\" fill-opacity=\"1\" /><path clip-path=\"url(#clip870)\" d=\"M121.408 650.969 L126.293 650.969 L126.293 656.849 L121.408 656.849 L121.408 650.969 Z\" fill=\"#000000\" fill-rule=\"evenodd\" fill-opacity=\"1\" /><path clip-path=\"url(#clip870)\" d=\"M146.478 625.367 Q142.867 625.367 141.038 628.932 Q139.232 632.474 139.232 639.603 Q139.232 646.71 141.038 650.275 Q142.867 653.816 146.478 653.816 Q150.112 653.816 151.918 650.275 Q153.746 646.71 153.746 639.603 Q153.746 632.474 151.918 628.932 Q150.112 625.367 146.478 625.367 M146.478 621.664 Q152.288 621.664 155.343 626.27 Q158.422 630.853 158.422 639.603 Q158.422 648.33 155.343 652.937 Q152.288 657.52 146.478 657.52 Q140.668 657.52 137.589 652.937 Q134.533 648.33 134.533 639.603 Q134.533 630.853 137.589 626.27 Q140.668 621.664 146.478 621.664 Z\" fill=\"#000000\" fill-rule=\"evenodd\" fill-opacity=\"1\" /><path clip-path=\"url(#clip870)\" d=\"M102.844 321.473 Q99.2326 321.473 97.4039 325.037 Q95.5984 328.579 95.5984 335.709 Q95.5984 342.815 97.4039 346.38 Q99.2326 349.922 102.844 349.922 Q106.478 349.922 108.283 346.38 Q110.112 342.815 110.112 335.709 Q110.112 328.579 108.283 325.037 Q106.478 321.473 102.844 321.473 M102.844 317.769 Q108.654 317.769 111.709 322.375 Q114.788 326.959 114.788 335.709 Q114.788 344.436 111.709 349.042 Q108.654 353.625 102.844 353.625 Q97.0335 353.625 93.9549 349.042 Q90.8993 344.436 90.8993 335.709 Q90.8993 326.959 93.9549 322.375 Q97.0335 317.769 102.844 317.769 Z\" fill=\"#000000\" fill-rule=\"evenodd\" fill-opacity=\"1\" /><path clip-path=\"url(#clip870)\" d=\"M123.006 347.074 L127.89 347.074 L127.89 352.954 L123.006 352.954 L123.006 347.074 Z\" fill=\"#000000\" fill-rule=\"evenodd\" fill-opacity=\"1\" /><path clip-path=\"url(#clip870)\" d=\"M142.103 349.019 L158.422 349.019 L158.422 352.954 L136.478 352.954 L136.478 349.019 Q139.14 346.264 143.723 341.635 Q148.33 336.982 149.51 335.639 Q151.755 333.116 152.635 331.38 Q153.538 329.621 153.538 327.931 Q153.538 325.176 151.593 323.44 Q149.672 321.704 146.57 321.704 Q144.371 321.704 141.918 322.468 Q139.487 323.232 136.709 324.783 L136.709 320.061 Q139.533 318.926 141.987 318.348 Q144.441 317.769 146.478 317.769 Q151.848 317.769 155.042 320.454 Q158.237 323.139 158.237 327.63 Q158.237 329.76 157.427 331.681 Q156.64 333.579 154.533 336.172 Q153.955 336.843 150.853 340.061 Q147.751 343.255 142.103 349.019 Z\" fill=\"#000000\" fill-rule=\"evenodd\" fill-opacity=\"1\" /><polyline clip-path=\"url(#clip872)\" style=\"stroke:#009af9; stroke-linecap:butt; stroke-linejoin:round; stroke-width:4; stroke-opacity:1; fill:none\" points=\"\n",
       "  255.507,1301.23 306.411,1185.27 357.315,1079.49 408.219,1001.32 459.123,956.436 510.028,941.987 560.932,950.243 611.836,971.872 662.74,998.318 713.644,1023.17 \n",
       "  764.548,1042.6 815.452,1055.18 866.356,1061.27 917.26,1062.32 968.164,1060.18 1019.07,1056.61 1069.97,1052.98 1120.88,1050.16 1171.78,1048.52 1222.68,1048.06 \n",
       "  1273.59,1048.55 1324.49,1049.62 1375.4,1050.94 1426.3,1052.24 1477.21,1053.33 1528.11,1054.14 1579.01,1054.65 1629.92,1054.93 1680.82,1055.04 1731.73,1055.05 \n",
       "  1782.63,1055.02 1833.53,1055 1884.44,1055.02 1935.34,1055.07 1986.25,1055.15 2037.15,1055.24 2088.05,1055.35 2138.96,1055.45 2189.86,1055.54 2240.77,1055.61 \n",
       "  2291.67,1055.67 \n",
       "  \"/>\n",
       "<polyline clip-path=\"url(#clip872)\" style=\"stroke:#e26f46; stroke-linecap:butt; stroke-linejoin:round; stroke-width:4; stroke-opacity:1; fill:none\" points=\"\n",
       "  255.507,87.9763 306.411,224.53 357.315,361.777 408.219,490.488 459.123,604.372 510.028,700.45 560.932,778.64 611.836,840.907 662.74,890.306 713.644,930.152 \n",
       "  764.548,963.416 815.452,992.4 866.356,1018.64 917.26,1042.97 968.164,1065.72 1019.07,1086.88 1069.97,1106.31 1120.88,1123.84 1171.78,1139.39 1222.68,1152.98 \n",
       "  1273.59,1164.71 1324.49,1174.79 1375.4,1183.43 1426.3,1190.88 1477.21,1197.35 1528.11,1203.01 1579.01,1208.01 1629.92,1212.47 1680.82,1216.44 1731.73,1219.98 \n",
       "  1782.63,1223.14 1833.53,1225.94 1884.44,1228.42 1935.34,1230.6 1986.25,1232.51 2037.15,1234.19 2088.05,1235.65 2138.96,1236.94 2189.86,1238.06 2240.77,1239.05 \n",
       "  2291.67,1239.92 \n",
       "  \"/>\n",
       "<polyline clip-path=\"url(#clip872)\" style=\"stroke:#3da44d; stroke-linecap:butt; stroke-linejoin:round; stroke-width:4; stroke-opacity:1; fill:none\" points=\"\n",
       "  255.507,1445.72 306.411,1333.35 357.315,1278.61 408.219,1264.97 459.123,1274.76 510.028,1292.91 560.932,1308.79 611.836,1316.56 662.74,1314.5 713.644,1303.79 \n",
       "  764.548,1287.15 815.452,1267.76 866.356,1248.41 917.26,1231.11 968.164,1216.93 1019.07,1206.15 1069.97,1198.44 1120.88,1193.13 1171.78,1189.48 1222.68,1186.78 \n",
       "  1273.59,1184.52 1324.49,1182.36 1375.4,1180.13 1426.3,1177.81 1477.21,1175.46 1528.11,1173.18 1579.01,1171.04 1629.92,1169.13 1680.82,1167.47 1731.73,1166.07 \n",
       "  1782.63,1164.9 1833.53,1163.94 1884.44,1163.14 1935.34,1162.46 1986.25,1161.87 2037.15,1161.35 2088.05,1160.88 2138.96,1160.45 2189.86,1160.06 2240.77,1159.7 \n",
       "  2291.67,1159.39 \n",
       "  \"/>\n",
       "<path clip-path=\"url(#clip870)\" d=\"\n",
       "M1987.99 302.578 L2280.81 302.578 L2280.81 95.2176 L1987.99 95.2176  Z\n",
       "  \" fill=\"#ffffff\" fill-rule=\"evenodd\" fill-opacity=\"1\"/>\n",
       "<polyline clip-path=\"url(#clip870)\" style=\"stroke:#000000; stroke-linecap:butt; stroke-linejoin:round; stroke-width:4; stroke-opacity:1; fill:none\" points=\"\n",
       "  1987.99,302.578 2280.81,302.578 2280.81,95.2176 1987.99,95.2176 1987.99,302.578 \n",
       "  \"/>\n",
       "<polyline clip-path=\"url(#clip870)\" style=\"stroke:#009af9; stroke-linecap:butt; stroke-linejoin:round; stroke-width:4; stroke-opacity:1; fill:none\" points=\"\n",
       "  2011.97,147.058 2155.86,147.058 \n",
       "  \"/>\n",
       "<path clip-path=\"url(#clip870)\" d=\"M2193.68 166.745 Q2191.88 171.375 2190.16 172.787 Q2188.45 174.199 2185.58 174.199 L2182.18 174.199 L2182.18 170.634 L2184.68 170.634 Q2186.44 170.634 2187.41 169.8 Q2188.38 168.967 2189.56 165.865 L2190.33 163.921 L2179.84 138.412 L2184.35 138.412 L2192.46 158.689 L2200.56 138.412 L2205.07 138.412 L2193.68 166.745 Z\" fill=\"#000000\" fill-rule=\"evenodd\" fill-opacity=\"1\" /><path clip-path=\"url(#clip870)\" d=\"M2212.36 160.402 L2220 160.402 L2220 134.037 L2211.69 135.703 L2211.69 131.444 L2219.96 129.778 L2224.63 129.778 L2224.63 160.402 L2232.27 160.402 L2232.27 164.338 L2212.36 164.338 L2212.36 160.402 Z\" fill=\"#000000\" fill-rule=\"evenodd\" fill-opacity=\"1\" /><polyline clip-path=\"url(#clip870)\" style=\"stroke:#e26f46; stroke-linecap:butt; stroke-linejoin:round; stroke-width:4; stroke-opacity:1; fill:none\" points=\"\n",
       "  2011.97,198.898 2155.86,198.898 \n",
       "  \"/>\n",
       "<path clip-path=\"url(#clip870)\" d=\"M2193.68 218.585 Q2191.88 223.215 2190.16 224.627 Q2188.45 226.039 2185.58 226.039 L2182.18 226.039 L2182.18 222.474 L2184.68 222.474 Q2186.44 222.474 2187.41 221.64 Q2188.38 220.807 2189.56 217.705 L2190.33 215.761 L2179.84 190.252 L2184.35 190.252 L2192.46 210.529 L2200.56 190.252 L2205.07 190.252 L2193.68 218.585 Z\" fill=\"#000000\" fill-rule=\"evenodd\" fill-opacity=\"1\" /><path clip-path=\"url(#clip870)\" d=\"M2215.58 212.242 L2231.9 212.242 L2231.9 216.178 L2209.96 216.178 L2209.96 212.242 Q2212.62 209.488 2217.2 204.858 Q2221.81 200.205 2222.99 198.863 Q2225.23 196.34 2226.11 194.604 Q2227.02 192.844 2227.02 191.155 Q2227.02 188.4 2225.07 186.664 Q2223.15 184.928 2220.05 184.928 Q2217.85 184.928 2215.39 185.692 Q2212.96 186.455 2210.19 188.006 L2210.19 183.284 Q2213.01 182.15 2215.46 181.571 Q2217.92 180.993 2219.96 180.993 Q2225.33 180.993 2228.52 183.678 Q2231.71 186.363 2231.71 190.854 Q2231.71 192.983 2230.9 194.905 Q2230.12 196.803 2228.01 199.395 Q2227.43 200.067 2224.33 203.284 Q2221.23 206.479 2215.58 212.242 Z\" fill=\"#000000\" fill-rule=\"evenodd\" fill-opacity=\"1\" /><polyline clip-path=\"url(#clip870)\" style=\"stroke:#3da44d; stroke-linecap:butt; stroke-linejoin:round; stroke-width:4; stroke-opacity:1; fill:none\" points=\"\n",
       "  2011.97,250.738 2155.86,250.738 \n",
       "  \"/>\n",
       "<path clip-path=\"url(#clip870)\" d=\"M2193.68 270.425 Q2191.88 275.055 2190.16 276.467 Q2188.45 277.879 2185.58 277.879 L2182.18 277.879 L2182.18 274.314 L2184.68 274.314 Q2186.44 274.314 2187.41 273.48 Q2188.38 272.647 2189.56 269.545 L2190.33 267.601 L2179.84 242.092 L2184.35 242.092 L2192.46 262.369 L2200.56 242.092 L2205.07 242.092 L2193.68 270.425 Z\" fill=\"#000000\" fill-rule=\"evenodd\" fill-opacity=\"1\" /><path clip-path=\"url(#clip870)\" d=\"M2225.72 249.383 Q2229.08 250.101 2230.95 252.369 Q2232.85 254.638 2232.85 257.971 Q2232.85 263.087 2229.33 265.888 Q2225.81 268.689 2219.33 268.689 Q2217.15 268.689 2214.84 268.249 Q2212.55 267.832 2210.09 266.976 L2210.09 262.462 Q2212.04 263.596 2214.35 264.175 Q2216.67 264.754 2219.19 264.754 Q2223.59 264.754 2225.88 263.018 Q2228.2 261.281 2228.2 257.971 Q2228.2 254.916 2226.04 253.203 Q2223.91 251.467 2220.09 251.467 L2216.07 251.467 L2216.07 247.624 L2220.28 247.624 Q2223.73 247.624 2225.56 246.258 Q2227.39 244.87 2227.39 242.277 Q2227.39 239.615 2225.49 238.203 Q2223.61 236.768 2220.09 236.768 Q2218.17 236.768 2215.97 237.184 Q2213.77 237.601 2211.14 238.481 L2211.14 234.314 Q2213.8 233.573 2216.11 233.203 Q2218.45 232.833 2220.51 232.833 Q2225.83 232.833 2228.94 235.263 Q2232.04 237.67 2232.04 241.791 Q2232.04 244.661 2230.39 246.652 Q2228.75 248.62 2225.72 249.383 Z\" fill=\"#000000\" fill-rule=\"evenodd\" fill-opacity=\"1\" /></svg>\n"
      ]
     },
     "execution_count": 21,
     "metadata": {},
     "output_type": "execute_result"
    }
   ],
   "source": [
    "bv_sid = bloch(ρ_sid) \n",
    "plot(bv_sid')"
   ]
  },
  {
   "cell_type": "code",
   "execution_count": 22,
   "id": "27e68d79",
   "metadata": {},
   "outputs": [
    {
     "data": {
      "image/svg+xml": [
       "<?xml version=\"1.0\" encoding=\"utf-8\"?>\n",
       "<svg xmlns=\"http://www.w3.org/2000/svg\" xmlns:xlink=\"http://www.w3.org/1999/xlink\" width=\"600\" height=\"400\" viewBox=\"0 0 2400 1600\">\n",
       "<defs>\n",
       "  <clipPath id=\"clip910\">\n",
       "    <rect x=\"0\" y=\"0\" width=\"2400\" height=\"1600\"/>\n",
       "  </clipPath>\n",
       "</defs>\n",
       "<path clip-path=\"url(#clip910)\" d=\"\n",
       "M0 1600 L2400 1600 L2400 0 L0 0  Z\n",
       "  \" fill=\"#ffffff\" fill-rule=\"evenodd\" fill-opacity=\"1\"/>\n",
       "<defs>\n",
       "  <clipPath id=\"clip911\">\n",
       "    <rect x=\"480\" y=\"0\" width=\"1681\" height=\"1600\"/>\n",
       "  </clipPath>\n",
       "</defs>\n",
       "<path clip-path=\"url(#clip910)\" d=\"\n",
       "M194.422 1486.45 L2352.76 1486.45 L2352.76 47.2441 L194.422 47.2441  Z\n",
       "  \" fill=\"#ffffff\" fill-rule=\"evenodd\" fill-opacity=\"1\"/>\n",
       "<defs>\n",
       "  <clipPath id=\"clip912\">\n",
       "    <rect x=\"194\" y=\"47\" width=\"2159\" height=\"1440\"/>\n",
       "  </clipPath>\n",
       "</defs>\n",
       "<polyline clip-path=\"url(#clip912)\" style=\"stroke:#000000; stroke-linecap:butt; stroke-linejoin:round; stroke-width:2; stroke-opacity:0.1; fill:none\" points=\"\n",
       "  204.603,1486.45 204.603,47.2441 \n",
       "  \"/>\n",
       "<polyline clip-path=\"url(#clip912)\" style=\"stroke:#000000; stroke-linecap:butt; stroke-linejoin:round; stroke-width:2; stroke-opacity:0.1; fill:none\" points=\"\n",
       "  713.644,1486.45 713.644,47.2441 \n",
       "  \"/>\n",
       "<polyline clip-path=\"url(#clip912)\" style=\"stroke:#000000; stroke-linecap:butt; stroke-linejoin:round; stroke-width:2; stroke-opacity:0.1; fill:none\" points=\"\n",
       "  1222.68,1486.45 1222.68,47.2441 \n",
       "  \"/>\n",
       "<polyline clip-path=\"url(#clip912)\" style=\"stroke:#000000; stroke-linecap:butt; stroke-linejoin:round; stroke-width:2; stroke-opacity:0.1; fill:none\" points=\"\n",
       "  1731.73,1486.45 1731.73,47.2441 \n",
       "  \"/>\n",
       "<polyline clip-path=\"url(#clip912)\" style=\"stroke:#000000; stroke-linecap:butt; stroke-linejoin:round; stroke-width:2; stroke-opacity:0.1; fill:none\" points=\"\n",
       "  2240.77,1486.45 2240.77,47.2441 \n",
       "  \"/>\n",
       "<polyline clip-path=\"url(#clip910)\" style=\"stroke:#000000; stroke-linecap:butt; stroke-linejoin:round; stroke-width:4; stroke-opacity:1; fill:none\" points=\"\n",
       "  194.422,1486.45 2352.76,1486.45 \n",
       "  \"/>\n",
       "<polyline clip-path=\"url(#clip910)\" style=\"stroke:#000000; stroke-linecap:butt; stroke-linejoin:round; stroke-width:4; stroke-opacity:1; fill:none\" points=\"\n",
       "  204.603,1486.45 204.603,1467.55 \n",
       "  \"/>\n",
       "<polyline clip-path=\"url(#clip910)\" style=\"stroke:#000000; stroke-linecap:butt; stroke-linejoin:round; stroke-width:4; stroke-opacity:1; fill:none\" points=\"\n",
       "  713.644,1486.45 713.644,1467.55 \n",
       "  \"/>\n",
       "<polyline clip-path=\"url(#clip910)\" style=\"stroke:#000000; stroke-linecap:butt; stroke-linejoin:round; stroke-width:4; stroke-opacity:1; fill:none\" points=\"\n",
       "  1222.68,1486.45 1222.68,1467.55 \n",
       "  \"/>\n",
       "<polyline clip-path=\"url(#clip910)\" style=\"stroke:#000000; stroke-linecap:butt; stroke-linejoin:round; stroke-width:4; stroke-opacity:1; fill:none\" points=\"\n",
       "  1731.73,1486.45 1731.73,1467.55 \n",
       "  \"/>\n",
       "<polyline clip-path=\"url(#clip910)\" style=\"stroke:#000000; stroke-linecap:butt; stroke-linejoin:round; stroke-width:4; stroke-opacity:1; fill:none\" points=\"\n",
       "  2240.77,1486.45 2240.77,1467.55 \n",
       "  \"/>\n",
       "<path clip-path=\"url(#clip910)\" d=\"M204.603 1517.37 Q200.992 1517.37 199.163 1520.93 Q197.358 1524.47 197.358 1531.6 Q197.358 1538.71 199.163 1542.27 Q200.992 1545.82 204.603 1545.82 Q208.237 1545.82 210.043 1542.27 Q211.871 1538.71 211.871 1531.6 Q211.871 1524.47 210.043 1520.93 Q208.237 1517.37 204.603 1517.37 M204.603 1513.66 Q210.413 1513.66 213.469 1518.27 Q216.547 1522.85 216.547 1531.6 Q216.547 1540.33 213.469 1544.94 Q210.413 1549.52 204.603 1549.52 Q198.793 1549.52 195.714 1544.94 Q192.659 1540.33 192.659 1531.6 Q192.659 1522.85 195.714 1518.27 Q198.793 1513.66 204.603 1513.66 Z\" fill=\"#000000\" fill-rule=\"evenodd\" fill-opacity=\"1\" /><path clip-path=\"url(#clip910)\" d=\"M688.332 1544.91 L695.97 1544.91 L695.97 1518.55 L687.66 1520.21 L687.66 1515.95 L695.924 1514.29 L700.6 1514.29 L700.6 1544.91 L708.239 1544.91 L708.239 1548.85 L688.332 1548.85 L688.332 1544.91 Z\" fill=\"#000000\" fill-rule=\"evenodd\" fill-opacity=\"1\" /><path clip-path=\"url(#clip910)\" d=\"M727.683 1517.37 Q724.072 1517.37 722.243 1520.93 Q720.438 1524.47 720.438 1531.6 Q720.438 1538.71 722.243 1542.27 Q724.072 1545.82 727.683 1545.82 Q731.317 1545.82 733.123 1542.27 Q734.952 1538.71 734.952 1531.6 Q734.952 1524.47 733.123 1520.93 Q731.317 1517.37 727.683 1517.37 M727.683 1513.66 Q733.493 1513.66 736.549 1518.27 Q739.628 1522.85 739.628 1531.6 Q739.628 1540.33 736.549 1544.94 Q733.493 1549.52 727.683 1549.52 Q721.873 1549.52 718.794 1544.94 Q715.739 1540.33 715.739 1531.6 Q715.739 1522.85 718.794 1518.27 Q721.873 1513.66 727.683 1513.66 Z\" fill=\"#000000\" fill-rule=\"evenodd\" fill-opacity=\"1\" /><path clip-path=\"url(#clip910)\" d=\"M1201.46 1544.91 L1217.78 1544.91 L1217.78 1548.85 L1195.83 1548.85 L1195.83 1544.91 Q1198.5 1542.16 1203.08 1537.53 Q1207.68 1532.88 1208.87 1531.53 Q1211.11 1529.01 1211.99 1527.27 Q1212.89 1525.51 1212.89 1523.82 Q1212.89 1521.07 1210.95 1519.33 Q1209.03 1517.6 1205.93 1517.6 Q1203.73 1517.6 1201.27 1518.36 Q1198.84 1519.13 1196.06 1520.68 L1196.06 1515.95 Q1198.89 1514.82 1201.34 1514.24 Q1203.8 1513.66 1205.83 1513.66 Q1211.2 1513.66 1214.4 1516.35 Q1217.59 1519.03 1217.59 1523.52 Q1217.59 1525.65 1216.78 1527.57 Q1216 1529.47 1213.89 1532.07 Q1213.31 1532.74 1210.21 1535.95 Q1207.11 1539.15 1201.46 1544.91 Z\" fill=\"#000000\" fill-rule=\"evenodd\" fill-opacity=\"1\" /><path clip-path=\"url(#clip910)\" d=\"M1237.59 1517.37 Q1233.98 1517.37 1232.15 1520.93 Q1230.35 1524.47 1230.35 1531.6 Q1230.35 1538.71 1232.15 1542.27 Q1233.98 1545.82 1237.59 1545.82 Q1241.23 1545.82 1243.03 1542.27 Q1244.86 1538.71 1244.86 1531.6 Q1244.86 1524.47 1243.03 1520.93 Q1241.23 1517.37 1237.59 1517.37 M1237.59 1513.66 Q1243.4 1513.66 1246.46 1518.27 Q1249.54 1522.85 1249.54 1531.6 Q1249.54 1540.33 1246.46 1544.94 Q1243.4 1549.52 1237.59 1549.52 Q1231.78 1549.52 1228.7 1544.94 Q1225.65 1540.33 1225.65 1531.6 Q1225.65 1522.85 1228.7 1518.27 Q1231.78 1513.66 1237.59 1513.66 Z\" fill=\"#000000\" fill-rule=\"evenodd\" fill-opacity=\"1\" /><path clip-path=\"url(#clip910)\" d=\"M1720.57 1530.21 Q1723.93 1530.93 1725.8 1533.2 Q1727.7 1535.47 1727.7 1538.8 Q1727.7 1543.92 1724.18 1546.72 Q1720.66 1549.52 1714.18 1549.52 Q1712 1549.52 1709.69 1549.08 Q1707.4 1548.66 1704.94 1547.81 L1704.94 1543.29 Q1706.89 1544.43 1709.2 1545.01 Q1711.52 1545.58 1714.04 1545.58 Q1718.44 1545.58 1720.73 1543.85 Q1723.05 1542.11 1723.05 1538.8 Q1723.05 1535.75 1720.89 1534.03 Q1718.76 1532.3 1714.94 1532.3 L1710.92 1532.3 L1710.92 1528.45 L1715.13 1528.45 Q1718.58 1528.45 1720.41 1527.09 Q1722.24 1525.7 1722.24 1523.11 Q1722.24 1520.45 1720.34 1519.03 Q1718.46 1517.6 1714.94 1517.6 Q1713.02 1517.6 1710.82 1518.01 Q1708.62 1518.43 1705.99 1519.31 L1705.99 1515.14 Q1708.65 1514.4 1710.96 1514.03 Q1713.3 1513.66 1715.36 1513.66 Q1720.68 1513.66 1723.79 1516.09 Q1726.89 1518.5 1726.89 1522.62 Q1726.89 1525.49 1725.24 1527.48 Q1723.6 1529.45 1720.57 1530.21 Z\" fill=\"#000000\" fill-rule=\"evenodd\" fill-opacity=\"1\" /><path clip-path=\"url(#clip910)\" d=\"M1746.56 1517.37 Q1742.95 1517.37 1741.12 1520.93 Q1739.32 1524.47 1739.32 1531.6 Q1739.32 1538.71 1741.12 1542.27 Q1742.95 1545.82 1746.56 1545.82 Q1750.2 1545.82 1752 1542.27 Q1753.83 1538.71 1753.83 1531.6 Q1753.83 1524.47 1752 1520.93 Q1750.2 1517.37 1746.56 1517.37 M1746.56 1513.66 Q1752.37 1513.66 1755.43 1518.27 Q1758.51 1522.85 1758.51 1531.6 Q1758.51 1540.33 1755.43 1544.94 Q1752.37 1549.52 1746.56 1549.52 Q1740.75 1549.52 1737.67 1544.94 Q1734.62 1540.33 1734.62 1531.6 Q1734.62 1522.85 1737.67 1518.27 Q1740.75 1513.66 1746.56 1513.66 Z\" fill=\"#000000\" fill-rule=\"evenodd\" fill-opacity=\"1\" /><path clip-path=\"url(#clip910)\" d=\"M2228.94 1518.36 L2217.13 1536.81 L2228.94 1536.81 L2228.94 1518.36 M2227.71 1514.29 L2233.59 1514.29 L2233.59 1536.81 L2238.52 1536.81 L2238.52 1540.7 L2233.59 1540.7 L2233.59 1548.85 L2228.94 1548.85 L2228.94 1540.7 L2213.34 1540.7 L2213.34 1536.19 L2227.71 1514.29 Z\" fill=\"#000000\" fill-rule=\"evenodd\" fill-opacity=\"1\" /><path clip-path=\"url(#clip910)\" d=\"M2256.25 1517.37 Q2252.64 1517.37 2250.81 1520.93 Q2249.01 1524.47 2249.01 1531.6 Q2249.01 1538.71 2250.81 1542.27 Q2252.64 1545.82 2256.25 1545.82 Q2259.89 1545.82 2261.69 1542.27 Q2263.52 1538.71 2263.52 1531.6 Q2263.52 1524.47 2261.69 1520.93 Q2259.89 1517.37 2256.25 1517.37 M2256.25 1513.66 Q2262.06 1513.66 2265.12 1518.27 Q2268.2 1522.85 2268.2 1531.6 Q2268.2 1540.33 2265.12 1544.94 Q2262.06 1549.52 2256.25 1549.52 Q2250.44 1549.52 2247.36 1544.94 Q2244.31 1540.33 2244.31 1531.6 Q2244.31 1522.85 2247.36 1518.27 Q2250.44 1513.66 2256.25 1513.66 Z\" fill=\"#000000\" fill-rule=\"evenodd\" fill-opacity=\"1\" /><polyline clip-path=\"url(#clip912)\" style=\"stroke:#000000; stroke-linecap:butt; stroke-linejoin:round; stroke-width:2; stroke-opacity:0.1; fill:none\" points=\"\n",
       "  194.422,1247.36 2352.76,1247.36 \n",
       "  \"/>\n",
       "<polyline clip-path=\"url(#clip912)\" style=\"stroke:#000000; stroke-linecap:butt; stroke-linejoin:round; stroke-width:2; stroke-opacity:0.1; fill:none\" points=\"\n",
       "  194.422,943.463 2352.76,943.463 \n",
       "  \"/>\n",
       "<polyline clip-path=\"url(#clip912)\" style=\"stroke:#000000; stroke-linecap:butt; stroke-linejoin:round; stroke-width:2; stroke-opacity:0.1; fill:none\" points=\"\n",
       "  194.422,639.569 2352.76,639.569 \n",
       "  \"/>\n",
       "<polyline clip-path=\"url(#clip912)\" style=\"stroke:#000000; stroke-linecap:butt; stroke-linejoin:round; stroke-width:2; stroke-opacity:0.1; fill:none\" points=\"\n",
       "  194.422,335.674 2352.76,335.674 \n",
       "  \"/>\n",
       "<polyline clip-path=\"url(#clip910)\" style=\"stroke:#000000; stroke-linecap:butt; stroke-linejoin:round; stroke-width:4; stroke-opacity:1; fill:none\" points=\"\n",
       "  194.422,1486.45 194.422,47.2441 \n",
       "  \"/>\n",
       "<polyline clip-path=\"url(#clip910)\" style=\"stroke:#000000; stroke-linecap:butt; stroke-linejoin:round; stroke-width:4; stroke-opacity:1; fill:none\" points=\"\n",
       "  194.422,1247.36 213.32,1247.36 \n",
       "  \"/>\n",
       "<polyline clip-path=\"url(#clip910)\" style=\"stroke:#000000; stroke-linecap:butt; stroke-linejoin:round; stroke-width:4; stroke-opacity:1; fill:none\" points=\"\n",
       "  194.422,943.463 213.32,943.463 \n",
       "  \"/>\n",
       "<polyline clip-path=\"url(#clip910)\" style=\"stroke:#000000; stroke-linecap:butt; stroke-linejoin:round; stroke-width:4; stroke-opacity:1; fill:none\" points=\"\n",
       "  194.422,639.569 213.32,639.569 \n",
       "  \"/>\n",
       "<polyline clip-path=\"url(#clip910)\" style=\"stroke:#000000; stroke-linecap:butt; stroke-linejoin:round; stroke-width:4; stroke-opacity:1; fill:none\" points=\"\n",
       "  194.422,335.674 213.32,335.674 \n",
       "  \"/>\n",
       "<path clip-path=\"url(#clip910)\" d=\"M50.9921 1247.81 L80.6679 1247.81 L80.6679 1251.74 L50.9921 1251.74 L50.9921 1247.81 Z\" fill=\"#000000\" fill-rule=\"evenodd\" fill-opacity=\"1\" /><path clip-path=\"url(#clip910)\" d=\"M100.76 1233.16 Q97.1493 1233.16 95.3206 1236.72 Q93.515 1240.26 93.515 1247.39 Q93.515 1254.5 95.3206 1258.06 Q97.1493 1261.61 100.76 1261.61 Q104.395 1261.61 106.2 1258.06 Q108.029 1254.5 108.029 1247.39 Q108.029 1240.26 106.2 1236.72 Q104.395 1233.16 100.76 1233.16 M100.76 1229.45 Q106.571 1229.45 109.626 1234.06 Q112.705 1238.64 112.705 1247.39 Q112.705 1256.12 109.626 1260.73 Q106.571 1265.31 100.76 1265.31 Q94.9502 1265.31 91.8715 1260.73 Q88.816 1256.12 88.816 1247.39 Q88.816 1238.64 91.8715 1234.06 Q94.9502 1229.45 100.76 1229.45 Z\" fill=\"#000000\" fill-rule=\"evenodd\" fill-opacity=\"1\" /><path clip-path=\"url(#clip910)\" d=\"M120.922 1258.76 L125.807 1258.76 L125.807 1264.64 L120.922 1264.64 L120.922 1258.76 Z\" fill=\"#000000\" fill-rule=\"evenodd\" fill-opacity=\"1\" /><path clip-path=\"url(#clip910)\" d=\"M148.839 1234.15 L137.033 1252.6 L148.839 1252.6 L148.839 1234.15 M147.612 1230.08 L153.492 1230.08 L153.492 1252.6 L158.422 1252.6 L158.422 1256.49 L153.492 1256.49 L153.492 1264.64 L148.839 1264.64 L148.839 1256.49 L133.237 1256.49 L133.237 1251.98 L147.612 1230.08 Z\" fill=\"#000000\" fill-rule=\"evenodd\" fill-opacity=\"1\" /><path clip-path=\"url(#clip910)\" d=\"M53.0754 943.915 L82.7512 943.915 L82.7512 947.85 L53.0754 947.85 L53.0754 943.915 Z\" fill=\"#000000\" fill-rule=\"evenodd\" fill-opacity=\"1\" /><path clip-path=\"url(#clip910)\" d=\"M102.844 929.262 Q99.2326 929.262 97.4039 932.827 Q95.5984 936.368 95.5984 943.498 Q95.5984 950.604 97.4039 954.169 Q99.2326 957.711 102.844 957.711 Q106.478 957.711 108.283 954.169 Q110.112 950.604 110.112 943.498 Q110.112 936.368 108.283 932.827 Q106.478 929.262 102.844 929.262 M102.844 925.558 Q108.654 925.558 111.709 930.165 Q114.788 934.748 114.788 943.498 Q114.788 952.225 111.709 956.831 Q108.654 961.414 102.844 961.414 Q97.0335 961.414 93.9549 956.831 Q90.8993 952.225 90.8993 943.498 Q90.8993 934.748 93.9549 930.165 Q97.0335 925.558 102.844 925.558 Z\" fill=\"#000000\" fill-rule=\"evenodd\" fill-opacity=\"1\" /><path clip-path=\"url(#clip910)\" d=\"M123.006 954.864 L127.89 954.864 L127.89 960.743 L123.006 960.743 L123.006 954.864 Z\" fill=\"#000000\" fill-rule=\"evenodd\" fill-opacity=\"1\" /><path clip-path=\"url(#clip910)\" d=\"M142.103 956.808 L158.422 956.808 L158.422 960.743 L136.478 960.743 L136.478 956.808 Q139.14 954.053 143.723 949.424 Q148.33 944.771 149.51 943.428 Q151.755 940.905 152.635 939.169 Q153.538 937.41 153.538 935.72 Q153.538 932.965 151.593 931.229 Q149.672 929.493 146.57 929.493 Q144.371 929.493 141.918 930.257 Q139.487 931.021 136.709 932.572 L136.709 927.85 Q139.533 926.716 141.987 926.137 Q144.441 925.558 146.478 925.558 Q151.848 925.558 155.042 928.243 Q158.237 930.928 158.237 935.419 Q158.237 937.549 157.427 939.47 Q156.64 941.368 154.533 943.961 Q153.955 944.632 150.853 947.85 Q147.751 951.044 142.103 956.808 Z\" fill=\"#000000\" fill-rule=\"evenodd\" fill-opacity=\"1\" /><path clip-path=\"url(#clip910)\" d=\"M101.246 625.367 Q97.6354 625.367 95.8067 628.932 Q94.0012 632.474 94.0012 639.603 Q94.0012 646.71 95.8067 650.275 Q97.6354 653.816 101.246 653.816 Q104.881 653.816 106.686 650.275 Q108.515 646.71 108.515 639.603 Q108.515 632.474 106.686 628.932 Q104.881 625.367 101.246 625.367 M101.246 621.664 Q107.057 621.664 110.112 626.27 Q113.191 630.853 113.191 639.603 Q113.191 648.33 110.112 652.937 Q107.057 657.52 101.246 657.52 Q95.4363 657.52 92.3576 652.937 Q89.3021 648.33 89.3021 639.603 Q89.3021 630.853 92.3576 626.27 Q95.4363 621.664 101.246 621.664 Z\" fill=\"#000000\" fill-rule=\"evenodd\" fill-opacity=\"1\" /><path clip-path=\"url(#clip910)\" d=\"M121.408 650.969 L126.293 650.969 L126.293 656.849 L121.408 656.849 L121.408 650.969 Z\" fill=\"#000000\" fill-rule=\"evenodd\" fill-opacity=\"1\" /><path clip-path=\"url(#clip910)\" d=\"M146.478 625.367 Q142.867 625.367 141.038 628.932 Q139.232 632.474 139.232 639.603 Q139.232 646.71 141.038 650.275 Q142.867 653.816 146.478 653.816 Q150.112 653.816 151.918 650.275 Q153.746 646.71 153.746 639.603 Q153.746 632.474 151.918 628.932 Q150.112 625.367 146.478 625.367 M146.478 621.664 Q152.288 621.664 155.343 626.27 Q158.422 630.853 158.422 639.603 Q158.422 648.33 155.343 652.937 Q152.288 657.52 146.478 657.52 Q140.668 657.52 137.589 652.937 Q134.533 648.33 134.533 639.603 Q134.533 630.853 137.589 626.27 Q140.668 621.664 146.478 621.664 Z\" fill=\"#000000\" fill-rule=\"evenodd\" fill-opacity=\"1\" /><path clip-path=\"url(#clip910)\" d=\"M102.844 321.473 Q99.2326 321.473 97.4039 325.037 Q95.5984 328.579 95.5984 335.709 Q95.5984 342.815 97.4039 346.38 Q99.2326 349.922 102.844 349.922 Q106.478 349.922 108.283 346.38 Q110.112 342.815 110.112 335.709 Q110.112 328.579 108.283 325.037 Q106.478 321.473 102.844 321.473 M102.844 317.769 Q108.654 317.769 111.709 322.375 Q114.788 326.959 114.788 335.709 Q114.788 344.436 111.709 349.042 Q108.654 353.625 102.844 353.625 Q97.0335 353.625 93.9549 349.042 Q90.8993 344.436 90.8993 335.709 Q90.8993 326.959 93.9549 322.375 Q97.0335 317.769 102.844 317.769 Z\" fill=\"#000000\" fill-rule=\"evenodd\" fill-opacity=\"1\" /><path clip-path=\"url(#clip910)\" d=\"M123.006 347.074 L127.89 347.074 L127.89 352.954 L123.006 352.954 L123.006 347.074 Z\" fill=\"#000000\" fill-rule=\"evenodd\" fill-opacity=\"1\" /><path clip-path=\"url(#clip910)\" d=\"M142.103 349.019 L158.422 349.019 L158.422 352.954 L136.478 352.954 L136.478 349.019 Q139.14 346.264 143.723 341.635 Q148.33 336.982 149.51 335.639 Q151.755 333.116 152.635 331.38 Q153.538 329.621 153.538 327.931 Q153.538 325.176 151.593 323.44 Q149.672 321.704 146.57 321.704 Q144.371 321.704 141.918 322.468 Q139.487 323.232 136.709 324.783 L136.709 320.061 Q139.533 318.926 141.987 318.348 Q144.441 317.769 146.478 317.769 Q151.848 317.769 155.042 320.454 Q158.237 323.139 158.237 327.63 Q158.237 329.76 157.427 331.681 Q156.64 333.579 154.533 336.172 Q153.955 336.843 150.853 340.061 Q147.751 343.255 142.103 349.019 Z\" fill=\"#000000\" fill-rule=\"evenodd\" fill-opacity=\"1\" /><polyline clip-path=\"url(#clip912)\" style=\"stroke:#009af9; stroke-linecap:butt; stroke-linejoin:round; stroke-width:4; stroke-opacity:1; fill:none\" points=\"\n",
       "  255.507,1301.23 306.411,1185.27 357.315,1079.49 408.219,1001.32 459.123,956.436 510.028,941.987 560.932,950.243 611.836,971.872 662.74,998.318 713.644,1023.17 \n",
       "  764.548,1042.6 815.452,1055.18 866.356,1061.27 917.26,1062.32 968.164,1060.18 1019.07,1056.61 1069.97,1052.98 1120.88,1050.16 1171.78,1048.52 1222.68,1048.06 \n",
       "  1273.59,1048.55 1324.49,1049.62 1375.4,1050.94 1426.3,1052.24 1477.21,1053.33 1528.11,1054.14 1579.01,1054.65 1629.92,1054.93 1680.82,1055.04 1731.73,1055.05 \n",
       "  1782.63,1055.02 1833.53,1055 1884.44,1055.02 1935.34,1055.07 1986.25,1055.15 2037.15,1055.24 2088.05,1055.35 2138.96,1055.45 2189.86,1055.54 2240.77,1055.61 \n",
       "  2291.67,1055.67 \n",
       "  \"/>\n",
       "<polyline clip-path=\"url(#clip912)\" style=\"stroke:#e26f46; stroke-linecap:butt; stroke-linejoin:round; stroke-width:4; stroke-opacity:1; fill:none\" points=\"\n",
       "  255.507,87.9763 306.411,224.53 357.315,361.777 408.219,490.488 459.123,604.372 510.028,700.45 560.932,778.64 611.836,840.907 662.74,890.306 713.644,930.152 \n",
       "  764.548,963.416 815.452,992.4 866.356,1018.64 917.26,1042.97 968.164,1065.72 1019.07,1086.88 1069.97,1106.31 1120.88,1123.84 1171.78,1139.39 1222.68,1152.98 \n",
       "  1273.59,1164.71 1324.49,1174.79 1375.4,1183.43 1426.3,1190.88 1477.21,1197.35 1528.11,1203.01 1579.01,1208.01 1629.92,1212.47 1680.82,1216.44 1731.73,1219.98 \n",
       "  1782.63,1223.14 1833.53,1225.94 1884.44,1228.42 1935.34,1230.6 1986.25,1232.51 2037.15,1234.19 2088.05,1235.65 2138.96,1236.94 2189.86,1238.06 2240.77,1239.05 \n",
       "  2291.67,1239.92 \n",
       "  \"/>\n",
       "<polyline clip-path=\"url(#clip912)\" style=\"stroke:#3da44d; stroke-linecap:butt; stroke-linejoin:round; stroke-width:4; stroke-opacity:1; fill:none\" points=\"\n",
       "  255.507,1445.72 306.411,1333.35 357.315,1278.61 408.219,1264.97 459.123,1274.76 510.028,1292.91 560.932,1308.79 611.836,1316.56 662.74,1314.5 713.644,1303.79 \n",
       "  764.548,1287.15 815.452,1267.76 866.356,1248.41 917.26,1231.11 968.164,1216.93 1019.07,1206.15 1069.97,1198.44 1120.88,1193.13 1171.78,1189.48 1222.68,1186.78 \n",
       "  1273.59,1184.52 1324.49,1182.36 1375.4,1180.13 1426.3,1177.81 1477.21,1175.46 1528.11,1173.18 1579.01,1171.04 1629.92,1169.13 1680.82,1167.47 1731.73,1166.07 \n",
       "  1782.63,1164.9 1833.53,1163.94 1884.44,1163.14 1935.34,1162.46 1986.25,1161.87 2037.15,1161.35 2088.05,1160.88 2138.96,1160.45 2189.86,1160.06 2240.77,1159.7 \n",
       "  2291.67,1159.39 \n",
       "  \"/>\n",
       "<polyline clip-path=\"url(#clip912)\" style=\"stroke:#c271d2; stroke-linecap:butt; stroke-linejoin:round; stroke-width:4; stroke-opacity:1; fill:none\" points=\"\n",
       "  255.507,1301.23 306.411,1191.41 357.315,1079.34 408.219,1011.13 459.123,944.583 510.028,941.968 560.932,937.852 611.836,961.243 662.74,990.743 713.644,1024.57 \n",
       "  764.548,1048.73 815.452,1054.82 866.356,1061.39 917.26,1075.85 968.164,1053.57 1019.07,1065.55 1069.97,1055.6 1120.88,1036.76 1171.78,1041.92 1222.68,1043.08 \n",
       "  1273.59,1048.32 1324.49,1036.1 1375.4,1057.88 1426.3,1063.15 1477.21,1050.68 1528.11,1052.01 1579.01,1050.32 1629.92,1070.44 1680.82,1047.89 1731.73,1054.4 \n",
       "  1782.63,1056.84 1833.53,1053.86 1884.44,1063.47 1935.34,1052.33 1986.25,1059.69 2037.15,1066.08 2088.05,1047.19 2138.96,1047.63 2189.86,1053.26 2240.77,1070.07 \n",
       "  2291.67,1053.23 \n",
       "  \"/>\n",
       "<polyline clip-path=\"url(#clip912)\" style=\"stroke:#ac8d18; stroke-linecap:butt; stroke-linejoin:round; stroke-width:4; stroke-opacity:1; fill:none\" points=\"\n",
       "  255.507,87.9763 306.411,219.437 357.315,365.221 408.219,487.764 459.123,611.582 510.028,704.131 560.932,783.426 611.836,835.459 662.74,889.275 713.644,917.207 \n",
       "  764.548,956.384 815.452,995.706 866.356,1023.3 917.26,1051.05 968.164,1076.52 1019.07,1084.48 1069.97,1100.82 1120.88,1123.9 1171.78,1149.41 1222.68,1158.87 \n",
       "  1273.59,1169.53 1324.49,1175.19 1375.4,1187.51 1426.3,1195.77 1477.21,1207.33 1528.11,1201.87 1579.01,1208.52 1629.92,1215.57 1680.82,1214.11 1731.73,1211.93 \n",
       "  1782.63,1224.49 1833.53,1225.09 1884.44,1225.64 1935.34,1237.93 1986.25,1234.45 2037.15,1234.5 2088.05,1248.36 2138.96,1246.14 2189.86,1230.78 2240.77,1239.39 \n",
       "  2291.67,1233.66 \n",
       "  \"/>\n",
       "<polyline clip-path=\"url(#clip912)\" style=\"stroke:#00a9ad; stroke-linecap:butt; stroke-linejoin:round; stroke-width:4; stroke-opacity:1; fill:none\" points=\"\n",
       "  255.507,1445.72 306.411,1333.6 357.315,1270.02 408.219,1258.16 459.123,1275.53 510.028,1295.37 560.932,1309 611.836,1313.05 662.74,1322.85 713.644,1304.71 \n",
       "  764.548,1292.89 815.452,1264.07 866.356,1255.46 917.26,1233.16 968.164,1208.7 1019.07,1210.08 1069.97,1189.87 1120.88,1195.72 1171.78,1178.07 1222.68,1187.4 \n",
       "  1273.59,1186.29 1324.49,1180 1375.4,1181.5 1426.3,1171.86 1477.21,1178.67 1528.11,1180.66 1579.01,1171.68 1629.92,1166.9 1680.82,1166.98 1731.73,1166.33 \n",
       "  1782.63,1160.71 1833.53,1157.04 1884.44,1161.78 1935.34,1162.6 1986.25,1157.35 2037.15,1160.01 2088.05,1165.03 2138.96,1154.1 2189.86,1160.12 2240.77,1160.57 \n",
       "  2291.67,1160.62 \n",
       "  \"/>\n",
       "<path clip-path=\"url(#clip910)\" d=\"\n",
       "M1986.85 458.098 L2280.81 458.098 L2280.81 95.2176 L1986.85 95.2176  Z\n",
       "  \" fill=\"#ffffff\" fill-rule=\"evenodd\" fill-opacity=\"1\"/>\n",
       "<polyline clip-path=\"url(#clip910)\" style=\"stroke:#000000; stroke-linecap:butt; stroke-linejoin:round; stroke-width:4; stroke-opacity:1; fill:none\" points=\"\n",
       "  1986.85,458.098 2280.81,458.098 2280.81,95.2176 1986.85,95.2176 1986.85,458.098 \n",
       "  \"/>\n",
       "<polyline clip-path=\"url(#clip910)\" style=\"stroke:#009af9; stroke-linecap:butt; stroke-linejoin:round; stroke-width:4; stroke-opacity:1; fill:none\" points=\"\n",
       "  2010.83,147.058 2154.72,147.058 \n",
       "  \"/>\n",
       "<path clip-path=\"url(#clip910)\" d=\"M2192.55 166.745 Q2190.74 171.375 2189.03 172.787 Q2187.32 174.199 2184.45 174.199 L2181.04 174.199 L2181.04 170.634 L2183.54 170.634 Q2185.3 170.634 2186.27 169.8 Q2187.25 168.967 2188.43 165.865 L2189.19 163.921 L2178.71 138.412 L2183.22 138.412 L2191.32 158.689 L2199.42 138.412 L2203.94 138.412 L2192.55 166.745 Z\" fill=\"#000000\" fill-rule=\"evenodd\" fill-opacity=\"1\" /><path clip-path=\"url(#clip910)\" d=\"M2211.23 160.402 L2218.87 160.402 L2218.87 134.037 L2210.56 135.703 L2210.56 131.444 L2218.82 129.778 L2223.5 129.778 L2223.5 160.402 L2231.14 160.402 L2231.14 164.338 L2211.23 164.338 L2211.23 160.402 Z\" fill=\"#000000\" fill-rule=\"evenodd\" fill-opacity=\"1\" /><polyline clip-path=\"url(#clip910)\" style=\"stroke:#e26f46; stroke-linecap:butt; stroke-linejoin:round; stroke-width:4; stroke-opacity:1; fill:none\" points=\"\n",
       "  2010.83,198.898 2154.72,198.898 \n",
       "  \"/>\n",
       "<path clip-path=\"url(#clip910)\" d=\"M2192.55 218.585 Q2190.74 223.215 2189.03 224.627 Q2187.32 226.039 2184.45 226.039 L2181.04 226.039 L2181.04 222.474 L2183.54 222.474 Q2185.3 222.474 2186.27 221.64 Q2187.25 220.807 2188.43 217.705 L2189.19 215.761 L2178.71 190.252 L2183.22 190.252 L2191.32 210.529 L2199.42 190.252 L2203.94 190.252 L2192.55 218.585 Z\" fill=\"#000000\" fill-rule=\"evenodd\" fill-opacity=\"1\" /><path clip-path=\"url(#clip910)\" d=\"M2214.45 212.242 L2230.77 212.242 L2230.77 216.178 L2208.82 216.178 L2208.82 212.242 Q2211.48 209.488 2216.07 204.858 Q2220.67 200.205 2221.85 198.863 Q2224.1 196.34 2224.98 194.604 Q2225.88 192.844 2225.88 191.155 Q2225.88 188.4 2223.94 186.664 Q2222.02 184.928 2218.91 184.928 Q2216.71 184.928 2214.26 185.692 Q2211.83 186.455 2209.05 188.006 L2209.05 183.284 Q2211.88 182.15 2214.33 181.571 Q2216.78 180.993 2218.82 180.993 Q2224.19 180.993 2227.39 183.678 Q2230.58 186.363 2230.58 190.854 Q2230.58 192.983 2229.77 194.905 Q2228.98 196.803 2226.88 199.395 Q2226.3 200.067 2223.2 203.284 Q2220.09 206.479 2214.45 212.242 Z\" fill=\"#000000\" fill-rule=\"evenodd\" fill-opacity=\"1\" /><polyline clip-path=\"url(#clip910)\" style=\"stroke:#3da44d; stroke-linecap:butt; stroke-linejoin:round; stroke-width:4; stroke-opacity:1; fill:none\" points=\"\n",
       "  2010.83,250.738 2154.72,250.738 \n",
       "  \"/>\n",
       "<path clip-path=\"url(#clip910)\" d=\"M2192.55 270.425 Q2190.74 275.055 2189.03 276.467 Q2187.32 277.879 2184.45 277.879 L2181.04 277.879 L2181.04 274.314 L2183.54 274.314 Q2185.3 274.314 2186.27 273.48 Q2187.25 272.647 2188.43 269.545 L2189.19 267.601 L2178.71 242.092 L2183.22 242.092 L2191.32 262.369 L2199.42 242.092 L2203.94 242.092 L2192.55 270.425 Z\" fill=\"#000000\" fill-rule=\"evenodd\" fill-opacity=\"1\" /><path clip-path=\"url(#clip910)\" d=\"M2224.58 249.383 Q2227.94 250.101 2229.82 252.369 Q2231.71 254.638 2231.71 257.971 Q2231.71 263.087 2228.2 265.888 Q2224.68 268.689 2218.2 268.689 Q2216.02 268.689 2213.71 268.249 Q2211.41 267.832 2208.96 266.976 L2208.96 262.462 Q2210.9 263.596 2213.22 264.175 Q2215.53 264.754 2218.06 264.754 Q2222.46 264.754 2224.75 263.018 Q2227.06 261.281 2227.06 257.971 Q2227.06 254.916 2224.91 253.203 Q2222.78 251.467 2218.96 251.467 L2214.93 251.467 L2214.93 247.624 L2219.14 247.624 Q2222.59 247.624 2224.42 246.258 Q2226.25 244.87 2226.25 242.277 Q2226.25 239.615 2224.35 238.203 Q2222.48 236.768 2218.96 236.768 Q2217.04 236.768 2214.84 237.184 Q2212.64 237.601 2210 238.481 L2210 234.314 Q2212.66 233.573 2214.98 233.203 Q2217.32 232.833 2219.38 232.833 Q2224.7 232.833 2227.8 235.263 Q2230.9 237.67 2230.9 241.791 Q2230.9 244.661 2229.26 246.652 Q2227.62 248.62 2224.58 249.383 Z\" fill=\"#000000\" fill-rule=\"evenodd\" fill-opacity=\"1\" /><polyline clip-path=\"url(#clip910)\" style=\"stroke:#c271d2; stroke-linecap:butt; stroke-linejoin:round; stroke-width:4; stroke-opacity:1; fill:none\" points=\"\n",
       "  2010.83,302.578 2154.72,302.578 \n",
       "  \"/>\n",
       "<path clip-path=\"url(#clip910)\" d=\"M2192.55 322.265 Q2190.74 326.895 2189.03 328.307 Q2187.32 329.719 2184.45 329.719 L2181.04 329.719 L2181.04 326.154 L2183.54 326.154 Q2185.3 326.154 2186.27 325.32 Q2187.25 324.487 2188.43 321.385 L2189.19 319.441 L2178.71 293.932 L2183.22 293.932 L2191.32 314.209 L2199.42 293.932 L2203.94 293.932 L2192.55 322.265 Z\" fill=\"#000000\" fill-rule=\"evenodd\" fill-opacity=\"1\" /><path clip-path=\"url(#clip910)\" d=\"M2223.27 289.372 L2211.46 307.821 L2223.27 307.821 L2223.27 289.372 M2222.04 285.298 L2227.92 285.298 L2227.92 307.821 L2232.85 307.821 L2232.85 311.709 L2227.92 311.709 L2227.92 319.858 L2223.27 319.858 L2223.27 311.709 L2207.66 311.709 L2207.66 307.196 L2222.04 285.298 Z\" fill=\"#000000\" fill-rule=\"evenodd\" fill-opacity=\"1\" /><polyline clip-path=\"url(#clip910)\" style=\"stroke:#ac8d18; stroke-linecap:butt; stroke-linejoin:round; stroke-width:4; stroke-opacity:1; fill:none\" points=\"\n",
       "  2010.83,354.418 2154.72,354.418 \n",
       "  \"/>\n",
       "<path clip-path=\"url(#clip910)\" d=\"M2192.55 374.105 Q2190.74 378.735 2189.03 380.147 Q2187.32 381.559 2184.45 381.559 L2181.04 381.559 L2181.04 377.994 L2183.54 377.994 Q2185.3 377.994 2186.27 377.16 Q2187.25 376.327 2188.43 373.225 L2189.19 371.281 L2178.71 345.772 L2183.22 345.772 L2191.32 366.049 L2199.42 345.772 L2203.94 345.772 L2192.55 374.105 Z\" fill=\"#000000\" fill-rule=\"evenodd\" fill-opacity=\"1\" /><path clip-path=\"url(#clip910)\" d=\"M2210.46 337.138 L2228.82 337.138 L2228.82 341.073 L2214.75 341.073 L2214.75 349.545 Q2215.77 349.198 2216.78 349.036 Q2217.8 348.85 2218.82 348.85 Q2224.61 348.85 2227.99 352.022 Q2231.37 355.193 2231.37 360.61 Q2231.37 366.188 2227.89 369.29 Q2224.42 372.369 2218.1 372.369 Q2215.93 372.369 2213.66 371.998 Q2211.41 371.628 2209.01 370.887 L2209.01 366.188 Q2211.09 367.323 2213.31 367.878 Q2215.53 368.434 2218.01 368.434 Q2222.02 368.434 2224.35 366.327 Q2226.69 364.221 2226.69 360.61 Q2226.69 356.999 2224.35 354.892 Q2222.02 352.786 2218.01 352.786 Q2216.14 352.786 2214.26 353.202 Q2212.41 353.619 2210.46 354.499 L2210.46 337.138 Z\" fill=\"#000000\" fill-rule=\"evenodd\" fill-opacity=\"1\" /><polyline clip-path=\"url(#clip910)\" style=\"stroke:#00a9ad; stroke-linecap:butt; stroke-linejoin:round; stroke-width:4; stroke-opacity:1; fill:none\" points=\"\n",
       "  2010.83,406.258 2154.72,406.258 \n",
       "  \"/>\n",
       "<path clip-path=\"url(#clip910)\" d=\"M2192.55 425.945 Q2190.74 430.575 2189.03 431.987 Q2187.32 433.399 2184.45 433.399 L2181.04 433.399 L2181.04 429.834 L2183.54 429.834 Q2185.3 429.834 2186.27 429 Q2187.25 428.167 2188.43 425.065 L2189.19 423.121 L2178.71 397.612 L2183.22 397.612 L2191.32 417.889 L2199.42 397.612 L2203.94 397.612 L2192.55 425.945 Z\" fill=\"#000000\" fill-rule=\"evenodd\" fill-opacity=\"1\" /><path clip-path=\"url(#clip910)\" d=\"M2221 404.394 Q2217.85 404.394 2216 406.547 Q2214.17 408.7 2214.17 412.45 Q2214.17 416.176 2216 418.352 Q2217.85 420.505 2221 420.505 Q2224.14 420.505 2225.97 418.352 Q2227.83 416.176 2227.83 412.45 Q2227.83 408.7 2225.97 406.547 Q2224.14 404.394 2221 404.394 M2230.28 389.741 L2230.28 394.001 Q2228.52 393.167 2226.71 392.728 Q2224.93 392.288 2223.17 392.288 Q2218.54 392.288 2216.09 395.413 Q2213.66 398.538 2213.31 404.857 Q2214.68 402.843 2216.74 401.778 Q2218.8 400.69 2221.27 400.69 Q2226.48 400.69 2229.49 403.862 Q2232.52 407.01 2232.52 412.45 Q2232.52 417.774 2229.38 420.991 Q2226.23 424.209 2221 424.209 Q2215 424.209 2211.83 419.626 Q2208.66 415.019 2208.66 406.292 Q2208.66 398.098 2212.55 393.237 Q2216.44 388.353 2222.99 388.353 Q2224.75 388.353 2226.53 388.7 Q2228.33 389.047 2230.28 389.741 Z\" fill=\"#000000\" fill-rule=\"evenodd\" fill-opacity=\"1\" /></svg>\n"
      ]
     },
     "execution_count": 22,
     "metadata": {},
     "output_type": "execute_result"
    }
   ],
   "source": [
    "plot(bv_sid')\n",
    "plot!(bv')"
   ]
  },
  {
   "cell_type": "code",
   "execution_count": 23,
   "id": "7434b12f",
   "metadata": {},
   "outputs": [],
   "source": [
    "seeds = rand(UInt, 100000)\n",
    "@assert allunique(seeds)"
   ]
  },
  {
   "cell_type": "code",
   "execution_count": null,
   "id": "bf731382",
   "metadata": {},
   "outputs": [],
   "source": []
  }
 ],
 "metadata": {
  "kernelspec": {
   "display_name": "Julia 1.7.2",
   "language": "julia",
   "name": "julia-1.7"
  },
  "language_info": {
   "file_extension": ".jl",
   "mimetype": "application/julia",
   "name": "julia",
   "version": "1.7.2"
  }
 },
 "nbformat": 4,
 "nbformat_minor": 5
}
