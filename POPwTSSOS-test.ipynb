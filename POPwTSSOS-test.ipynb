{
 "cells": [
  {
   "cell_type": "markdown",
   "id": "1a0972fa",
   "metadata": {},
   "source": [
    "# Comparing previous SID convergence with TSSOS #"
   ]
  },
  {
   "cell_type": "code",
   "execution_count": 1,
   "id": "389eaaae",
   "metadata": {},
   "outputs": [],
   "source": [
    "# using packages\n",
    "using DynamicPolynomials\n",
    "using LinearAlgebra\n",
    "using HDF5\n",
    "using TSSOS\n",
    "using Dates"
   ]
  },
  {
   "cell_type": "markdown",
   "id": "4bf4be2f",
   "metadata": {},
   "source": [
    "Declare unknown symbolic matrices to build dynamic equations"
   ]
  },
  {
   "cell_type": "code",
   "execution_count": 2,
   "id": "a52ac308",
   "metadata": {},
   "outputs": [
    {
     "data": {
      "text/plain": [
       "2×2 Matrix{Polynomial{true, ComplexF64}}:\n",
       " a₁₋₁ + (0.0+1.0im)b₁₋₁  a₁₋₂ + (0.0+1.0im)b₁₋₂\n",
       " a₂₋₁ + (0.0+1.0im)b₂₋₁  a₂₋₂ + (0.0+1.0im)b₂₋₂"
      ]
     },
     "execution_count": 2,
     "metadata": {},
     "output_type": "execute_result"
    }
   ],
   "source": [
    "# unknown Hermitian 2 x 2 matrix\n",
    "@polyvar x[1:4]\n",
    "H = [ 1.0 * x[1]        x[3] + im * x[4]\n",
    "      x[3] - im * x[4]  x[2]             ]\n",
    "\n",
    "# unknown arbitrary complex 2 x 2 matrix\n",
    "@polyvar a[1:2, 1:2]\n",
    "@polyvar b[1:2, 1:2]\n",
    "A = 1.0 * a + im * b"
   ]
  },
  {
   "cell_type": "markdown",
   "id": "2e10f773",
   "metadata": {},
   "source": [
    "Function to build left hand side of the Lindblad equation"
   ]
  },
  {
   "cell_type": "code",
   "execution_count": 3,
   "id": "9e1aa196",
   "metadata": {},
   "outputs": [
    {
     "data": {
      "text/plain": [
       "lindblad_rhs (generic function with 1 method)"
      ]
     },
     "execution_count": 3,
     "metadata": {},
     "output_type": "execute_result"
    }
   ],
   "source": [
    "function lindblad_rhs(rho)\n",
    "    return -1.0 * im * (H * rho - rho * H) + A * rho * A' - (A' * A  * rho + rho * A' * A) / 2\n",
    "end"
   ]
  },
  {
   "cell_type": "markdown",
   "id": "3cb86a8c",
   "metadata": {},
   "source": [
    "Function to calculate square of Frobenius norm of the matrix"
   ]
  },
  {
   "cell_type": "code",
   "execution_count": 4,
   "id": "e6b0df97",
   "metadata": {},
   "outputs": [
    {
     "data": {
      "text/plain": [
       "frobenius_norm2 (generic function with 1 method)"
      ]
     },
     "execution_count": 4,
     "metadata": {},
     "output_type": "execute_result"
    }
   ],
   "source": [
    "function frobenius_norm2(m)\n",
    "    return tr(m * m')\n",
    "end"
   ]
  },
  {
   "cell_type": "markdown",
   "id": "a8631407",
   "metadata": {},
   "source": [
    "Function to get seeds from the HDF5 data file for specific noise level <em> w </em>"
   ]
  },
  {
   "cell_type": "code",
   "execution_count": 5,
   "id": "c6005741",
   "metadata": {},
   "outputs": [
    {
     "data": {
      "text/plain": [
       "get_seeds (generic function with 1 method)"
      ]
     },
     "execution_count": 5,
     "metadata": {},
     "output_type": "execute_result"
    }
   ],
   "source": [
    "function get_seeds(file_name, w)\n",
    "    h5open(file_name, \"r\") do file\n",
    "        return keys(file[string(w)])\n",
    "    end\n",
    "end    "
   ]
  },
  {
   "cell_type": "code",
   "execution_count": 6,
   "id": "b5d9755e",
   "metadata": {},
   "outputs": [
    {
     "data": {
      "text/plain": [
       "get_noise_levels (generic function with 1 method)"
      ]
     },
     "execution_count": 6,
     "metadata": {},
     "output_type": "execute_result"
    }
   ],
   "source": [
    "function get_noise_levels(file_name)\n",
    "    h5open(file_name, \"r\") do file\n",
    "        return keys(file)\n",
    "    end\n",
    "end"
   ]
  },
  {
   "cell_type": "markdown",
   "id": "c2e9527f",
   "metadata": {},
   "source": [
    "Function to find the best(minimum) value of the objective polynomial"
   ]
  },
  {
   "cell_type": "code",
   "execution_count": 51,
   "id": "410e02fa",
   "metadata": {},
   "outputs": [
    {
     "data": {
      "text/plain": [
       "opt_tssos (generic function with 1 method)"
      ]
     },
     "execution_count": 51,
     "metadata": {},
     "output_type": "execute_result"
    }
   ],
   "source": [
    "function get_rho_series(file_name, w, seed)\n",
    "    h5open(file_name, \"r\") do file\n",
    "        dset = file[string(w)][string(seed)][\"rho\"]\n",
    "        return(read(dset))\n",
    "    end\n",
    "end\n",
    "\n",
    "function opt_tssos(ρ_series)\n",
    "    \n",
    "    # objective for optimization \n",
    "      \n",
    "    obj = sum(\n",
    "        frobenius_norm2(\n",
    "            ρ_series[:, :, t] - ρ_series[:, :, t - 1] \n",
    "            - dt * lindblad_rhs(0.5 * (ρ_series[:, :, t] + ρ_series[:, :, t - 1]))\n",
    "        ) for t in 2:size(ρ_series,3)\n",
    "    )\n",
    "\n",
    "    \n",
    "    obj_re = sum(real(coef) * mon for (coef, mon) in zip(coefficients(obj), monomials(obj)))\n",
    "    \n",
    "    # execute the first level of the TSSOS hierarchy\n",
    "\n",
    "    opt,sol,data = tssos_first(obj_re, variables(obj_re))\n",
    "    \n",
    "    # execute higher levels of the TSSOS hierarchy\n",
    "    \n",
    "    iter = 1\n",
    "    best_opt = opt\n",
    "\n",
    "    while !isnothing(opt)\n",
    "        opt,sol,data = tssos_higher!(data)\n",
    "        if !isnothing(opt) & (iter < 5)\n",
    "            iter += 1\n",
    "            if abs(opt) < abs(best_opt)\n",
    "                best_opt = opt\n",
    "            end\n",
    "        end\n",
    "    end\n",
    "    \n",
    "    return(best_opt, iter)\n",
    "    \n",
    "end    "
   ]
  },
  {
   "cell_type": "markdown",
   "id": "f9d36e14",
   "metadata": {},
   "source": [
    "Reading time series of the dynamics of density matrix $\\rho$ from HDF file and calculating optimums with TSSOS"
   ]
  },
  {
   "cell_type": "code",
   "execution_count": 21,
   "id": "6c721376",
   "metadata": {},
   "outputs": [
    {
     "data": {
      "text/plain": [
       "5-element Vector{String}:\n",
       " \"0.0\"\n",
       " \"0.01\"\n",
       " \"0.02\"\n",
       " \"0.04\"\n",
       " \"0.05\""
      ]
     },
     "execution_count": 21,
     "metadata": {},
     "output_type": "execute_result"
    }
   ],
   "source": [
    "noise_levels"
   ]
  },
  {
   "cell_type": "code",
   "execution_count": 52,
   "id": "942de744",
   "metadata": {},
   "outputs": [
    {
     "data": {
      "text/plain": [
       "\"1039283195\""
      ]
     },
     "execution_count": 52,
     "metadata": {},
     "output_type": "execute_result"
    }
   ],
   "source": [
    "file_name = \"time_series_lindblad_rnd_rho_2022-04-27_03-35-20.hdf5\"\n",
    "\n",
    "noise_levels = get_noise_levels(file_name)\n",
    "seeds = get_seeds(file_name, \"0.05\")\n",
    "seeds[199]"
   ]
  },
  {
   "cell_type": "code",
   "execution_count": 53,
   "id": "44954b41",
   "metadata": {},
   "outputs": [
    {
     "data": {
      "text/plain": [
       "2×2 Matrix{ComplexF64}:\n",
       " 0.282078+0.0im       0.0+0.0im\n",
       "      0.0+0.0im  0.717922+0.0im"
      ]
     },
     "execution_count": 53,
     "metadata": {},
     "output_type": "execute_result"
    }
   ],
   "source": [
    "ρ0 = get_rho_series(file_name, \"0.0\", \"1039283195\")\n",
    "ρ5 = get_rho_series(file_name, \"0.05\", \"1039283195\")\n",
    "\n",
    "ρ = ρ0-ρ5\n",
    "ρ0[:,:,1]"
   ]
  },
  {
   "cell_type": "code",
   "execution_count": 30,
   "id": "b788483c",
   "metadata": {},
   "outputs": [
    {
     "data": {
      "text/plain": [
       "2×2 Matrix{ComplexF64}:\n",
       "   0.286027+0.0im         -0.0147395-0.00579536im\n",
       " -0.0147395+0.00579536im    0.713973+0.0im"
      ]
     },
     "execution_count": 30,
     "metadata": {},
     "output_type": "execute_result"
    }
   ],
   "source": [
    "ρ5[:,:,1]"
   ]
  },
  {
   "cell_type": "code",
   "execution_count": 31,
   "id": "1e2b8951",
   "metadata": {},
   "outputs": [
    {
     "data": {
      "text/plain": [
       "2×2×50 Array{ComplexF64, 3}:\n",
       "[:, :, 1] =\n",
       " -0.00394867+0.0im          0.0147395+0.00579536im\n",
       "   0.0147395-0.00579536im  0.00394867+0.0im\n",
       "\n",
       "[:, :, 2] =\n",
       "   -0.022894+0.0im        0.000755658-0.0166903im\n",
       " 0.000755658+0.0166903im     0.022894+0.0im\n",
       "\n",
       "[:, :, 3] =\n",
       " 0.000329136+0.0im            0.0021572-0.00443961im\n",
       "   0.0021572+0.00443961im  -0.000329136+0.0im\n",
       "\n",
       ";;; … \n",
       "\n",
       "[:, :, 48] =\n",
       "  0.00584158+0.0im        -0.00556756+0.0114078im\n",
       " -0.00556756-0.0114078im  -0.00584158+0.0im\n",
       "\n",
       "[:, :, 49] =\n",
       "   0.0180146+0.0im         0.000500408-0.00275692im\n",
       " 0.000500408+0.00275692im   -0.0180146+0.0im\n",
       "\n",
       "[:, :, 50] =\n",
       "  0.00930099+0.0im         0.000500501-0.00275682im\n",
       " 0.000500501+0.00275682im  -0.00930099+0.0im"
      ]
     },
     "execution_count": 31,
     "metadata": {},
     "output_type": "execute_result"
    }
   ],
   "source": [
    "ρ "
   ]
  },
  {
   "cell_type": "code",
   "execution_count": 64,
   "id": "6d127396",
   "metadata": {},
   "outputs": [
    {
     "name": "stdout",
     "output_type": "stream",
     "text": [
      "************************TSSOS************************\n",
      "TSSOS is launching...\n",
      "Starting to compute the block structure...\n",
      "------------------------------------------------------\n",
      "The sizes of PSD blocks:\n",
      "[41, 8]\n",
      "[1, 1]\n",
      "------------------------------------------------------\n",
      "Obtained the block structure. The maximal size of blocks is 41.\n",
      "Assembling the SDP...\n",
      "There are 525 affine constraints.\n",
      "Solving the SDP...\n",
      "Problem\n",
      "  Name                   :                 \n",
      "  Objective sense        : max             \n",
      "  Type                   : CONIC (conic optimization problem)\n",
      "  Constraints            : 525             \n",
      "  Cones                  : 0               \n",
      "  Scalar variables       : 1               \n",
      "  Matrix variables       : 2               \n",
      "  Integer variables      : 0               \n",
      "\n",
      "Optimizer started.\n",
      "Presolve started.\n",
      "Linear dependency checker started.\n",
      "Linear dependency checker terminated.\n",
      "Eliminator started.\n",
      "Freed constraints in eliminator : 0\n",
      "Eliminator terminated.\n",
      "Eliminator - tries                  : 1                 time                   : 0.00            \n",
      "Lin. dep.  - tries                  : 1                 time                   : 0.00            \n",
      "Lin. dep.  - number                 : 0               \n",
      "Presolve terminated. Time: 0.00    \n",
      "Problem\n",
      "  Name                   :                 \n",
      "  Objective sense        : max             \n",
      "  Type                   : CONIC (conic optimization problem)\n",
      "  Constraints            : 525             \n",
      "  Cones                  : 0               \n",
      "  Scalar variables       : 1               \n",
      "  Matrix variables       : 2               \n",
      "  Integer variables      : 0               \n",
      "\n",
      "Optimizer  - threads                : 4               \n",
      "Optimizer  - solved problem         : the primal      \n",
      "Optimizer  - Constraints            : 525\n",
      "Optimizer  - Cones                  : 1\n",
      "Optimizer  - Scalar variables       : 2                 conic                  : 2               \n",
      "Optimizer  - Semi-definite variables: 2                 scalarized             : 897             \n",
      "Factor     - setup time             : 0.02              dense det. time        : 0.00            \n",
      "Factor     - ML order time          : 0.02              GP order time          : 0.00            \n",
      "Factor     - nonzeros before factor : 1.38e+05          after factor           : 1.38e+05        \n",
      "Factor     - dense dim.             : 0                 flops                  : 5.04e+07        \n",
      "ITE PFEAS    DFEAS    GFEAS    PRSTATUS   POBJ              DOBJ              MU       TIME  \n",
      "0   1.3e+00  1.0e+00  1.0e+00  0.00e+00   0.000000000e+00   0.000000000e+00   1.0e+00  0.03  \n",
      "1   5.2e-01  4.0e-01  1.7e-01  1.87e-02   -2.953677479e-01  -8.668320812e-02  4.0e-01  0.11  \n",
      "2   9.2e-02  7.1e-02  8.1e-03  6.87e-01   3.856248000e-02   8.536477665e-02   7.1e-02  0.14  \n",
      "3   1.8e-02  1.4e-02  3.4e-04  1.77e+00   1.420191863e-02   2.033181173e-02   1.4e-02  0.16  \n",
      "4   3.8e-03  2.9e-03  4.5e-05  1.38e+00   6.154181964e-03   7.155678559e-03   2.9e-03  0.19  \n",
      "5   4.8e-04  3.6e-04  2.9e-06  9.93e-01   1.164748298e-03   1.266477469e-03   3.6e-04  0.22  \n",
      "6   2.0e-04  1.6e-04  9.5e-07  8.68e-01   4.932181815e-04   5.361167827e-04   1.6e-04  0.23  \n",
      "7   3.3e-05  2.5e-05  5.2e-08  1.12e+00   8.712113376e-05   9.456372598e-05   2.5e-05  0.27  \n",
      "8   5.7e-06  4.4e-06  4.2e-09  9.17e-01   1.638411744e-05   1.763461356e-05   4.4e-06  0.30  \n",
      "9   8.6e-07  6.6e-07  2.5e-10  1.09e+00   3.083700420e-06   3.255491151e-06   6.6e-07  0.33  \n",
      "10  2.9e-07  2.2e-07  4.7e-11  9.07e-01   1.819467296e-06   1.882729862e-06   2.2e-07  0.34  \n",
      "11  4.4e-08  3.4e-08  2.8e-12  9.46e-01   1.204730648e-06   1.215080139e-06   3.4e-08  0.38  \n",
      "12  7.9e-09  6.1e-09  2.0e-13  1.02e+00   1.105122866e-06   1.106953925e-06   5.8e-09  0.41  \n",
      "Optimizer terminated. Time: 0.42    \n",
      "\n",
      "SDP solving time: 0.4251088 seconds.\n",
      "optimum = 1.1051228661569545e-6\n"
     ]
    },
    {
     "data": {
      "text/plain": [
       "(1.1051228661569545e-6, nothing, TSSOS.upop_data(12, 0, PolyVar{true}[x₁, x₂, x₃, x₄, a₁₋₁, a₂₋₁, a₁₋₂, a₂₋₂, b₁₋₁, b₂₋₁, b₁₋₂, b₂₋₂], 0.027303451427726114a₁₋₁⁴ + 0.11319187462596121a₁₋₁³a₂₋₁ - 0.14047008155731677a₁₋₁³a₁₋₂ - 0.10921380571090446a₁₋₁³a₂₋₂ - 0.04958526970021238a₁₋₁³b₂₋₁ - 0.06221819867467921a₁₋₁³b₁₋₂ + 0.21026513727140453a₁₋₁²a₂₋₁² - 0.46476629448275797a₁₋₁²a₂₋₁a₁₋₂ - 0.3668538308092393a₁₋₁²a₂₋₁a₂₋₂ + 0.04958526970021238a₁₋₁²a₂₋₁b₁₋₁ - 0.06821985019456936a₁₋₁²a₂₋₁b₁₋₂ - 0.16138873807510404a₁₋₁²a₂₋₁b₂₋₂ + 0.39174735316461756a₁₋₁²a₁₋₂² + 0.4486884516033058a₁₋₁²a₁₋₂a₂₋₂ + 0.06221819867467921a₁₋₁²a₁₋₂b₁₋₁ + 0.06821985019456936a₁₋₁²a₁₋₂b₂₋₁ + 0.06821985019456937a₁₋₁²a₁₋₂b₁₋₂ + 0.04958526970021239a₁₋₁²a₁₋₂b₂₋₂ + 0.16382070856635667a₁₋₁²a₂₋₂² + 0.16138873807510404a₁₋₁²a₂₋₂b₂₋₁ + 0.19928752499850447a₁₋₁²a₂₋₂b₁₋₂ + 0.05460690285545223a₁₋₁²b₁₋₁² + 0.11319187462596121a₁₋₁²b₁₋₁b₂₋₁ - 0.14047008155731677a₁₋₁²b₁₋₁b₁₋₂ - 0.10921380571090446a₁₋₁²b₁₋₁b₂₋₂ + 0.21026513727140453a₁₋₁²b₂₋₁² + 0.31463210466790575a₁₋₁²b₂₋₁b₁₋₂ - 0.3668538308092393a₁₋₁²b₂₋₁b₂₋₂ + 0.3166802582571915a₁₋₁²b₁₋₂² - 0.11319187462596123a₁₋₁²b₁₋₂b₂₋₂ + 0.16382070856635667a₁₋₁²b₂₋₂² + 0.11319187462596121a₁₋₁a₂₋₁³ - 0.14047008155731677a₁₋₁a₂₋₁²a₁₋₂ - 0.4989130052862362a₁₋₁a₂₋₁²a₂₋₂ - 0.04958526970021238a₁₋₁a₂₋₁²b₂₋₁ - 0.06221819867467921a₁₋₁a₂₋₁²b₁₋₂ + 0.3941320377405948a₁₋₁a₂₋₁a₁₋₂² + 0.9239352195152805a₁₋₁a₂₋₁a₁₋₂a₂₋₂ + 0.06821985019456936a₁₋₁a₂₋₁a₁₋₂b₂₋₂ + 0.3941320377405947a₁₋₁a₂₋₁a₂₋₂² + 0.06821985019456936a₁₋₁a₂₋₁a₂₋₂b₁₋₂ + 0.24887279469871684a₁₋₁a₂₋₁a₂₋₂b₂₋₂ + 0.11319187462596121a₁₋₁a₂₋₁b₁₋₁² - 0.7793983991506634a₁₋₁a₂₋₁b₁₋₁b₁₋₂ + 0.11319187462596121a₁₋₁a₂₋₁b₂₋₁² + 0.3941320377405948a₁₋₁a₂₋₁b₁₋₂² + 0.7738010297004285a₁₋₁a₂₋₁b₁₋₂b₂₋₂ - 0.1677482884886723a₁₋₁a₂₋₁b₂₋₂² - 0.47596665853466125a₁₋₁a₁₋₂³ - 0.6995146061355728a₁₋₁a₁₋₂²a₂₋₂ - 0.06821985019456937a₁₋₁a₁₋₂²b₁₋₁ - 0.17402166704957078a₁₋₁a₁₋₂²b₂₋₁ - 0.21192045397297127a₁₋₁a₁₋₂²b₁₋₂ - 0.47596665853466125a₁₋₁a₁₋₂a₂₋₂² - 0.24887279469871684a₁₋₁a₁₋₂a₂₋₂b₁₋₁ - 0.06821985019456936a₁₋₁a₁₋₂a₂₋₂b₂₋₁ - 0.14047008155731677a₁₋₁a₁₋₂b₁₋₁² - 0.7793983991506634a₁₋₁a₁₋₂b₁₋₁b₂₋₁ + 0.1501341898148523a₁₋₁a₁₋₂b₁₋₁b₁₋₂ + 0.5618803262292671a₁₋₁a₁₋₂b₁₋₁b₂₋₂ - 0.14047008155731677a₁₋₁a₁₋₂b₂₋₁² + 0.9239352195152805a₁₋₁a₁₋₂b₂₋₁b₂₋₂ - 0.47596665853466125a₁₋₁a₁₋₂b₁₋₂² - 0.47596665853466125a₁₋₁a₁₋₂b₂₋₂² - 0.10921380571090446a₁₋₁a₂₋₂³ - 0.17402166704957078a₁₋₁a₂₋₂²b₂₋₁ - 0.2119204539729713a₁₋₁a₂₋₂²b₁₋₂ - 0.10921380571090446a₁₋₁a₂₋₂b₁₋₁² + 0.5618803262292671a₁₋₁a₂₋₂b₁₋₁b₁₋₂ - 0.4989130052862362a₁₋₁a₂₋₂b₂₋₁² - 0.7738010297004284a₁₋₁a₂₋₂b₂₋₁b₁₋₂ + 0.5618803262292671a₁₋₁a₂₋₂b₂₋₁b₂₋₂ - 0.6995146061355728a₁₋₁a₂₋₂b₁₋₂² - 0.10921380571090446a₁₋₁a₂₋₂b₂₋₂² - 0.04958526970021238a₁₋₁b₁₋₁²b₂₋₁ - 0.06221819867467921a₁₋₁b₁₋₁²b₁₋₂ + 0.06821985019456937a₁₋₁b₁₋₁b₁₋₂² + 0.24887279469871684a₁₋₁b₁₋₁b₁₋₂b₂₋₂ - 0.04958526970021238a₁₋₁b₂₋₁³ - 0.06221819867467921a₁₋₁b₂₋₁²b₁₋₂ - 0.1740216670495708a₁₋₁b₂₋₁b₁₋₂² + 0.06821985019456936a₁₋₁b₂₋₁b₁₋₂b₂₋₂ + 0.07485112764914602a₁₋₁b₂₋₁b₂₋₂² - 0.21192045397297127a₁₋₁b₁₋₂³ - 0.21192045397297127a₁₋₁b₁₋₂b₂₋₂² + 0.1829616858436785a₂₋₁⁴ - 0.07506709490742615a₂₋₁³a₁₋₂ - 0.3668538308092393a₂₋₁³a₂₋₂ + 0.04958526970021238a₂₋₁³b₁₋₁ - 0.06821985019456936a₂₋₁³b₁₋₂ - 0.16138873807510404a₂₋₁³b₂₋₂ - 0.3042612217524021a₂₋₁²a₁₋₂² + 0.4486884516033058a₂₋₁²a₁₋₂a₂₋₂ + 0.06221819867467921a₂₋₁²a₁₋₂b₁₋₁ + 0.06821985019456936a₂₋₁²a₁₋₂b₂₋₁ - 0.19928752499850447a₂₋₁²a₁₋₂b₂₋₂ + 0.39174735316461756a₂₋₁²a₂₋₂² + 0.16138873807510404a₂₋₁²a₂₋₂b₂₋₁ + 0.19928752499850447a₂₋₁²a₂₋₂b₁₋₂ + 0.06821985019456937a₂₋₁²a₂₋₂b₂₋₂ + 0.21026513727140453a₂₋₁²b₁₋₁² + 0.11319187462596121a₂₋₁²b₁₋₁b₂₋₁ - 0.14047008155731677a₂₋₁²b₁₋₁b₁₋₂ - 0.4989130052862362a₂₋₁²b₁₋₁b₂₋₂ + 0.365923371687357a₂₋₁²b₂₋₁² - 0.07506709490742615a₂₋₁²b₂₋₁b₁₋₂ - 0.3668538308092393a₂₋₁²b₂₋₁b₂₋₂ - 0.3042612217524021a₂₋₁²b₁₋₂² + 0.4486884516033058a₂₋₁²b₁₋₂b₂₋₂ + 0.3166802582571915a₂₋₁²b₂₋₂² - 0.07506709490742615a₂₋₁a₁₋₂³ - 0.14047008155731677a₂₋₁a₁₋₂²a₂₋₂ + 0.17402166704957078a₂₋₁a₁₋₂²b₁₋₁ - 0.06821985019456936a₂₋₁a₁₋₂²b₁₋₂ - 0.062218198674679204a₂₋₁a₁₋₂²b₂₋₂ - 0.6653678953320944a₂₋₁a₁₋₂a₂₋₂² - 0.06821985019456936a₂₋₁a₁₋₂a₂₋₂b₁₋₁ + 0.31463210466790575a₂₋₁a₁₋₂b₁₋₁² - 0.7738010297004284a₂₋₁a₁₋₂b₁₋₁b₂₋₂ - 0.07506709490742615a₂₋₁a₁₋₂b₂₋₁² - 0.07506709490742615a₂₋₁a₁₋₂b₁₋₂² + 0.5152337055172422a₂₋₁a₁₋₂b₂₋₂² - 0.14047008155731677a₂₋₁a₂₋₂³ - 0.074851127649146a₂₋₁a₂₋₂²b₁₋₁ - 0.06821985019456937a₂₋₁a₂₋₂²b₂₋₁ - 0.06821985019456936a₂₋₁a₂₋₂²b₁₋₂ - 0.06221819867467921a₂₋₁a₂₋₂²b₂₋₂ - 0.3668538308092393a₂₋₁a₂₋₂b₁₋₁² + 0.9239352195152805a₂₋₁a₂₋₂b₁₋₁b₁₋₂ + 0.5618803262292671a₂₋₁a₂₋₂b₁₋₁b₂₋₂ - 0.3668538308092393a₂₋₁a₂₋₂b₂₋₁² + 0.1501341898148523a₂₋₁a₂₋₂b₂₋₁b₂₋₂ - 0.14047008155731677a₂₋₁a₂₋₂b₁₋₂² - 1.1806016008493367a₂₋₁a₂₋₂b₁₋₂b₂₋₂ - 0.14047008155731677a₂₋₁a₂₋₂b₂₋₂² + 0.04958526970021238a₂₋₁b₁₋₁³ - 0.06821985019456936a₂₋₁b₁₋₁²b₁₋₂ - 0.16138873807510404a₂₋₁b₁₋₁²b₂₋₂ + 0.04958526970021238a₂₋₁b₁₋₁b₂₋₁² + 0.1740216670495708a₂₋₁b₁₋₁b₁₋₂² + 0.06821985019456936a₂₋₁b₁₋₁b₁₋₂b₂₋₂ + 0.1740216670495708a₂₋₁b₁₋₁b₂₋₂² - 0.06821985019456936a₂₋₁b₂₋₁²b₁₋₂ - 0.16138873807510404a₂₋₁b₂₋₁²b₂₋₂ + 0.06821985019456937a₂₋₁b₂₋₁b₂₋₂² - 0.06821985019456936a₂₋₁b₁₋₂³ - 0.062218198674679204a₂₋₁b₁₋₂²b₂₋₂ - 0.06821985019456936a₂₋₁b₁₋₂b₂₋₂² - 0.06221819867467921a₂₋₁b₂₋₂³ + 0.38356328669301515a₁₋₂⁴ + 0.1677482884886723a₁₋₂³a₂₋₂ + 0.21192045397297127a₁₋₂³b₁₋₁ + 0.06821985019456936a₁₋₂³b₂₋₁ - 0.074851127649146a₁₋₂³b₂₋₂ + 0.41086673812074126a₁₋₂²a₂₋₂² + 0.06221819867467921a₁₋₂²a₂₋₂b₂₋₁ + 0.074851127649146a₁₋₂²a₂₋₂b₁₋₂ + 0.3166802582571915a₁₋₂²b₁₋₁² + 0.3941320377405948a₁₋₂²b₁₋₁b₂₋₁ - 0.47596665853466125a₁₋₂²b₁₋₁b₁₋₂ - 0.6995146061355728a₁₋₂²b₁₋₁b₂₋₂ - 0.3042612217524021a₁₋₂²b₂₋₁² - 0.07506709490742615a₁₋₂²b₂₋₁b₁₋₂ - 0.14047008155731677a₁₋₂²b₂₋₁b₂₋₂ + 0.7671265733860303a₁₋₂²b₁₋₂² + 0.1677482884886723a₁₋₂²b₁₋₂b₂₋₂ + 0.41086673812074126a₁₋₂²b₂₋₂² + 0.1677482884886723a₁₋₂a₂₋₂³ + 0.2119204539729713a₁₋₂a₂₋₂²b₁₋₁ + 0.06821985019456936a₁₋₂a₂₋₂²b₂₋₁ - 0.074851127649146a₁₋₂a₂₋₂²b₂₋₂ - 0.11319187462596123a₁₋₂a₂₋₂b₁₋₁² + 0.7738010297004285a₁₋₂a₂₋₂b₁₋₁b₂₋₁ + 0.4486884516033058a₁₋₂a₂₋₂b₂₋₁² - 1.1806016008493367a₁₋₂a₂₋₂b₂₋₁b₂₋₂ + 0.1677482884886723a₁₋₂a₂₋₂b₁₋₂² + 0.1677482884886723a₁₋₂a₂₋₂b₂₋₂² + 0.06221819867467921a₁₋₂b₁₋₁³ + 0.06821985019456936a₁₋₂b₁₋₁²b₂₋₁ - 0.06821985019456937a₁₋₂b₁₋₁²b₁₋₂ - 0.19928752499850447a₁₋₂b₁₋₁²b₂₋₂ + 0.06221819867467921a₁₋₂b₁₋₁b₂₋₁² - 0.06821985019456936a₁₋₂b₁₋₁b₂₋₁b₂₋₂ + 0.21192045397297127a₁₋₂b₁₋₁b₁₋₂² + 0.21192045397297127a₁₋₂b₁₋₁b₂₋₂² + 0.06821985019456936a₁₋₂b₂₋₁³ - 0.19928752499850444a₁₋₂b₂₋₁²b₂₋₂ + 0.06821985019456936a₁₋₂b₂₋₁b₁₋₂² + 0.06821985019456936a₁₋₂b₂₋₁b₂₋₂² - 0.074851127649146a₁₋₂b₁₋₂²b₂₋₂ - 0.074851127649146a₁₋₂b₂₋₂³ + 0.027303451427726114a₂₋₂⁴ + 0.06221819867467921a₂₋₂³b₂₋₁ + 0.074851127649146a₂₋₂³b₁₋₂ + 0.16382070856635667a₂₋₂²b₁₋₁² - 0.1677482884886723a₂₋₂²b₁₋₁b₂₋₁ - 0.47596665853466125a₂₋₂²b₁₋₁b₁₋₂ - 0.10921380571090446a₂₋₂²b₁₋₁b₂₋₂ + 0.3166802582571915a₂₋₂²b₂₋₁² + 0.5152337055172422a₂₋₂²b₂₋₁b₁₋₂ - 0.14047008155731677a₂₋₂²b₂₋₁b₂₋₂ + 0.41086673812074126a₂₋₂²b₁₋₂² + 0.1677482884886723a₂₋₂²b₁₋₂b₂₋₂ + 0.05460690285545223a₂₋₂²b₂₋₂² + 0.16138873807510404a₂₋₂b₁₋₁²b₂₋₁ - 0.04958526970021239a₂₋₂b₁₋₁²b₁₋₂ - 0.06821985019456936a₂₋₂b₁₋₁b₂₋₁b₁₋₂ - 0.24887279469871684a₂₋₂b₁₋₁b₂₋₁b₂₋₂ + 0.16138873807510404a₂₋₂b₂₋₁³ + 0.19928752499850444a₂₋₂b₂₋₁²b₁₋₂ - 0.06821985019456937a₂₋₂b₂₋₁²b₂₋₂ + 0.06221819867467921a₂₋₂b₂₋₁b₁₋₂² + 0.06221819867467921a₂₋₂b₂₋₁b₂₋₂² + 0.074851127649146a₂₋₂b₁₋₂³ + 0.074851127649146a₂₋₂b₁₋₂b₂₋₂² + 0.027303451427726114b₁₋₁⁴ + 0.11319187462596121b₁₋₁³b₂₋₁ - 0.14047008155731677b₁₋₁³b₁₋₂ - 0.10921380571090446b₁₋₁³b₂₋₂ + 0.21026513727140453b₁₋₁²b₂₋₁² - 0.46476629448275797b₁₋₁²b₂₋₁b₁₋₂ - 0.3668538308092393b₁₋₁²b₂₋₁b₂₋₂ + 0.39174735316461756b₁₋₁²b₁₋₂² + 0.4486884516033058b₁₋₁²b₁₋₂b₂₋₂ + 0.16382070856635667b₁₋₁²b₂₋₂² + 0.11319187462596121b₁₋₁b₂₋₁³ - 0.14047008155731677b₁₋₁b₂₋₁²b₁₋₂ - 0.4989130052862362b₁₋₁b₂₋₁²b₂₋₂ + 0.3941320377405948b₁₋₁b₂₋₁b₁₋₂² + 0.9239352195152805b₁₋₁b₂₋₁b₁₋₂b₂₋₂ + 0.3941320377405947b₁₋₁b₂₋₁b₂₋₂² - 0.47596665853466125b₁₋₁b₁₋₂³ - 0.6995146061355728b₁₋₁b₁₋₂²b₂₋₂ - 0.47596665853466125b₁₋₁b₁₋₂b₂₋₂² - 0.10921380571090446b₁₋₁b₂₋₂³ + 0.1829616858436785b₂₋₁⁴ - 0.07506709490742615b₂₋₁³b₁₋₂ - 0.3668538308092393b₂₋₁³b₂₋₂ - 0.3042612217524021b₂₋₁²b₁₋₂² + 0.4486884516033058b₂₋₁²b₁₋₂b₂₋₂ + 0.39174735316461756b₂₋₁²b₂₋₂² - 0.07506709490742615b₂₋₁b₁₋₂³ - 0.14047008155731677b₂₋₁b₁₋₂²b₂₋₂ - 0.6653678953320944b₂₋₁b₁₋₂b₂₋₂² - 0.14047008155731677b₂₋₁b₂₋₂³ + 0.38356328669301515b₁₋₂⁴ + 0.1677482884886723b₁₋₂³b₂₋₂ + 0.41086673812074126b₁₋₂²b₂₋₂² + 0.1677482884886723b₁₋₂b₂₋₂³ + 0.027303451427726114b₂₋₂⁴ - 0.09917053940042476x₁a₁₋₁a₂₋₁ + 0.12443639734935842x₁a₁₋₁a₁₋₂ - 0.22638374925192242x₁a₁₋₁b₂₋₁ - 0.28094016311463355x₁a₁₋₁b₁₋₂ + 0.21842761142180891x₁a₁₋₁b₂₋₂ + 0.13643970038913872x₁a₂₋₁a₁₋₂ + 0.12443639734935842x₁a₂₋₁a₂₋₂ + 0.22638374925192242x₁a₂₋₁b₁₋₁ - 0.1501341898148523x₁a₂₋₁b₁₋₂ - 0.28094016311463355x₁a₂₋₁b₂₋₂ - 0.149702255298292x₁a₁₋₂a₂₋₂ + 0.28094016311463355x₁a₁₋₂b₁₋₁ + 0.1501341898148523x₁a₁₋₂b₂₋₁ - 0.3354965769773446x₁a₁₋₂b₂₋₂ - 0.21842761142180891x₁a₂₋₂b₁₋₁ + 0.28094016311463355x₁a₂₋₂b₂₋₁ + 0.3354965769773446x₁a₂₋₂b₁₋₂ - 0.09917053940042476x₁b₁₋₁b₂₋₁ + 0.12443639734935842x₁b₁₋₁b₁₋₂ + 0.13643970038913872x₁b₂₋₁b₁₋₂ + 0.12443639734935842x₁b₂₋₁b₂₋₂ - 0.149702255298292x₁b₁₋₂b₂₋₂ + 0.09917053940042476x₂a₁₋₁a₂₋₁ - 0.12443639734935842x₂a₁₋₁a₁₋₂ + 0.22638374925192242x₂a₁₋₁b₂₋₁ + 0.28094016311463355x₂a₁₋₁b₁₋₂ - 0.21842761142180891x₂a₁₋₁b₂₋₂ - 0.13643970038913872x₂a₂₋₁a₁₋₂ - 0.12443639734935842x₂a₂₋₁a₂₋₂ - 0.22638374925192242x₂a₂₋₁b₁₋₁ + 0.1501341898148523x₂a₂₋₁b₁₋₂ + 0.28094016311463355x₂a₂₋₁b₂₋₂ + 0.149702255298292x₂a₁₋₂a₂₋₂ - 0.28094016311463355x₂a₁₋₂b₁₋₁ - 0.1501341898148523x₂a₁₋₂b₂₋₁ + 0.3354965769773446x₂a₁₋₂b₂₋₂ + 0.21842761142180891x₂a₂₋₂b₁₋₁ - 0.28094016311463355x₂a₂₋₂b₂₋₁ - 0.3354965769773446x₂a₂₋₂b₁₋₂ + 0.09917053940042476x₂b₁₋₁b₂₋₁ - 0.12443639734935842x₂b₁₋₁b₁₋₂ - 0.13643970038913872x₂b₂₋₁b₁₋₂ - 0.12443639734935842x₂b₂₋₁b₂₋₂ + 0.149702255298292x₂b₁₋₂b₂₋₂ - 0.025265857948933657x₃a₁₋₁² - 0.13643970038913875x₃a₁₋₁a₁₋₂ + 0.05053171589786731x₃a₁₋₁a₂₋₂ + 0.156765461486854x₃a₁₋₁b₂₋₁ + 0.13230817924238014x₃a₁₋₁b₁₋₂ - 0.10911282772542207x₃a₁₋₁b₂₋₂ - 0.2236069367497833x₃a₂₋₁² - 0.05053171589786731x₃a₂₋₁a₁₋₂ + 0.13643970038913875x₃a₂₋₁a₂₋₂ - 0.156765461486854x₃a₂₋₁b₁₋₁ + 0.10911282772542207x₃a₂₋₁b₁₋₂ + 0.26889502245629315x₃a₂₋₁b₂₋₂ + 0.2741386526476506x₃a₁₋₂² - 0.13230817924238014x₃a₁₋₂b₁₋₁ - 0.10911282772542207x₃a₁₋₂b₂₋₁ + 0.24443774021181922x₃a₁₋₂b₂₋₂ - 0.025265857948933657x₃a₂₋₂² + 0.10911282772542207x₃a₂₋₂b₁₋₁ - 0.26889502245629315x₃a₂₋₂b₂₋₁ - 0.24443774021181922x₃a₂₋₂b₁₋₂ - 0.025265857948933657x₃b₁₋₁² - 0.13643970038913875x₃b₁₋₁b₁₋₂ + 0.05053171589786731x₃b₁₋₁b₂₋₂ - 0.2236069367497833x₃b₂₋₁² - 0.05053171589786731x₃b₂₋₁b₁₋₂ + 0.13643970038913875x₃b₂₋₁b₂₋₂ + 0.2741386526476506x₃b₁₋₂² - 0.025265857948933657x₃b₂₋₂² + 0.05455641386271103x₄a₁₋₁² + 0.156765461486854x₄a₁₋₁a₂₋₁ + 0.1679602003873245x₄a₁₋₁a₁₋₂ - 0.10911282772542207x₄a₁₋₁a₂₋₂ + 0.13643970038913875x₄a₁₋₁b₁₋₂ - 0.05053171589786731x₄a₁₋₁b₂₋₂ + 0.5073239123665559x₄a₂₋₁² - 0.10911282772542207x₄a₂₋₁a₁₋₂ - 0.5691634020859978x₄a₂₋₁a₂₋₂ - 0.05053171589786731x₄a₂₋₁b₁₋₂ - 0.13643970038913875x₄a₂₋₁b₂₋₂ - 0.6164367400919779x₄a₁₋₂² + 0.24443774021181922x₄a₁₋₂a₂₋₂ - 0.13643970038913875x₄a₁₋₂b₁₋₁ + 0.05053171589786731x₄a₁₋₂b₂₋₁ + 0.05455641386271103x₄a₂₋₂² + 0.05053171589786731x₄a₂₋₂b₁₋₁ + 0.13643970038913875x₄a₂₋₂b₂₋₁ + 0.05455641386271103x₄b₁₋₁² + 0.156765461486854x₄b₁₋₁b₂₋₁ + 0.1679602003873245x₄b₁₋₁b₁₋₂ - 0.10911282772542207x₄b₁₋₁b₂₋₂ + 0.5073239123665559x₄b₂₋₁² - 0.10911282772542207x₄b₂₋₁b₁₋₂ - 0.5691634020859978x₄b₂₋₁b₂₋₂ - 0.6164367400919779x₄b₁₋₂² + 0.24443774021181922x₄b₁₋₂b₂₋₂ + 0.05455641386271103x₄b₂₋₂² + 0.10921380571090446x₁² - 0.21842761142180891x₁x₂ - 0.10911282772542207x₁x₃ - 0.05053171589786731x₁x₄ + 0.10921380571090446x₂² + 0.10911282772542207x₂x₃ + 0.05053171589786731x₂x₄ + 0.1121295609694392x₃² - 0.2728794007782775x₃x₄ + 0.4123979405991437x₄² + 0.016881283335298293a₁₋₁² + 0.06158777613649929a₁₋₁a₂₋₁ - 0.0778902754142557a₁₋₁a₁₋₂ - 0.033762566670596586a₁₋₁a₂₋₂ - 0.009440340506504847a₁₋₁b₂₋₁ - 0.013621429830778433a₁₋₁b₁₋₂ - 0.029912276052037157a₁₋₁b₂₋₂ + 0.019200422302973082a₂₋₁² - 0.029595122041587277a₂₋₁a₁₋₂ - 0.08130481083175115a₂₋₁a₂₋₂ + 0.009440340506504847a₂₋₁b₁₋₁ - 0.01624929720111102a₂₋₁b₁₋₂ - 0.027207210259282417a₂₋₁b₂₋₂ + 0.013256414648004379a₁₋₂² + 0.09760731010950756a₁₋₂a₂₋₂ + 0.013621429830778433a₁₋₂b₁₋₁ + 0.01624929720111102a₁₋₂b₂₋₁ - 0.03138829958355602a₁₋₂b₂₋₂ + 0.016881283335298293a₂₋₂² + 0.029912276052037157a₂₋₂b₁₋₁ + 0.027207210259282417a₂₋₂b₂₋₁ + 0.03138829958355602a₂₋₂b₁₋₂ + 0.016881283335298293b₁₋₁² + 0.06158777613649929b₁₋₁b₂₋₁ - 0.0778902754142557b₁₋₁b₁₋₂ - 0.033762566670596586b₁₋₁b₂₋₂ + 0.019200422302973082b₂₋₁² - 0.029595122041587277b₂₋₁b₁₋₂ - 0.08130481083175115b₂₋₁b₂₋₂ + 0.013256414648004379b₁₋₂² + 0.09760731010950756b₁₋₂b₂₋₂ + 0.016881283335298293b₂₋₂² - 0.029912276052037157x₁ + 0.029912276052037157x₂ - 0.03553373950555517x₃ + 0.03943406939050372x₄ + 0.041381509916911766, UInt8[0x00 0x00 … 0x00 0x00; 0x00 0x00 … 0x00 0x00; … ; 0x00 0x00 … 0x00 0x00; 0x00 0x00 … 0x00 0x00], [0.027303451427726114, 0.11319187462596121, -0.14047008155731677, -0.10921380571090446, -0.04958526970021238, -0.06221819867467921, 0.21026513727140453, -0.46476629448275797, -0.3668538308092393, 0.04958526970021238  …  -0.029595122041587277, -0.08130481083175115, 0.013256414648004379, 0.09760731010950756, 0.016881283335298293, -0.029912276052037157, 0.029912276052037157, -0.03553373950555517, 0.03943406939050372, 0.041381509916911766], UInt8[0x00 0x01 … 0x00 0x00; 0x00 0x00 … 0x00 0x00; … ; 0x00 0x00 … 0x01 0x00; 0x00 0x00 … 0x01 0x02], UInt8[0x00 0x00 … 0x01 0x02; 0x00 0x00 … 0x01 0x00; … ; 0x00 0x00 … 0x00 0x00; 0x00 0x02 … 0x00 0x00], [[1, 2, 3, 4, 5, 14, 15, 16, 17, 18  …  40, 41, 42, 43, 44, 45, 46, 47, 48, 49], [6, 7, 8, 9, 10, 11, 12, 13]], [41, 8], [1, 1], nothing, \"Mosek\", 0.0001, 1))"
      ]
     },
     "execution_count": 64,
     "metadata": {},
     "output_type": "execute_result"
    }
   ],
   "source": [
    "file_name = \"time_series_lindblad_rnd_rho_2022-04-27_03-35-20.hdf5\"\n",
    "\n",
    "noise_levels = get_noise_levels(file_name)\n",
    "seeds = get_seeds(file_name, \"0.05\")\n",
    "\n",
    "ρ_ser = get_rho_series(file_name, \"0.0\", seeds[10])\n",
    "\n",
    "dt = 0.1\n",
    "\n",
    "obj = sum(\n",
    "        frobenius_norm2(\n",
    "            ρ_ser[:, :, t] - ρ_ser[:, :, t - 1] \n",
    "            - dt * lindblad_rhs(0.5 * (ρ_ser[:, :, t] + ρ_ser[:, :, t - 1]))\n",
    "        ) for t in 2:size(ρ_ser,3)\n",
    "    )\n",
    "\n",
    "obj_re = sum(real(coef) * mon for (coef, mon) in zip(coefficients(obj), monomials(obj)))\n",
    "\n",
    "opt,sol,data = tssos_first(obj_re, variables(obj_re))"
   ]
  },
  {
   "cell_type": "code",
   "execution_count": 48,
   "id": "549c1439",
   "metadata": {},
   "outputs": [
    {
     "data": {
      "text/plain": [
       "4.0245584642661925e-16"
      ]
     },
     "execution_count": 48,
     "metadata": {},
     "output_type": "execute_result"
    }
   ],
   "source": [
    "maximum(abs(x) for x in coefficients(obj5-obj_re5))"
   ]
  },
  {
   "cell_type": "code",
   "execution_count": 50,
   "id": "51e08c9f",
   "metadata": {},
   "outputs": [
    {
     "data": {
      "text/plain": [
       "3.0531133177191805e-16"
      ]
     },
     "execution_count": 50,
     "metadata": {},
     "output_type": "execute_result"
    }
   ],
   "source": [
    "maximum(abs(x) for x in coefficients(obj0-obj_re0))"
   ]
  },
  {
   "cell_type": "code",
   "execution_count": 36,
   "id": "8da91685",
   "metadata": {},
   "outputs": [
    {
     "name": "stdout",
     "output_type": "stream",
     "text": [
      "************************TSSOS************************\n",
      "TSSOS is launching...\n",
      "Starting to compute the block structure..."
     ]
    },
    {
     "ename": "LoadError",
     "evalue": "InterruptException:",
     "output_type": "error",
     "traceback": [
      "InterruptException:",
      "",
      "Stacktrace:",
      "  [1] try_yieldto(undo::typeof(Base.ensure_rescheduled))",
      "    @ Base .\\task.jl:777",
      "  [2] wait()",
      "    @ Base .\\task.jl:837",
      "  [3] uv_write(s::Base.PipeEndpoint, p::Ptr{UInt8}, n::UInt64)",
      "    @ Base .\\stream.jl:992",
      "  [4] unsafe_write(s::Base.PipeEndpoint, p::Ptr{UInt8}, n::UInt64)",
      "    @ Base .\\stream.jl:1064",
      "  [5] unsafe_write",
      "    @ .\\io.jl:362 [inlined]",
      "  [6] write",
      "    @ .\\strings\\io.jl:244 [inlined]",
      "  [7] print",
      "    @ .\\strings\\io.jl:246 [inlined]",
      "  [8] print(::IJulia.IJuliaStdio{Base.PipeEndpoint}, ::String, ::String)",
      "    @ Base .\\strings\\io.jl:46",
      "  [9] println(io::IJulia.IJuliaStdio{Base.PipeEndpoint}, xs::String)",
      "    @ Base .\\strings\\io.jl:75",
      " [10] println(xs::String)",
      "    @ Base .\\coreio.jl:4",
      " [11] tssos_first(f::Polynomial{true, Float64}, x::Vector{PolyVar{true}}; nb::Int64, newton::Bool, reducebasis::Bool, TS::String, merge::Bool, feasible::Bool, md::Int64, solver::String, QUIET::Bool, solve::Bool, MomentOne::Bool, Gram::Bool, solution::Bool, tol::Float64)",
      "    @ TSSOS C:\\Users\\Zakhar\\.julia\\packages\\TSSOS\\drkzz\\src\\blockpop_uncons.jl:64",
      " [12] tssos_first(f::Polynomial{true, Float64}, x::Vector{PolyVar{true}})",
      "    @ TSSOS C:\\Users\\Zakhar\\.julia\\packages\\TSSOS\\drkzz\\src\\blockpop_uncons.jl:40",
      " [13] top-level scope",
      "    @ In[36]:1",
      " [14] eval",
      "    @ .\\boot.jl:373 [inlined]",
      " [15] include_string(mapexpr::typeof(REPL.softscope), mod::Module, code::String, filename::String)",
      "    @ Base .\\loading.jl:1196"
     ]
    }
   ],
   "source": [
    "opt,sol,data = tssos_first((obj_re0 - obj_re5)^2, variables(obj_re))"
   ]
  },
  {
   "cell_type": "code",
   "execution_count": 20,
   "id": "0887eac3",
   "metadata": {},
   "outputs": [
    {
     "name": "stdout",
     "output_type": "stream",
     "text": [
      "************************TSSOS************************\n",
      "TSSOS is launching...\n",
      "Starting to compute the block structure...\n",
      "------------------------------------------------------\n",
      "The sizes of PSD blocks:\n",
      "[41, 1]\n",
      "[1, 8]\n",
      "------------------------------------------------------\n",
      "Obtained the block structure. The maximal size of blocks is 41.\n",
      "Assembling the SDP...\n",
      "There are 525 affine constraints.\n",
      "Solving the SDP...\n",
      "Problem\n",
      "  Name                   :                 \n",
      "  Objective sense        : max             \n",
      "  Type                   : CONIC (conic optimization problem)\n",
      "  Constraints            : 525             \n",
      "  Cones                  : 0               \n",
      "  Scalar variables       : 9               \n",
      "  Matrix variables       : 1               \n",
      "  Integer variables      : 0               \n",
      "\n",
      "Optimizer started.\n",
      "Presolve started.\n",
      "Linear dependency checker started.\n",
      "Linear dependency checker terminated.\n",
      "Eliminator started.\n",
      "Freed constraints in eliminator : 0\n",
      "Eliminator terminated.\n",
      "Eliminator - tries                  : 1                 time                   : 0.00            \n",
      "Lin. dep.  - tries                  : 1                 time                   : 0.00            \n",
      "Lin. dep.  - number                 : 0               \n",
      "Presolve terminated. Time: 0.00    \n",
      "Problem\n",
      "  Name                   :                 \n",
      "  Objective sense        : max             \n",
      "  Type                   : CONIC (conic optimization problem)\n",
      "  Constraints            : 525             \n",
      "  Cones                  : 0               \n",
      "  Scalar variables       : 9               \n",
      "  Matrix variables       : 1               \n",
      "  Integer variables      : 0               \n",
      "\n",
      "Optimizer  - threads                : 4               \n",
      "Optimizer  - solved problem         : the primal      \n",
      "Optimizer  - Constraints            : 525\n",
      "Optimizer  - Cones                  : 1\n",
      "Optimizer  - Scalar variables       : 10                conic                  : 2               \n",
      "Optimizer  - Semi-definite variables: 1                 scalarized             : 861             \n",
      "Factor     - setup time             : 0.01              dense det. time        : 0.00            \n",
      "Factor     - ML order time          : 0.01              GP order time          : 0.00            \n",
      "Factor     - nonzeros before factor : 1.38e+05          after factor           : 1.38e+05        \n",
      "Factor     - dense dim.             : 0                 flops                  : 5.04e+07        \n",
      "ITE PFEAS    DFEAS    GFEAS    PRSTATUS   POBJ              DOBJ              MU       TIME  \n",
      "0   1.1e+02  1.0e+00  1.0e+00  0.00e+00   0.000000000e+00   0.000000000e+00   1.0e+00  0.01  \n",
      "1   4.6e+01  4.0e-01  6.3e-01  -9.92e-01  -1.747279640e+00  -3.200949755e+00  4.0e-01  0.05  \n",
      "2   9.9e+00  8.7e-02  2.7e-01  -9.62e-01  -3.223259678e+01  -4.086294553e+01  8.7e-02  0.05  \n",
      "3   2.2e+00  1.9e-02  6.0e-02  -5.56e-01  -4.406410095e+01  -5.331020681e+01  1.9e-02  0.06  \n",
      "4   5.2e-01  4.6e-03  6.6e-03  6.26e-01   -1.050316169e+01  -1.247700843e+01  4.6e-03  0.09  \n",
      "5   8.4e-02  7.4e-04  4.2e-04  9.39e-01   -1.741093951e+00  -2.045340237e+00  7.4e-04  0.09  \n",
      "6   1.3e-02  1.1e-04  2.4e-05  9.77e-01   -2.726140114e-01  -3.162383333e-01  1.1e-04  0.11  \n",
      "7   2.4e-03  2.1e-05  2.0e-06  1.01e+00   -5.752235462e-02  -6.614503271e-02  2.1e-05  0.11  \n",
      "8   5.4e-04  4.7e-06  2.1e-07  9.74e-01   -1.224015464e-02  -1.410333671e-02  4.7e-06  0.13  \n",
      "9   9.9e-05  8.7e-07  1.6e-08  9.29e-01   -2.415877710e-03  -2.737945024e-03  8.7e-07  0.13  \n",
      "10  2.2e-05  2.0e-07  1.8e-09  1.02e+00   -6.394381958e-04  -7.192138970e-04  2.0e-07  0.14  \n",
      "11  3.9e-06  3.4e-08  1.3e-10  1.11e+00   -1.237113814e-04  -1.370202369e-04  3.4e-08  0.14  \n",
      "12  1.2e-06  1.1e-08  2.5e-11  9.48e-01   -2.568137353e-05  -3.099465809e-05  1.1e-08  0.16  \n",
      "13  2.1e-07  1.9e-09  1.5e-12  1.07e+00   -9.816530798e-06  -1.050748594e-05  1.7e-09  0.17  \n",
      "14  1.7e-07  1.6e-09  1.1e-12  9.48e-01   -6.166945815e-06  -6.679460822e-06  1.4e-09  0.19  \n",
      "15  1.2e-07  1.9e-09  6.7e-13  8.59e-01   -4.914403365e-06  -5.343060166e-06  9.7e-10  0.20  \n",
      "16  1.8e-08  5.0e-09  3.5e-14  1.03e+00   -4.397557681e-07  -4.860665419e-07  1.5e-10  0.22  \n",
      "17  6.9e-09  1.6e-08  4.2e-15  9.97e-01   -8.378959600e-08  -9.543118518e-08  3.6e-11  0.23  \n",
      "18  5.0e-09  4.7e-08  3.7e-16  9.99e-01   -1.822052011e-08  -2.068272759e-08  7.1e-12  0.25  \n",
      "Optimizer terminated. Time: 0.25    \n",
      "\n",
      "SDP solving time: 0.2428265 seconds.\n",
      "optimum = -1.8220520112569445e-8\n"
     ]
    },
    {
     "data": {
      "text/plain": [
       "(-1.8220520112569445e-8, nothing, TSSOS.upop_data(12, 0, PolyVar{true}[x₁, x₂, x₃, x₄, a₁₋₁, a₂₋₁, a₁₋₂, a₂₋₂, b₁₋₁, b₂₋₁, b₁₋₂, b₂₋₂], 3.7484619832975725a₁₋₁⁴ - 6.689519794186905a₁₋₁³a₂₋₁ + 6.996089409787173a₁₋₁³a₁₋₂ - 14.99384793319029a₁₋₁³a₂₋₂ - 15.59427769840626a₁₋₁³b₂₋₁ - 17.414660110550624a₁₋₁³b₁₋₂ + 27.452101402206104a₁₋₁²a₂₋₁² - 32.515015385316524a₁₋₁²a₂₋₁a₁₋₂ + 20.37512899816098a₁₋₁²a₂₋₁a₂₋₂ + 15.59427769840626a₁₋₁²a₂₋₁b₁₋₁ + 10.125937629783838a₁₋₁²a₂₋₁b₁₋₂ - 48.60321550736313a₁₋₁²a₂₋₁b₂₋₂ + 34.83527282787136a₁₋₁²a₁₋₂² - 21.294837844961776a₁₋₁²a₁₋₂a₂₋₂ + 17.414660110550624a₁₋₁²a₁₋₂b₁₋₁ - 10.125937629783838a₁₋₁²a₁₋₂b₂₋₁ - 10.125937629783836a₁₋₁²a₁₋₂b₁₋₂ + 15.594277698406259a₁₋₁²a₁₋₂b₂₋₂ + 22.49077189978544a₁₋₁²a₂₋₂² + 48.60321550736313a₁₋₁²a₂₋₂b₂₋₁ + 54.064362743796195a₁₋₁²a₂₋₂b₁₋₂ + 7.496923966595145a₁₋₁²b₁₋₁² - 6.689519794186905a₁₋₁²b₁₋₁b₂₋₁ + 6.996089409787173a₁₋₁²b₁₋₁b₁₋₂ - 14.99384793319029a₁₋₁²b₁₋₁b₂₋₂ + 27.452101402206104a₁₋₁²b₂₋₁² + 53.149315806592284a₁₋₁²b₂₋₁b₁₋₂ + 20.37512899816098a₁₋₁²b₂₋₁b₂₋₂ + 45.152423038509234a₁₋₁²b₁₋₂² + 6.689519794186905a₁₋₁²b₁₋₂b₂₋₂ + 22.49077189978544a₁₋₁²b₂₋₂² - 6.689519794186905a₁₋₁a₂₋₁³ + 6.996089409787174a₁₋₁a₂₋₁²a₁₋₂ - 57.826013529144696a₁₋₁a₂₋₁²a₂₋₂ - 15.59427769840626a₁₋₁a₂₋₁²b₂₋₁ - 17.414660110550624a₁₋₁a₂₋₁²b₁₋₂ - 20.68169861376124a₁₋₁a₂₋₁a₁₋₂² + 70.44297817685873a₁₋₁a₂₋₁a₁₋₂a₂₋₂ - 10.125937629783838a₁₋₁a₂₋₁a₁₋₂b₂₋₂ - 20.68169861376124a₁₋₁a₂₋₁a₂₋₂² - 10.125937629783838a₁₋₁a₂₋₁a₂₋₂b₁₋₂ + 69.6586404422025a₁₋₁a₂₋₁a₂₋₂b₂₋₂ - 6.689519794186905a₁₋₁a₂₋₁b₁₋₁² - 85.6643311919088a₁₋₁a₂₋₁b₁₋₁b₁₋₂ - 6.689519794186905a₁₋₁a₂₋₁b₂₋₁² - 20.68169861376124a₁₋₁a₂₋₁b₁₋₂² + 91.07727859813447a₁₋₁a₂₋₁b₁₋₂b₂₋₂ + 7.3026590253874355a₁₋₁a₂₋₁b₂₋₂² + 21.601407460562047a₁₋₁a₁₋₂³ - 72.16168233723589a₁₋₁a₁₋₂²a₂₋₂ + 10.125937629783836a₁₋₁a₁₋₂²b₁₋₁ - 50.4235979195075a₁₋₁a₁₋₂²b₂₋₁ - 55.88474515594057a₁₋₁a₁₋₂²b₁₋₂ + 21.601407460562047a₁₋₁a₁₋₂a₂₋₂² - 69.6586404422025a₁₋₁a₁₋₂a₂₋₂b₁₋₁ + 10.125937629783838a₁₋₁a₁₋₂a₂₋₂b₂₋₁ + 6.996089409787173a₁₋₁a₁₋₂b₁₋₁² - 85.6643311919088a₁₋₁a₁₋₂b₁₋₁b₂₋₁ - 20.63430042127576a₁₋₁a₁₋₂b₁₋₁b₁₋₂ - 27.98435763914869a₁₋₁a₁₋₂b₁₋₁b₂₋₂ + 6.996089409787174a₁₋₁a₁₋₂b₂₋₁² + 70.44297817685873a₁₋₁a₁₋₂b₂₋₁b₂₋₂ + 21.601407460562047a₁₋₁a₁₋₂b₁₋₂² + 21.601407460562047a₁₋₁a₁₋₂b₂₋₂² - 14.99384793319029a₁₋₁a₂₋₂³ - 50.42359791950749a₁₋₁a₂₋₂²b₂₋₁ - 55.88474515594057a₁₋₁a₂₋₂²b₁₋₂ - 14.99384793319029a₁₋₁a₂₋₂b₁₋₁² - 27.98435763914869a₁₋₁a₂₋₂b₁₋₁b₁₋₂ - 57.826013529144696a₁₋₁a₂₋₂b₂₋₁² - 91.07727859813447a₁₋₁a₂₋₂b₂₋₁b₁₋₂ - 27.98435763914869a₁₋₁a₂₋₂b₂₋₁b₂₋₂ - 72.16168233723589a₁₋₁a₂₋₂b₁₋₂² - 14.99384793319029a₁₋₁a₂₋₂b₂₋₂² - 15.59427769840626a₁₋₁b₁₋₁²b₂₋₁ - 17.414660110550624a₁₋₁b₁₋₁²b₁₋₂ - 10.125937629783836a₁₋₁b₁₋₁b₁₋₂² + 69.6586404422025a₁₋₁b₁₋₁b₁₋₂b₂₋₂ - 15.59427769840626a₁₋₁b₂₋₁³ - 17.414660110550624a₁₋₁b₂₋₁²b₁₋₂ - 50.4235979195075a₁₋₁b₂₋₁b₁₋₂² - 10.125937629783838a₁₋₁b₂₋₁b₁₋₂b₂₋₂ + 19.23504252269498a₁₋₁b₂₋₁b₂₋₂² - 55.88474515594057a₁₋₁b₁₋₂³ - 55.88474515594057a₁₋₁b₁₋₂b₂₋₂² + 23.703639418908534a₂₋₁⁴ + 10.31715021063788a₂₋₁³a₁₋₂ + 20.37512899816098a₂₋₁³a₂₋₂ + 15.59427769840626a₂₋₁³b₁₋₁ + 10.125937629783838a₂₋₁³b₁₋₂ - 48.603215507363124a₂₋₁³b₂₋₂ - 23.263204420901467a₂₋₁²a₁₋₂² - 21.294837844961776a₂₋₁²a₁₋₂a₂₋₂ + 17.414660110550624a₂₋₁²a₁₋₂b₁₋₁ - 10.125937629783838a₂₋₁²a₁₋₂b₂₋₁ - 54.064362743796195a₂₋₁²a₁₋₂b₂₋₂ + 34.83527282787136a₂₋₁²a₂₋₂² + 48.603215507363124a₂₋₁²a₂₋₂b₂₋₁ + 54.064362743796195a₂₋₁²a₂₋₂b₁₋₂ - 10.125937629783836a₂₋₁²a₂₋₂b₂₋₂ + 27.452101402206104a₂₋₁²b₁₋₁² - 6.689519794186905a₂₋₁²b₁₋₁b₂₋₁ + 6.996089409787174a₂₋₁²b₁₋₁b₁₋₂ - 57.826013529144696a₂₋₁²b₁₋₁b₂₋₂ + 47.40727883781707a₂₋₁²b₂₋₁² + 10.31715021063788a₂₋₁²b₂₋₁b₁₋₂ + 20.37512899816098a₂₋₁²b₂₋₁b₂₋₂ - 23.263204420901467a₂₋₁²b₁₋₂² - 21.294837844961776a₂₋₁²b₁₋₂b₂₋₂ + 45.152423038509234a₂₋₁²b₂₋₂² + 10.31715021063788a₂₋₁a₁₋₂³ + 6.996089409787173a₂₋₁a₁₋₂²a₂₋₂ + 50.4235979195075a₂₋₁a₁₋₂²b₁₋₁ + 10.125937629783838a₂₋₁a₁₋₂²b₁₋₂ - 17.414660110550624a₂₋₁a₁₋₂²b₂₋₂ - 46.85068419340773a₂₋₁a₁₋₂a₂₋₂² + 10.125937629783838a₂₋₁a₁₋₂a₂₋₂b₁₋₁ + 53.149315806592284a₂₋₁a₁₋₂b₁₋₁² - 91.07727859813447a₂₋₁a₁₋₂b₁₋₁b₂₋₂ + 10.31715021063788a₂₋₁a₁₋₂b₂₋₁² + 10.31715021063788a₂₋₁a₁₋₂b₁₋₂² + 67.48498461468348a₂₋₁a₁₋₂b₂₋₂² + 6.996089409787173a₂₋₁a₂₋₂³ - 19.23504252269498a₂₋₁a₂₋₂²b₁₋₁ + 10.125937629783836a₂₋₁a₂₋₂²b₂₋₁ + 10.125937629783838a₂₋₁a₂₋₂²b₁₋₂ - 17.414660110550624a₂₋₁a₂₋₂²b₂₋₂ + 20.37512899816098a₂₋₁a₂₋₂b₁₋₁² + 70.44297817685873a₂₋₁a₂₋₂b₁₋₁b₁₋₂ - 27.98435763914869a₂₋₁a₂₋₂b₁₋₁b₂₋₂ + 20.37512899816098a₂₋₁a₂₋₂b₂₋₁² - 20.63430042127576a₂₋₁a₂₋₂b₂₋₁b₂₋₂ + 6.996089409787173a₂₋₁a₂₋₂b₁₋₂² - 114.33566880809126a₂₋₁a₂₋₂b₁₋₂b₂₋₂ + 6.996089409787173a₂₋₁a₂₋₂b₂₋₂² + 15.59427769840626a₂₋₁b₁₋₁³ + 10.125937629783838a₂₋₁b₁₋₁²b₁₋₂ - 48.60321550736313a₂₋₁b₁₋₁²b₂₋₂ + 15.59427769840626a₂₋₁b₁₋₁b₂₋₁² + 50.4235979195075a₂₋₁b₁₋₁b₁₋₂² - 10.125937629783838a₂₋₁b₁₋₁b₁₋₂b₂₋₂ + 50.42359791950749a₂₋₁b₁₋₁b₂₋₂² + 10.125937629783838a₂₋₁b₂₋₁²b₁₋₂ - 48.603215507363124a₂₋₁b₂₋₁²b₂₋₂ - 10.125937629783836a₂₋₁b₂₋₁b₂₋₂² + 10.125937629783838a₂₋₁b₁₋₂³ - 17.414660110550624a₂₋₁b₁₋₂²b₂₋₂ + 10.125937629783838a₂₋₁b₁₋₂b₂₋₂² - 17.414660110550624a₂₋₁b₂₋₂³ + 38.03930822699974a₁₋₂⁴ - 7.302659025387436a₁₋₂³a₂₋₂ + 55.88474515594057a₁₋₂³b₁₋₁ - 10.125937629783838a₁₋₂³b₂₋₁ - 19.23504252269498a₁₋₂³b₂₋₂ + 41.787770210297325a₁₋₂²a₂₋₂² + 17.414660110550624a₁₋₂²a₂₋₂b₂₋₁ + 19.23504252269498a₁₋₂²a₂₋₂b₁₋₂ + 45.152423038509234a₁₋₂²b₁₋₁² - 20.68169861376124a₁₋₂²b₁₋₁b₂₋₁ + 21.601407460562047a₁₋₂²b₁₋₁b₁₋₂ - 72.16168233723589a₁₋₂²b₁₋₁b₂₋₂ - 23.263204420901467a₁₋₂²b₂₋₁² + 10.31715021063788a₁₋₂²b₂₋₁b₁₋₂ + 6.996089409787173a₁₋₂²b₂₋₁b₂₋₂ + 76.07861645399947a₁₋₂²b₁₋₂² - 7.302659025387436a₁₋₂²b₁₋₂b₂₋₂ + 41.787770210297325a₁₋₂²b₂₋₂² - 7.302659025387436a₁₋₂a₂₋₂³ + 55.88474515594057a₁₋₂a₂₋₂²b₁₋₁ - 10.125937629783838a₁₋₂a₂₋₂²b₂₋₁ - 19.23504252269498a₁₋₂a₂₋₂²b₂₋₂ + 6.689519794186905a₁₋₂a₂₋₂b₁₋₁² + 91.07727859813447a₁₋₂a₂₋₂b₁₋₁b₂₋₁ - 21.294837844961776a₁₋₂a₂₋₂b₂₋₁² - 114.33566880809126a₁₋₂a₂₋₂b₂₋₁b₂₋₂ - 7.302659025387436a₁₋₂a₂₋₂b₁₋₂² - 7.302659025387436a₁₋₂a₂₋₂b₂₋₂² + 17.414660110550624a₁₋₂b₁₋₁³ - 10.125937629783838a₁₋₂b₁₋₁²b₂₋₁ + 10.125937629783836a₁₋₂b₁₋₁²b₁₋₂ - 54.064362743796195a₁₋₂b₁₋₁²b₂₋₂ + 17.414660110550624a₁₋₂b₁₋₁b₂₋₁² + 10.125937629783838a₁₋₂b₁₋₁b₂₋₁b₂₋₂ + 55.88474515594057a₁₋₂b₁₋₁b₁₋₂² + 55.88474515594057a₁₋₂b₁₋₁b₂₋₂² - 10.125937629783838a₁₋₂b₂₋₁³ - 54.064362743796195a₁₋₂b₂₋₁²b₂₋₂ - 10.125937629783838a₁₋₂b₂₋₁b₁₋₂² - 10.125937629783838a₁₋₂b₂₋₁b₂₋₂² - 19.23504252269498a₁₋₂b₁₋₂²b₂₋₂ - 19.23504252269498a₁₋₂b₂₋₂³ + 3.7484619832975725a₂₋₂⁴ + 17.414660110550624a₂₋₂³b₂₋₁ + 19.23504252269498a₂₋₂³b₁₋₂ + 22.49077189978544a₂₋₂²b₁₋₁² + 7.3026590253874355a₂₋₂²b₁₋₁b₂₋₁ + 21.601407460562047a₂₋₂²b₁₋₁b₁₋₂ - 14.99384793319029a₂₋₂²b₁₋₁b₂₋₂ + 45.152423038509234a₂₋₂²b₂₋₁² + 67.48498461468348a₂₋₂²b₂₋₁b₁₋₂ + 6.996089409787173a₂₋₂²b₂₋₁b₂₋₂ + 41.787770210297325a₂₋₂²b₁₋₂² - 7.302659025387436a₂₋₂²b₁₋₂b₂₋₂ + 7.496923966595145a₂₋₂²b₂₋₂² + 48.60321550736313a₂₋₂b₁₋₁²b₂₋₁ - 15.594277698406259a₂₋₂b₁₋₁²b₁₋₂ + 10.125937629783838a₂₋₂b₁₋₁b₂₋₁b₁₋₂ - 69.6586404422025a₂₋₂b₁₋₁b₂₋₁b₂₋₂ + 48.603215507363124a₂₋₂b₂₋₁³ + 54.064362743796195a₂₋₂b₂₋₁²b₁₋₂ + 10.125937629783836a₂₋₂b₂₋₁²b₂₋₂ + 17.414660110550624a₂₋₂b₂₋₁b₁₋₂² + 17.414660110550624a₂₋₂b₂₋₁b₂₋₂² + 19.23504252269498a₂₋₂b₁₋₂³ + 19.23504252269498a₂₋₂b₁₋₂b₂₋₂² + 3.7484619832975725b₁₋₁⁴ - 6.689519794186905b₁₋₁³b₂₋₁ + 6.996089409787173b₁₋₁³b₁₋₂ - 14.99384793319029b₁₋₁³b₂₋₂ + 27.452101402206104b₁₋₁²b₂₋₁² - 32.515015385316524b₁₋₁²b₂₋₁b₁₋₂ + 20.37512899816098b₁₋₁²b₂₋₁b₂₋₂ + 34.83527282787136b₁₋₁²b₁₋₂² - 21.294837844961776b₁₋₁²b₁₋₂b₂₋₂ + 22.49077189978544b₁₋₁²b₂₋₂² - 6.689519794186905b₁₋₁b₂₋₁³ + 6.996089409787174b₁₋₁b₂₋₁²b₁₋₂ - 57.826013529144696b₁₋₁b₂₋₁²b₂₋₂ - 20.68169861376124b₁₋₁b₂₋₁b₁₋₂² + 70.44297817685873b₁₋₁b₂₋₁b₁₋₂b₂₋₂ - 20.68169861376124b₁₋₁b₂₋₁b₂₋₂² + 21.601407460562047b₁₋₁b₁₋₂³ - 72.16168233723589b₁₋₁b₁₋₂²b₂₋₂ + 21.601407460562047b₁₋₁b₁₋₂b₂₋₂² - 14.99384793319029b₁₋₁b₂₋₂³ + 23.703639418908534b₂₋₁⁴ + 10.31715021063788b₂₋₁³b₁₋₂ + 20.37512899816098b₂₋₁³b₂₋₂ - 23.263204420901467b₂₋₁²b₁₋₂² - 21.294837844961776b₂₋₁²b₁₋₂b₂₋₂ + 34.83527282787136b₂₋₁²b₂₋₂² + 10.31715021063788b₂₋₁b₁₋₂³ + 6.996089409787173b₂₋₁b₁₋₂²b₂₋₂ - 46.85068419340773b₂₋₁b₁₋₂b₂₋₂² + 6.996089409787173b₂₋₁b₂₋₂³ + 38.03930822699974b₁₋₂⁴ - 7.302659025387436b₁₋₂³b₂₋₂ + 41.787770210297325b₁₋₂²b₂₋₂² - 7.302659025387436b₁₋₂b₂₋₂³ + 3.7484619832975725b₂₋₂⁴ - 31.18855539681252x₁a₁₋₁a₂₋₁ + 34.82932022110125x₁a₁₋₁a₁₋₂ + 13.37903958837381x₁a₁₋₁b₂₋₁ + 13.992178819574345x₁a₁₋₁b₁₋₂ + 29.98769586638058x₁a₁₋₁b₂₋₂ - 20.251875259567676x₁a₂₋₁a₁₋₂ + 34.82932022110125x₁a₂₋₁a₂₋₂ - 13.37903958837381x₁a₂₋₁b₁₋₁ + 20.63430042127576x₁a₂₋₁b₁₋₂ + 13.992178819574345x₁a₂₋₁b₂₋₂ - 38.47008504538996x₁a₁₋₂a₂₋₂ - 13.992178819574345x₁a₁₋₂b₁₋₁ - 20.63430042127576x₁a₁₋₂b₂₋₁ + 14.605318050774873x₁a₁₋₂b₂₋₂ - 29.98769586638058x₁a₂₋₂b₁₋₁ - 13.992178819574345x₁a₂₋₂b₂₋₁ - 14.605318050774873x₁a₂₋₂b₁₋₂ - 31.18855539681252x₁b₁₋₁b₂₋₁ + 34.82932022110125x₁b₁₋₁b₁₋₂ - 20.251875259567676x₁b₂₋₁b₁₋₂ + 34.82932022110125x₁b₂₋₁b₂₋₂ - 38.47008504538996x₁b₁₋₂b₂₋₂ + 31.18855539681252x₂a₁₋₁a₂₋₁ - 34.82932022110125x₂a₁₋₁a₁₋₂ - 13.37903958837381x₂a₁₋₁b₂₋₁ - 13.992178819574345x₂a₁₋₁b₁₋₂ - 29.98769586638058x₂a₁₋₁b₂₋₂ + 20.251875259567676x₂a₂₋₁a₁₋₂ - 34.82932022110125x₂a₂₋₁a₂₋₂ + 13.37903958837381x₂a₂₋₁b₁₋₁ - 20.63430042127576x₂a₂₋₁b₁₋₂ - 13.992178819574345x₂a₂₋₁b₂₋₂ + 38.47008504538996x₂a₁₋₂a₂₋₂ + 13.992178819574345x₂a₁₋₂b₁₋₁ + 20.63430042127576x₂a₁₋₂b₂₋₁ - 14.605318050774873x₂a₁₋₂b₂₋₂ + 29.98769586638058x₂a₂₋₂b₁₋₁ + 13.992178819574345x₂a₂₋₂b₂₋₁ + 14.605318050774873x₂a₂₋₂b₁₋₂ + 31.18855539681252x₂b₁₋₁b₂₋₁ - 34.82932022110125x₂b₁₋₁b₁₋₂ + 20.251875259567676x₂b₂₋₁b₁₋₂ - 34.82932022110125x₂b₂₋₁b₂₋₂ + 38.47008504538996x₂b₁₋₂b₂₋₂ - 3.6407648242887127x₃a₁₋₁² + 20.251875259567672x₃a₁₋₁a₁₋₂ + 7.2815296485774255x₃a₁₋₁a₂₋₂ + 5.843621449464988x₃a₁₋₁b₂₋₁ - 36.28632747956514x₃a₁₋₁b₁₋₂ + 1.226278462401065x₃a₁₋₁b₂₋₂ - 66.01787561791376x₃a₂₋₁² - 7.2815296485774255x₃a₂₋₁a₁₋₂ - 20.251875259567672x₃a₂₋₁a₂₋₂ - 5.843621449464988x₃a₂₋₁b₁₋₁ - 1.226278462401065x₃a₂₋₁b₁₋₂ + 64.95766509574754x₃a₂₋₁b₂₋₂ + 73.29940526649119x₃a₁₋₂² + 36.28632747956514x₃a₁₋₂b₁₋₁ + 1.226278462401065x₃a₁₋₂b₂₋₁ + 22.827716166717398x₃a₁₋₂b₂₋₂ - 3.6407648242887127x₃a₂₋₂² - 1.226278462401065x₃a₂₋₂b₁₋₁ - 64.95766509574754x₃a₂₋₂b₂₋₁ - 22.827716166717398x₃a₂₋₂b₁₋₂ - 3.6407648242887127x₃b₁₋₁² + 20.251875259567672x₃b₁₋₁b₁₋₂ + 7.2815296485774255x₃b₁₋₁b₂₋₂ - 66.01787561791376x₃b₂₋₁² - 7.2815296485774255x₃b₂₋₁b₁₋₂ - 20.251875259567672x₃b₂₋₁b₂₋₂ + 73.29940526649119x₃b₁₋₂² - 3.6407648242887127x₃b₂₋₂² - 0.6131392312005325x₄a₁₋₁² + 5.843621449464988x₄a₁₋₁a₂₋₁ - 4.982273362986371x₄a₁₋₁a₁₋₂ + 1.226278462401065x₄a₁₋₁a₂₋₂ - 20.251875259567672x₄a₁₋₁b₁₋₂ - 7.2815296485774255x₄a₁₋₁b₂₋₂ - 27.371218407948152x₄a₂₋₁² + 1.226278462401065x₄a₂₋₁a₁₋₂ - 23.689064253196022x₄a₂₋₁a₂₋₂ - 7.2815296485774255x₄a₂₋₁b₁₋₂ + 20.251875259567672x₄a₂₋₁b₂₋₂ + 28.597496870349215x₄a₁₋₂² + 22.827716166717398x₄a₁₋₂a₂₋₂ + 20.251875259567672x₄a₁₋₂b₁₋₁ + 7.2815296485774255x₄a₁₋₂b₂₋₁ - 0.6131392312005325x₄a₂₋₂² + 7.2815296485774255x₄a₂₋₂b₁₋₁ - 20.251875259567672x₄a₂₋₂b₂₋₁ - 0.6131392312005325x₄b₁₋₁² + 5.843621449464988x₄b₁₋₁b₂₋₁ - 4.982273362986371x₄b₁₋₁b₁₋₂ + 1.226278462401065x₄b₁₋₁b₂₋₂ - 27.371218407948152x₄b₂₋₁² + 1.226278462401065x₄b₂₋₁b₁₋₂ - 23.689064253196022x₄b₂₋₁b₂₋₂ + 28.597496870349215x₄b₁₋₂² + 22.827716166717398x₄b₁₋₂b₂₋₂ - 0.6131392312005325x₄b₂₋₂² + 14.99384793319029x₁² - 29.98769586638058x₁x₂ + 1.226278462401065x₁x₃ - 7.2815296485774255x₁x₄ + 14.99384793319029x₂² - 1.226278462401065x₂x₃ + 7.2815296485774255x₂x₄ + 59.11404364628257x₃² + 40.503750519135345x₃x₄ + 17.845442803731043x₄², UInt8[0x00 0x00 … 0x00 0x00; 0x00 0x00 … 0x00 0x00; … ; 0x00 0x00 … 0x00 0x00; 0x00 0x00 … 0x00 0x00], [3.7484619832975725, -6.689519794186905, 6.996089409787173, -14.99384793319029, -15.59427769840626, -17.414660110550624, 27.452101402206104, -32.515015385316524, 20.37512899816098, 15.59427769840626  …  -29.98769586638058, 1.226278462401065, -7.2815296485774255, 14.99384793319029, -1.226278462401065, 7.2815296485774255, 59.11404364628257, 40.503750519135345, 17.845442803731043, 0.0], UInt8[0x00 0x01 … 0x00 0x00; 0x00 0x00 … 0x00 0x00; … ; 0x00 0x00 … 0x01 0x00; 0x00 0x00 … 0x01 0x02], UInt8[0x00 0x00 … 0x01 0x02; 0x00 0x00 … 0x01 0x00; … ; 0x00 0x00 … 0x00 0x00; 0x00 0x02 … 0x00 0x00], [[1, 2, 3, 4, 5, 14, 15, 16, 17, 18  …  40, 41, 42, 43, 44, 45, 46, 47, 48, 49], [6], [7], [8], [9], [10], [11], [12], [13]], [41, 1], [1, 8], nothing, \"Mosek\", 0.0001, 1))"
      ]
     },
     "execution_count": 20,
     "metadata": {},
     "output_type": "execute_result"
    }
   ],
   "source": [
    "opt,sol,data = tssos_first(obj_re, variables(obj_re))"
   ]
  },
  {
   "cell_type": "code",
   "execution_count": 65,
   "id": "10d074b7",
   "metadata": {},
   "outputs": [
    {
     "name": "stdout",
     "output_type": "stream",
     "text": [
      "Starting to compute the block structure...\n",
      "No higher TSSOS hierarchy!"
     ]
    },
    {
     "data": {
      "text/plain": [
       "(nothing, nothing, TSSOS.upop_data(12, 0, PolyVar{true}[x₁, x₂, x₃, x₄, a₁₋₁, a₂₋₁, a₁₋₂, a₂₋₂, b₁₋₁, b₂₋₁, b₁₋₂, b₂₋₂], 0.027303451427726114a₁₋₁⁴ + 0.11319187462596121a₁₋₁³a₂₋₁ - 0.14047008155731677a₁₋₁³a₁₋₂ - 0.10921380571090446a₁₋₁³a₂₋₂ - 0.04958526970021238a₁₋₁³b₂₋₁ - 0.06221819867467921a₁₋₁³b₁₋₂ + 0.21026513727140453a₁₋₁²a₂₋₁² - 0.46476629448275797a₁₋₁²a₂₋₁a₁₋₂ - 0.3668538308092393a₁₋₁²a₂₋₁a₂₋₂ + 0.04958526970021238a₁₋₁²a₂₋₁b₁₋₁ - 0.06821985019456936a₁₋₁²a₂₋₁b₁₋₂ - 0.16138873807510404a₁₋₁²a₂₋₁b₂₋₂ + 0.39174735316461756a₁₋₁²a₁₋₂² + 0.4486884516033058a₁₋₁²a₁₋₂a₂₋₂ + 0.06221819867467921a₁₋₁²a₁₋₂b₁₋₁ + 0.06821985019456936a₁₋₁²a₁₋₂b₂₋₁ + 0.06821985019456937a₁₋₁²a₁₋₂b₁₋₂ + 0.04958526970021239a₁₋₁²a₁₋₂b₂₋₂ + 0.16382070856635667a₁₋₁²a₂₋₂² + 0.16138873807510404a₁₋₁²a₂₋₂b₂₋₁ + 0.19928752499850447a₁₋₁²a₂₋₂b₁₋₂ + 0.05460690285545223a₁₋₁²b₁₋₁² + 0.11319187462596121a₁₋₁²b₁₋₁b₂₋₁ - 0.14047008155731677a₁₋₁²b₁₋₁b₁₋₂ - 0.10921380571090446a₁₋₁²b₁₋₁b₂₋₂ + 0.21026513727140453a₁₋₁²b₂₋₁² + 0.31463210466790575a₁₋₁²b₂₋₁b₁₋₂ - 0.3668538308092393a₁₋₁²b₂₋₁b₂₋₂ + 0.3166802582571915a₁₋₁²b₁₋₂² - 0.11319187462596123a₁₋₁²b₁₋₂b₂₋₂ + 0.16382070856635667a₁₋₁²b₂₋₂² + 0.11319187462596121a₁₋₁a₂₋₁³ - 0.14047008155731677a₁₋₁a₂₋₁²a₁₋₂ - 0.4989130052862362a₁₋₁a₂₋₁²a₂₋₂ - 0.04958526970021238a₁₋₁a₂₋₁²b₂₋₁ - 0.06221819867467921a₁₋₁a₂₋₁²b₁₋₂ + 0.3941320377405948a₁₋₁a₂₋₁a₁₋₂² + 0.9239352195152805a₁₋₁a₂₋₁a₁₋₂a₂₋₂ + 0.06821985019456936a₁₋₁a₂₋₁a₁₋₂b₂₋₂ + 0.3941320377405947a₁₋₁a₂₋₁a₂₋₂² + 0.06821985019456936a₁₋₁a₂₋₁a₂₋₂b₁₋₂ + 0.24887279469871684a₁₋₁a₂₋₁a₂₋₂b₂₋₂ + 0.11319187462596121a₁₋₁a₂₋₁b₁₋₁² - 0.7793983991506634a₁₋₁a₂₋₁b₁₋₁b₁₋₂ + 0.11319187462596121a₁₋₁a₂₋₁b₂₋₁² + 0.3941320377405948a₁₋₁a₂₋₁b₁₋₂² + 0.7738010297004285a₁₋₁a₂₋₁b₁₋₂b₂₋₂ - 0.1677482884886723a₁₋₁a₂₋₁b₂₋₂² - 0.47596665853466125a₁₋₁a₁₋₂³ - 0.6995146061355728a₁₋₁a₁₋₂²a₂₋₂ - 0.06821985019456937a₁₋₁a₁₋₂²b₁₋₁ - 0.17402166704957078a₁₋₁a₁₋₂²b₂₋₁ - 0.21192045397297127a₁₋₁a₁₋₂²b₁₋₂ - 0.47596665853466125a₁₋₁a₁₋₂a₂₋₂² - 0.24887279469871684a₁₋₁a₁₋₂a₂₋₂b₁₋₁ - 0.06821985019456936a₁₋₁a₁₋₂a₂₋₂b₂₋₁ - 0.14047008155731677a₁₋₁a₁₋₂b₁₋₁² - 0.7793983991506634a₁₋₁a₁₋₂b₁₋₁b₂₋₁ + 0.1501341898148523a₁₋₁a₁₋₂b₁₋₁b₁₋₂ + 0.5618803262292671a₁₋₁a₁₋₂b₁₋₁b₂₋₂ - 0.14047008155731677a₁₋₁a₁₋₂b₂₋₁² + 0.9239352195152805a₁₋₁a₁₋₂b₂₋₁b₂₋₂ - 0.47596665853466125a₁₋₁a₁₋₂b₁₋₂² - 0.47596665853466125a₁₋₁a₁₋₂b₂₋₂² - 0.10921380571090446a₁₋₁a₂₋₂³ - 0.17402166704957078a₁₋₁a₂₋₂²b₂₋₁ - 0.2119204539729713a₁₋₁a₂₋₂²b₁₋₂ - 0.10921380571090446a₁₋₁a₂₋₂b₁₋₁² + 0.5618803262292671a₁₋₁a₂₋₂b₁₋₁b₁₋₂ - 0.4989130052862362a₁₋₁a₂₋₂b₂₋₁² - 0.7738010297004284a₁₋₁a₂₋₂b₂₋₁b₁₋₂ + 0.5618803262292671a₁₋₁a₂₋₂b₂₋₁b₂₋₂ - 0.6995146061355728a₁₋₁a₂₋₂b₁₋₂² - 0.10921380571090446a₁₋₁a₂₋₂b₂₋₂² - 0.04958526970021238a₁₋₁b₁₋₁²b₂₋₁ - 0.06221819867467921a₁₋₁b₁₋₁²b₁₋₂ + 0.06821985019456937a₁₋₁b₁₋₁b₁₋₂² + 0.24887279469871684a₁₋₁b₁₋₁b₁₋₂b₂₋₂ - 0.04958526970021238a₁₋₁b₂₋₁³ - 0.06221819867467921a₁₋₁b₂₋₁²b₁₋₂ - 0.1740216670495708a₁₋₁b₂₋₁b₁₋₂² + 0.06821985019456936a₁₋₁b₂₋₁b₁₋₂b₂₋₂ + 0.07485112764914602a₁₋₁b₂₋₁b₂₋₂² - 0.21192045397297127a₁₋₁b₁₋₂³ - 0.21192045397297127a₁₋₁b₁₋₂b₂₋₂² + 0.1829616858436785a₂₋₁⁴ - 0.07506709490742615a₂₋₁³a₁₋₂ - 0.3668538308092393a₂₋₁³a₂₋₂ + 0.04958526970021238a₂₋₁³b₁₋₁ - 0.06821985019456936a₂₋₁³b₁₋₂ - 0.16138873807510404a₂₋₁³b₂₋₂ - 0.3042612217524021a₂₋₁²a₁₋₂² + 0.4486884516033058a₂₋₁²a₁₋₂a₂₋₂ + 0.06221819867467921a₂₋₁²a₁₋₂b₁₋₁ + 0.06821985019456936a₂₋₁²a₁₋₂b₂₋₁ - 0.19928752499850447a₂₋₁²a₁₋₂b₂₋₂ + 0.39174735316461756a₂₋₁²a₂₋₂² + 0.16138873807510404a₂₋₁²a₂₋₂b₂₋₁ + 0.19928752499850447a₂₋₁²a₂₋₂b₁₋₂ + 0.06821985019456937a₂₋₁²a₂₋₂b₂₋₂ + 0.21026513727140453a₂₋₁²b₁₋₁² + 0.11319187462596121a₂₋₁²b₁₋₁b₂₋₁ - 0.14047008155731677a₂₋₁²b₁₋₁b₁₋₂ - 0.4989130052862362a₂₋₁²b₁₋₁b₂₋₂ + 0.365923371687357a₂₋₁²b₂₋₁² - 0.07506709490742615a₂₋₁²b₂₋₁b₁₋₂ - 0.3668538308092393a₂₋₁²b₂₋₁b₂₋₂ - 0.3042612217524021a₂₋₁²b₁₋₂² + 0.4486884516033058a₂₋₁²b₁₋₂b₂₋₂ + 0.3166802582571915a₂₋₁²b₂₋₂² - 0.07506709490742615a₂₋₁a₁₋₂³ - 0.14047008155731677a₂₋₁a₁₋₂²a₂₋₂ + 0.17402166704957078a₂₋₁a₁₋₂²b₁₋₁ - 0.06821985019456936a₂₋₁a₁₋₂²b₁₋₂ - 0.062218198674679204a₂₋₁a₁₋₂²b₂₋₂ - 0.6653678953320944a₂₋₁a₁₋₂a₂₋₂² - 0.06821985019456936a₂₋₁a₁₋₂a₂₋₂b₁₋₁ + 0.31463210466790575a₂₋₁a₁₋₂b₁₋₁² - 0.7738010297004284a₂₋₁a₁₋₂b₁₋₁b₂₋₂ - 0.07506709490742615a₂₋₁a₁₋₂b₂₋₁² - 0.07506709490742615a₂₋₁a₁₋₂b₁₋₂² + 0.5152337055172422a₂₋₁a₁₋₂b₂₋₂² - 0.14047008155731677a₂₋₁a₂₋₂³ - 0.074851127649146a₂₋₁a₂₋₂²b₁₋₁ - 0.06821985019456937a₂₋₁a₂₋₂²b₂₋₁ - 0.06821985019456936a₂₋₁a₂₋₂²b₁₋₂ - 0.06221819867467921a₂₋₁a₂₋₂²b₂₋₂ - 0.3668538308092393a₂₋₁a₂₋₂b₁₋₁² + 0.9239352195152805a₂₋₁a₂₋₂b₁₋₁b₁₋₂ + 0.5618803262292671a₂₋₁a₂₋₂b₁₋₁b₂₋₂ - 0.3668538308092393a₂₋₁a₂₋₂b₂₋₁² + 0.1501341898148523a₂₋₁a₂₋₂b₂₋₁b₂₋₂ - 0.14047008155731677a₂₋₁a₂₋₂b₁₋₂² - 1.1806016008493367a₂₋₁a₂₋₂b₁₋₂b₂₋₂ - 0.14047008155731677a₂₋₁a₂₋₂b₂₋₂² + 0.04958526970021238a₂₋₁b₁₋₁³ - 0.06821985019456936a₂₋₁b₁₋₁²b₁₋₂ - 0.16138873807510404a₂₋₁b₁₋₁²b₂₋₂ + 0.04958526970021238a₂₋₁b₁₋₁b₂₋₁² + 0.1740216670495708a₂₋₁b₁₋₁b₁₋₂² + 0.06821985019456936a₂₋₁b₁₋₁b₁₋₂b₂₋₂ + 0.1740216670495708a₂₋₁b₁₋₁b₂₋₂² - 0.06821985019456936a₂₋₁b₂₋₁²b₁₋₂ - 0.16138873807510404a₂₋₁b₂₋₁²b₂₋₂ + 0.06821985019456937a₂₋₁b₂₋₁b₂₋₂² - 0.06821985019456936a₂₋₁b₁₋₂³ - 0.062218198674679204a₂₋₁b₁₋₂²b₂₋₂ - 0.06821985019456936a₂₋₁b₁₋₂b₂₋₂² - 0.06221819867467921a₂₋₁b₂₋₂³ + 0.38356328669301515a₁₋₂⁴ + 0.1677482884886723a₁₋₂³a₂₋₂ + 0.21192045397297127a₁₋₂³b₁₋₁ + 0.06821985019456936a₁₋₂³b₂₋₁ - 0.074851127649146a₁₋₂³b₂₋₂ + 0.41086673812074126a₁₋₂²a₂₋₂² + 0.06221819867467921a₁₋₂²a₂₋₂b₂₋₁ + 0.074851127649146a₁₋₂²a₂₋₂b₁₋₂ + 0.3166802582571915a₁₋₂²b₁₋₁² + 0.3941320377405948a₁₋₂²b₁₋₁b₂₋₁ - 0.47596665853466125a₁₋₂²b₁₋₁b₁₋₂ - 0.6995146061355728a₁₋₂²b₁₋₁b₂₋₂ - 0.3042612217524021a₁₋₂²b₂₋₁² - 0.07506709490742615a₁₋₂²b₂₋₁b₁₋₂ - 0.14047008155731677a₁₋₂²b₂₋₁b₂₋₂ + 0.7671265733860303a₁₋₂²b₁₋₂² + 0.1677482884886723a₁₋₂²b₁₋₂b₂₋₂ + 0.41086673812074126a₁₋₂²b₂₋₂² + 0.1677482884886723a₁₋₂a₂₋₂³ + 0.2119204539729713a₁₋₂a₂₋₂²b₁₋₁ + 0.06821985019456936a₁₋₂a₂₋₂²b₂₋₁ - 0.074851127649146a₁₋₂a₂₋₂²b₂₋₂ - 0.11319187462596123a₁₋₂a₂₋₂b₁₋₁² + 0.7738010297004285a₁₋₂a₂₋₂b₁₋₁b₂₋₁ + 0.4486884516033058a₁₋₂a₂₋₂b₂₋₁² - 1.1806016008493367a₁₋₂a₂₋₂b₂₋₁b₂₋₂ + 0.1677482884886723a₁₋₂a₂₋₂b₁₋₂² + 0.1677482884886723a₁₋₂a₂₋₂b₂₋₂² + 0.06221819867467921a₁₋₂b₁₋₁³ + 0.06821985019456936a₁₋₂b₁₋₁²b₂₋₁ - 0.06821985019456937a₁₋₂b₁₋₁²b₁₋₂ - 0.19928752499850447a₁₋₂b₁₋₁²b₂₋₂ + 0.06221819867467921a₁₋₂b₁₋₁b₂₋₁² - 0.06821985019456936a₁₋₂b₁₋₁b₂₋₁b₂₋₂ + 0.21192045397297127a₁₋₂b₁₋₁b₁₋₂² + 0.21192045397297127a₁₋₂b₁₋₁b₂₋₂² + 0.06821985019456936a₁₋₂b₂₋₁³ - 0.19928752499850444a₁₋₂b₂₋₁²b₂₋₂ + 0.06821985019456936a₁₋₂b₂₋₁b₁₋₂² + 0.06821985019456936a₁₋₂b₂₋₁b₂₋₂² - 0.074851127649146a₁₋₂b₁₋₂²b₂₋₂ - 0.074851127649146a₁₋₂b₂₋₂³ + 0.027303451427726114a₂₋₂⁴ + 0.06221819867467921a₂₋₂³b₂₋₁ + 0.074851127649146a₂₋₂³b₁₋₂ + 0.16382070856635667a₂₋₂²b₁₋₁² - 0.1677482884886723a₂₋₂²b₁₋₁b₂₋₁ - 0.47596665853466125a₂₋₂²b₁₋₁b₁₋₂ - 0.10921380571090446a₂₋₂²b₁₋₁b₂₋₂ + 0.3166802582571915a₂₋₂²b₂₋₁² + 0.5152337055172422a₂₋₂²b₂₋₁b₁₋₂ - 0.14047008155731677a₂₋₂²b₂₋₁b₂₋₂ + 0.41086673812074126a₂₋₂²b₁₋₂² + 0.1677482884886723a₂₋₂²b₁₋₂b₂₋₂ + 0.05460690285545223a₂₋₂²b₂₋₂² + 0.16138873807510404a₂₋₂b₁₋₁²b₂₋₁ - 0.04958526970021239a₂₋₂b₁₋₁²b₁₋₂ - 0.06821985019456936a₂₋₂b₁₋₁b₂₋₁b₁₋₂ - 0.24887279469871684a₂₋₂b₁₋₁b₂₋₁b₂₋₂ + 0.16138873807510404a₂₋₂b₂₋₁³ + 0.19928752499850444a₂₋₂b₂₋₁²b₁₋₂ - 0.06821985019456937a₂₋₂b₂₋₁²b₂₋₂ + 0.06221819867467921a₂₋₂b₂₋₁b₁₋₂² + 0.06221819867467921a₂₋₂b₂₋₁b₂₋₂² + 0.074851127649146a₂₋₂b₁₋₂³ + 0.074851127649146a₂₋₂b₁₋₂b₂₋₂² + 0.027303451427726114b₁₋₁⁴ + 0.11319187462596121b₁₋₁³b₂₋₁ - 0.14047008155731677b₁₋₁³b₁₋₂ - 0.10921380571090446b₁₋₁³b₂₋₂ + 0.21026513727140453b₁₋₁²b₂₋₁² - 0.46476629448275797b₁₋₁²b₂₋₁b₁₋₂ - 0.3668538308092393b₁₋₁²b₂₋₁b₂₋₂ + 0.39174735316461756b₁₋₁²b₁₋₂² + 0.4486884516033058b₁₋₁²b₁₋₂b₂₋₂ + 0.16382070856635667b₁₋₁²b₂₋₂² + 0.11319187462596121b₁₋₁b₂₋₁³ - 0.14047008155731677b₁₋₁b₂₋₁²b₁₋₂ - 0.4989130052862362b₁₋₁b₂₋₁²b₂₋₂ + 0.3941320377405948b₁₋₁b₂₋₁b₁₋₂² + 0.9239352195152805b₁₋₁b₂₋₁b₁₋₂b₂₋₂ + 0.3941320377405947b₁₋₁b₂₋₁b₂₋₂² - 0.47596665853466125b₁₋₁b₁₋₂³ - 0.6995146061355728b₁₋₁b₁₋₂²b₂₋₂ - 0.47596665853466125b₁₋₁b₁₋₂b₂₋₂² - 0.10921380571090446b₁₋₁b₂₋₂³ + 0.1829616858436785b₂₋₁⁴ - 0.07506709490742615b₂₋₁³b₁₋₂ - 0.3668538308092393b₂₋₁³b₂₋₂ - 0.3042612217524021b₂₋₁²b₁₋₂² + 0.4486884516033058b₂₋₁²b₁₋₂b₂₋₂ + 0.39174735316461756b₂₋₁²b₂₋₂² - 0.07506709490742615b₂₋₁b₁₋₂³ - 0.14047008155731677b₂₋₁b₁₋₂²b₂₋₂ - 0.6653678953320944b₂₋₁b₁₋₂b₂₋₂² - 0.14047008155731677b₂₋₁b₂₋₂³ + 0.38356328669301515b₁₋₂⁴ + 0.1677482884886723b₁₋₂³b₂₋₂ + 0.41086673812074126b₁₋₂²b₂₋₂² + 0.1677482884886723b₁₋₂b₂₋₂³ + 0.027303451427726114b₂₋₂⁴ - 0.09917053940042476x₁a₁₋₁a₂₋₁ + 0.12443639734935842x₁a₁₋₁a₁₋₂ - 0.22638374925192242x₁a₁₋₁b₂₋₁ - 0.28094016311463355x₁a₁₋₁b₁₋₂ + 0.21842761142180891x₁a₁₋₁b₂₋₂ + 0.13643970038913872x₁a₂₋₁a₁₋₂ + 0.12443639734935842x₁a₂₋₁a₂₋₂ + 0.22638374925192242x₁a₂₋₁b₁₋₁ - 0.1501341898148523x₁a₂₋₁b₁₋₂ - 0.28094016311463355x₁a₂₋₁b₂₋₂ - 0.149702255298292x₁a₁₋₂a₂₋₂ + 0.28094016311463355x₁a₁₋₂b₁₋₁ + 0.1501341898148523x₁a₁₋₂b₂₋₁ - 0.3354965769773446x₁a₁₋₂b₂₋₂ - 0.21842761142180891x₁a₂₋₂b₁₋₁ + 0.28094016311463355x₁a₂₋₂b₂₋₁ + 0.3354965769773446x₁a₂₋₂b₁₋₂ - 0.09917053940042476x₁b₁₋₁b₂₋₁ + 0.12443639734935842x₁b₁₋₁b₁₋₂ + 0.13643970038913872x₁b₂₋₁b₁₋₂ + 0.12443639734935842x₁b₂₋₁b₂₋₂ - 0.149702255298292x₁b₁₋₂b₂₋₂ + 0.09917053940042476x₂a₁₋₁a₂₋₁ - 0.12443639734935842x₂a₁₋₁a₁₋₂ + 0.22638374925192242x₂a₁₋₁b₂₋₁ + 0.28094016311463355x₂a₁₋₁b₁₋₂ - 0.21842761142180891x₂a₁₋₁b₂₋₂ - 0.13643970038913872x₂a₂₋₁a₁₋₂ - 0.12443639734935842x₂a₂₋₁a₂₋₂ - 0.22638374925192242x₂a₂₋₁b₁₋₁ + 0.1501341898148523x₂a₂₋₁b₁₋₂ + 0.28094016311463355x₂a₂₋₁b₂₋₂ + 0.149702255298292x₂a₁₋₂a₂₋₂ - 0.28094016311463355x₂a₁₋₂b₁₋₁ - 0.1501341898148523x₂a₁₋₂b₂₋₁ + 0.3354965769773446x₂a₁₋₂b₂₋₂ + 0.21842761142180891x₂a₂₋₂b₁₋₁ - 0.28094016311463355x₂a₂₋₂b₂₋₁ - 0.3354965769773446x₂a₂₋₂b₁₋₂ + 0.09917053940042476x₂b₁₋₁b₂₋₁ - 0.12443639734935842x₂b₁₋₁b₁₋₂ - 0.13643970038913872x₂b₂₋₁b₁₋₂ - 0.12443639734935842x₂b₂₋₁b₂₋₂ + 0.149702255298292x₂b₁₋₂b₂₋₂ - 0.025265857948933657x₃a₁₋₁² - 0.13643970038913875x₃a₁₋₁a₁₋₂ + 0.05053171589786731x₃a₁₋₁a₂₋₂ + 0.156765461486854x₃a₁₋₁b₂₋₁ + 0.13230817924238014x₃a₁₋₁b₁₋₂ - 0.10911282772542207x₃a₁₋₁b₂₋₂ - 0.2236069367497833x₃a₂₋₁² - 0.05053171589786731x₃a₂₋₁a₁₋₂ + 0.13643970038913875x₃a₂₋₁a₂₋₂ - 0.156765461486854x₃a₂₋₁b₁₋₁ + 0.10911282772542207x₃a₂₋₁b₁₋₂ + 0.26889502245629315x₃a₂₋₁b₂₋₂ + 0.2741386526476506x₃a₁₋₂² - 0.13230817924238014x₃a₁₋₂b₁₋₁ - 0.10911282772542207x₃a₁₋₂b₂₋₁ + 0.24443774021181922x₃a₁₋₂b₂₋₂ - 0.025265857948933657x₃a₂₋₂² + 0.10911282772542207x₃a₂₋₂b₁₋₁ - 0.26889502245629315x₃a₂₋₂b₂₋₁ - 0.24443774021181922x₃a₂₋₂b₁₋₂ - 0.025265857948933657x₃b₁₋₁² - 0.13643970038913875x₃b₁₋₁b₁₋₂ + 0.05053171589786731x₃b₁₋₁b₂₋₂ - 0.2236069367497833x₃b₂₋₁² - 0.05053171589786731x₃b₂₋₁b₁₋₂ + 0.13643970038913875x₃b₂₋₁b₂₋₂ + 0.2741386526476506x₃b₁₋₂² - 0.025265857948933657x₃b₂₋₂² + 0.05455641386271103x₄a₁₋₁² + 0.156765461486854x₄a₁₋₁a₂₋₁ + 0.1679602003873245x₄a₁₋₁a₁₋₂ - 0.10911282772542207x₄a₁₋₁a₂₋₂ + 0.13643970038913875x₄a₁₋₁b₁₋₂ - 0.05053171589786731x₄a₁₋₁b₂₋₂ + 0.5073239123665559x₄a₂₋₁² - 0.10911282772542207x₄a₂₋₁a₁₋₂ - 0.5691634020859978x₄a₂₋₁a₂₋₂ - 0.05053171589786731x₄a₂₋₁b₁₋₂ - 0.13643970038913875x₄a₂₋₁b₂₋₂ - 0.6164367400919779x₄a₁₋₂² + 0.24443774021181922x₄a₁₋₂a₂₋₂ - 0.13643970038913875x₄a₁₋₂b₁₋₁ + 0.05053171589786731x₄a₁₋₂b₂₋₁ + 0.05455641386271103x₄a₂₋₂² + 0.05053171589786731x₄a₂₋₂b₁₋₁ + 0.13643970038913875x₄a₂₋₂b₂₋₁ + 0.05455641386271103x₄b₁₋₁² + 0.156765461486854x₄b₁₋₁b₂₋₁ + 0.1679602003873245x₄b₁₋₁b₁₋₂ - 0.10911282772542207x₄b₁₋₁b₂₋₂ + 0.5073239123665559x₄b₂₋₁² - 0.10911282772542207x₄b₂₋₁b₁₋₂ - 0.5691634020859978x₄b₂₋₁b₂₋₂ - 0.6164367400919779x₄b₁₋₂² + 0.24443774021181922x₄b₁₋₂b₂₋₂ + 0.05455641386271103x₄b₂₋₂² + 0.10921380571090446x₁² - 0.21842761142180891x₁x₂ - 0.10911282772542207x₁x₃ - 0.05053171589786731x₁x₄ + 0.10921380571090446x₂² + 0.10911282772542207x₂x₃ + 0.05053171589786731x₂x₄ + 0.1121295609694392x₃² - 0.2728794007782775x₃x₄ + 0.4123979405991437x₄² + 0.016881283335298293a₁₋₁² + 0.06158777613649929a₁₋₁a₂₋₁ - 0.0778902754142557a₁₋₁a₁₋₂ - 0.033762566670596586a₁₋₁a₂₋₂ - 0.009440340506504847a₁₋₁b₂₋₁ - 0.013621429830778433a₁₋₁b₁₋₂ - 0.029912276052037157a₁₋₁b₂₋₂ + 0.019200422302973082a₂₋₁² - 0.029595122041587277a₂₋₁a₁₋₂ - 0.08130481083175115a₂₋₁a₂₋₂ + 0.009440340506504847a₂₋₁b₁₋₁ - 0.01624929720111102a₂₋₁b₁₋₂ - 0.027207210259282417a₂₋₁b₂₋₂ + 0.013256414648004379a₁₋₂² + 0.09760731010950756a₁₋₂a₂₋₂ + 0.013621429830778433a₁₋₂b₁₋₁ + 0.01624929720111102a₁₋₂b₂₋₁ - 0.03138829958355602a₁₋₂b₂₋₂ + 0.016881283335298293a₂₋₂² + 0.029912276052037157a₂₋₂b₁₋₁ + 0.027207210259282417a₂₋₂b₂₋₁ + 0.03138829958355602a₂₋₂b₁₋₂ + 0.016881283335298293b₁₋₁² + 0.06158777613649929b₁₋₁b₂₋₁ - 0.0778902754142557b₁₋₁b₁₋₂ - 0.033762566670596586b₁₋₁b₂₋₂ + 0.019200422302973082b₂₋₁² - 0.029595122041587277b₂₋₁b₁₋₂ - 0.08130481083175115b₂₋₁b₂₋₂ + 0.013256414648004379b₁₋₂² + 0.09760731010950756b₁₋₂b₂₋₂ + 0.016881283335298293b₂₋₂² - 0.029912276052037157x₁ + 0.029912276052037157x₂ - 0.03553373950555517x₃ + 0.03943406939050372x₄ + 0.041381509916911766, UInt8[0x00 0x00 … 0x00 0x00; 0x00 0x00 … 0x00 0x00; … ; 0x00 0x00 … 0x00 0x00; 0x00 0x00 … 0x00 0x00], [0.027303451427726114, 0.11319187462596121, -0.14047008155731677, -0.10921380571090446, -0.04958526970021238, -0.06221819867467921, 0.21026513727140453, -0.46476629448275797, -0.3668538308092393, 0.04958526970021238  …  -0.029595122041587277, -0.08130481083175115, 0.013256414648004379, 0.09760731010950756, 0.016881283335298293, -0.029912276052037157, 0.029912276052037157, -0.03553373950555517, 0.03943406939050372, 0.041381509916911766], UInt8[0x00 0x01 … 0x00 0x00; 0x00 0x00 … 0x00 0x00; … ; 0x00 0x00 … 0x01 0x00; 0x00 0x00 … 0x01 0x02], UInt8[0x00 0x00 … 0x01 0x02; 0x00 0x00 … 0x01 0x00; … ; 0x00 0x00 … 0x00 0x00; 0x00 0x02 … 0x00 0x00], [[1, 2, 3, 4, 5, 14, 15, 16, 17, 18  …  40, 41, 42, 43, 44, 45, 46, 47, 48, 49], [6, 7, 8, 9, 10, 11, 12, 13]], [41, 8], [1, 1], nothing, \"Mosek\", 0.0001, 1))"
      ]
     },
     "execution_count": 65,
     "metadata": {},
     "output_type": "execute_result"
    },
    {
     "name": "stdout",
     "output_type": "stream",
     "text": [
      "\n"
     ]
    }
   ],
   "source": [
    "opt2,sol2,data2 = tssos_higher!(data)"
   ]
  },
  {
   "cell_type": "code",
   "execution_count": 15,
   "id": "af3ec8fc",
   "metadata": {},
   "outputs": [
    {
     "name": "stdout",
     "output_type": "stream",
     "text": [
      "Starting to compute the block structure...\n",
      "No higher TSSOS hierarchy!\n"
     ]
    },
    {
     "data": {
      "text/plain": [
       "(nothing, nothing, TSSOS.upop_data(12, 0, PolyVar{true}[x₁, x₂, x₃, x₄, a₁₋₁, a₂₋₁, a₁₋₂, a₂₋₂, b₁₋₁, b₂₋₁, b₁₋₂, b₂₋₂], 3.9013984560897357a₁₋₁⁴ - 6.8275060551687385a₁₋₁³a₂₋₁ + 7.149253186027157a₁₋₁³a₁₋₂ - 15.605593824358943a₁₋₁³a₂₋₂ - 15.836285113303198a₁₋₁³b₂₋₁ - 17.742161423756077a₁₋₁³b₁₋₂ + 27.631079865289387a₁₋₁²a₂₋₁² - 31.909351963306776a₁₋₁²a₂₋₁a₁₋₂ + 20.804265296364633a₁₋₁²a₂₋₁a₂₋₂ + 15.836285113303198a₁₋₁²a₂₋₁b₁₋₁ + 10.560669369472265a₁₋₁²a₂₋₁b₁₋₂ - 49.41473165036247a₁₋₁²a₂₋₁b₂₋₂ + 35.25510180274852a₁₋₁²a₁₋₂² - 21.769506688939884a₁₋₁²a₁₋₂a₂₋₂ + 17.742161423756077a₁₋₁²a₁₋₂b₁₋₁ - 10.560669369472265a₁₋₁²a₁₋₂b₂₋₁ - 10.560669369472265a₁₋₁²a₁₋₂b₁₋₂ + 15.8362851133032a₁₋₁²a₁₋₂b₂₋₂ + 23.40839073653841a₁₋₁²a₂₋₂² + 49.41473165036247a₁₋₁²a₂₋₂b₂₋₁ + 55.13236058172113a₁₋₁²a₂₋₂b₁₋₂ + 7.802796912179471a₁₋₁²b₁₋₁² - 6.8275060551687385a₁₋₁²b₁₋₁b₂₋₁ + 7.149253186027157a₁₋₁²b₁₋₁b₁₋₂ - 15.605593824358943a₁₋₁²b₁₋₁b₂₋₂ + 27.631079865289387a₁₋₁²b₂₋₁² + 53.31132004974846a₁₋₁²b₂₋₁b₁₋₂ + 20.804265296364633a₁₋₁²b₂₋₁b₂₋₂ + 45.956085845969355a₁₋₁²b₁₋₂² + 6.8275060551687385a₁₋₁²b₁₋₂b₂₋₂ + 23.40839073653841a₁₋₁²b₂₋₂² - 6.8275060551687385a₁₋₁a₂₋₁³ + 7.149253186027158a₁₋₁a₂₋₁²a₁₋₂ - 58.21592983088656a₁₋₁a₂₋₁²a₂₋₂ - 15.836285113303198a₁₋₁a₂₋₁²b₂₋₁ - 17.742161423756077a₁₋₁a₂₋₁²b₁₋₂ - 21.126012427223053a₁₋₁a₂₋₁a₁₋₂² + 69.2575282392556a₁₋₁a₂₋₁a₁₋₂a₂₋₂ - 10.560669369472265a₁₋₁a₂₋₁a₁₋₂b₂₋₂ - 21.126012427223053a₁₋₁a₂₋₁a₂₋₂² - 10.560669369472265a₁₋₁a₂₋₁a₂₋₂b₁₋₂ + 70.9686456950243a₁₋₁a₂₋₁a₂₋₂b₂₋₂ - 6.8275060551687385a₁₋₁a₂₋₁b₁₋₁² - 85.22067201305524a₁₋₁a₂₋₁b₁₋₁b₁₋₂ - 6.8275060551687385a₁₋₁a₂₋₁b₂₋₁² - 21.126012427223053a₁₋₁a₂₋₁b₁₋₂² + 90.65949632569733a₁₋₁a₂₋₁b₁₋₂b₂₋₂ + 7.471000316885574a₁₋₁a₂₋₁b₂₋₂² + 22.0912538197983a₁₋₁a₁₋₂³ - 72.99525781783133a₁₋₁a₁₋₂²a₂₋₂ + 10.560669369472265a₁₋₁a₁₋₂²b₁₋₁ - 51.32060796081537a₁₋₁a₁₋₂²b₂₋₁ - 57.03823689217399a₁₋₁a₁₋₂²b₁₋₂ + 22.0912538197983a₁₋₁a₁₋₂a₂₋₂² - 70.9686456950243a₁₋₁a₁₋₂a₂₋₂b₁₋₁ + 10.560669369472265a₁₋₁a₁₋₂a₂₋₂b₂₋₁ + 7.149253186027157a₁₋₁a₁₋₂b₁₋₁² - 85.22067201305524a₁₋₁a₁₋₂b₁₋₁b₂₋₁ - 21.40196808644169a₁₋₁a₁₋₂b₁₋₁b₁₋₂ - 28.59701274410863a₁₋₁a₁₋₂b₁₋₁b₂₋₂ + 7.149253186027158a₁₋₁a₁₋₂b₂₋₁² + 69.2575282392556a₁₋₁a₁₋₂b₂₋₁b₂₋₂ + 22.0912538197983a₁₋₁a₁₋₂b₁₋₂² + 22.0912538197983a₁₋₁a₁₋₂b₂₋₂² - 15.605593824358943a₁₋₁a₂₋₂³ - 51.320607960815366a₁₋₁a₂₋₂²b₂₋₁ - 57.03823689217399a₁₋₁a₂₋₂²b₁₋₂ - 15.605593824358943a₁₋₁a₂₋₂b₁₋₁² - 28.59701274410863a₁₋₁a₂₋₂b₁₋₁b₁₋₂ - 58.21592983088656a₁₋₁a₂₋₂b₂₋₁² - 90.65949632569735a₁₋₁a₂₋₂b₂₋₁b₁₋₂ - 28.59701274410863a₁₋₁a₂₋₂b₂₋₁b₂₋₂ - 72.99525781783133a₁₋₁a₂₋₂b₁₋₂² - 15.605593824358943a₁₋₁a₂₋₂b₂₋₂² - 15.836285113303198a₁₋₁b₁₋₁²b₂₋₁ - 17.742161423756077a₁₋₁b₁₋₁²b₁₋₂ - 10.560669369472265a₁₋₁b₁₋₁b₁₋₂² + 70.9686456950243a₁₋₁b₁₋₁b₁₋₂b₂₋₂ - 15.836285113303198a₁₋₁b₂₋₁³ - 17.742161423756077a₁₋₁b₂₋₁²b₁₋₂ - 51.32060796081537a₁₋₁b₂₋₁b₁₋₂² - 10.560669369472265a₁₋₁b₂₋₁b₁₋₂b₂₋₂ + 19.648037734208966a₁₋₁b₂₋₁b₂₋₂² - 57.03823689217399a₁₋₁b₁₋₂³ - 57.03823689217399a₁₋₁b₁₋₂b₂₋₂² + 23.729681409199653a₂₋₁⁴ + 10.700984043220846a₂₋₁³a₁₋₂ + 20.804265296364633a₂₋₁³a₂₋₂ + 15.836285113303198a₂₋₁³b₁₋₁ + 10.560669369472265a₂₋₁³b₁₋₂ - 49.41473165036247a₂₋₁³b₂₋₂ - 22.155715370297a₂₋₁²a₁₋₂² - 21.769506688939884a₂₋₁²a₁₋₂a₂₋₂ + 17.742161423756077a₂₋₁²a₁₋₂b₁₋₁ - 10.560669369472265a₂₋₁²a₁₋₂b₂₋₁ - 55.13236058172113a₂₋₁²a₁₋₂b₂₋₂ + 35.25510180274852a₂₋₁²a₂₋₂² + 49.41473165036247a₂₋₁²a₂₋₂b₂₋₁ + 55.13236058172113a₂₋₁²a₂₋₂b₁₋₂ - 10.560669369472265a₂₋₁²a₂₋₂b₂₋₂ + 27.631079865289387a₂₋₁²b₁₋₁² - 6.8275060551687385a₂₋₁²b₁₋₁b₂₋₁ + 7.149253186027158a₂₋₁²b₁₋₁b₁₋₂ - 58.21592983088656a₂₋₁²b₁₋₁b₂₋₂ + 47.459362818399306a₂₋₁²b₂₋₁² + 10.700984043220846a₂₋₁²b₂₋₁b₁₋₂ + 20.804265296364633a₂₋₁²b₂₋₁b₂₋₂ - 22.155715370297a₂₋₁²b₁₋₂² - 21.769506688939884a₂₋₁²b₁₋₂b₂₋₂ + 45.956085845969355a₂₋₁²b₂₋₂² + 10.700984043220846a₂₋₁a₁₋₂³ + 7.149253186027157a₂₋₁a₁₋₂²a₂₋₂ + 51.32060796081537a₂₋₁a₁₋₂²b₁₋₁ + 10.560669369472265a₂₋₁a₁₋₂²b₁₋₂ - 17.74216142375608a₂₋₁a₁₋₂²b₂₋₂ - 46.68867995025157a₂₋₁a₁₋₂a₂₋₂² + 10.560669369472265a₂₋₁a₁₋₂a₂₋₂b₁₋₁ + 53.31132004974846a₂₋₁a₁₋₂b₁₋₁² - 90.65949632569735a₂₋₁a₁₋₂b₁₋₁b₂₋₂ + 10.700984043220846a₂₋₁a₁₋₂b₂₋₁² + 10.700984043220846a₂₋₁a₁₋₂b₁₋₂² + 68.09064803669321a₂₋₁a₁₋₂b₂₋₂² + 7.149253186027157a₂₋₁a₂₋₂³ - 19.648037734208962a₂₋₁a₂₋₂²b₁₋₁ + 10.560669369472265a₂₋₁a₂₋₂²b₂₋₁ + 10.560669369472265a₂₋₁a₂₋₂²b₁₋₂ - 17.742161423756077a₂₋₁a₂₋₂²b₂₋₂ + 20.804265296364633a₂₋₁a₂₋₂b₁₋₁² + 69.2575282392556a₂₋₁a₂₋₂b₁₋₁b₁₋₂ - 28.59701274410863a₂₋₁a₂₋₂b₁₋₁b₂₋₂ + 20.804265296364633a₂₋₁a₂₋₂b₂₋₁² - 21.40196808644169a₂₋₁a₂₋₂b₂₋₁b₂₋₂ + 7.149253186027157a₂₋₁a₂₋₂b₁₋₂² - 114.77932798694478a₂₋₁a₂₋₂b₁₋₂b₂₋₂ + 7.149253186027157a₂₋₁a₂₋₂b₂₋₂² + 15.836285113303198a₂₋₁b₁₋₁³ + 10.560669369472265a₂₋₁b₁₋₁²b₁₋₂ - 49.41473165036247a₂₋₁b₁₋₁²b₂₋₂ + 15.836285113303198a₂₋₁b₁₋₁b₂₋₁² + 51.32060796081537a₂₋₁b₁₋₁b₁₋₂² - 10.560669369472265a₂₋₁b₁₋₁b₁₋₂b₂₋₂ + 51.320607960815366a₂₋₁b₁₋₁b₂₋₂² + 10.560669369472265a₂₋₁b₂₋₁²b₁₋₂ - 49.41473165036247a₂₋₁b₂₋₁²b₂₋₂ - 10.560669369472265a₂₋₁b₂₋₁b₂₋₂² + 10.560669369472265a₂₋₁b₁₋₂³ - 17.74216142375608a₂₋₁b₁₋₂²b₂₋₂ + 10.560669369472265a₂₋₁b₁₋₂b₂₋₂² - 17.742161423756077a₂₋₁b₂₋₂³ + 38.509009396144414a₁₋₂⁴ - 7.471000316885576a₁₋₂³a₂₋₂ + 57.03823689217399a₁₋₂³b₁₋₁ - 10.560669369472265a₁₋₂³b₂₋₁ - 19.64803773420897a₁₋₂³b₂₋₂ + 42.41040785223415a₁₋₂²a₂₋₂² + 17.74216142375608a₁₋₂²a₂₋₂b₂₋₁ + 19.64803773420897a₁₋₂²a₂₋₂b₁₋₂ + 45.956085845969355a₁₋₂²b₁₋₁² - 21.126012427223053a₁₋₂²b₁₋₁b₂₋₁ + 22.0912538197983a₁₋₂²b₁₋₁b₁₋₂ - 72.99525781783133a₁₋₂²b₁₋₁b₂₋₂ - 22.155715370297a₁₋₂²b₂₋₁² + 10.700984043220846a₁₋₂²b₂₋₁b₁₋₂ + 7.149253186027157a₁₋₂²b₂₋₁b₂₋₂ + 77.01801879228883a₁₋₂²b₁₋₂² - 7.471000316885576a₁₋₂²b₁₋₂b₂₋₂ + 42.41040785223415a₁₋₂²b₂₋₂² - 7.471000316885576a₁₋₂a₂₋₂³ + 57.03823689217399a₁₋₂a₂₋₂²b₁₋₁ - 10.560669369472265a₁₋₂a₂₋₂²b₂₋₁ - 19.64803773420897a₁₋₂a₂₋₂²b₂₋₂ + 6.8275060551687385a₁₋₂a₂₋₂b₁₋₁² + 90.65949632569733a₁₋₂a₂₋₂b₁₋₁b₂₋₁ - 21.769506688939884a₁₋₂a₂₋₂b₂₋₁² - 114.77932798694478a₁₋₂a₂₋₂b₂₋₁b₂₋₂ - 7.471000316885576a₁₋₂a₂₋₂b₁₋₂² - 7.471000316885576a₁₋₂a₂₋₂b₂₋₂² + 17.742161423756077a₁₋₂b₁₋₁³ - 10.560669369472265a₁₋₂b₁₋₁²b₂₋₁ + 10.560669369472265a₁₋₂b₁₋₁²b₁₋₂ - 55.13236058172113a₁₋₂b₁₋₁²b₂₋₂ + 17.742161423756077a₁₋₂b₁₋₁b₂₋₁² + 10.560669369472265a₁₋₂b₁₋₁b₂₋₁b₂₋₂ + 57.03823689217399a₁₋₂b₁₋₁b₁₋₂² + 57.03823689217399a₁₋₂b₁₋₁b₂₋₂² - 10.560669369472265a₁₋₂b₂₋₁³ - 55.13236058172113a₁₋₂b₂₋₁²b₂₋₂ - 10.560669369472265a₁₋₂b₂₋₁b₁₋₂² - 10.560669369472265a₁₋₂b₂₋₁b₂₋₂² - 19.64803773420897a₁₋₂b₁₋₂²b₂₋₂ - 19.64803773420897a₁₋₂b₂₋₂³ + 3.9013984560897357a₂₋₂⁴ + 17.742161423756077a₂₋₂³b₂₋₁ + 19.64803773420897a₂₋₂³b₁₋₂ + 23.40839073653841a₂₋₂²b₁₋₁² + 7.471000316885574a₂₋₂²b₁₋₁b₂₋₁ + 22.0912538197983a₂₋₂²b₁₋₁b₁₋₂ - 15.605593824358943a₂₋₂²b₁₋₁b₂₋₂ + 45.956085845969355a₂₋₂²b₂₋₁² + 68.09064803669321a₂₋₂²b₂₋₁b₁₋₂ + 7.149253186027157a₂₋₂²b₂₋₁b₂₋₂ + 42.41040785223415a₂₋₂²b₁₋₂² - 7.471000316885576a₂₋₂²b₁₋₂b₂₋₂ + 7.802796912179471a₂₋₂²b₂₋₂² + 49.41473165036247a₂₋₂b₁₋₁²b₂₋₁ - 15.836285113303198a₂₋₂b₁₋₁²b₁₋₂ + 10.560669369472265a₂₋₂b₁₋₁b₂₋₁b₁₋₂ - 70.9686456950243a₂₋₂b₁₋₁b₂₋₁b₂₋₂ + 49.41473165036247a₂₋₂b₂₋₁³ + 55.13236058172113a₂₋₂b₂₋₁²b₁₋₂ + 10.560669369472265a₂₋₂b₂₋₁²b₂₋₂ + 17.74216142375608a₂₋₂b₂₋₁b₁₋₂² + 17.742161423756077a₂₋₂b₂₋₁b₂₋₂² + 19.64803773420897a₂₋₂b₁₋₂³ + 19.64803773420897a₂₋₂b₁₋₂b₂₋₂² + 3.9013984560897357b₁₋₁⁴ - 6.8275060551687385b₁₋₁³b₂₋₁ + 7.149253186027157b₁₋₁³b₁₋₂ - 15.605593824358943b₁₋₁³b₂₋₂ + 27.631079865289387b₁₋₁²b₂₋₁² - 31.909351963306776b₁₋₁²b₂₋₁b₁₋₂ + 20.804265296364633b₁₋₁²b₂₋₁b₂₋₂ + 35.25510180274852b₁₋₁²b₁₋₂² - 21.769506688939884b₁₋₁²b₁₋₂b₂₋₂ + 23.40839073653841b₁₋₁²b₂₋₂² - 6.8275060551687385b₁₋₁b₂₋₁³ + 7.149253186027158b₁₋₁b₂₋₁²b₁₋₂ - 58.21592983088656b₁₋₁b₂₋₁²b₂₋₂ - 21.126012427223053b₁₋₁b₂₋₁b₁₋₂² + 69.2575282392556b₁₋₁b₂₋₁b₁₋₂b₂₋₂ - 21.126012427223053b₁₋₁b₂₋₁b₂₋₂² + 22.0912538197983b₁₋₁b₁₋₂³ - 72.99525781783133b₁₋₁b₁₋₂²b₂₋₂ + 22.0912538197983b₁₋₁b₁₋₂b₂₋₂² - 15.605593824358943b₁₋₁b₂₋₂³ + 23.729681409199653b₂₋₁⁴ + 10.700984043220846b₂₋₁³b₁₋₂ + 20.804265296364633b₂₋₁³b₂₋₂ - 22.155715370297b₂₋₁²b₁₋₂² - 21.769506688939884b₂₋₁²b₁₋₂b₂₋₂ + 35.25510180274852b₂₋₁²b₂₋₂² + 10.700984043220846b₂₋₁b₁₋₂³ + 7.149253186027157b₂₋₁b₁₋₂²b₂₋₂ - 46.68867995025157b₂₋₁b₁₋₂b₂₋₂² + 7.149253186027157b₂₋₁b₂₋₂³ + 38.509009396144414b₁₋₂⁴ - 7.471000316885576b₁₋₂³b₂₋₂ + 42.41040785223415b₁₋₂²b₂₋₂² - 7.471000316885576b₁₋₂b₂₋₂³ + 3.9013984560897357b₂₋₂⁴ - 31.672570226606396x₁a₁₋₁a₂₋₁ + 35.48432284751215x₁a₁₋₁a₁₋₂ + 13.655012110337477x₁a₁₋₁b₂₋₁ + 14.298506372054314x₁a₁₋₁b₁₋₂ + 31.211187648717885x₁a₁₋₁b₂₋₂ - 21.12133873894453x₁a₂₋₁a₁₋₂ + 35.48432284751215x₁a₂₋₁a₂₋₂ - 13.655012110337477x₁a₂₋₁b₁₋₁ + 21.40196808644169x₁a₂₋₁b₁₋₂ + 14.298506372054314x₁a₂₋₁b₂₋₂ - 39.29607546841794x₁a₁₋₂a₂₋₂ - 14.298506372054314x₁a₁₋₂b₁₋₁ - 21.40196808644169x₁a₁₋₂b₂₋₁ + 14.942000633771151x₁a₁₋₂b₂₋₂ - 31.211187648717885x₁a₂₋₂b₁₋₁ - 14.298506372054314x₁a₂₋₂b₂₋₁ - 14.942000633771151x₁a₂₋₂b₁₋₂ - 31.672570226606396x₁b₁₋₁b₂₋₁ + 35.48432284751215x₁b₁₋₁b₁₋₂ - 21.12133873894453x₁b₂₋₁b₁₋₂ + 35.48432284751215x₁b₂₋₁b₂₋₂ - 39.29607546841794x₁b₁₋₂b₂₋₂ + 31.672570226606396x₂a₁₋₁a₂₋₁ - 35.48432284751215x₂a₁₋₁a₁₋₂ - 13.655012110337477x₂a₁₋₁b₂₋₁ - 14.298506372054314x₂a₁₋₁b₁₋₂ - 31.211187648717885x₂a₁₋₁b₂₋₂ + 21.12133873894453x₂a₂₋₁a₁₋₂ - 35.48432284751215x₂a₂₋₁a₂₋₂ + 13.655012110337477x₂a₂₋₁b₁₋₁ - 21.40196808644169x₂a₂₋₁b₁₋₂ - 14.298506372054314x₂a₂₋₁b₂₋₂ + 39.29607546841794x₂a₁₋₂a₂₋₂ + 14.298506372054314x₂a₁₋₂b₁₋₁ + 21.40196808644169x₂a₁₋₂b₂₋₁ - 14.942000633771151x₂a₁₋₂b₂₋₂ + 31.211187648717885x₂a₂₋₂b₁₋₁ + 14.298506372054314x₂a₂₋₂b₂₋₁ + 14.942000633771151x₂a₂₋₂b₁₋₂ + 31.672570226606396x₂b₁₋₁b₂₋₁ - 35.48432284751215x₂b₁₋₁b₁₋₂ + 21.12133873894453x₂b₂₋₁b₁₋₂ - 35.48432284751215x₂b₂₋₁b₂₋₂ + 39.29607546841794x₂b₁₋₂b₂₋₂ - 3.811752620905767x₃a₁₋₁² + 21.12133873894453x₃a₁₋₁a₁₋₂ + 7.623505241811534x₃a₁₋₁a₂₋₂ + 5.907540200615565x₃a₁₋₁b₂₋₁ - 37.833827748214816x₃a₁₋₁b₁₋₂ + 1.2869885234336684x₃a₁₋₁b₂₋₂ - 67.15689307411856x₃a₂₋₁² - 7.623505241811534x₃a₂₋₁a₁₋₂ - 21.12133873894453x₃a₂₋₁a₂₋₂ - 5.907540200615565x₃a₂₋₁b₁₋₁ - 1.2869885234336684x₃a₂₋₁b₁₋₂ + 67.39248372210432x₃a₂₋₁b₂₋₂ + 74.78039831593009x₃a₁₋₂² + 37.833827748214816x₃a₁₋₂b₁₋₁ + 1.2869885234336684x₃a₁₋₂b₂₋₁ + 23.651115773273947x₃a₁₋₂b₂₋₂ - 3.811752620905767x₃a₂₋₂² - 1.2869885234336684x₃a₂₋₂b₁₋₁ - 67.39248372210432x₃a₂₋₂b₂₋₁ - 23.651115773273947x₃a₂₋₂b₁₋₂ - 3.811752620905767x₃b₁₋₁² + 21.12133873894453x₃b₁₋₁b₁₋₂ + 7.623505241811534x₃b₁₋₁b₂₋₂ - 67.15689307411856x₃b₂₋₁² - 7.623505241811534x₃b₂₋₁b₁₋₂ - 21.12133873894453x₃b₂₋₁b₂₋₂ + 74.78039831593009x₃b₁₋₂² - 3.811752620905767x₃b₂₋₂² - 0.6434942617168342x₄a₁₋₁² + 5.907540200615565x₄a₁₋₁a₂₋₁ - 4.97010842466858x₄a₁₋₁a₁₋₂ + 1.2869885234336684x₄a₁₋₁a₂₋₂ - 21.12133873894453x₄a₁₋₁b₁₋₂ - 7.623505241811534x₄a₁₋₁b₂₋₂ - 27.95351848239179x₄a₂₋₁² + 1.2869885234336684x₄a₂₋₁a₁₋₂ - 24.58854754922094x₄a₂₋₁a₂₋₂ - 7.623505241811534x₄a₂₋₁b₁₋₂ + 21.12133873894453x₄a₂₋₁b₂₋₂ + 29.24050700582546x₄a₁₋₂² + 23.651115773273947x₄a₁₋₂a₂₋₂ + 21.12133873894453x₄a₁₋₂b₁₋₁ + 7.623505241811534x₄a₁₋₂b₂₋₁ - 0.6434942617168342x₄a₂₋₂² + 7.623505241811534x₄a₂₋₂b₁₋₁ - 21.12133873894453x₄a₂₋₂b₂₋₁ - 0.6434942617168342x₄b₁₋₁² + 5.907540200615565x₄b₁₋₁b₂₋₁ - 4.97010842466858x₄b₁₋₁b₁₋₂ + 1.2869885234336684x₄b₁₋₁b₂₋₂ - 27.95351848239179x₄b₂₋₁² + 1.2869885234336684x₄b₂₋₁b₁₋₂ - 24.58854754922094x₄b₂₋₁b₂₋₂ + 29.24050700582546x₄b₁₋₂² + 23.651115773273947x₄b₁₋₂b₂₋₂ - 0.6434942617168342x₄b₂₋₂² + 15.605593824358943x₁² - 31.211187648717885x₁x₂ + 1.2869885234336684x₁x₃ - 7.623505241811534x₁x₄ + 15.605593824358943x₂² - 1.2869885234336684x₂x₃ + 7.623505241811534x₂x₄ + 61.484943521488795x₃² + 42.24267747788906x₃x₄ + 18.681007348605384x₄², UInt8[0x00 0x00 … 0x00 0x00; 0x00 0x00 … 0x00 0x00; … ; 0x00 0x00 … 0x00 0x00; 0x00 0x00 … 0x00 0x00], [3.9013984560897357, -6.8275060551687385, 7.149253186027157, -15.605593824358943, -15.836285113303198, -17.742161423756077, 27.631079865289387, -31.909351963306776, 20.804265296364633, 15.836285113303198  …  -31.211187648717885, 1.2869885234336684, -7.623505241811534, 15.605593824358943, -1.2869885234336684, 7.623505241811534, 61.484943521488795, 42.24267747788906, 18.681007348605384, 0.0], UInt8[0x00 0x01 … 0x00 0x00; 0x00 0x00 … 0x00 0x00; … ; 0x00 0x00 … 0x01 0x00; 0x00 0x00 … 0x01 0x02], UInt8[0x00 0x00 … 0x01 0x02; 0x00 0x00 … 0x01 0x00; … ; 0x00 0x00 … 0x00 0x00; 0x00 0x02 … 0x00 0x00], [[1, 2, 3, 4, 5, 14, 15, 16, 17, 18  …  40, 41, 42, 43, 44, 45, 46, 47, 48, 49], [6, 7, 8, 9, 10, 11, 12, 13]], [41, 8], [1, 1], nothing, \"Mosek\", 0.0001, 1))"
      ]
     },
     "execution_count": 15,
     "metadata": {},
     "output_type": "execute_result"
    }
   ],
   "source": [
    "opt3,sol3,data3 = tssos_higher!(data2)"
   ]
  },
  {
   "cell_type": "code",
   "execution_count": 9,
   "id": "fd59c9f7",
   "metadata": {},
   "outputs": [
    {
     "name": "stdout",
     "output_type": "stream",
     "text": [
      "Noise levels\n",
      "[\"0.0\", \"0.01\", \"0.02\", \"0.04\", \"0.05\"]\n"
     ]
    }
   ],
   "source": [
    "println(\"Noise levels\")\n",
    "\n",
    "h5open(file_name, \"r\") do file\n",
    "        println(keys(file))\n",
    "    end"
   ]
  },
  {
   "cell_type": "code",
   "execution_count": 10,
   "id": "968d067d",
   "metadata": {},
   "outputs": [
    {
     "ename": "LoadError",
     "evalue": "KeyError: key \"0.05\" not found",
     "output_type": "error",
     "traceback": [
      "KeyError: key \"0.05\" not found",
      "",
      "Stacktrace:",
      " [1] getindex(parent::HDF5.File, path::String; pv::Base.Pairs{Symbol, Union{}, Tuple{}, NamedTuple{(), Tuple{}}})",
      "   @ HDF5 C:\\Users\\Zakhar\\.julia\\packages\\HDF5\\I9NLZ\\src\\HDF5.jl:536",
      " [2] getindex(parent::HDF5.File, path::String)",
      "   @ HDF5 C:\\Users\\Zakhar\\.julia\\packages\\HDF5\\I9NLZ\\src\\HDF5.jl:536",
      " [3] (::var\"#1#2\"{String})(file::HDF5.File)",
      "   @ Main .\\In[5]:3",
      " [4] h5open(::var\"#1#2\"{String}, ::String, ::Vararg{String}; swmr::Bool, pv::Base.Pairs{Symbol, Union{}, Tuple{}, NamedTuple{(), Tuple{}}})",
      "   @ HDF5 C:\\Users\\Zakhar\\.julia\\packages\\HDF5\\I9NLZ\\src\\HDF5.jl:303",
      " [5] h5open",
      "   @ C:\\Users\\Zakhar\\.julia\\packages\\HDF5\\I9NLZ\\src\\HDF5.jl:301 [inlined]",
      " [6] get_seeds(file_name::String, w::String)",
      "   @ Main .\\In[5]:2",
      " [7] top-level scope",
      "   @ In[10]:2",
      " [8] eval",
      "   @ .\\boot.jl:373 [inlined]",
      " [9] include_string(mapexpr::typeof(REPL.softscope), mod::Module, code::String, filename::String)",
      "   @ Base .\\loading.jl:1196"
     ]
    }
   ],
   "source": [
    "w = \"0.05\"\n",
    "seeds = get_seeds(output_file_name, w)\n",
    "println(seeds)"
   ]
  },
  {
   "cell_type": "code",
   "execution_count": 11,
   "id": "d0730c9e",
   "metadata": {},
   "outputs": [
    {
     "ename": "LoadError",
     "evalue": "UndefVarError: seeds not defined",
     "output_type": "error",
     "traceback": [
      "UndefVarError: seeds not defined",
      "",
      "Stacktrace:",
      " [1] top-level scope",
      "   @ In[11]:1",
      " [2] eval",
      "   @ .\\boot.jl:373 [inlined]",
      " [3] include_string(mapexpr::typeof(REPL.softscope), mod::Module, code::String, filename::String)",
      "   @ Base .\\loading.jl:1196"
     ]
    }
   ],
   "source": [
    "seed = seeds[3]\n",
    "\n",
    "println(\"For w=\"*w*\" and seed=\"*seed)\n",
    "\n",
    "h5open(output_file_name, \"r\") do file\n",
    "       println(\"Opminum:\")\n",
    "       println(read(file[w][seed][\"opt\"]))\n",
    "       println(\"Inter_num:\")\n",
    "       println(read(file[w][seed][\"iter\"]))\n",
    "    end"
   ]
  },
  {
   "cell_type": "code",
   "execution_count": null,
   "id": "e5c1911e",
   "metadata": {},
   "outputs": [],
   "source": []
  },
  {
   "cell_type": "code",
   "execution_count": null,
   "id": "88e2297a",
   "metadata": {},
   "outputs": [],
   "source": []
  }
 ],
 "metadata": {
  "kernelspec": {
   "display_name": "Julia 1.7.2",
   "language": "julia",
   "name": "julia-1.7"
  },
  "language_info": {
   "file_extension": ".jl",
   "mimetype": "application/julia",
   "name": "julia",
   "version": "1.7.2"
  }
 },
 "nbformat": 4,
 "nbformat_minor": 5
}
