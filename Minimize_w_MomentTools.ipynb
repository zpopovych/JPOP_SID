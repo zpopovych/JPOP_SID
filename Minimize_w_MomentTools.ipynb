{
 "cells": [
  {
   "cell_type": "markdown",
   "id": "7bcd9405",
   "metadata": {},
   "source": [
    "### Minimization of polynomial objective (with MomentTools)\n",
    "Toy and Pade objective sample"
   ]
  },
  {
   "cell_type": "code",
   "execution_count": 13,
   "id": "d7b41351",
   "metadata": {},
   "outputs": [],
   "source": [
    "using LinearAlgebra\n",
    "using QuantumOptics\n",
    "using DynamicPolynomials, MomentTools\n",
    "using MosekTools\n",
    "using Random\n",
    "using JuMP"
   ]
  },
  {
   "cell_type": "markdown",
   "id": "c7d7dc95",
   "metadata": {},
   "source": [
    "Consider minimizing toy example"
   ]
  },
  {
   "cell_type": "code",
   "execution_count": 14,
   "id": "405fa4eb",
   "metadata": {},
   "outputs": [
    {
     "data": {
      "text/plain": [
       "6"
      ]
     },
     "execution_count": 14,
     "metadata": {},
     "output_type": "execute_result"
    }
   ],
   "source": [
    "@polyvar x[1:3]\n",
    "\n",
    "f = (x[1]+11)^2 + (x[2]+22)^4 + (x[3]+33)^6 + 44\n",
    "maxdegree(f)"
   ]
  },
  {
   "cell_type": "code",
   "execution_count": 15,
   "id": "ccc97fe1",
   "metadata": {},
   "outputs": [
    {
     "data": {
      "text/plain": [
       "(-1.4142135603396664, A JuMP Model\n",
       "Minimization problem with:\n",
       "Variables: 28\n",
       "Objective function type: AffExpr\n",
       "`AffExpr`-in-`MathOptInterface.EqualTo{Float64}`: 22 constraints\n",
       "`Vector{AffExpr}`-in-`MathOptInterface.PositiveSemidefiniteConeTriangle`: 3 constraints\n",
       "Model mode: AUTOMATIC\n",
       "CachingOptimizer state: NO_OPTIMIZER\n",
       "Solver name: No optimizer attached.\n",
       "Names registered in the model: basis, degree, dual, index, moments, monomials, nu, type, variables, y)"
      ]
     },
     "execution_count": 15,
     "metadata": {},
     "output_type": "execute_result"
    }
   ],
   "source": [
    "using MomentTools\n",
    "\n",
    "optimizer = optimizer_with_attributes(Mosek.Optimizer, \"QUIET\" => true)\n",
    "\n",
    "X  = @polyvar x1 x2\n",
    "e1 = x1^2-2\n",
    "e2 = (x2^2-3)*(x1*x2-2)\n",
    "p1 = x1\n",
    "p2 = 2-x2\n",
    "v, M = minimize(-x1, [e1, e2], [p1, p2], X, 3, optimizer)"
   ]
  },
  {
   "cell_type": "code",
   "execution_count": 16,
   "id": "146e9cde",
   "metadata": {},
   "outputs": [
    {
     "data": {
      "text/plain": [
       "(-1.4142135433379925, A JuMP Model\n",
       "Minimization problem with:\n",
       "Variables: 28\n",
       "Objective function type: AffExpr\n",
       "`AffExpr`-in-`MathOptInterface.EqualTo{Float64}`: 16 constraints\n",
       "`Vector{AffExpr}`-in-`MathOptInterface.PositiveSemidefiniteConeTriangle`: 1 constraint\n",
       "Model mode: AUTOMATIC\n",
       "CachingOptimizer state: NO_OPTIMIZER\n",
       "Solver name: No optimizer attached.\n",
       "Names registered in the model: basis, degree, dual, index, moments, monomials, nu, type, variables, y)"
      ]
     },
     "execution_count": 16,
     "metadata": {},
     "output_type": "execute_result"
    }
   ],
   "source": [
    "typeof(e1)\n",
    "v, M = minimize(-x1, [e1], [], X, 3, optimizer)"
   ]
  },
  {
   "cell_type": "code",
   "execution_count": 17,
   "id": "b422bc9d",
   "metadata": {},
   "outputs": [
    {
     "data": {
      "text/plain": [
       "Tuple{PolyVar{true}, PolyVar{true}}"
      ]
     },
     "execution_count": 17,
     "metadata": {},
     "output_type": "execute_result"
    }
   ],
   "source": [
    "typeof(X)"
   ]
  },
  {
   "cell_type": "code",
   "execution_count": 18,
   "id": "34438861",
   "metadata": {},
   "outputs": [],
   "source": [
    "using TSSOS"
   ]
  },
  {
   "cell_type": "code",
   "execution_count": 21,
   "id": "33169523",
   "metadata": {},
   "outputs": [
    {
     "name": "stdout",
     "output_type": "stream",
     "text": [
      "************************TSSOS************************\n",
      "TSSOS is launching...\n",
      "Starting to compute the block structure...\n",
      "------------------------------------------------------\n",
      "The sizes of PSD blocks:\n",
      "[7, 1]\n",
      "[1, 1]\n",
      "------------------------------------------------------\n",
      "Obtained the block structure. The maximal size of blocks is 7.\n",
      "Assembling the SDP...\n",
      "There are 24 affine constraints.\n",
      "Solving the SDP...\n",
      "MOSEK warning 52: A numerically large lower bound value  1.3e+09 is specified for constraint '' (0).\n",
      "MOSEK warning 53: A numerically large upper bound value  1.3e+09 is specified for constraint '' (0).\n",
      "MOSEK warning 52: A numerically large lower bound value  2.3e+08 is specified for constraint '' (1).\n",
      "MOSEK warning 53: A numerically large upper bound value  2.3e+08 is specified for constraint '' (1).\n",
      "Problem\n",
      "  Name                   :                 \n",
      "  Objective sense        : max             \n",
      "  Type                   : CONIC (conic optimization problem)\n",
      "  Constraints            : 24              \n",
      "  Cones                  : 0               \n",
      "  Scalar variables       : 2               \n",
      "  Matrix variables       : 2               \n",
      "  Integer variables      : 0               \n",
      "\n",
      "Optimizer started.\n",
      "Presolve started.\n",
      "Linear dependency checker started.\n",
      "Linear dependency checker terminated.\n",
      "Eliminator started.\n",
      "Freed constraints in eliminator : 0\n",
      "Eliminator terminated.\n",
      "Eliminator - tries                  : 1                 time                   : 0.00            \n",
      "Lin. dep.  - tries                  : 1                 time                   : 0.00            \n",
      "Lin. dep.  - number                 : 0               \n",
      "Presolve terminated. Time: 0.00    \n",
      "Problem\n",
      "  Name                   :                 \n",
      "  Objective sense        : max             \n",
      "  Type                   : CONIC (conic optimization problem)\n",
      "  Constraints            : 24              \n",
      "  Cones                  : 0               \n",
      "  Scalar variables       : 2               \n",
      "  Matrix variables       : 2               \n",
      "  Integer variables      : 0               \n",
      "\n",
      "Optimizer  - threads                : 4               \n",
      "Optimizer  - solved problem         : the primal      \n",
      "Optimizer  - Constraints            : 24\n",
      "Optimizer  - Cones                  : 1\n",
      "Optimizer  - Scalar variables       : 3                 conic                  : 2               \n",
      "Optimizer  - Semi-definite variables: 2                 scalarized             : 38              \n",
      "Factor     - setup time             : 0.00              dense det. time        : 0.00            \n",
      "Factor     - ML order time          : 0.00              GP order time          : 0.00            \n",
      "Factor     - nonzeros before factor : 300               after factor           : 300             \n",
      "Factor     - dense dim.             : 0                 flops                  : 8.10e+03        \n",
      "ITE PFEAS    DFEAS    GFEAS    PRSTATUS   POBJ              DOBJ              MU       TIME  \n",
      "0   1.3e+09  1.0e+00  1.0e+00  0.00e+00   0.000000000e+00   0.000000000e+00   1.0e+00  0.00  \n",
      "1   2.6e+08  2.0e-01  4.5e-01  -1.00e+00  -7.096480525e-02  -4.111448318e+00  2.0e-01  0.02  \n",
      "2   5.9e+07  4.6e-02  1.8e+00  -1.00e+00  -9.112815961e-01  -3.117077628e+01  4.6e-02  0.02  \n",
      "3   1.5e+07  1.1e-02  5.5e-01  -1.00e+00  -6.033106940e+00  -8.875711122e+01  1.1e-02  0.02  \n",
      "4   4.2e+06  3.2e-03  2.0e-01  -1.00e+00  -5.151271265e+01  -3.574024448e+02  3.2e-03  0.02  \n",
      "5   1.0e+06  7.8e-04  6.9e-02  -1.00e+00  -2.406846219e+02  -1.527626747e+03  7.8e-04  0.02  \n",
      "6   2.1e+05  1.6e-04  2.8e-02  -1.00e+00  -2.483893014e+03  -8.589671111e+03  1.6e-04  0.02  \n",
      "7   4.5e+04  3.5e-05  1.2e-02  -1.00e+00  -1.601988517e+04  -4.483865910e+04  3.5e-05  0.02  \n",
      "8   1.1e+04  8.3e-06  6.1e-03  -1.00e+00  -1.250413470e+05  -2.454512884e+05  8.3e-06  0.02  \n",
      "9   3.1e+03  2.4e-06  3.3e-03  -9.99e-01  -4.678425551e+05  -8.868505650e+05  2.4e-06  0.02  \n",
      "10  8.7e+02  6.7e-07  1.7e-03  -9.98e-01  -2.825158941e+06  -4.304834547e+06  6.7e-07  0.02  \n",
      "11  2.0e+02  1.5e-07  8.2e-04  -9.95e-01  -8.801062093e+06  -1.516700494e+07  1.5e-07  0.02  \n",
      "12  3.9e+01  3.0e-08  3.5e-04  -9.79e-01  -6.851920307e+07  -9.940635059e+07  3.0e-08  0.02  \n",
      "13  1.0e+01  8.0e-09  1.6e-04  -8.82e-01  -1.815358493e+08  -2.688320254e+08  8.0e-09  0.02  \n",
      "14  4.4e+00  3.4e-09  4.0e-05  -9.68e-02  -8.714449743e+07  -1.177447337e+08  3.4e-09  0.02  \n",
      "15  7.9e-01  6.1e-10  3.3e-06  5.70e-01   -2.130958695e+07  -2.796913464e+07  6.1e-10  0.02  \n",
      "16  2.6e-01  2.0e-10  7.3e-07  8.19e-01   -9.299254585e+06  -1.229999383e+07  2.0e-10  0.03  \n",
      "17  9.5e-02  7.4e-11  1.7e-07  9.71e-01   -1.191157152e+06  -2.369403325e+06  7.4e-11  0.03  \n",
      "18  3.5e-02  2.7e-11  4.3e-08  8.76e-01   -1.416254357e+06  -1.957769427e+06  2.7e-11  0.03  \n",
      "19  8.5e-03  6.6e-12  5.0e-09  9.90e-01   -3.024080455e+04  -1.587912697e+05  6.6e-12  0.03  \n",
      "20  2.0e-03  1.6e-12  6.5e-10  9.08e-01   -4.115416749e+04  -7.892753540e+04  1.6e-12  0.03  \n",
      "21  5.2e-04  1.3e-11  8.5e-11  9.72e-01   3.492901654e+03   -6.515878492e+03  4.0e-13  0.03  \n",
      "22  1.6e-04  1.3e-11  1.6e-11  9.09e-01   -2.262204178e+03  -5.886858084e+03  1.2e-13  0.05  \n",
      "23  4.2e-05  6.9e-12  1.6e-12  9.84e-01   1.221172026e+03   2.396255427e+02   3.2e-14  0.05  \n",
      "24  1.2e-05  2.1e-11  3.2e-13  9.23e-01   -4.383866724e+01  -3.805689454e+02  9.7e-15  0.05  \n",
      "25  3.0e-06  7.1e-11  4.9e-14  9.92e-01   1.473113595e+02   6.698566113e+01   2.3e-15  0.05  \n",
      "26  7.8e-07  5.9e-10  3.8e-14  9.58e-01   4.314051044e+01   2.028541139e+01   6.0e-16  0.05  \n",
      "27  2.1e-07  7.3e-12  5.5e-14  9.89e-01   5.247718524e+01   4.622743424e+01   1.6e-16  0.05  \n",
      "28  4.9e-08  1.2e-08  1.1e-14  9.88e-01   4.358292707e+01   4.176658260e+01   4.7e-17  0.05  \n",
      "29  3.1e-08  7.0e-08  4.5e-15  9.96e-01   4.466431806e+01   4.418335839e+01   1.2e-17  0.05  \n",
      "30  7.7e-09  3.1e-08  3.2e-15  1.01e+00   4.461995652e+01   4.450244642e+01   3.2e-18  0.06  \n",
      "31  6.0e-08  4.4e-07  5.3e-15  9.98e-01   4.444725889e+01   4.443070692e+01   4.9e-19  0.06  \n",
      "32  1.9e-08  5.4e-06  1.2e-15  1.00e+00   4.444782052e+01   4.444407484e+01   1.1e-19  0.06  \n",
      "33  3.2e-08  3.3e-05  1.2e-16  1.00e+00   4.444341778e+01   4.444233234e+01   3.3e-20  0.06  \n",
      "34  6.4e-08  3.9e-06  3.0e-16  1.00e+00   4.444339241e+01   4.444302856e+01   1.1e-20  0.06  \n",
      "35  6.4e-08  3.9e-06  3.0e-16  1.00e+00   4.444339241e+01   4.444302856e+01   1.1e-20  0.06  \n",
      "36  4.4e-08  1.1e-04  1.3e-16  1.00e+00   4.444259746e+01   4.444255190e+01   1.5e-21  0.06  \n",
      "37  4.3e-08  8.9e-05  3.0e-17  1.00e+00   4.444250228e+01   4.444245299e+01   1.5e-21  0.08  \n",
      "38  3.0e-08  5.6e-03  4.3e-17  1.00e+00   4.444245242e+01   4.444244322e+01   1.8e-22  0.08  \n",
      "39  3.0e-08  5.5e-03  7.5e-18  1.00e+00   4.444245203e+01   4.444244572e+01   1.8e-22  0.08  \n",
      "40  2.6e-09  7.3e-03  2.9e-17  1.00e+00   4.444242226e+01   4.444242925e+01   4.2e-23  0.08  \n",
      "Optimizer terminated. Time: 0.09    \n",
      "\n",
      "SDP solving time: 0.1140919 seconds.\n",
      "termination status: SLOW_PROGRESS\n",
      "solution status: FEASIBLE_POINT\n",
      "optimum = 44.44242226298637\n",
      "\n",
      "******************************************************************************\n",
      "This program contains Ipopt, a library for large-scale nonlinear optimization.\n",
      " Ipopt is released as open source code under the Eclipse Public License (EPL).\n",
      "         For more information visit https://github.com/coin-or/Ipopt\n",
      "******************************************************************************\n",
      "\n",
      "Found a local optimal solution giving an upper bound: 43.99999809265137 and a relative optimality gap: 0.010055095216217594.\n"
     ]
    },
    {
     "data": {
      "text/plain": [
       "(44.44242226298637, [-11.0, -22.001112922329437, -32.96025042177619], TSSOS.upop_data(3, 0, PolyVar{true}[x₁, x₂, x₃], x₃⁶ + 198x₃⁵ + x₂⁴ + 16335x₃⁴ + 88x₂³ + 718740x₃³ + x₁² + 2904x₂² + 17788815x₃² + 22x₁ + 42592x₂ + 234812358x₃ + 1291702390, UInt8[0x00 0x00 … 0x00 0x00; 0x00 0x00 … 0x00 0x00; 0x06 0x05 … 0x01 0x00], [1, 198, 1, 16335, 88, 718740, 1, 2904, 17788815, 22, 42592, 234812358, 1291702390], UInt8[0x00 0x01 … 0x00 0x00; 0x00 0x00 … 0x00 0x00; 0x00 0x00 … 0x02 0x03], UInt8[0x00 0x00 … 0x01 0x02; 0x00 0x00 … 0x02 0x00; 0x00 0x01 … 0x00 0x00], [[1, 2, 3, 4, 5, 7, 8], [6]], [7, 1], [1, 1], nothing, \"Mosek\", 0.0001, 1))"
      ]
     },
     "execution_count": 21,
     "metadata": {},
     "output_type": "execute_result"
    }
   ],
   "source": [
    "opt,sol,data = tssos_first(f, variables(f), solution=true)"
   ]
  },
  {
   "cell_type": "code",
   "execution_count": 25,
   "id": "61fb38f2",
   "metadata": {},
   "outputs": [
    {
     "data": {
      "text/plain": [
       "3-element Vector{Float64}:\n",
       " -11.0\n",
       " -22.001112922329437\n",
       " -32.96025042177619"
      ]
     },
     "execution_count": 25,
     "metadata": {},
     "output_type": "execute_result"
    }
   ],
   "source": [
    "sol"
   ]
  },
  {
   "cell_type": "code",
   "execution_count": 26,
   "id": "fda305c8",
   "metadata": {},
   "outputs": [
    {
     "data": {
      "text/plain": [
       "3-element Vector{Float64}:\n",
       " 1.0\n",
       " 1.0\n",
       " 1.0"
      ]
     },
     "execution_count": 26,
     "metadata": {},
     "output_type": "execute_result"
    }
   ],
   "source": [
    "ones(length(variables(f)))"
   ]
  },
  {
   "cell_type": "code",
   "execution_count": 123,
   "id": "19734aff",
   "metadata": {},
   "outputs": [
    {
     "data": {
      "text/plain": [
       "44.1469108642975"
      ]
     },
     "execution_count": 123,
     "metadata": {},
     "output_type": "execute_result"
    }
   ],
   "source": [
    "opt"
   ]
  },
  {
   "cell_type": "code",
   "execution_count": 124,
   "id": "73b39932",
   "metadata": {},
   "outputs": [
    {
     "name": "stdout",
     "output_type": "stream",
     "text": [
      "Starting to compute the block structure...\n",
      "------------------------------------------------------\n",
      "The sizes of PSD blocks:\n",
      "[8]\n",
      "[1]\n",
      "------------------------------------------------------\n",
      "Obtained the block structure. The maximal size of blocks is 8.\n",
      "Assembling the SDP...\n",
      "There are 27 affine constraints.\n",
      "Solving the SDP...\n",
      "MOSEK warning 52: A numerically large lower bound value  1.3e+09 is specified for constraint '' (0).\n",
      "MOSEK warning 53: A numerically large upper bound value  1.3e+09 is specified for constraint '' (0).\n",
      "MOSEK warning 52: A numerically large lower bound value  2.3e+08 is specified for constraint '' (1).\n",
      "MOSEK warning 53: A numerically large upper bound value  2.3e+08 is specified for constraint '' (1).\n",
      "Problem\n",
      "  Name                   :                 \n",
      "  Objective sense        : max             \n",
      "  Type                   : CONIC (conic optimization problem)\n",
      "  Constraints            : 27              \n",
      "  Cones                  : 0               \n",
      "  Scalar variables       : 1               \n",
      "  Matrix variables       : 1               \n",
      "  Integer variables      : 0               \n",
      "\n",
      "Optimizer started.\n",
      "Presolve started.\n",
      "Linear dependency checker started.\n",
      "Linear dependency checker terminated.\n",
      "Eliminator started.\n",
      "Freed constraints in eliminator : 0\n",
      "Eliminator terminated.\n",
      "Eliminator - tries                  : 1                 time                   : 0.00            \n",
      "Lin. dep.  - tries                  : 1                 time                   : 0.00            \n",
      "Lin. dep.  - number                 : 0               \n",
      "Presolve terminated. Time: 0.00    \n",
      "Problem\n",
      "  Name                   :                 \n",
      "  Objective sense        : max             \n",
      "  Type                   : CONIC (conic optimization problem)\n",
      "  Constraints            : 27              \n",
      "  Cones                  : 0               \n",
      "  Scalar variables       : 1               \n",
      "  Matrix variables       : 1               \n",
      "  Integer variables      : 0               \n",
      "\n",
      "Optimizer  - threads                : 4               \n",
      "Optimizer  - solved problem         : the primal      \n",
      "Optimizer  - Constraints            : 27\n",
      "Optimizer  - Cones                  : 1\n",
      "Optimizer  - Scalar variables       : 2                 conic                  : 2               \n",
      "Optimizer  - Semi-definite variables: 1                 scalarized             : 36              \n",
      "Factor     - setup time             : 0.00              dense det. time        : 0.00            \n",
      "Factor     - ML order time          : 0.00              GP order time          : 0.00            \n",
      "Factor     - nonzeros before factor : 378               after factor           : 378             \n",
      "Factor     - dense dim.             : 0                 flops                  : 1.12e+04        \n",
      "ITE PFEAS    DFEAS    GFEAS    PRSTATUS   POBJ              DOBJ              MU       TIME  \n",
      "0   1.3e+09  1.0e+00  1.0e+00  0.00e+00   0.000000000e+00   0.000000000e+00   1.0e+00  0.00  \n",
      "1   2.0e+08  1.6e-01  4.0e-01  -1.00e+00  -9.491443881e-02  -5.468571645e+00  1.6e-01  0.03  \n",
      "2   3.5e+07  2.7e-02  1.6e-01  -1.00e+00  -8.909040276e-01  -3.664382564e+01  2.7e-02  0.03  \n",
      "3   7.6e+06  5.9e-03  7.7e-02  -1.00e+00  -7.618780260e+00  -1.771571855e+02  5.9e-03  0.03  \n",
      "4   1.9e+06  1.5e-03  1.5e-01  -1.00e+00  -4.739673972e+01  -7.161990545e+02  1.5e-03  0.03  \n",
      "5   5.0e+05  3.9e-04  9.9e-02  -1.00e+00  -2.638448487e+02  -2.830821248e+03  3.9e-04  0.03  \n",
      "6   1.6e+05  1.2e-04  5.7e-02  -1.00e+00  -1.320731001e+03  -9.505406865e+03  1.2e-04  0.03  \n",
      "7   2.0e+04  1.6e-05  2.1e-02  -1.00e+00  -1.399977283e+04  -7.835109286e+04  1.6e-05  0.03  \n",
      "8   3.8e+03  2.9e-06  8.9e-03  -1.00e+00  -1.217284221e+05  -4.614260930e+05  2.9e-06  0.03  \n",
      "9   8.5e+02  6.6e-07  4.2e-03  -9.99e-01  -8.801691285e+05  -2.392458706e+06  6.6e-07  0.03  \n",
      "10  1.5e+02  1.2e-07  1.8e-03  -9.95e-01  -4.533595444e+06  -1.276333707e+07  1.2e-07  0.03  \n",
      "11  3.0e+01  2.3e-08  7.5e-04  -9.74e-01  -3.104405423e+07  -7.037894447e+07  2.3e-08  0.03  \n",
      "12  6.8e+00  5.2e-09  2.8e-04  -8.26e-01  -7.771536738e+07  -1.831476934e+08  5.2e-09  0.03  \n",
      "13  1.7e+00  1.4e-09  4.3e-05  -6.79e-02  -4.694140664e+07  -8.354236214e+07  1.4e-09  0.03  \n",
      "14  3.3e-01  2.5e-10  3.9e-06  7.18e-01   -6.585475590e+06  -1.544110370e+07  2.5e-10  0.03  \n",
      "15  6.9e-02  5.3e-11  4.2e-07  8.66e-01   -1.300855661e+06  -3.521196653e+06  5.3e-11  0.03  \n",
      "16  1.7e-02  1.3e-11  5.1e-08  1.00e+00   2.293454837e+05   -3.025340782e+05  1.3e-11  0.03  \n",
      "17  4.6e-03  3.5e-12  7.5e-09  9.32e-01   -2.745083564e+04  -1.920730056e+05  3.5e-12  0.06  \n",
      "18  1.3e-03  9.8e-13  1.1e-09  1.01e+00   6.826581748e+04   2.264200749e+04   9.8e-13  0.06  \n",
      "19  2.6e-04  3.1e-13  1.2e-10  8.66e-01   3.959582496e+03   -9.652587506e+03  2.0e-13  0.06  \n",
      "20  5.9e-05  8.6e-12  1.4e-11  1.01e+00   4.709933894e+03   1.718548467e+03   4.6e-14  0.06  \n",
      "21  1.3e-05  5.2e-12  1.4e-12  9.29e-01   8.409129781e+02   5.275707520e+01   9.8e-15  0.06  \n",
      "22  3.2e-06  1.5e-11  4.8e-14  9.91e-01   3.924015400e+02   1.978965087e+02   2.4e-15  0.06  \n",
      "23  2.6e-06  2.5e-10  1.9e-14  1.17e+00   -1.885977016e+01  -1.001166855e+02  1.6e-15  0.06  \n",
      "24  1.3e-06  5.9e-10  6.3e-14  8.87e-01   -1.272585020e+01  -5.403195436e+01  7.7e-16  0.06  \n",
      "25  3.1e-07  1.9e-09  1.6e-14  1.02e+00   4.182632290e+01   3.221987910e+01   1.9e-16  0.06  \n",
      "26  5.2e-08  2.5e-08  1.2e-15  9.93e-01   4.133151734e+01   3.962448846e+01   3.5e-17  0.06  \n",
      "27  1.2e-08  1.9e-07  1.1e-14  9.98e-01   4.365557231e+01   4.328984567e+01   7.5e-18  0.06  \n",
      "28  4.4e-08  5.8e-07  3.1e-15  1.00e+00   4.392395878e+01   4.384114502e+01   1.8e-18  0.06  \n",
      "29  1.0e-08  5.7e-06  2.9e-15  9.98e-01   4.399717767e+01   4.397573898e+01   4.6e-19  0.06  \n",
      "30  4.2e-08  2.5e-05  1.9e-15  1.00e+00   4.400351894e+01   4.399779792e+01   1.2e-19  0.06  \n",
      "31  2.6e-08  4.5e-05  3.9e-16  1.00e+00   4.401232997e+01   4.401105098e+01   2.8e-20  0.06  \n",
      "32  1.0e-08  3.8e-04  1.2e-16  1.00e+00   4.401399845e+01   4.401392686e+01   2.1e-21  0.06  \n",
      "33  1.0e-08  3.8e-04  1.7e-17  1.00e+00   4.401399751e+01   4.401392251e+01   2.1e-21  0.06  \n",
      "34  1.0e-08  3.8e-04  1.7e-17  1.00e+00   4.401399751e+01   4.401392251e+01   2.1e-21  0.08  \n",
      "35  7.9e-09  2.3e-04  1.7e-18  1.00e+00   4.401415913e+01   4.401415716e+01   7.4e-23  0.08  \n",
      "36  1.7e-08  5.9e-04  5.6e-18  1.00e+00   4.401416604e+01   4.401416552e+01   4.6e-23  0.08  \n",
      "Optimizer terminated. Time: 0.08    \n",
      "\n",
      "SDP solving time: 0.1037653 seconds.\n",
      "termination status: SLOW_PROGRESS\n",
      "solution status: FEASIBLE_POINT\n",
      "optimum = 44.0141660429721\n"
     ]
    },
    {
     "data": {
      "text/plain": [
       "(44.0141660429721, nothing, TSSOS.upop_data(3, 0, PolyVar{true}[x₁, x₂, x₃], x₃⁶ + 198x₃⁵ + x₂⁴ + 16335x₃⁴ + 88x₂³ + 718740x₃³ + x₁² + 2904x₂² + 17788815x₃² + 22x₁ + 42592x₂ + 234812358x₃ + 1291702390, UInt8[0x00 0x00 … 0x00 0x00; 0x00 0x00 … 0x00 0x00; 0x06 0x05 … 0x01 0x00], [1, 198, 1, 16335, 88, 718740, 1, 2904, 17788815, 22, 42592, 234812358, 1291702390], UInt8[0x00 0x01 … 0x00 0x00; 0x00 0x00 … 0x00 0x00; 0x00 0x00 … 0x02 0x03], UInt8[0x00 0x00 … 0x01 0x02; 0x00 0x00 … 0x02 0x00; 0x00 0x01 … 0x00 0x00], [[1, 2, 3, 4, 5, 6, 7, 8]], [8], [1], nothing, \"Mosek\", 0.0001, 1))"
      ]
     },
     "execution_count": 124,
     "metadata": {},
     "output_type": "execute_result"
    }
   ],
   "source": [
    "opt2,sol2,data2 = tssos_higher!(data)"
   ]
  },
  {
   "cell_type": "code",
   "execution_count": 125,
   "id": "a4b077dc",
   "metadata": {},
   "outputs": [
    {
     "name": "stdout",
     "output_type": "stream",
     "text": [
      "Starting to compute the block structure...\n",
      "No higher TSSOS hierarchy!\n"
     ]
    },
    {
     "data": {
      "text/plain": [
       "(nothing, nothing, TSSOS.upop_data(3, 0, PolyVar{true}[x₁, x₂, x₃], x₃⁶ + 198x₃⁵ + x₂⁴ + 16335x₃⁴ + 88x₂³ + 718740x₃³ + x₁² + 2904x₂² + 17788815x₃² + 22x₁ + 42592x₂ + 234812358x₃ + 1291702390, UInt8[0x00 0x00 … 0x00 0x00; 0x00 0x00 … 0x00 0x00; 0x06 0x05 … 0x01 0x00], [1, 198, 1, 16335, 88, 718740, 1, 2904, 17788815, 22, 42592, 234812358, 1291702390], UInt8[0x00 0x01 … 0x00 0x00; 0x00 0x00 … 0x00 0x00; 0x00 0x00 … 0x02 0x03], UInt8[0x00 0x00 … 0x01 0x02; 0x00 0x00 … 0x02 0x00; 0x00 0x01 … 0x00 0x00], [[1, 2, 3, 4, 5, 6, 7, 8]], [8], [1], nothing, \"Mosek\", 0.0001, 1))"
      ]
     },
     "execution_count": 125,
     "metadata": {},
     "output_type": "execute_result"
    }
   ],
   "source": [
    "opt3,sol3,data3 = tssos_higher!(data2)"
   ]
  },
  {
   "cell_type": "markdown",
   "id": "eb727d67",
   "metadata": {},
   "source": [
    "Lets use JuMP.optimizer_with_attributes function from the JuMP.jl package to group an optimizer constructor with the list of attributes <br>\n",
    "https://jump.dev/JuMP.jl/stable/reference/models/#JuMP.optimizer_with_attributes"
   ]
  },
  {
   "cell_type": "code",
   "execution_count": 113,
   "id": "8686efed",
   "metadata": {},
   "outputs": [
    {
     "data": {
      "text/plain": [
       "MathOptInterface.OptimizerWithAttributes(Mosek.Optimizer, Pair{MathOptInterface.AbstractOptimizerAttribute, Any}[MathOptInterface.RawParameter(\"QUIET\") => true])"
      ]
     },
     "execution_count": 113,
     "metadata": {},
     "output_type": "execute_result"
    }
   ],
   "source": [
    "using JuMP\n",
    "optimizer = optimizer_with_attributes(Mosek.Optimizer, \"QUIET\" => true)"
   ]
  },
  {
   "cell_type": "markdown",
   "id": "800ee74a",
   "metadata": {},
   "source": [
    "Now we can use MomentTools.minimize function <br>\n",
    "http://www-sop.inria.fr/members/Bernard.Mourrain/software/MomentTools/code/2.optimization.html#MomentTools.minimize"
   ]
  },
  {
   "cell_type": "code",
   "execution_count": 117,
   "id": "54bf34e7",
   "metadata": {},
   "outputs": [
    {
     "data": {
      "text/plain": [
       "(472.56147848917306, A JuMP Model\n",
       "Minimization problem with:\n",
       "Variables: 165\n",
       "Objective function type: AffExpr\n",
       "`AffExpr`-in-`MathOptInterface.EqualTo{Float64}`: 1 constraint\n",
       "`Vector{AffExpr}`-in-`MathOptInterface.PositiveSemidefiniteConeTriangle`: 1 constraint\n",
       "Model mode: AUTOMATIC\n",
       "CachingOptimizer state: NO_OPTIMIZER\n",
       "Solver name: No optimizer attached.\n",
       "Names registered in the model: basis, degree, dual, index, moments, monomials, nu, type, variables, y)"
      ]
     },
     "execution_count": 117,
     "metadata": {},
     "output_type": "execute_result"
    }
   ],
   "source": [
    "obj_min, M = minimize(f, [], [], variables(f), maxdegree(f) ÷ 2 + 1, optimizer)\n",
    "# obj_min, M = minimize(f, [], [], variables(f), 2, optimizer)\n",
    "# obj_min, M = minimize(f, [], [], variables(f), maxdegree(f), optimizer)"
   ]
  },
  {
   "cell_type": "code",
   "execution_count": 108,
   "id": "88a7cded",
   "metadata": {},
   "outputs": [
    {
     "data": {
      "text/plain": [
       "3-element Vector{PolyVar{true}}:\n",
       " x₁\n",
       " x₂\n",
       " x₃"
      ]
     },
     "execution_count": 108,
     "metadata": {},
     "output_type": "execute_result"
    }
   ],
   "source": [
    "variables(f)"
   ]
  },
  {
   "cell_type": "code",
   "execution_count": 111,
   "id": "fcaf429b",
   "metadata": {},
   "outputs": [
    {
     "data": {
      "text/plain": [
       "333260"
      ]
     },
     "execution_count": 111,
     "metadata": {},
     "output_type": "execute_result"
    }
   ],
   "source": [
    "values = [1,2,3]\n",
    "f(values)"
   ]
  },
  {
   "cell_type": "code",
   "execution_count": 118,
   "id": "606c62c8",
   "metadata": {},
   "outputs": [
    {
     "data": {
      "text/plain": [
       "472.56147848917306"
      ]
     },
     "execution_count": 118,
     "metadata": {},
     "output_type": "execute_result"
    }
   ],
   "source": [
    "obj_min"
   ]
  },
  {
   "cell_type": "code",
   "execution_count": 119,
   "id": "5118d095",
   "metadata": {},
   "outputs": [
    {
     "data": {
      "text/plain": [
       "3×10 Matrix{Float64}:\n",
       " -149.188     43.6624    224.528    129.708   …   85.9859  133.282   154.891\n",
       " -161.913   -147.7      -175.12    -120.673      -62.2288  -70.1237   48.19\n",
       "  -61.1007    -8.67883   -18.8926   -13.2488     -22.8064  -15.2006  -18.2613"
      ]
     },
     "execution_count": 119,
     "metadata": {},
     "output_type": "execute_result"
    }
   ],
   "source": [
    "get_minimizers(M)"
   ]
  },
  {
   "cell_type": "markdown",
   "id": "f5b402be",
   "metadata": {},
   "source": [
    "Declare functions to constract Pade objective"
   ]
  },
  {
   "cell_type": "code",
   "execution_count": 84,
   "id": "17383908",
   "metadata": {},
   "outputs": [
    {
     "data": {
      "text/plain": [
       "pade_obj (generic function with 1 method)"
      ]
     },
     "execution_count": 84,
     "metadata": {},
     "output_type": "execute_result"
    }
   ],
   "source": [
    "function frobenius_norm2(m)\n",
    "    return tr(m * m')\n",
    "end\n",
    "\n",
    "function lindblad_rhs(rho, H, A)\n",
    "    \"\"\"\n",
    "    Right hand side of the Lindblad master equation\n",
    "    \"\"\"\n",
    "    return -1im * (H * rho - rho * H) + A * rho * A' - (A' * A  * rho + rho * A' * A) / 2\n",
    "    \n",
    "end\n",
    "\n",
    "function pade_obj(ρ, t, H, A)\n",
    "    \n",
    "    obj = 0\n",
    "    for i in 2:size(ρ,3)\n",
    "        obj += frobenius_norm2(\n",
    "            ρ[:, :, i] - ρ[:, :, 1] \n",
    "            - (t[i]-t[i-1])*lindblad_rhs((ρ[:, :, i]+ρ[:, :, i-1])/2, H, A)\n",
    "        )\n",
    "    end\n",
    "    obj = sum(real(coef) * mon for (coef, mon) in zip(coefficients(obj), monomials(obj)))\n",
    "    return obj\n",
    "end"
   ]
  },
  {
   "cell_type": "markdown",
   "id": "1d58a3f7",
   "metadata": {},
   "source": [
    "Construct sample Pade objective"
   ]
  },
  {
   "cell_type": "code",
   "execution_count": 85,
   "id": "99c5a8e6",
   "metadata": {},
   "outputs": [],
   "source": [
    "@polyvar x[1:4]\n",
    "H = [ 1.0 * x[1]              x[3] + im * x[4]\n",
    "      x[3] - im * x[4]        x[2]             ]\n",
    "\n",
    "@polyvar a[1:2, 1:2]\n",
    "@polyvar b[1:2, 1:2]\n",
    "A = 1.0 * a + im * b\n",
    "\n",
    "ρ1 = [.5 -im\n",
    "     +im  .5]\n",
    "ρ2 = [.6 0\n",
    "     0  .4]\n",
    "ρ3 = [.7 0\n",
    "     0  .3]\n",
    "ρ4 = [.9 0\n",
    "     0  .1]\n",
    "\n",
    "ρ = [ρ1;;; ρ2;;; ρ3;;; ρ4]\n",
    "t = [0.0, 0.1, 0.2, 0.3]\n",
    "\n",
    "obj = pade_obj(ρ, t, H, A);"
   ]
  },
  {
   "cell_type": "markdown",
   "id": "e368939d",
   "metadata": {},
   "source": [
    "Use JuMP.optimizer_with_attributes and MomentTools.minimize"
   ]
  },
  {
   "cell_type": "code",
   "execution_count": 87,
   "id": "7ff3b902",
   "metadata": {},
   "outputs": [
    {
     "data": {
      "text/plain": [
       "4"
      ]
     },
     "execution_count": 87,
     "metadata": {},
     "output_type": "execute_result"
    }
   ],
   "source": [
    "maxdegree(obj)"
   ]
  },
  {
   "cell_type": "code",
   "execution_count": 88,
   "id": "dcedb36c",
   "metadata": {},
   "outputs": [
    {
     "data": {
      "text/plain": [
       "12-element Vector{PolyVar{true}}:\n",
       " x₁\n",
       " x₂\n",
       " x₃\n",
       " x₄\n",
       " a₁₋₁\n",
       " a₂₋₁\n",
       " a₁₋₂\n",
       " a₂₋₂\n",
       " b₁₋₁\n",
       " b₂₋₁\n",
       " b₁₋₂\n",
       " b₂₋₂"
      ]
     },
     "execution_count": 88,
     "metadata": {},
     "output_type": "execute_result"
    }
   ],
   "source": [
    "variables(obj)"
   ]
  },
  {
   "cell_type": "code",
   "execution_count": 86,
   "id": "1f7ae69c",
   "metadata": {},
   "outputs": [
    {
     "data": {
      "text/plain": [
       "(1.139253199056551, A JuMP Model\n",
       "Minimization problem with:\n",
       "Variables: 1820\n",
       "Objective function type: AffExpr\n",
       "`AffExpr`-in-`MathOptInterface.EqualTo{Float64}`: 1 constraint\n",
       "`Vector{AffExpr}`-in-`MathOptInterface.PositiveSemidefiniteConeTriangle`: 1 constraint\n",
       "Model mode: AUTOMATIC\n",
       "CachingOptimizer state: NO_OPTIMIZER\n",
       "Solver name: No optimizer attached.\n",
       "Names registered in the model: basis, degree, dual, index, moments, monomials, nu, type, variables, y)"
      ]
     },
     "execution_count": 86,
     "metadata": {},
     "output_type": "execute_result"
    }
   ],
   "source": [
    "optimizer = optimizer_with_attributes(Mosek.Optimizer, \"QUIET\" => true)\n",
    "obj_min, M = minimize(obj, [], [], variables(obj), maxdegree(obj) ÷ 2, optimizer)"
   ]
  },
  {
   "cell_type": "code",
   "execution_count": 89,
   "id": "f6a515ef",
   "metadata": {},
   "outputs": [
    {
     "data": {
      "text/plain": [
       "12×9 Matrix{Float64}:\n",
       " -0.0125177  -0.0141248  -0.0195061  …  -0.127075    0.0229445   0.592919\n",
       " -0.0812818   0.0269903   0.0191686      0.1454     -0.0100024  -0.349966\n",
       "  0.0204933   0.929546   -0.0894346      0.653755    0.483383    0.534937\n",
       " -0.17416    -0.120408    0.0734679      0.0900822  -0.112165   -0.152447\n",
       "  0.225151    0.264898    0.261968      -0.638162   -0.292563    0.362057\n",
       " -0.73488    -0.698281   -0.162723   …   0.377071    0.7153      0.697751\n",
       " -1.1018     -1.03415    -0.846758       0.859905    1.06968     1.12374\n",
       " -0.031072   -0.15492    -0.0701788      0.069234    0.0841564   0.413034\n",
       " -2.09289    -1.53606    -0.541523       0.910868    1.82271     1.84462\n",
       " -0.0674014  -0.115075   -0.0946625      0.217008    0.106434    0.0139887\n",
       " -0.212415   -0.31651    -0.224247   …   0.369141    0.261193    0.03508\n",
       "  0.247247    0.681834    0.202107      -0.401952   -0.453256   -0.408745"
      ]
     },
     "execution_count": 89,
     "metadata": {},
     "output_type": "execute_result"
    }
   ],
   "source": [
    "get_minimizers(M)"
   ]
  },
  {
   "cell_type": "markdown",
   "id": "ddc726dc",
   "metadata": {},
   "source": [
    "Find best candidate"
   ]
  },
  {
   "cell_type": "code",
   "execution_count": 94,
   "id": "b868c42d",
   "metadata": {},
   "outputs": [
    {
     "data": {
      "text/plain": [
       "12-element Vector{Float64}:\n",
       "  0.1206574582022943\n",
       " -0.04056000217566395\n",
       "  0.13134071685642232\n",
       " -0.029286823549031917\n",
       "  0.936351124794301\n",
       "  0.6763173545717279\n",
       "  1.027429938345106\n",
       " -0.08358868585843786\n",
       "  1.8892249548920144\n",
       " -0.32102521462601935\n",
       " -0.4767135996224034\n",
       " -0.2696050720435906"
      ]
     },
     "execution_count": 94,
     "metadata": {},
     "output_type": "execute_result"
    }
   ],
   "source": [
    "r = real.(get_minimizers(M))\n",
    "obj_min_vals = [obj(r[:,i]) for i=1:size(r)[2]]\n",
    "min_x = r[:, argmin(obj_min_vals)]"
   ]
  },
  {
   "cell_type": "markdown",
   "id": "0b59b30d",
   "metadata": {},
   "source": [
    "Convert polyvar objective into the normal variable objective"
   ]
  },
  {
   "cell_type": "code",
   "execution_count": 95,
   "id": "be17528c",
   "metadata": {},
   "outputs": [],
   "source": [
    "using NLopt\n",
    "\n",
    "vars = variables(obj)\n",
    "\n",
    "function g(a...)\n",
    "    # Converting polynomial expression to function to be minimize\n",
    "    obj(vars => a)\n",
    "end\n",
    "    \n",
    "model = Model(NLopt.Optimizer)\n",
    "\n",
    "set_optimizer_attribute(model, \"algorithm\", :LD_MMA)\n",
    "\n",
    "#set_silent(model)\n",
    "@variable(model, y[1:length(vars)]);"
   ]
  },
  {
   "cell_type": "markdown",
   "id": "cb64bbc8",
   "metadata": {},
   "source": [
    "Set initial values to new variables using the best candidate minimizer:"
   ]
  },
  {
   "cell_type": "code",
   "execution_count": 97,
   "id": "16de96d1",
   "metadata": {},
   "outputs": [],
   "source": [
    "for (var, init_val) in zip(y, min_x)\n",
    "    set_start_value(var, init_val)\n",
    "end"
   ]
  },
  {
   "cell_type": "markdown",
   "id": "60d11b59",
   "metadata": {},
   "source": [
    "Perform local minimization"
   ]
  },
  {
   "cell_type": "code",
   "execution_count": 98,
   "id": "76054456",
   "metadata": {},
   "outputs": [
    {
     "data": {
      "text/plain": [
       "1.139253130837866"
      ]
     },
     "execution_count": 98,
     "metadata": {},
     "output_type": "execute_result"
    }
   ],
   "source": [
    "register(model, :g, length(y), g; autodiff = true)\n",
    "@NLobjective(model, Min, g(y...))\n",
    "JuMP.optimize!(model)\n",
    "solution = vars => map(value, y)\n",
    "objective_value(model)"
   ]
  },
  {
   "cell_type": "code",
   "execution_count": 99,
   "id": "5ffbc813",
   "metadata": {},
   "outputs": [
    {
     "data": {
      "text/plain": [
       "3.203473415661914"
      ]
     },
     "execution_count": 99,
     "metadata": {},
     "output_type": "execute_result"
    }
   ],
   "source": [
    "min(obj_min_vals...)"
   ]
  },
  {
   "cell_type": "markdown",
   "id": "3bb51f9e",
   "metadata": {},
   "source": [
    "Now we have the best minimizer"
   ]
  },
  {
   "cell_type": "code",
   "execution_count": 100,
   "id": "0c6a6f86",
   "metadata": {},
   "outputs": [
    {
     "data": {
      "text/plain": [
       "PolyVar{true}[x₁, x₂, x₃, x₄, a₁₋₁, a₂₋₁, a₁₋₂, a₂₋₂, b₁₋₁, b₂₋₁, b₁₋₂, b₂₋₂] => [0.07924254916569747, 0.0008549068609328754, 0.6164008440889793, -0.020447621364296214, 1.4625037536131977, 1.0885623518616947, 1.6286664463597507, -0.43159598149450695, 2.6250934409781355, -0.5954536993710784, -0.8871877800131419, -0.8388804236336037]"
      ]
     },
     "execution_count": 100,
     "metadata": {},
     "output_type": "execute_result"
    }
   ],
   "source": [
    "solution"
   ]
  },
  {
   "cell_type": "markdown",
   "id": "f08f73b2",
   "metadata": {},
   "source": [
    "First construct function to perform local minimization of objective"
   ]
  },
  {
   "cell_type": "code",
   "execution_count": 103,
   "id": "5c15a90a",
   "metadata": {},
   "outputs": [
    {
     "data": {
      "text/plain": [
       "minimize_local (generic function with 1 method)"
      ]
     },
     "execution_count": 103,
     "metadata": {},
     "output_type": "execute_result"
    }
   ],
   "source": [
    "using NLopt\n",
    "\n",
    "function minimize_local(obj, min_x) # polynomial objective, and guess x candidate\n",
    "    vars = variables(obj)\n",
    "\n",
    "    function g(a...)\n",
    "        # Converting polynomial expression to function to be minimize\n",
    "        obj(vars => a)\n",
    "    end\n",
    "    \n",
    "    model = Model(NLopt.Optimizer)\n",
    "\n",
    "    set_optimizer_attribute(model, \"algorithm\", :LD_MMA)\n",
    "    \n",
    "    #set_silent(model)\n",
    "    @variable(model, y[1:length(vars)]);\n",
    "    \n",
    "    for (var, init_val) in zip(y, min_x)\n",
    "        set_start_value(var, init_val)\n",
    "    end\n",
    "    \n",
    "    register(model, :g, length(y), g; autodiff = true)\n",
    "    @NLobjective(model, Min, g(y...))\n",
    "    JuMP.optimize!(model)\n",
    "    solution = vars => map(value, y)\n",
    "    \n",
    "    return model, solution\n",
    "end "
   ]
  },
  {
   "cell_type": "markdown",
   "id": "a5a848aa",
   "metadata": {},
   "source": [
    "Now construct single function to perform all the process of minimization of objective"
   ]
  },
  {
   "cell_type": "code",
   "execution_count": 105,
   "id": "1d82c4fc",
   "metadata": {},
   "outputs": [
    {
     "data": {
      "text/plain": [
       "minimize_global (generic function with 1 method)"
      ]
     },
     "execution_count": 105,
     "metadata": {},
     "output_type": "execute_result"
    }
   ],
   "source": [
    "function minimize_global(obj)\n",
    "    optimizer = optimizer_with_attributes(Mosek.Optimizer, \"QUIET\" => true)\n",
    "    obj_min, M = minimize(obj, [], [], variables(obj), maxdegree(obj) ÷ 2, optimizer)\n",
    "    \n",
    "    r = real.(get_minimizers(M))\n",
    "    obj_min_vals = [obj(r[:,i]) for i=1:size(r)[2]]\n",
    "    min_x = r[:, argmin(obj_min_vals)]\n",
    "    \n",
    "    model, solution = minimize_local(obj, min_x) \n",
    "    \n",
    "    return model, solution\n",
    "    \n",
    "end "
   ]
  },
  {
   "cell_type": "code",
   "execution_count": 106,
   "id": "267cad52",
   "metadata": {},
   "outputs": [
    {
     "data": {
      "text/plain": [
       "(A JuMP Model\n",
       "Minimization problem with:\n",
       "Variables: 12\n",
       "Objective function type: Nonlinear\n",
       "Model mode: AUTOMATIC\n",
       "CachingOptimizer state: ATTACHED_OPTIMIZER\n",
       "Solver name: NLopt\n",
       "Names registered in the model: y, PolyVar{true}[x₁, x₂, x₃, x₄, a₁₋₁, a₂₋₁, a₁₋₂, a₂₋₂, b₁₋₁, b₂₋₁, b₁₋₂, b₂₋₂] => [0.07924254916569747, 0.0008549068609328754, 0.6164008440889793, -0.020447621364296214, 1.4625037536131977, 1.0885623518616947, 1.6286664463597507, -0.43159598149450695, 2.6250934409781355, -0.5954536993710784, -0.8871877800131419, -0.8388804236336037])"
      ]
     },
     "execution_count": 106,
     "metadata": {},
     "output_type": "execute_result"
    }
   ],
   "source": [
    "model, solution = minimize_global(obj)"
   ]
  },
  {
   "cell_type": "code",
   "execution_count": 107,
   "id": "708ed235",
   "metadata": {},
   "outputs": [
    {
     "data": {
      "text/plain": [
       "PolyVar{true}[x₁, x₂, x₃, x₄, a₁₋₁, a₂₋₁, a₁₋₂, a₂₋₂, b₁₋₁, b₂₋₁, b₁₋₂, b₂₋₂] => [0.07924254916569747, 0.0008549068609328754, 0.6164008440889793, -0.020447621364296214, 1.4625037536131977, 1.0885623518616947, 1.6286664463597507, -0.43159598149450695, 2.6250934409781355, -0.5954536993710784, -0.8871877800131419, -0.8388804236336037]"
      ]
     },
     "execution_count": 107,
     "metadata": {},
     "output_type": "execute_result"
    }
   ],
   "source": [
    "solution"
   ]
  },
  {
   "cell_type": "code",
   "execution_count": null,
   "id": "5819bd7c",
   "metadata": {},
   "outputs": [],
   "source": []
  }
 ],
 "metadata": {
  "kernelspec": {
   "display_name": "Julia 1.7.2",
   "language": "julia",
   "name": "julia-1.7"
  },
  "language_info": {
   "file_extension": ".jl",
   "mimetype": "application/julia",
   "name": "julia",
   "version": "1.7.2"
  }
 },
 "nbformat": 4,
 "nbformat_minor": 5
}
