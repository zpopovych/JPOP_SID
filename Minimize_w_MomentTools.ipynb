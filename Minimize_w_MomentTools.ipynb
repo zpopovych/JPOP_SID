{
 "cells": [
  {
   "cell_type": "markdown",
   "id": "7bcd9405",
   "metadata": {},
   "source": [
    "### Minimization of polynomial objective (with MomentTools)\n",
    "Toy and Pade objective sample"
   ]
  },
  {
   "cell_type": "code",
   "execution_count": 6,
   "id": "d7b41351",
   "metadata": {},
   "outputs": [],
   "source": [
    "using LinearAlgebra\n",
    "using QuantumOptics\n",
    "using DynamicPolynomials, MomentTools\n",
    "using MosekTools\n",
    "using Random\n",
    "using JuMP"
   ]
  },
  {
   "cell_type": "markdown",
   "id": "0cdf6d5b",
   "metadata": {},
   "source": [
    "Consider minimizing toy example"
   ]
  },
  {
   "cell_type": "code",
   "execution_count": 74,
   "id": "405fa4eb",
   "metadata": {},
   "outputs": [
    {
     "data": {
      "text/plain": [
       "4"
      ]
     },
     "execution_count": 74,
     "metadata": {},
     "output_type": "execute_result"
    }
   ],
   "source": [
    "@polyvar x[1:3]\n",
    "\n",
    "f = (x[1]+11)^2 + (x[2]+22)^4 + (x[3]+33)^2 + 44\n",
    "maxdegree(f)"
   ]
  },
  {
   "cell_type": "markdown",
   "id": "10f2af7e",
   "metadata": {},
   "source": [
    "Lets use JuMP.optimizer_with_attributes function from the JuMP.jl package to group an optimizer constructor with the list of attributes <br>\n",
    "https://jump.dev/JuMP.jl/stable/reference/models/#JuMP.optimizer_with_attributes"
   ]
  },
  {
   "cell_type": "code",
   "execution_count": 75,
   "id": "12248c56",
   "metadata": {},
   "outputs": [
    {
     "data": {
      "text/plain": [
       "MathOptInterface.OptimizerWithAttributes(Mosek.Optimizer, Pair{MathOptInterface.AbstractOptimizerAttribute, Any}[MathOptInterface.RawParameter(\"QUIET\") => true])"
      ]
     },
     "execution_count": 75,
     "metadata": {},
     "output_type": "execute_result"
    }
   ],
   "source": [
    "using JuMP\n",
    "optimizer = optimizer_with_attributes(Mosek.Optimizer, \"QUIET\" => true)"
   ]
  },
  {
   "cell_type": "markdown",
   "id": "346377e5",
   "metadata": {},
   "source": [
    "Now we can use MomentTools.minimize function <br>\n",
    "http://www-sop.inria.fr/members/Bernard.Mourrain/software/MomentTools/code/2.optimization.html#MomentTools.minimize"
   ]
  },
  {
   "cell_type": "code",
   "execution_count": 77,
   "id": "0fef1775",
   "metadata": {},
   "outputs": [
    {
     "data": {
      "text/plain": [
       "(44.00000051722838, A JuMP Model\n",
       "Minimization problem with:\n",
       "Variables: 35\n",
       "Objective function type: AffExpr\n",
       "`AffExpr`-in-`MathOptInterface.EqualTo{Float64}`: 1 constraint\n",
       "`Vector{AffExpr}`-in-`MathOptInterface.PositiveSemidefiniteConeTriangle`: 1 constraint\n",
       "Model mode: AUTOMATIC\n",
       "CachingOptimizer state: NO_OPTIMIZER\n",
       "Solver name: No optimizer attached.\n",
       "Names registered in the model: basis, degree, dual, index, moments, monomials, nu, type, variables, y)"
      ]
     },
     "execution_count": 77,
     "metadata": {},
     "output_type": "execute_result"
    }
   ],
   "source": [
    "obj_min, M = minimize(f, [], [], variables(f), maxdegree(f) ÷ 2, optimizer)\n",
    "# obj_min, M = minimize(f, [], [], variables(f), 2, optimizer)\n",
    "# obj_min, M = minimize(f, [], [], variables(f), maxdegree(f), optimizer)"
   ]
  },
  {
   "cell_type": "code",
   "execution_count": 78,
   "id": "f9cda6ac",
   "metadata": {},
   "outputs": [
    {
     "data": {
      "text/plain": [
       "3-element Vector{PolyVar{true}}:\n",
       " x₁\n",
       " x₂\n",
       " x₃"
      ]
     },
     "execution_count": 78,
     "metadata": {},
     "output_type": "execute_result"
    }
   ],
   "source": [
    "variables(f)"
   ]
  },
  {
   "cell_type": "code",
   "execution_count": 79,
   "id": "b64995e9",
   "metadata": {},
   "outputs": [
    {
     "data": {
      "text/plain": [
       "44.00000051722838"
      ]
     },
     "execution_count": 79,
     "metadata": {},
     "output_type": "execute_result"
    }
   ],
   "source": [
    "obj_min"
   ]
  },
  {
   "cell_type": "code",
   "execution_count": 80,
   "id": "8ee81806",
   "metadata": {},
   "outputs": [
    {
     "data": {
      "text/plain": [
       "3×1 Matrix{Float64}:\n",
       " -11.000004868052248\n",
       " -21.99743305188541\n",
       " -33.000006390343465"
      ]
     },
     "execution_count": 80,
     "metadata": {},
     "output_type": "execute_result"
    }
   ],
   "source": [
    "get_minimizers(M)"
   ]
  },
  {
   "cell_type": "markdown",
   "id": "f5b402be",
   "metadata": {},
   "source": [
    "Declare functions to constract Pade objective"
   ]
  },
  {
   "cell_type": "code",
   "execution_count": 84,
   "id": "17383908",
   "metadata": {},
   "outputs": [
    {
     "data": {
      "text/plain": [
       "pade_obj (generic function with 1 method)"
      ]
     },
     "execution_count": 84,
     "metadata": {},
     "output_type": "execute_result"
    }
   ],
   "source": [
    "function frobenius_norm2(m)\n",
    "    return tr(m * m')\n",
    "end\n",
    "\n",
    "function lindblad_rhs(rho, H, A)\n",
    "    \"\"\"\n",
    "    Right hand side of the Lindblad master equation\n",
    "    \"\"\"\n",
    "    return -1im * (H * rho - rho * H) + A * rho * A' - (A' * A  * rho + rho * A' * A) / 2\n",
    "    \n",
    "end\n",
    "\n",
    "function pade_obj(ρ, t, H, A)\n",
    "    \n",
    "    obj = 0\n",
    "    for i in 2:size(ρ,3)\n",
    "        obj += frobenius_norm2(\n",
    "            ρ[:, :, i] - ρ[:, :, 1] \n",
    "            - (t[i]-t[i-1])*lindblad_rhs((ρ[:, :, i]+ρ[:, :, i-1])/2, H, A)\n",
    "        )\n",
    "    end\n",
    "    obj = sum(real(coef) * mon for (coef, mon) in zip(coefficients(obj), monomials(obj)))\n",
    "    return obj\n",
    "end"
   ]
  },
  {
   "cell_type": "markdown",
   "id": "1d58a3f7",
   "metadata": {},
   "source": [
    "Construct sample Pade objective"
   ]
  },
  {
   "cell_type": "code",
   "execution_count": 85,
   "id": "99c5a8e6",
   "metadata": {},
   "outputs": [],
   "source": [
    "@polyvar x[1:4]\n",
    "H = [ 1.0 * x[1]              x[3] + im * x[4]\n",
    "      x[3] - im * x[4]        x[2]             ]\n",
    "\n",
    "@polyvar a[1:2, 1:2]\n",
    "@polyvar b[1:2, 1:2]\n",
    "A = 1.0 * a + im * b\n",
    "\n",
    "ρ1 = [.5 -im\n",
    "     +im  .5]\n",
    "ρ2 = [.6 0\n",
    "     0  .4]\n",
    "ρ3 = [.7 0\n",
    "     0  .3]\n",
    "ρ4 = [.9 0\n",
    "     0  .1]\n",
    "\n",
    "ρ = [ρ1;;; ρ2;;; ρ3;;; ρ4]\n",
    "t = [0.0, 0.1, 0.2, 0.3]\n",
    "\n",
    "obj = pade_obj(ρ, t, H, A);"
   ]
  },
  {
   "cell_type": "markdown",
   "id": "e368939d",
   "metadata": {},
   "source": [
    "Use JuMP.optimizer_with_attributes and MomentTools.minimize"
   ]
  },
  {
   "cell_type": "code",
   "execution_count": 87,
   "id": "61d4cf77",
   "metadata": {},
   "outputs": [
    {
     "data": {
      "text/plain": [
       "4"
      ]
     },
     "execution_count": 87,
     "metadata": {},
     "output_type": "execute_result"
    }
   ],
   "source": [
    "maxdegree(obj)"
   ]
  },
  {
   "cell_type": "code",
   "execution_count": 88,
   "id": "a7fa72b7",
   "metadata": {},
   "outputs": [
    {
     "data": {
      "text/plain": [
       "12-element Vector{PolyVar{true}}:\n",
       " x₁\n",
       " x₂\n",
       " x₃\n",
       " x₄\n",
       " a₁₋₁\n",
       " a₂₋₁\n",
       " a₁₋₂\n",
       " a₂₋₂\n",
       " b₁₋₁\n",
       " b₂₋₁\n",
       " b₁₋₂\n",
       " b₂₋₂"
      ]
     },
     "execution_count": 88,
     "metadata": {},
     "output_type": "execute_result"
    }
   ],
   "source": [
    "variables(obj)"
   ]
  },
  {
   "cell_type": "code",
   "execution_count": 86,
   "id": "d5043af1",
   "metadata": {},
   "outputs": [
    {
     "data": {
      "text/plain": [
       "(1.139253199056551, A JuMP Model\n",
       "Minimization problem with:\n",
       "Variables: 1820\n",
       "Objective function type: AffExpr\n",
       "`AffExpr`-in-`MathOptInterface.EqualTo{Float64}`: 1 constraint\n",
       "`Vector{AffExpr}`-in-`MathOptInterface.PositiveSemidefiniteConeTriangle`: 1 constraint\n",
       "Model mode: AUTOMATIC\n",
       "CachingOptimizer state: NO_OPTIMIZER\n",
       "Solver name: No optimizer attached.\n",
       "Names registered in the model: basis, degree, dual, index, moments, monomials, nu, type, variables, y)"
      ]
     },
     "execution_count": 86,
     "metadata": {},
     "output_type": "execute_result"
    }
   ],
   "source": [
    "optimizer = optimizer_with_attributes(Mosek.Optimizer, \"QUIET\" => true)\n",
    "obj_min, M = minimize(obj, [], [], variables(obj), maxdegree(obj) ÷ 2, optimizer)"
   ]
  },
  {
   "cell_type": "code",
   "execution_count": 89,
   "id": "e9f0ca46",
   "metadata": {},
   "outputs": [
    {
     "data": {
      "text/plain": [
       "12×9 Matrix{Float64}:\n",
       " -0.0125177  -0.0141248  -0.0195061  …  -0.127075    0.0229445   0.592919\n",
       " -0.0812818   0.0269903   0.0191686      0.1454     -0.0100024  -0.349966\n",
       "  0.0204933   0.929546   -0.0894346      0.653755    0.483383    0.534937\n",
       " -0.17416    -0.120408    0.0734679      0.0900822  -0.112165   -0.152447\n",
       "  0.225151    0.264898    0.261968      -0.638162   -0.292563    0.362057\n",
       " -0.73488    -0.698281   -0.162723   …   0.377071    0.7153      0.697751\n",
       " -1.1018     -1.03415    -0.846758       0.859905    1.06968     1.12374\n",
       " -0.031072   -0.15492    -0.0701788      0.069234    0.0841564   0.413034\n",
       " -2.09289    -1.53606    -0.541523       0.910868    1.82271     1.84462\n",
       " -0.0674014  -0.115075   -0.0946625      0.217008    0.106434    0.0139887\n",
       " -0.212415   -0.31651    -0.224247   …   0.369141    0.261193    0.03508\n",
       "  0.247247    0.681834    0.202107      -0.401952   -0.453256   -0.408745"
      ]
     },
     "execution_count": 89,
     "metadata": {},
     "output_type": "execute_result"
    }
   ],
   "source": [
    "get_minimizers(M)"
   ]
  },
  {
   "cell_type": "markdown",
   "id": "fa0e3e24",
   "metadata": {},
   "source": [
    "Find best candidate"
   ]
  },
  {
   "cell_type": "code",
   "execution_count": 94,
   "id": "9b632e92",
   "metadata": {},
   "outputs": [
    {
     "data": {
      "text/plain": [
       "12-element Vector{Float64}:\n",
       "  0.1206574582022943\n",
       " -0.04056000217566395\n",
       "  0.13134071685642232\n",
       " -0.029286823549031917\n",
       "  0.936351124794301\n",
       "  0.6763173545717279\n",
       "  1.027429938345106\n",
       " -0.08358868585843786\n",
       "  1.8892249548920144\n",
       " -0.32102521462601935\n",
       " -0.4767135996224034\n",
       " -0.2696050720435906"
      ]
     },
     "execution_count": 94,
     "metadata": {},
     "output_type": "execute_result"
    }
   ],
   "source": [
    "r = real.(get_minimizers(M))\n",
    "obj_min_vals = [obj(r[:,i]) for i=1:size(r)[2]]\n",
    "min_x = r[:, argmin(obj_min_vals)]"
   ]
  },
  {
   "cell_type": "markdown",
   "id": "d6386335",
   "metadata": {},
   "source": [
    "Convert polyvar objective into the normal variable objective"
   ]
  },
  {
   "cell_type": "code",
   "execution_count": 95,
   "id": "c3aa7092",
   "metadata": {},
   "outputs": [],
   "source": [
    "using NLopt\n",
    "\n",
    "vars = variables(obj)\n",
    "\n",
    "function g(a...)\n",
    "    # Converting polynomial expression to function to be minimize\n",
    "    obj(vars => a)\n",
    "end\n",
    "    \n",
    "model = Model(NLopt.Optimizer)\n",
    "\n",
    "set_optimizer_attribute(model, \"algorithm\", :LD_MMA)\n",
    "\n",
    "#set_silent(model)\n",
    "@variable(model, y[1:length(vars)]);"
   ]
  },
  {
   "cell_type": "markdown",
   "id": "ce3768c7",
   "metadata": {},
   "source": [
    "Set initial values to new variables using the best candidate minimizer:"
   ]
  },
  {
   "cell_type": "code",
   "execution_count": 97,
   "id": "568b651a",
   "metadata": {},
   "outputs": [],
   "source": [
    "for (var, init_val) in zip(y, min_x)\n",
    "    set_start_value(var, init_val)\n",
    "end"
   ]
  },
  {
   "cell_type": "markdown",
   "id": "32917371",
   "metadata": {},
   "source": [
    "Perform local minimization"
   ]
  },
  {
   "cell_type": "code",
   "execution_count": 98,
   "id": "498391a8",
   "metadata": {},
   "outputs": [
    {
     "data": {
      "text/plain": [
       "1.139253130837866"
      ]
     },
     "execution_count": 98,
     "metadata": {},
     "output_type": "execute_result"
    }
   ],
   "source": [
    "register(model, :g, length(y), g; autodiff = true)\n",
    "@NLobjective(model, Min, g(y...))\n",
    "JuMP.optimize!(model)\n",
    "solution = vars => map(value, y)\n",
    "objective_value(model)"
   ]
  },
  {
   "cell_type": "code",
   "execution_count": 99,
   "id": "9d4c0b41",
   "metadata": {},
   "outputs": [
    {
     "data": {
      "text/plain": [
       "3.203473415661914"
      ]
     },
     "execution_count": 99,
     "metadata": {},
     "output_type": "execute_result"
    }
   ],
   "source": [
    "min(obj_min_vals...)"
   ]
  },
  {
   "cell_type": "markdown",
   "id": "fd894c1f",
   "metadata": {},
   "source": [
    "Now we have the best minimizer"
   ]
  },
  {
   "cell_type": "code",
   "execution_count": 100,
   "id": "8a5942e1",
   "metadata": {},
   "outputs": [
    {
     "data": {
      "text/plain": [
       "PolyVar{true}[x₁, x₂, x₃, x₄, a₁₋₁, a₂₋₁, a₁₋₂, a₂₋₂, b₁₋₁, b₂₋₁, b₁₋₂, b₂₋₂] => [0.07924254916569747, 0.0008549068609328754, 0.6164008440889793, -0.020447621364296214, 1.4625037536131977, 1.0885623518616947, 1.6286664463597507, -0.43159598149450695, 2.6250934409781355, -0.5954536993710784, -0.8871877800131419, -0.8388804236336037]"
      ]
     },
     "execution_count": 100,
     "metadata": {},
     "output_type": "execute_result"
    }
   ],
   "source": [
    "solution"
   ]
  },
  {
   "cell_type": "markdown",
   "id": "30085983",
   "metadata": {},
   "source": [
    "First construct function to perform local minimization of objective"
   ]
  },
  {
   "cell_type": "code",
   "execution_count": 103,
   "id": "497b6223",
   "metadata": {},
   "outputs": [
    {
     "data": {
      "text/plain": [
       "minimize_local (generic function with 1 method)"
      ]
     },
     "execution_count": 103,
     "metadata": {},
     "output_type": "execute_result"
    }
   ],
   "source": [
    "using NLopt\n",
    "\n",
    "function minimize_local(obj, min_x) # polynomial objective, and guess x candidate\n",
    "    vars = variables(obj)\n",
    "\n",
    "    function g(a...)\n",
    "        # Converting polynomial expression to function to be minimize\n",
    "        obj(vars => a)\n",
    "    end\n",
    "    \n",
    "    model = Model(NLopt.Optimizer)\n",
    "\n",
    "    set_optimizer_attribute(model, \"algorithm\", :LD_MMA)\n",
    "    \n",
    "    #set_silent(model)\n",
    "    @variable(model, y[1:length(vars)]);\n",
    "    \n",
    "    for (var, init_val) in zip(y, min_x)\n",
    "        set_start_value(var, init_val)\n",
    "    end\n",
    "    \n",
    "    register(model, :g, length(y), g; autodiff = true)\n",
    "    @NLobjective(model, Min, g(y...))\n",
    "    JuMP.optimize!(model)\n",
    "    solution = vars => map(value, y)\n",
    "    \n",
    "    return model, solution\n",
    "end "
   ]
  },
  {
   "cell_type": "markdown",
   "id": "593566ac",
   "metadata": {},
   "source": [
    "Now construct single function to perform all the process of minimization of objective"
   ]
  },
  {
   "cell_type": "code",
   "execution_count": 105,
   "id": "6034b83d",
   "metadata": {},
   "outputs": [
    {
     "data": {
      "text/plain": [
       "minimize_global (generic function with 1 method)"
      ]
     },
     "execution_count": 105,
     "metadata": {},
     "output_type": "execute_result"
    }
   ],
   "source": [
    "function minimize_global(obj)\n",
    "    optimizer = optimizer_with_attributes(Mosek.Optimizer, \"QUIET\" => true)\n",
    "    obj_min, M = minimize(obj, [], [], variables(obj), maxdegree(obj) ÷ 2, optimizer)\n",
    "    \n",
    "    r = real.(get_minimizers(M))\n",
    "    obj_min_vals = [obj(r[:,i]) for i=1:size(r)[2]]\n",
    "    min_x = r[:, argmin(obj_min_vals)]\n",
    "    \n",
    "    model, solution = minimize_local(obj, min_x) \n",
    "    \n",
    "    return model, solution\n",
    "    \n",
    "end "
   ]
  },
  {
   "cell_type": "code",
   "execution_count": 106,
   "id": "3abc7200",
   "metadata": {},
   "outputs": [
    {
     "data": {
      "text/plain": [
       "(A JuMP Model\n",
       "Minimization problem with:\n",
       "Variables: 12\n",
       "Objective function type: Nonlinear\n",
       "Model mode: AUTOMATIC\n",
       "CachingOptimizer state: ATTACHED_OPTIMIZER\n",
       "Solver name: NLopt\n",
       "Names registered in the model: y, PolyVar{true}[x₁, x₂, x₃, x₄, a₁₋₁, a₂₋₁, a₁₋₂, a₂₋₂, b₁₋₁, b₂₋₁, b₁₋₂, b₂₋₂] => [0.07924254916569747, 0.0008549068609328754, 0.6164008440889793, -0.020447621364296214, 1.4625037536131977, 1.0885623518616947, 1.6286664463597507, -0.43159598149450695, 2.6250934409781355, -0.5954536993710784, -0.8871877800131419, -0.8388804236336037])"
      ]
     },
     "execution_count": 106,
     "metadata": {},
     "output_type": "execute_result"
    }
   ],
   "source": [
    "model, solution = minimize_global(obj)"
   ]
  },
  {
   "cell_type": "code",
   "execution_count": 107,
   "id": "8489d5c0",
   "metadata": {},
   "outputs": [
    {
     "data": {
      "text/plain": [
       "PolyVar{true}[x₁, x₂, x₃, x₄, a₁₋₁, a₂₋₁, a₁₋₂, a₂₋₂, b₁₋₁, b₂₋₁, b₁₋₂, b₂₋₂] => [0.07924254916569747, 0.0008549068609328754, 0.6164008440889793, -0.020447621364296214, 1.4625037536131977, 1.0885623518616947, 1.6286664463597507, -0.43159598149450695, 2.6250934409781355, -0.5954536993710784, -0.8871877800131419, -0.8388804236336037]"
      ]
     },
     "execution_count": 107,
     "metadata": {},
     "output_type": "execute_result"
    }
   ],
   "source": [
    "solution"
   ]
  },
  {
   "cell_type": "code",
   "execution_count": null,
   "id": "dfda1917",
   "metadata": {},
   "outputs": [],
   "source": []
  }
 ],
 "metadata": {
  "kernelspec": {
   "display_name": "Julia 1.7.2",
   "language": "julia",
   "name": "julia-1.7"
  },
  "language_info": {
   "file_extension": ".jl",
   "mimetype": "application/julia",
   "name": "julia",
   "version": "1.7.2"
  }
 },
 "nbformat": 4,
 "nbformat_minor": 5
}
