{
 "cells": [
  {
   "cell_type": "markdown",
   "id": "7bcd9405",
   "metadata": {},
   "source": [
    "### Minimization of polynomial objective (with MomentTools)\n",
    "Toy and Pade objective sample"
   ]
  },
  {
   "cell_type": "code",
   "execution_count": 1,
   "id": "d7b41351",
   "metadata": {},
   "outputs": [],
   "source": [
    "using LinearAlgebra\n",
    "using DynamicPolynomials, MomentTools\n",
    "using MosekTools\n",
    "using JuMP"
   ]
  },
  {
   "cell_type": "markdown",
   "id": "c7d7dc95",
   "metadata": {},
   "source": [
    "Method works great for convex objective of degree 4, but not for degree 6"
   ]
  },
  {
   "cell_type": "markdown",
   "id": "1eed7e5e",
   "metadata": {},
   "source": [
    "Consider toy polynomial objective of degree 4"
   ]
  },
  {
   "cell_type": "code",
   "execution_count": 2,
   "id": "405fa4eb",
   "metadata": {},
   "outputs": [
    {
     "data": {
      "text/plain": [
       "4"
      ]
     },
     "execution_count": 2,
     "metadata": {},
     "output_type": "execute_result"
    }
   ],
   "source": [
    "@polyvar x[1:3]\n",
    "f4 = (x[1]+11)^2 + (x[2]+22)^4 + (x[3]+33)^4 + 44\n",
    "maxdegree(f4)"
   ]
  },
  {
   "cell_type": "markdown",
   "id": "eb727d67",
   "metadata": {},
   "source": [
    "Lets use JuMP.optimizer_with_attributes function from the JuMP.jl package to group an optimizer constructor with the list of attributes <br>\n",
    "https://jump.dev/JuMP.jl/stable/reference/models/#JuMP.optimizer_with_attributes"
   ]
  },
  {
   "cell_type": "code",
   "execution_count": 3,
   "id": "8686efed",
   "metadata": {},
   "outputs": [
    {
     "data": {
      "text/plain": [
       "MathOptInterface.OptimizerWithAttributes(Mosek.Optimizer, Pair{MathOptInterface.AbstractOptimizerAttribute, Any}[MathOptInterface.RawParameter(\"QUIET\") => true])"
      ]
     },
     "execution_count": 3,
     "metadata": {},
     "output_type": "execute_result"
    }
   ],
   "source": [
    "using JuMP\n",
    "optimizer = optimizer_with_attributes(Mosek.Optimizer, \"QUIET\" => true)"
   ]
  },
  {
   "cell_type": "markdown",
   "id": "800ee74a",
   "metadata": {},
   "source": [
    "Now we can use MomentTools.minimize function <br>\n",
    "http://www-sop.inria.fr/members/Bernard.Mourrain/software/MomentTools/code/2.optimization.html#MomentTools.minimize <br>\n",
    "v, M = minimize(f, [e1, e2, ...], [p1, p2, ...], X, d, optimizer)"
   ]
  },
  {
   "cell_type": "code",
   "execution_count": 4,
   "id": "54bf34e7",
   "metadata": {},
   "outputs": [
    {
     "data": {
      "text/plain": [
       "(44.0000006588523, A JuMP Model\n",
       "Minimization problem with:\n",
       "Variables: 35\n",
       "Objective function type: AffExpr\n",
       "`AffExpr`-in-`MathOptInterface.EqualTo{Float64}`: 1 constraint\n",
       "`Vector{AffExpr}`-in-`MathOptInterface.PositiveSemidefiniteConeTriangle`: 1 constraint\n",
       "Model mode: AUTOMATIC\n",
       "CachingOptimizer state: NO_OPTIMIZER\n",
       "Solver name: No optimizer attached.\n",
       "Names registered in the model: basis, degree, dual, index, moments, monomials, nu, type, variables, y)"
      ]
     },
     "execution_count": 4,
     "metadata": {},
     "output_type": "execute_result"
    }
   ],
   "source": [
    "obj_min, M = minimize(f4, [], [], variables(f4), maxdegree(f4) ÷ 2, optimizer)\n",
    "# obj_min, M = minimize(f, [], [], variables(f), 2, optimizer)\n",
    "# obj_min, M = minimize(f, [], [], variables(f), maxdegree(f), optimizer)"
   ]
  },
  {
   "cell_type": "markdown",
   "id": "f0b04b87",
   "metadata": {},
   "source": [
    "Objective is exactly what it should be with 1e-6 precision"
   ]
  },
  {
   "cell_type": "code",
   "execution_count": 5,
   "id": "606c62c8",
   "metadata": {},
   "outputs": [
    {
     "data": {
      "text/plain": [
       "44.0000006588523"
      ]
     },
     "execution_count": 5,
     "metadata": {},
     "output_type": "execute_result"
    }
   ],
   "source": [
    "obj_min"
   ]
  },
  {
   "cell_type": "markdown",
   "id": "cbb8eb6d",
   "metadata": {},
   "source": [
    "First set of minimizers is good with prec around 1e-3"
   ]
  },
  {
   "cell_type": "code",
   "execution_count": 6,
   "id": "5118d095",
   "metadata": {},
   "outputs": [
    {
     "data": {
      "text/plain": [
       "3×1 Matrix{Float64}:\n",
       " -10.999991545071332\n",
       " -22.000462266942797\n",
       " -33.00058005729282"
      ]
     },
     "execution_count": 6,
     "metadata": {},
     "output_type": "execute_result"
    }
   ],
   "source": [
    "get_minimizers(M)"
   ]
  },
  {
   "cell_type": "markdown",
   "id": "e368939d",
   "metadata": {},
   "source": [
    "Now consider toy convex polynomial objective of degree 6"
   ]
  },
  {
   "cell_type": "code",
   "execution_count": 10,
   "id": "7ff3b902",
   "metadata": {},
   "outputs": [
    {
     "data": {
      "text/plain": [
       "6"
      ]
     },
     "execution_count": 10,
     "metadata": {},
     "output_type": "execute_result"
    }
   ],
   "source": [
    "@polyvar x[1:3]\n",
    "f6 = (x[1]+11)^2 + (x[2]+22)^4 + (x[3]+33)^6 + 44\n",
    "maxdegree(f6)"
   ]
  },
  {
   "cell_type": "code",
   "execution_count": 8,
   "id": "1f7ae69c",
   "metadata": {},
   "outputs": [
    {
     "data": {
      "text/plain": [
       "(92.46378273322895, A JuMP Model\n",
       "Minimization problem with:\n",
       "Variables: 84\n",
       "Objective function type: AffExpr\n",
       "`AffExpr`-in-`MathOptInterface.EqualTo{Float64}`: 1 constraint\n",
       "`Vector{AffExpr}`-in-`MathOptInterface.PositiveSemidefiniteConeTriangle`: 1 constraint\n",
       "Model mode: AUTOMATIC\n",
       "CachingOptimizer state: NO_OPTIMIZER\n",
       "Solver name: No optimizer attached.\n",
       "Names registered in the model: basis, degree, dual, index, moments, monomials, nu, type, variables, y)"
      ]
     },
     "execution_count": 8,
     "metadata": {},
     "output_type": "execute_result"
    }
   ],
   "source": [
    "optimizer = optimizer_with_attributes(Mosek.Optimizer, \"QUIET\" => true)\n",
    "obj_min, M = minimize(f6, [], [], variables(f6), maxdegree(f6) ÷ 2, optimizer)"
   ]
  },
  {
   "cell_type": "code",
   "execution_count": 9,
   "id": "f6a515ef",
   "metadata": {},
   "outputs": [
    {
     "data": {
      "text/plain": [
       "3×5 Matrix{Float64}:\n",
       " -74.94     -9.5301   -5.48647   16.166    58.1581\n",
       " -16.7361  -20.2282  -19.823    -19.5061  -10.2283\n",
       " -36.7746  -34.6105  -34.4238   -35.4844  -31.1947"
      ]
     },
     "execution_count": 9,
     "metadata": {},
     "output_type": "execute_result"
    }
   ],
   "source": [
    "get_minimizers(M)"
   ]
  },
  {
   "cell_type": "markdown",
   "id": "cb64bbc8",
   "metadata": {},
   "source": [
    "As you can see results for degree 6 objective is far from obvious solution."
   ]
  }
 ],
 "metadata": {
  "kernelspec": {
   "display_name": "Julia 1.7.2",
   "language": "julia",
   "name": "julia-1.7"
  },
  "language_info": {
   "file_extension": ".jl",
   "mimetype": "application/julia",
   "name": "julia",
   "version": "1.7.2"
  }
 },
 "nbformat": 4,
 "nbformat_minor": 5
}
