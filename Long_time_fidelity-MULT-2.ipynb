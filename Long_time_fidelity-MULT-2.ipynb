{
 "cells": [
  {
   "cell_type": "code",
   "execution_count": 1,
   "id": "b894ab08",
   "metadata": {},
   "outputs": [
    {
     "name": "stderr",
     "output_type": "stream",
     "text": [
      "\n",
      "(process:24572): GLib-GIO-WARNING **: 22:45:35.069: Unexpectedly, UWP app `Microsoft.MSPaint_6.2203.1037.0_x64__8wekyb3d8bbwe' (AUMId `Microsoft.MSPaint_8wekyb3d8bbwe!Microsoft.MSPaint') supports 17 extensions but has no verbs\n"
     ]
    },
    {
     "data": {
      "text/plain": [
       "Main.LiPoSID"
      ]
     },
     "execution_count": 1,
     "metadata": {},
     "output_type": "execute_result"
    }
   ],
   "source": [
    "using HDF5\n",
    "using LinearAlgebra\n",
    "using QuantumOptics\n",
    "using Statistics\n",
    "using Dates\n",
    "\n",
    "using Plots\n",
    "\n",
    "include(\"LiPoSID.jl\")"
   ]
  },
  {
   "cell_type": "code",
   "execution_count": 2,
   "id": "a1c65aa3",
   "metadata": {},
   "outputs": [
    {
     "data": {
      "text/plain": [
       "lindblad_evolution (generic function with 1 method)"
      ]
     },
     "execution_count": 2,
     "metadata": {},
     "output_type": "execute_result"
    }
   ],
   "source": [
    "function get_seeds_and_timespan(file_name)   \n",
    "    h5open(file_name,\"r\") do fid   # read file, preserve existing contents\n",
    "        seeds = read(fid[\"seeds\"])\n",
    "        Δt = read(fid[\"dt\"])\n",
    "        tₘₐₓ = read(fid[\"t_max\"])\n",
    "        return seeds,  Δt, tₘₐₓ\n",
    "    end\n",
    "end\n",
    "\n",
    "function get_noise_levels(file_name)   \n",
    "    h5open(file_name,\"r\") do fid   # read file, preserve existing contents\n",
    "        noise_levels = keys(fid[\"data_by_noise_level\"])\n",
    "        return noise_levels\n",
    "    end\n",
    "end\n",
    "\n",
    "function get_variable_names(file_name, noise_level, seed)\n",
    "        h5open(file_name,\"r\") do fid   # read file, preserve existing contents\n",
    "        variable_names = keys(fid[\"data_by_noise_level\"][string(noise_level)][string(seed)])\n",
    "        return variable_names\n",
    "    end\n",
    "end\n",
    "\n",
    "function get_by_name(file_name, var_name, noise_levels, seeds)\n",
    "        h5open(file_name,\"r\") do fid # read file, preserve existing contents\n",
    "        var_by_name = []\n",
    "        for w in noise_levels\n",
    "            current_noise_var = [ read(fid[\"data_by_noise_level\"][string(w)][string(seed)][var_name]) for seed in seeds ]\n",
    "            push!(var_by_name, current_noise_var)\n",
    "        end\n",
    "        return(var_by_name)\n",
    "    end\n",
    "end\n",
    "\n",
    "function get_lsid(file_name, noise, seeds)\n",
    "    A = get_by_name(file_name, \"A\", [noise], seeds)[1][1]\n",
    "    C = get_by_name(file_name, \"C\", [noise], seeds)[1][1]\n",
    "    x0 = get_by_name(file_name, \"x0\", [noise], seeds)[1][1]\n",
    "    return A, C, x0\n",
    "end\n",
    "\n",
    "function get_kraus_sid(file_name, noise, seed)\n",
    "    ρ0 = get_by_name(file_name, \"rho0\", [noise], seeds)[1][1]\n",
    "    K1_sid = get_by_name(file_name, \"K1_sid\", [noise], seeds)[1][1]\n",
    "    K2_sid = get_by_name(file_name, \"K2_sid\", [noise], seeds)[1][1]\n",
    "    return ρ0, K1_sid, K2_sid\n",
    "end \n",
    "\n",
    "function lindblad_evolution(key, time_limit, Δt, noise_level, seed)\n",
    "    time_span = [0:Δt:time_limit;]\n",
    "    H_exact = DenseOperator(basis, get_by_name(file_name, \"H_\"*key, [noise_level], seed)[1][1])\n",
    "    J_exact = DenseOperator(basis, get_by_name(file_name, \"J_\"*key, [noise_level], seed)[1][1])\n",
    "    ρ0 = DenseOperator(basis, get_by_name(file_name, \"rho0\", [noise_level], seed)[1][1])\n",
    "    time, ρ_exact_ser  = timeevolution.master(time_span, ρ0, H_exact, [J_exact])\n",
    "    ρ = [ρₜ.data for ρₜ in ρ_exact_ser]\n",
    "end"
   ]
  },
  {
   "cell_type": "code",
   "execution_count": 3,
   "id": "12886d1b",
   "metadata": {},
   "outputs": [
    {
     "name": "stdout",
     "output_type": "stream",
     "text": [
      "2.0\n",
      "200\n",
      "20.0\n",
      "2001\n"
     ]
    },
    {
     "data": {
      "text/plain": [
       "NLevel(N=2)"
      ]
     },
     "execution_count": 3,
     "metadata": {},
     "output_type": "execute_result"
    }
   ],
   "source": [
    "file_name = \"C:/Users/Zakhar/Documents/GitHub/JPOP_SID/LiPoSID_clust_compare_methods_started_2022-Jul-15_at_15-12.h5\"\n",
    "seeds,  Δt, tₘₐₓ = get_seeds_and_timespan(file_name)\n",
    "println(tₘₐₓ)\n",
    "noise_levels = get_noise_levels(file_name)\n",
    "train_steps = Integer(tₘₐₓ ÷ Δt)+1\n",
    "println(train_steps)\n",
    "time_multipliers = [1:1:10;]\n",
    "time_horizon = maximum(time_multipliers) * tₘₐₓ\n",
    "println(time_horizon)\n",
    "steps_horizon = Integer(time_horizon ÷ Δt)+2\n",
    "println(steps_horizon)\n",
    "basis = NLevelBasis(2)\n",
    "# get_variable_names(file_name, noise_levels[1], seeds[1])"
   ]
  },
  {
   "cell_type": "code",
   "execution_count": 4,
   "id": "8bec069c",
   "metadata": {},
   "outputs": [
    {
     "data": {
      "text/plain": [
       "Tuple{Matrix{ComplexF64}, Matrix{ComplexF64}, Matrix{ComplexF64}}"
      ]
     },
     "execution_count": 4,
     "metadata": {},
     "output_type": "execute_result"
    }
   ],
   "source": [
    "typeof(get_kraus_sid(file_name, noise_levels[1], seeds[1]))"
   ]
  },
  {
   "cell_type": "code",
   "execution_count": 11,
   "id": "54dbfe4c",
   "metadata": {},
   "outputs": [
    {
     "name": "stdout",
     "output_type": "stream",
     "text": [
      "Results to be stored in file: SID_forecasting_fidelity_2022-Aug-17_at_22-54.h5\n",
      "Processing noise level: 0.0\n",
      "Processing noise level: 0.01\n",
      "Processing noise level: 0.02\n",
      "Processing noise level: 0.03\n",
      "Processing noise level: 0.04\n",
      "Processing noise level: 0.05\n",
      "Processing noise level: 0.08\n",
      "Processing noise level: 0.1\n",
      " 28.340887 seconds (115.63 M allocations: 10.578 GiB, 7.58% gc time, 66.53% compilation time)\n"
     ]
    }
   ],
   "source": [
    "res_file_name = \"SID_forecasting_fidelity_\" * string(Dates.format(now(), \"yyyy-u-dd_at_HH-MM\")) * \".h5\" \n",
    "println(\"Results to be stored in file: \" * res_file_name)\n",
    "\n",
    "@time for n in 1:length(noise_levels)\n",
    "    \n",
    "    noise = noise_levels[n]\n",
    "    \n",
    "    println(\"Processing noise level: \" * noise)\n",
    "        \n",
    "    h5open(res_file_name,\"cw\") do fid   # read-write, create file if not existing, preserve existing contents\n",
    "    noise_group = create_group(fid, string(noise))\n",
    "    end\n",
    "    \n",
    "    lk = ReentrantLock()\n",
    "          \n",
    "    Threads.@threads for seed in seeds[1:2]\n",
    "    #for seed in seeds[1:2]\n",
    "        \n",
    "        # println(\"Processing for seed: \"*string(seed))\n",
    "      \n",
    "        # Lindblad evolution selies \"exact\" and recovered\n",
    "        ρ_exact = lindblad_evolution(\"exact\", time_horizon, Δt, noise, seed)\n",
    "        ρ_pade = lindblad_evolution(\"sid_pade\", time_horizon, Δt, noise, seed)\n",
    "        ρ_simp = lindblad_evolution(\"sid_simp\", time_horizon, Δt, noise, seed)\n",
    "        \n",
    "        # Series recoveres by linear system identification    \n",
    "        A, C, x0 = get_lsid(file_name, noise, seed)\n",
    "        bloch_sid = LiPoSID.propagate(A, C, x0, steps_horizon)\n",
    "        ρ_lsid = LiPoSID.rho_series_from_bloch(bloch_sid) #[1:length(ρ_exact)]\n",
    "              \n",
    "        # Series recovered with Kraus hypothesis \n",
    "        ρ0, K1_sid, K2_sid = get_kraus_sid(file_name, noise, seed)\n",
    "        ρ_kraus = LiPoSID.timeevolution_kraus(steps_horizon, ρ0, [K1_sid, K2_sid])\n",
    "        \n",
    "        fid_pade = []\n",
    "        fid_simp = []\n",
    "        fid_lsid = []\n",
    "        fid_kraus = []\n",
    "               \n",
    "        for m in 1:length(time_multipliers)  # time scales\n",
    "            \n",
    "            step_limit = train_steps * time_multipliers[m]\n",
    " \n",
    "            push!(fid_pade, LiPoSID.min_fidelity_between_series(basis, ρ_pade[1:step_limit], ρ_exact[1:step_limit]))\n",
    "            push!(fid_simp, LiPoSID.min_fidelity_between_series(basis, ρ_simp[1:step_limit], ρ_exact[1:step_limit]))\n",
    "            push!(fid_lsid, LiPoSID.min_fidelity_between_series(basis, ρ_lsid[1:step_limit], ρ_exact[1:step_limit]))\n",
    "            push!(fid_kraus, LiPoSID.min_fidelity_between_series(basis, ρ_kraus[1:step_limit], ρ_exact[1:step_limit]))\n",
    "        end\n",
    "        \n",
    "        lock(lk)\n",
    "        \n",
    "        try\n",
    "            \n",
    "        h5open(res_file_name,\"cw\") do fid   # read-write, create file if not existing, preserve existing contents\n",
    "        noise_group = open_group(fid, string(noise))\n",
    "        seed_group = create_group(noise_group, string(seed))\n",
    "        seed_group[\"fidelity_lsid\"] = convert.(Float64, fid_lsid)\n",
    "        seed_group[\"fidelity_simp\"] = convert.(Float64, fid_simp)\n",
    "        seed_group[\"fidelity_pade\"] = convert.(Float64, fid_pade)\n",
    "        seed_group[\"fidelity_kraus\"] = convert.(Float64, fid_kraus)\n",
    "        end\n",
    "            \n",
    "        finally\n",
    "        unlock(lk)\n",
    "        end\n",
    "\n",
    "    end\n",
    "\n",
    "end"
   ]
  },
  {
   "cell_type": "code",
   "execution_count": 12,
   "id": "82ef0fd0",
   "metadata": {},
   "outputs": [
    {
     "data": {
      "text/plain": [
       "([0.9999873379811284, 0.999983736610463, 0.9999788061630157, 0.9999732284456976, 0.9999670179191926, 0.9999601742045646, 0.9999527082693469, 0.9999446205242348, 0.9999359200615955, 0.9999266096622799], [0.9999888315093094, 0.9999888315093094, 0.9999888315093094, 0.9999888315093094, 0.9999888315093094, 0.9999888315093094, 0.9999888315093094, 0.9999888315093094, 0.9999888315093094, 0.9999888315093094], [0.9999812320449534, 0.9999812320449534, 0.9999812320449534, 0.9999812320449534, 0.9999812320449534, 0.9999812320449534, 0.9999812320449534, 0.9999812320449534, 0.9999812320449534, 0.9999812320449534], [0.855833333437066, 0.855833333437066, 0.855833333437066, 0.855833333437066, 0.855833333437066, 0.855833333437066, 0.855833333437066, 0.855833333437066, 0.855833333437066, 0.855833333437066])"
      ]
     },
     "execution_count": 12,
     "metadata": {},
     "output_type": "execute_result"
    }
   ],
   "source": [
    "function read_fidelities_time_series(file_name, noise, seed)\n",
    "    h5open(file_name,\"r\") do fid # read file, preserve existing contents\n",
    "        fidelity_lsid = read(fid[string(noise)][string(seed)][\"fidelity_lsid\"])\n",
    "        fidelity_simp = read(fid[string(noise)][string(seed)][\"fidelity_simp\"])\n",
    "        fidelity_pade = read(fid[string(noise)][string(seed)][\"fidelity_pade\"])\n",
    "        fidelity_kraus = read(fid[string(noise)][string(seed)][\"fidelity_kraus\"])\n",
    "\n",
    "        return(fidelity_lsid, fidelity_simp, fidelity_pade, fidelity_kraus)\n",
    "    end\n",
    "end\n",
    "noise = \"0.01\"\n",
    "seed = 17401799854164395076\n",
    "fidelity_lsid, fidelity_simp, fidelity_pade, fidelity_kraus = read_fidelities_time_series(res_file_name, noise, seed)"
   ]
  },
  {
   "cell_type": "code",
   "execution_count": 13,
   "id": "14728838",
   "metadata": {},
   "outputs": [
    {
     "data": {
      "image/svg+xml": [
       "<?xml version=\"1.0\" encoding=\"utf-8\"?>\n",
       "<svg xmlns=\"http://www.w3.org/2000/svg\" xmlns:xlink=\"http://www.w3.org/1999/xlink\" width=\"600\" height=\"400\" viewBox=\"0 0 2400 1600\">\n",
       "<defs>\n",
       "  <clipPath id=\"clip100\">\n",
       "    <rect x=\"0\" y=\"0\" width=\"2400\" height=\"1600\"/>\n",
       "  </clipPath>\n",
       "</defs>\n",
       "<path clip-path=\"url(#clip100)\" d=\"\n",
       "M0 1600 L2400 1600 L2400 0 L0 0  Z\n",
       "  \" fill=\"#ffffff\" fill-rule=\"evenodd\" fill-opacity=\"1\"/>\n",
       "<defs>\n",
       "  <clipPath id=\"clip101\">\n",
       "    <rect x=\"480\" y=\"0\" width=\"1681\" height=\"1600\"/>\n",
       "  </clipPath>\n",
       "</defs>\n",
       "<path clip-path=\"url(#clip100)\" d=\"\n",
       "M186.436 1486.45 L2352.76 1486.45 L2352.76 47.2441 L186.436 47.2441  Z\n",
       "  \" fill=\"#ffffff\" fill-rule=\"evenodd\" fill-opacity=\"1\"/>\n",
       "<defs>\n",
       "  <clipPath id=\"clip102\">\n",
       "    <rect x=\"186\" y=\"47\" width=\"2167\" height=\"1440\"/>\n",
       "  </clipPath>\n",
       "</defs>\n",
       "<polyline clip-path=\"url(#clip102)\" style=\"stroke:#000000; stroke-linecap:butt; stroke-linejoin:round; stroke-width:2; stroke-opacity:0.1; fill:none\" points=\"\n",
       "  474.825,1486.45 474.825,47.2441 \n",
       "  \"/>\n",
       "<polyline clip-path=\"url(#clip102)\" style=\"stroke:#000000; stroke-linecap:butt; stroke-linejoin:round; stroke-width:2; stroke-opacity:0.1; fill:none\" points=\"\n",
       "  928.98,1486.45 928.98,47.2441 \n",
       "  \"/>\n",
       "<polyline clip-path=\"url(#clip102)\" style=\"stroke:#000000; stroke-linecap:butt; stroke-linejoin:round; stroke-width:2; stroke-opacity:0.1; fill:none\" points=\"\n",
       "  1383.13,1486.45 1383.13,47.2441 \n",
       "  \"/>\n",
       "<polyline clip-path=\"url(#clip102)\" style=\"stroke:#000000; stroke-linecap:butt; stroke-linejoin:round; stroke-width:2; stroke-opacity:0.1; fill:none\" points=\"\n",
       "  1837.29,1486.45 1837.29,47.2441 \n",
       "  \"/>\n",
       "<polyline clip-path=\"url(#clip102)\" style=\"stroke:#000000; stroke-linecap:butt; stroke-linejoin:round; stroke-width:2; stroke-opacity:0.1; fill:none\" points=\"\n",
       "  2291.44,1486.45 2291.44,47.2441 \n",
       "  \"/>\n",
       "<polyline clip-path=\"url(#clip100)\" style=\"stroke:#000000; stroke-linecap:butt; stroke-linejoin:round; stroke-width:4; stroke-opacity:1; fill:none\" points=\"\n",
       "  186.436,1486.45 2352.76,1486.45 \n",
       "  \"/>\n",
       "<polyline clip-path=\"url(#clip100)\" style=\"stroke:#000000; stroke-linecap:butt; stroke-linejoin:round; stroke-width:4; stroke-opacity:1; fill:none\" points=\"\n",
       "  474.825,1486.45 474.825,1467.55 \n",
       "  \"/>\n",
       "<polyline clip-path=\"url(#clip100)\" style=\"stroke:#000000; stroke-linecap:butt; stroke-linejoin:round; stroke-width:4; stroke-opacity:1; fill:none\" points=\"\n",
       "  928.98,1486.45 928.98,1467.55 \n",
       "  \"/>\n",
       "<polyline clip-path=\"url(#clip100)\" style=\"stroke:#000000; stroke-linecap:butt; stroke-linejoin:round; stroke-width:4; stroke-opacity:1; fill:none\" points=\"\n",
       "  1383.13,1486.45 1383.13,1467.55 \n",
       "  \"/>\n",
       "<polyline clip-path=\"url(#clip100)\" style=\"stroke:#000000; stroke-linecap:butt; stroke-linejoin:round; stroke-width:4; stroke-opacity:1; fill:none\" points=\"\n",
       "  1837.29,1486.45 1837.29,1467.55 \n",
       "  \"/>\n",
       "<polyline clip-path=\"url(#clip100)\" style=\"stroke:#000000; stroke-linecap:butt; stroke-linejoin:round; stroke-width:4; stroke-opacity:1; fill:none\" points=\"\n",
       "  2291.44,1486.45 2291.44,1467.55 \n",
       "  \"/>\n",
       "<path clip-path=\"url(#clip100)\" d=\"M469.477 1544.91 L485.797 1544.91 L485.797 1548.85 L463.852 1548.85 L463.852 1544.91 Q466.514 1542.16 471.098 1537.53 Q475.704 1532.88 476.885 1531.53 Q479.13 1529.01 480.01 1527.27 Q480.912 1525.51 480.912 1523.82 Q480.912 1521.07 478.968 1519.33 Q477.047 1517.6 473.945 1517.6 Q471.746 1517.6 469.292 1518.36 Q466.862 1519.13 464.084 1520.68 L464.084 1515.95 Q466.908 1514.82 469.362 1514.24 Q471.815 1513.66 473.852 1513.66 Q479.223 1513.66 482.417 1516.35 Q485.612 1519.03 485.612 1523.52 Q485.612 1525.65 484.801 1527.57 Q484.014 1529.47 481.908 1532.07 Q481.329 1532.74 478.227 1535.95 Q475.125 1539.15 469.477 1544.91 Z\" fill=\"#000000\" fill-rule=\"evenodd\" fill-opacity=\"1\" /><path clip-path=\"url(#clip100)\" d=\"M931.989 1518.36 L920.183 1536.81 L931.989 1536.81 L931.989 1518.36 M930.762 1514.29 L936.642 1514.29 L936.642 1536.81 L941.572 1536.81 L941.572 1540.7 L936.642 1540.7 L936.642 1548.85 L931.989 1548.85 L931.989 1540.7 L916.387 1540.7 L916.387 1536.19 L930.762 1514.29 Z\" fill=\"#000000\" fill-rule=\"evenodd\" fill-opacity=\"1\" /><path clip-path=\"url(#clip100)\" d=\"M1383.54 1529.7 Q1380.39 1529.7 1378.54 1531.86 Q1376.71 1534.01 1376.71 1537.76 Q1376.71 1541.49 1378.54 1543.66 Q1380.39 1545.82 1383.54 1545.82 Q1386.69 1545.82 1388.52 1543.66 Q1390.37 1541.49 1390.37 1537.76 Q1390.37 1534.01 1388.52 1531.86 Q1386.69 1529.7 1383.54 1529.7 M1392.82 1515.05 L1392.82 1519.31 Q1391.06 1518.48 1389.26 1518.04 Q1387.48 1517.6 1385.72 1517.6 Q1381.09 1517.6 1378.63 1520.72 Q1376.2 1523.85 1375.85 1530.17 Q1377.22 1528.15 1379.28 1527.09 Q1381.34 1526 1383.82 1526 Q1389.03 1526 1392.04 1529.17 Q1395.07 1532.32 1395.07 1537.76 Q1395.07 1543.08 1391.92 1546.3 Q1388.77 1549.52 1383.54 1549.52 Q1377.54 1549.52 1374.37 1544.94 Q1371.2 1540.33 1371.2 1531.6 Q1371.2 1523.41 1375.09 1518.55 Q1378.98 1513.66 1385.53 1513.66 Q1387.29 1513.66 1389.07 1514.01 Q1390.88 1514.36 1392.82 1515.05 Z\" fill=\"#000000\" fill-rule=\"evenodd\" fill-opacity=\"1\" /><path clip-path=\"url(#clip100)\" d=\"M1837.29 1532.44 Q1833.96 1532.44 1832.04 1534.22 Q1830.14 1536 1830.14 1539.13 Q1830.14 1542.25 1832.04 1544.03 Q1833.96 1545.82 1837.29 1545.82 Q1840.62 1545.82 1842.54 1544.03 Q1844.47 1542.23 1844.47 1539.13 Q1844.47 1536 1842.54 1534.22 Q1840.65 1532.44 1837.29 1532.44 M1832.61 1530.45 Q1829.6 1529.7 1827.91 1527.64 Q1826.25 1525.58 1826.25 1522.62 Q1826.25 1518.48 1829.19 1516.07 Q1832.15 1513.66 1837.29 1513.66 Q1842.45 1513.66 1845.39 1516.07 Q1848.33 1518.48 1848.33 1522.62 Q1848.33 1525.58 1846.64 1527.64 Q1844.98 1529.7 1841.99 1530.45 Q1845.37 1531.23 1847.24 1533.52 Q1849.14 1535.82 1849.14 1539.13 Q1849.14 1544.15 1846.06 1546.83 Q1843.01 1549.52 1837.29 1549.52 Q1831.57 1549.52 1828.49 1546.83 Q1825.44 1544.15 1825.44 1539.13 Q1825.44 1535.82 1827.34 1533.52 Q1829.23 1531.23 1832.61 1530.45 M1830.9 1523.06 Q1830.9 1525.75 1832.57 1527.25 Q1834.26 1528.76 1837.29 1528.76 Q1840.3 1528.76 1841.99 1527.25 Q1843.7 1525.75 1843.7 1523.06 Q1843.7 1520.38 1841.99 1518.87 Q1840.3 1517.37 1837.29 1517.37 Q1834.26 1517.37 1832.57 1518.87 Q1830.9 1520.38 1830.9 1523.06 Z\" fill=\"#000000\" fill-rule=\"evenodd\" fill-opacity=\"1\" /><path clip-path=\"url(#clip100)\" d=\"M2266.13 1544.91 L2273.77 1544.91 L2273.77 1518.55 L2265.46 1520.21 L2265.46 1515.95 L2273.73 1514.29 L2278.4 1514.29 L2278.4 1544.91 L2286.04 1544.91 L2286.04 1548.85 L2266.13 1548.85 L2266.13 1544.91 Z\" fill=\"#000000\" fill-rule=\"evenodd\" fill-opacity=\"1\" /><path clip-path=\"url(#clip100)\" d=\"M2305.48 1517.37 Q2301.87 1517.37 2300.04 1520.93 Q2298.24 1524.47 2298.24 1531.6 Q2298.24 1538.71 2300.04 1542.27 Q2301.87 1545.82 2305.48 1545.82 Q2309.12 1545.82 2310.92 1542.27 Q2312.75 1538.71 2312.75 1531.6 Q2312.75 1524.47 2310.92 1520.93 Q2309.12 1517.37 2305.48 1517.37 M2305.48 1513.66 Q2311.29 1513.66 2314.35 1518.27 Q2317.43 1522.85 2317.43 1531.6 Q2317.43 1540.33 2314.35 1544.94 Q2311.29 1549.52 2305.48 1549.52 Q2299.67 1549.52 2296.6 1544.94 Q2293.54 1540.33 2293.54 1531.6 Q2293.54 1522.85 2296.6 1518.27 Q2299.67 1513.66 2305.48 1513.66 Z\" fill=\"#000000\" fill-rule=\"evenodd\" fill-opacity=\"1\" /><polyline clip-path=\"url(#clip102)\" style=\"stroke:#000000; stroke-linecap:butt; stroke-linejoin:round; stroke-width:2; stroke-opacity:0.1; fill:none\" points=\"\n",
       "  186.436,1312.29 2352.76,1312.29 \n",
       "  \"/>\n",
       "<polyline clip-path=\"url(#clip102)\" style=\"stroke:#000000; stroke-linecap:butt; stroke-linejoin:round; stroke-width:2; stroke-opacity:0.1; fill:none\" points=\"\n",
       "  186.436,1029.73 2352.76,1029.73 \n",
       "  \"/>\n",
       "<polyline clip-path=\"url(#clip102)\" style=\"stroke:#000000; stroke-linecap:butt; stroke-linejoin:round; stroke-width:2; stroke-opacity:0.1; fill:none\" points=\"\n",
       "  186.436,747.171 2352.76,747.171 \n",
       "  \"/>\n",
       "<polyline clip-path=\"url(#clip102)\" style=\"stroke:#000000; stroke-linecap:butt; stroke-linejoin:round; stroke-width:2; stroke-opacity:0.1; fill:none\" points=\"\n",
       "  186.436,464.614 2352.76,464.614 \n",
       "  \"/>\n",
       "<polyline clip-path=\"url(#clip102)\" style=\"stroke:#000000; stroke-linecap:butt; stroke-linejoin:round; stroke-width:2; stroke-opacity:0.1; fill:none\" points=\"\n",
       "  186.436,182.057 2352.76,182.057 \n",
       "  \"/>\n",
       "<polyline clip-path=\"url(#clip100)\" style=\"stroke:#000000; stroke-linecap:butt; stroke-linejoin:round; stroke-width:4; stroke-opacity:1; fill:none\" points=\"\n",
       "  186.436,1486.45 186.436,47.2441 \n",
       "  \"/>\n",
       "<polyline clip-path=\"url(#clip100)\" style=\"stroke:#000000; stroke-linecap:butt; stroke-linejoin:round; stroke-width:4; stroke-opacity:1; fill:none\" points=\"\n",
       "  186.436,1312.29 205.334,1312.29 \n",
       "  \"/>\n",
       "<polyline clip-path=\"url(#clip100)\" style=\"stroke:#000000; stroke-linecap:butt; stroke-linejoin:round; stroke-width:4; stroke-opacity:1; fill:none\" points=\"\n",
       "  186.436,1029.73 205.334,1029.73 \n",
       "  \"/>\n",
       "<polyline clip-path=\"url(#clip100)\" style=\"stroke:#000000; stroke-linecap:butt; stroke-linejoin:round; stroke-width:4; stroke-opacity:1; fill:none\" points=\"\n",
       "  186.436,747.171 205.334,747.171 \n",
       "  \"/>\n",
       "<polyline clip-path=\"url(#clip100)\" style=\"stroke:#000000; stroke-linecap:butt; stroke-linejoin:round; stroke-width:4; stroke-opacity:1; fill:none\" points=\"\n",
       "  186.436,464.614 205.334,464.614 \n",
       "  \"/>\n",
       "<polyline clip-path=\"url(#clip100)\" style=\"stroke:#000000; stroke-linecap:butt; stroke-linejoin:round; stroke-width:4; stroke-opacity:1; fill:none\" points=\"\n",
       "  186.436,182.057 205.334,182.057 \n",
       "  \"/>\n",
       "<path clip-path=\"url(#clip100)\" d=\"M64.0013 1298.08 Q60.3902 1298.08 58.5615 1301.65 Q56.756 1305.19 56.756 1312.32 Q56.756 1319.43 58.5615 1322.99 Q60.3902 1326.53 64.0013 1326.53 Q67.6356 1326.53 69.4411 1322.99 Q71.2698 1319.43 71.2698 1312.32 Q71.2698 1305.19 69.4411 1301.65 Q67.6356 1298.08 64.0013 1298.08 M64.0013 1294.38 Q69.8115 1294.38 72.867 1298.99 Q75.9457 1303.57 75.9457 1312.32 Q75.9457 1321.05 72.867 1325.65 Q69.8115 1330.24 64.0013 1330.24 Q58.1912 1330.24 55.1125 1325.65 Q52.0569 1321.05 52.0569 1312.32 Q52.0569 1303.57 55.1125 1298.99 Q58.1912 1294.38 64.0013 1294.38 Z\" fill=\"#000000\" fill-rule=\"evenodd\" fill-opacity=\"1\" /><path clip-path=\"url(#clip100)\" d=\"M84.1632 1323.69 L89.0475 1323.69 L89.0475 1329.57 L84.1632 1329.57 L84.1632 1323.69 Z\" fill=\"#000000\" fill-rule=\"evenodd\" fill-opacity=\"1\" /><path clip-path=\"url(#clip100)\" d=\"M109.233 1313.15 Q105.899 1313.15 103.978 1314.94 Q102.08 1316.72 102.08 1319.84 Q102.08 1322.97 103.978 1324.75 Q105.899 1326.53 109.233 1326.53 Q112.566 1326.53 114.487 1324.75 Q116.408 1322.95 116.408 1319.84 Q116.408 1316.72 114.487 1314.94 Q112.589 1313.15 109.233 1313.15 M104.557 1311.16 Q101.547 1310.42 99.8576 1308.36 Q98.1909 1306.3 98.1909 1303.34 Q98.1909 1299.2 101.131 1296.79 Q104.094 1294.38 109.233 1294.38 Q114.395 1294.38 117.334 1296.79 Q120.274 1299.2 120.274 1303.34 Q120.274 1306.3 118.584 1308.36 Q116.918 1310.42 113.932 1311.16 Q117.311 1311.95 119.186 1314.24 Q121.084 1316.53 121.084 1319.84 Q121.084 1324.87 118.006 1327.55 Q114.95 1330.24 109.233 1330.24 Q103.515 1330.24 100.436 1327.55 Q97.3808 1324.87 97.3808 1319.84 Q97.3808 1316.53 99.2789 1314.24 Q101.177 1311.95 104.557 1311.16 M102.844 1303.78 Q102.844 1306.46 104.51 1307.97 Q106.2 1309.47 109.233 1309.47 Q112.242 1309.47 113.932 1307.97 Q115.645 1306.46 115.645 1303.78 Q115.645 1301.09 113.932 1299.59 Q112.242 1298.08 109.233 1298.08 Q106.2 1298.08 104.51 1299.59 Q102.844 1301.09 102.844 1303.78 Z\" fill=\"#000000\" fill-rule=\"evenodd\" fill-opacity=\"1\" /><path clip-path=\"url(#clip100)\" d=\"M128.214 1295.01 L150.436 1295.01 L150.436 1297 L137.89 1329.57 L133.006 1329.57 L144.811 1298.94 L128.214 1298.94 L128.214 1295.01 Z\" fill=\"#000000\" fill-rule=\"evenodd\" fill-opacity=\"1\" /><path clip-path=\"url(#clip100)\" d=\"M63.0985 1015.53 Q59.4875 1015.53 57.6588 1019.09 Q55.8532 1022.63 55.8532 1029.76 Q55.8532 1036.87 57.6588 1040.43 Q59.4875 1043.98 63.0985 1043.98 Q66.7328 1043.98 68.5383 1040.43 Q70.367 1036.87 70.367 1029.76 Q70.367 1022.63 68.5383 1019.09 Q66.7328 1015.53 63.0985 1015.53 M63.0985 1011.82 Q68.9087 1011.82 71.9642 1016.43 Q75.0429 1021.01 75.0429 1029.76 Q75.0429 1038.49 71.9642 1043.1 Q68.9087 1047.68 63.0985 1047.68 Q57.2884 1047.68 54.2097 1043.1 Q51.1542 1038.49 51.1542 1029.76 Q51.1542 1021.01 54.2097 1016.43 Q57.2884 1011.82 63.0985 1011.82 Z\" fill=\"#000000\" fill-rule=\"evenodd\" fill-opacity=\"1\" /><path clip-path=\"url(#clip100)\" d=\"M83.2605 1041.13 L88.1447 1041.13 L88.1447 1047.01 L83.2605 1047.01 L83.2605 1041.13 Z\" fill=\"#000000\" fill-rule=\"evenodd\" fill-opacity=\"1\" /><path clip-path=\"url(#clip100)\" d=\"M98.4687 1046.29 L98.4687 1042.03 Q100.228 1042.87 102.034 1043.3 Q103.839 1043.74 105.575 1043.74 Q110.205 1043.74 112.635 1040.64 Q115.089 1037.52 115.436 1031.18 Q114.094 1033.17 112.033 1034.23 Q109.973 1035.3 107.473 1035.3 Q102.288 1035.3 99.2558 1032.17 Q96.2465 1029.02 96.2465 1023.58 Q96.2465 1018.26 99.3946 1015.04 Q102.543 1011.82 107.774 1011.82 Q113.77 1011.82 116.918 1016.43 Q120.089 1021.01 120.089 1029.76 Q120.089 1037.93 116.2 1042.82 Q112.334 1047.68 105.783 1047.68 Q104.024 1047.68 102.219 1047.33 Q100.413 1046.99 98.4687 1046.29 M107.774 1031.64 Q110.922 1031.64 112.751 1029.49 Q114.603 1027.33 114.603 1023.58 Q114.603 1019.86 112.751 1017.7 Q110.922 1015.53 107.774 1015.53 Q104.626 1015.53 102.774 1017.7 Q100.946 1019.86 100.946 1023.58 Q100.946 1027.33 102.774 1029.49 Q104.626 1031.64 107.774 1031.64 Z\" fill=\"#000000\" fill-rule=\"evenodd\" fill-opacity=\"1\" /><path clip-path=\"url(#clip100)\" d=\"M138.492 1015.53 Q134.881 1015.53 133.052 1019.09 Q131.246 1022.63 131.246 1029.76 Q131.246 1036.87 133.052 1040.43 Q134.881 1043.98 138.492 1043.98 Q142.126 1043.98 143.931 1040.43 Q145.76 1036.87 145.76 1029.76 Q145.76 1022.63 143.931 1019.09 Q142.126 1015.53 138.492 1015.53 M138.492 1011.82 Q144.302 1011.82 147.357 1016.43 Q150.436 1021.01 150.436 1029.76 Q150.436 1038.49 147.357 1043.1 Q144.302 1047.68 138.492 1047.68 Q132.682 1047.68 129.603 1043.1 Q126.547 1038.49 126.547 1029.76 Q126.547 1021.01 129.603 1016.43 Q132.682 1011.82 138.492 1011.82 Z\" fill=\"#000000\" fill-rule=\"evenodd\" fill-opacity=\"1\" /><path clip-path=\"url(#clip100)\" d=\"M63.7467 732.97 Q60.1356 732.97 58.3069 736.535 Q56.5014 740.076 56.5014 747.206 Q56.5014 754.313 58.3069 757.877 Q60.1356 761.419 63.7467 761.419 Q67.3809 761.419 69.1865 757.877 Q71.0152 754.313 71.0152 747.206 Q71.0152 740.076 69.1865 736.535 Q67.3809 732.97 63.7467 732.97 M63.7467 729.266 Q69.5568 729.266 72.6124 733.873 Q75.6911 738.456 75.6911 747.206 Q75.6911 755.933 72.6124 760.539 Q69.5568 765.123 63.7467 765.123 Q57.9365 765.123 54.8578 760.539 Q51.8023 755.933 51.8023 747.206 Q51.8023 738.456 54.8578 733.873 Q57.9365 729.266 63.7467 729.266 Z\" fill=\"#000000\" fill-rule=\"evenodd\" fill-opacity=\"1\" /><path clip-path=\"url(#clip100)\" d=\"M83.9086 758.572 L88.7928 758.572 L88.7928 764.451 L83.9086 764.451 L83.9086 758.572 Z\" fill=\"#000000\" fill-rule=\"evenodd\" fill-opacity=\"1\" /><path clip-path=\"url(#clip100)\" d=\"M99.1169 763.734 L99.1169 759.475 Q100.876 760.308 102.682 760.748 Q104.487 761.187 106.223 761.187 Q110.853 761.187 113.283 758.086 Q115.737 754.961 116.084 748.618 Q114.742 750.609 112.682 751.674 Q110.621 752.738 108.121 752.738 Q102.936 752.738 99.9039 749.613 Q96.8947 746.465 96.8947 741.026 Q96.8947 735.702 100.043 732.484 Q103.191 729.266 108.422 729.266 Q114.418 729.266 117.566 733.873 Q120.737 738.456 120.737 747.206 Q120.737 755.377 116.848 760.262 Q112.983 765.123 106.432 765.123 Q104.672 765.123 102.867 764.775 Q101.061 764.428 99.1169 763.734 M108.422 749.081 Q111.571 749.081 113.399 746.928 Q115.251 744.776 115.251 741.026 Q115.251 737.299 113.399 735.146 Q111.571 732.97 108.422 732.97 Q105.274 732.97 103.422 735.146 Q101.594 737.299 101.594 741.026 Q101.594 744.776 103.422 746.928 Q105.274 749.081 108.422 749.081 Z\" fill=\"#000000\" fill-rule=\"evenodd\" fill-opacity=\"1\" /><path clip-path=\"url(#clip100)\" d=\"M143.306 745.817 Q146.663 746.535 148.538 748.803 Q150.436 751.072 150.436 754.405 Q150.436 759.521 146.918 762.322 Q143.399 765.123 136.918 765.123 Q134.742 765.123 132.427 764.683 Q130.135 764.266 127.682 763.41 L127.682 758.896 Q129.626 760.03 131.941 760.609 Q134.256 761.187 136.779 761.187 Q141.177 761.187 143.468 759.451 Q145.783 757.715 145.783 754.405 Q145.783 751.35 143.631 749.637 Q141.501 747.901 137.681 747.901 L133.654 747.901 L133.654 744.058 L137.867 744.058 Q141.316 744.058 143.144 742.692 Q144.973 741.303 144.973 738.711 Q144.973 736.049 143.075 734.637 Q141.2 733.202 137.681 733.202 Q135.76 733.202 133.561 733.618 Q131.362 734.035 128.723 734.914 L128.723 730.748 Q131.385 730.007 133.7 729.637 Q136.038 729.266 138.098 729.266 Q143.422 729.266 146.524 731.697 Q149.626 734.104 149.626 738.225 Q149.626 741.095 147.982 743.086 Q146.339 745.053 143.306 745.817 Z\" fill=\"#000000\" fill-rule=\"evenodd\" fill-opacity=\"1\" /><path clip-path=\"url(#clip100)\" d=\"M62.9365 450.413 Q59.3254 450.413 57.4967 453.978 Q55.6912 457.519 55.6912 464.649 Q55.6912 471.755 57.4967 475.32 Q59.3254 478.862 62.9365 478.862 Q66.5707 478.862 68.3763 475.32 Q70.205 471.755 70.205 464.649 Q70.205 457.519 68.3763 453.978 Q66.5707 450.413 62.9365 450.413 M62.9365 446.709 Q68.7467 446.709 71.8022 451.316 Q74.8809 455.899 74.8809 464.649 Q74.8809 473.376 71.8022 477.982 Q68.7467 482.565 62.9365 482.565 Q57.1264 482.565 54.0477 477.982 Q50.9921 473.376 50.9921 464.649 Q50.9921 455.899 54.0477 451.316 Q57.1264 446.709 62.9365 446.709 Z\" fill=\"#000000\" fill-rule=\"evenodd\" fill-opacity=\"1\" /><path clip-path=\"url(#clip100)\" d=\"M83.0984 476.014 L87.9827 476.014 L87.9827 481.894 L83.0984 481.894 L83.0984 476.014 Z\" fill=\"#000000\" fill-rule=\"evenodd\" fill-opacity=\"1\" /><path clip-path=\"url(#clip100)\" d=\"M98.3067 481.177 L98.3067 476.917 Q100.066 477.751 101.871 478.19 Q103.677 478.63 105.413 478.63 Q110.043 478.63 112.473 475.528 Q114.927 472.403 115.274 466.061 Q113.932 468.052 111.871 469.116 Q109.811 470.181 107.311 470.181 Q102.126 470.181 99.0937 467.056 Q96.0845 463.908 96.0845 458.468 Q96.0845 453.144 99.2326 449.927 Q102.381 446.709 107.612 446.709 Q113.608 446.709 116.756 451.316 Q119.927 455.899 119.927 464.649 Q119.927 472.82 116.038 477.704 Q112.172 482.565 105.621 482.565 Q103.862 482.565 102.057 482.218 Q100.251 481.871 98.3067 481.177 M107.612 466.524 Q110.76 466.524 112.589 464.371 Q114.441 462.218 114.441 458.468 Q114.441 454.741 112.589 452.589 Q110.76 450.413 107.612 450.413 Q104.464 450.413 102.612 452.589 Q100.784 454.741 100.784 458.468 Q100.784 462.218 102.612 464.371 Q104.464 466.524 107.612 466.524 Z\" fill=\"#000000\" fill-rule=\"evenodd\" fill-opacity=\"1\" /><path clip-path=\"url(#clip100)\" d=\"M138.908 462.751 Q135.76 462.751 133.908 464.903 Q132.08 467.056 132.08 470.806 Q132.08 474.533 133.908 476.709 Q135.76 478.862 138.908 478.862 Q142.056 478.862 143.885 476.709 Q145.737 474.533 145.737 470.806 Q145.737 467.056 143.885 464.903 Q142.056 462.751 138.908 462.751 M148.191 448.098 L148.191 452.357 Q146.431 451.524 144.626 451.084 Q142.843 450.644 141.084 450.644 Q136.455 450.644 134.001 453.769 Q131.57 456.894 131.223 463.214 Q132.589 461.2 134.649 460.135 Q136.709 459.047 139.186 459.047 Q144.394 459.047 147.404 462.218 Q150.436 465.366 150.436 470.806 Q150.436 476.13 147.288 479.348 Q144.14 482.565 138.908 482.565 Q132.913 482.565 129.742 477.982 Q126.57 473.376 126.57 464.649 Q126.57 456.454 130.459 451.593 Q134.348 446.709 140.899 446.709 Q142.658 446.709 144.441 447.056 Q146.246 447.404 148.191 448.098 Z\" fill=\"#000000\" fill-rule=\"evenodd\" fill-opacity=\"1\" /><path clip-path=\"url(#clip100)\" d=\"M63.2837 167.856 Q59.6726 167.856 57.8439 171.42 Q56.0384 174.962 56.0384 182.092 Q56.0384 189.198 57.8439 192.763 Q59.6726 196.304 63.2837 196.304 Q66.918 196.304 68.7235 192.763 Q70.5522 189.198 70.5522 182.092 Q70.5522 174.962 68.7235 171.42 Q66.918 167.856 63.2837 167.856 M63.2837 164.152 Q69.0939 164.152 72.1494 168.758 Q75.2281 173.342 75.2281 182.092 Q75.2281 190.818 72.1494 195.425 Q69.0939 200.008 63.2837 200.008 Q57.4736 200.008 54.3949 195.425 Q51.3393 190.818 51.3393 182.092 Q51.3393 173.342 54.3949 168.758 Q57.4736 164.152 63.2837 164.152 Z\" fill=\"#000000\" fill-rule=\"evenodd\" fill-opacity=\"1\" /><path clip-path=\"url(#clip100)\" d=\"M83.4457 193.457 L88.3299 193.457 L88.3299 199.337 L83.4457 199.337 L83.4457 193.457 Z\" fill=\"#000000\" fill-rule=\"evenodd\" fill-opacity=\"1\" /><path clip-path=\"url(#clip100)\" d=\"M98.6539 198.619 L98.6539 194.36 Q100.413 195.193 102.219 195.633 Q104.024 196.073 105.76 196.073 Q110.39 196.073 112.82 192.971 Q115.274 189.846 115.621 183.504 Q114.279 185.494 112.219 186.559 Q110.158 187.624 107.658 187.624 Q102.473 187.624 99.4409 184.499 Q96.4317 181.351 96.4317 175.911 Q96.4317 170.587 99.5798 167.369 Q102.728 164.152 107.959 164.152 Q113.955 164.152 117.103 168.758 Q120.274 173.342 120.274 182.092 Q120.274 190.263 116.385 195.147 Q112.52 200.008 105.969 200.008 Q104.209 200.008 102.404 199.661 Q100.598 199.314 98.6539 198.619 M107.959 183.967 Q111.108 183.967 112.936 181.814 Q114.788 179.661 114.788 175.911 Q114.788 172.184 112.936 170.031 Q111.108 167.856 107.959 167.856 Q104.811 167.856 102.959 170.031 Q101.131 172.184 101.131 175.911 Q101.131 179.661 102.959 181.814 Q104.811 183.967 107.959 183.967 Z\" fill=\"#000000\" fill-rule=\"evenodd\" fill-opacity=\"1\" /><path clip-path=\"url(#clip100)\" d=\"M128.816 198.619 L128.816 194.36 Q130.575 195.193 132.381 195.633 Q134.186 196.073 135.922 196.073 Q140.552 196.073 142.982 192.971 Q145.436 189.846 145.783 183.504 Q144.441 185.494 142.381 186.559 Q140.32 187.624 137.82 187.624 Q132.635 187.624 129.603 184.499 Q126.594 181.351 126.594 175.911 Q126.594 170.587 129.742 167.369 Q132.89 164.152 138.121 164.152 Q144.117 164.152 147.265 168.758 Q150.436 173.342 150.436 182.092 Q150.436 190.263 146.547 195.147 Q142.681 200.008 136.131 200.008 Q134.371 200.008 132.566 199.661 Q130.76 199.314 128.816 198.619 M138.121 183.967 Q141.269 183.967 143.098 181.814 Q144.95 179.661 144.95 175.911 Q144.95 172.184 143.098 170.031 Q141.269 167.856 138.121 167.856 Q134.973 167.856 133.121 170.031 Q131.293 172.184 131.293 175.911 Q131.293 179.661 133.121 181.814 Q134.973 183.967 138.121 183.967 Z\" fill=\"#000000\" fill-rule=\"evenodd\" fill-opacity=\"1\" /><polyline clip-path=\"url(#clip102)\" style=\"stroke:#009af9; stroke-linecap:butt; stroke-linejoin:round; stroke-width:4; stroke-opacity:1; fill:none\" points=\"\n",
       "  247.747,87.9903 474.825,88.0243 701.902,88.0707 928.98,88.1232 1156.06,88.1817 1383.13,88.2462 1610.21,88.3165 1837.29,88.3927 2064.37,88.4746 2291.44,88.5623 \n",
       "  \n",
       "  \"/>\n",
       "<polyline clip-path=\"url(#clip102)\" style=\"stroke:#e26f46; stroke-linecap:butt; stroke-linejoin:round; stroke-width:4; stroke-opacity:1; fill:none\" points=\"\n",
       "  247.747,87.9763 474.825,87.9763 701.902,87.9763 928.98,87.9763 1156.06,87.9763 1383.13,87.9763 1610.21,87.9763 1837.29,87.9763 2064.37,87.9763 2291.44,87.9763 \n",
       "  \n",
       "  \"/>\n",
       "<polyline clip-path=\"url(#clip102)\" style=\"stroke:#3da44d; stroke-linecap:butt; stroke-linejoin:round; stroke-width:4; stroke-opacity:1; fill:none\" points=\"\n",
       "  247.747,88.0479 474.825,88.0479 701.902,88.0479 928.98,88.0479 1156.06,88.0479 1383.13,88.0479 1610.21,88.0479 1837.29,88.0479 2064.37,88.0479 2291.44,88.0479 \n",
       "  \n",
       "  \"/>\n",
       "<polyline clip-path=\"url(#clip102)\" style=\"stroke:#c271d2; stroke-linecap:butt; stroke-linejoin:round; stroke-width:4; stroke-opacity:1; fill:none\" points=\"\n",
       "  247.747,1445.72 474.825,1445.72 701.902,1445.72 928.98,1445.72 1156.06,1445.72 1383.13,1445.72 1610.21,1445.72 1837.29,1445.72 2064.37,1445.72 2291.44,1445.72 \n",
       "  \n",
       "  \"/>\n",
       "<path clip-path=\"url(#clip100)\" d=\"\n",
       "M1985.7 354.418 L2280.55 354.418 L2280.55 95.2176 L1985.7 95.2176  Z\n",
       "  \" fill=\"#ffffff\" fill-rule=\"evenodd\" fill-opacity=\"1\"/>\n",
       "<polyline clip-path=\"url(#clip100)\" style=\"stroke:#000000; stroke-linecap:butt; stroke-linejoin:round; stroke-width:4; stroke-opacity:1; fill:none\" points=\"\n",
       "  1985.7,354.418 2280.55,354.418 2280.55,95.2176 1985.7,95.2176 1985.7,354.418 \n",
       "  \"/>\n",
       "<polyline clip-path=\"url(#clip100)\" style=\"stroke:#009af9; stroke-linecap:butt; stroke-linejoin:round; stroke-width:4; stroke-opacity:1; fill:none\" points=\"\n",
       "  2009.77,147.058 2154.19,147.058 \n",
       "  \"/>\n",
       "<path clip-path=\"url(#clip100)\" d=\"M2192.1 166.745 Q2190.3 171.375 2188.59 172.787 Q2186.87 174.199 2184 174.199 L2180.6 174.199 L2180.6 170.634 L2183.1 170.634 Q2184.86 170.634 2185.83 169.8 Q2186.8 168.967 2187.98 165.865 L2188.75 163.921 L2178.26 138.412 L2182.78 138.412 L2190.88 158.689 L2198.98 138.412 L2203.49 138.412 L2192.1 166.745 Z\" fill=\"#000000\" fill-rule=\"evenodd\" fill-opacity=\"1\" /><path clip-path=\"url(#clip100)\" d=\"M2210.78 160.402 L2218.42 160.402 L2218.42 134.037 L2210.11 135.703 L2210.11 131.444 L2218.38 129.778 L2223.05 129.778 L2223.05 160.402 L2230.69 160.402 L2230.69 164.338 L2210.78 164.338 L2210.78 160.402 Z\" fill=\"#000000\" fill-rule=\"evenodd\" fill-opacity=\"1\" /><polyline clip-path=\"url(#clip100)\" style=\"stroke:#e26f46; stroke-linecap:butt; stroke-linejoin:round; stroke-width:4; stroke-opacity:1; fill:none\" points=\"\n",
       "  2009.77,198.898 2154.19,198.898 \n",
       "  \"/>\n",
       "<path clip-path=\"url(#clip100)\" d=\"M2192.1 218.585 Q2190.3 223.215 2188.59 224.627 Q2186.87 226.039 2184 226.039 L2180.6 226.039 L2180.6 222.474 L2183.1 222.474 Q2184.86 222.474 2185.83 221.64 Q2186.8 220.807 2187.98 217.705 L2188.75 215.761 L2178.26 190.252 L2182.78 190.252 L2190.88 210.529 L2198.98 190.252 L2203.49 190.252 L2192.1 218.585 Z\" fill=\"#000000\" fill-rule=\"evenodd\" fill-opacity=\"1\" /><path clip-path=\"url(#clip100)\" d=\"M2214 212.242 L2230.32 212.242 L2230.32 216.178 L2208.38 216.178 L2208.38 212.242 Q2211.04 209.488 2215.62 204.858 Q2220.23 200.205 2221.41 198.863 Q2223.65 196.34 2224.53 194.604 Q2225.44 192.844 2225.44 191.155 Q2225.44 188.4 2223.49 186.664 Q2221.57 184.928 2218.47 184.928 Q2216.27 184.928 2213.82 185.692 Q2211.39 186.455 2208.61 188.006 L2208.61 183.284 Q2211.43 182.15 2213.89 181.571 Q2216.34 180.993 2218.38 180.993 Q2223.75 180.993 2226.94 183.678 Q2230.14 186.363 2230.14 190.854 Q2230.14 192.983 2229.33 194.905 Q2228.54 196.803 2226.43 199.395 Q2225.85 200.067 2222.75 203.284 Q2219.65 206.479 2214 212.242 Z\" fill=\"#000000\" fill-rule=\"evenodd\" fill-opacity=\"1\" /><polyline clip-path=\"url(#clip100)\" style=\"stroke:#3da44d; stroke-linecap:butt; stroke-linejoin:round; stroke-width:4; stroke-opacity:1; fill:none\" points=\"\n",
       "  2009.77,250.738 2154.19,250.738 \n",
       "  \"/>\n",
       "<path clip-path=\"url(#clip100)\" d=\"M2192.1 270.425 Q2190.3 275.055 2188.59 276.467 Q2186.87 277.879 2184 277.879 L2180.6 277.879 L2180.6 274.314 L2183.1 274.314 Q2184.86 274.314 2185.83 273.48 Q2186.8 272.647 2187.98 269.545 L2188.75 267.601 L2178.26 242.092 L2182.78 242.092 L2190.88 262.369 L2198.98 242.092 L2203.49 242.092 L2192.1 270.425 Z\" fill=\"#000000\" fill-rule=\"evenodd\" fill-opacity=\"1\" /><path clip-path=\"url(#clip100)\" d=\"M2224.14 249.383 Q2227.5 250.101 2229.37 252.369 Q2231.27 254.638 2231.27 257.971 Q2231.27 263.087 2227.75 265.888 Q2224.23 268.689 2217.75 268.689 Q2215.58 268.689 2213.26 268.249 Q2210.97 267.832 2208.52 266.976 L2208.52 262.462 Q2210.46 263.596 2212.78 264.175 Q2215.09 264.754 2217.61 264.754 Q2222.01 264.754 2224.3 263.018 Q2226.62 261.281 2226.62 257.971 Q2226.62 254.916 2224.47 253.203 Q2222.34 251.467 2218.52 251.467 L2214.49 251.467 L2214.49 247.624 L2218.7 247.624 Q2222.15 247.624 2223.98 246.258 Q2225.81 244.87 2225.81 242.277 Q2225.81 239.615 2223.91 238.203 Q2222.03 236.768 2218.52 236.768 Q2216.59 236.768 2214.4 237.184 Q2212.2 237.601 2209.56 238.481 L2209.56 234.314 Q2212.22 233.573 2214.53 233.203 Q2216.87 232.833 2218.93 232.833 Q2224.26 232.833 2227.36 235.263 Q2230.46 237.67 2230.46 241.791 Q2230.46 244.661 2228.82 246.652 Q2227.17 248.62 2224.14 249.383 Z\" fill=\"#000000\" fill-rule=\"evenodd\" fill-opacity=\"1\" /><polyline clip-path=\"url(#clip100)\" style=\"stroke:#c271d2; stroke-linecap:butt; stroke-linejoin:round; stroke-width:4; stroke-opacity:1; fill:none\" points=\"\n",
       "  2009.77,302.578 2154.19,302.578 \n",
       "  \"/>\n",
       "<path clip-path=\"url(#clip100)\" d=\"M2192.1 322.265 Q2190.3 326.895 2188.59 328.307 Q2186.87 329.719 2184 329.719 L2180.6 329.719 L2180.6 326.154 L2183.1 326.154 Q2184.86 326.154 2185.83 325.32 Q2186.8 324.487 2187.98 321.385 L2188.75 319.441 L2178.26 293.932 L2182.78 293.932 L2190.88 314.209 L2198.98 293.932 L2203.49 293.932 L2192.1 322.265 Z\" fill=\"#000000\" fill-rule=\"evenodd\" fill-opacity=\"1\" /><path clip-path=\"url(#clip100)\" d=\"M2222.82 289.372 L2211.02 307.821 L2222.82 307.821 L2222.82 289.372 M2221.59 285.298 L2227.47 285.298 L2227.47 307.821 L2232.4 307.821 L2232.4 311.709 L2227.47 311.709 L2227.47 319.858 L2222.82 319.858 L2222.82 311.709 L2207.22 311.709 L2207.22 307.196 L2221.59 285.298 Z\" fill=\"#000000\" fill-rule=\"evenodd\" fill-opacity=\"1\" /></svg>\n"
      ]
     },
     "execution_count": 13,
     "metadata": {},
     "output_type": "execute_result"
    }
   ],
   "source": [
    "using Plots\n",
    "plot(fidelity_lsid)\n",
    "plot!(fidelity_simp)\n",
    "plot!(fidelity_pade)\n",
    "plot!(fidelity_kraus)"
   ]
  },
  {
   "cell_type": "code",
   "execution_count": 14,
   "id": "62fea479",
   "metadata": {},
   "outputs": [],
   "source": [
    "fidelities = Array{Float64}(undef, length(noise_levels), length(seeds[1:2]), length(time_multipliers), 4)\n",
    "\n",
    "for n in 1:length(noise_levels)\n",
    "    for s in 1:length(seeds[1:2])\n",
    "        noise = noise_levels[n]\n",
    "        seed = seeds[s]\n",
    "        fidelity_lsid, fidelity_simp, fidelity_pade, fidelity_kraus = read_fidelities_time_series(res_file_name, noise, seed)\n",
    "        for m in length(time_multipliers)\n",
    "            fidelities[n, s, m, 1] = fidelity_lsid[m]\n",
    "            fidelities[n, s, m, 2] = fidelity_simp[m] \n",
    "            fidelities[n, s, m, 3] = fidelity_pade[m] \n",
    "            fidelities[n, s, m, 4] = fidelity_kraus[m] \n",
    "        end\n",
    "    end\n",
    "end "
   ]
  },
  {
   "cell_type": "code",
   "execution_count": 15,
   "id": "e57012ee",
   "metadata": {},
   "outputs": [
    {
     "data": {
      "text/plain": [
       "1×10 Matrix{Float64}:\n",
       " 1.15759e-315  5.58291e-315  …  9.03377e-316  1.72221e178  0.741489"
      ]
     },
     "execution_count": 15,
     "metadata": {},
     "output_type": "execute_result"
    }
   ],
   "source": [
    "# Time series with zero noise\n",
    "fid_lsid_timeseries = mean(fidelities[1,:,:,1], dims=1)\n",
    "fid_simp_timeseries = mean(fidelities[1,:,:,1], dims=1)\n",
    "fid_pade_timeseries = mean(fidelities[1,:,:,1], dims=1)\n",
    "fid_kraus_timeseries = mean(fidelities[1,:,:,1], dims=1)"
   ]
  },
  {
   "cell_type": "code",
   "execution_count": 16,
   "id": "d9ad9b7a",
   "metadata": {},
   "outputs": [
    {
     "data": {
      "image/svg+xml": [
       "<?xml version=\"1.0\" encoding=\"utf-8\"?>\n",
       "<svg xmlns=\"http://www.w3.org/2000/svg\" xmlns:xlink=\"http://www.w3.org/1999/xlink\" width=\"600\" height=\"400\" viewBox=\"0 0 2400 1600\">\n",
       "<defs>\n",
       "  <clipPath id=\"clip140\">\n",
       "    <rect x=\"0\" y=\"0\" width=\"2400\" height=\"1600\"/>\n",
       "  </clipPath>\n",
       "</defs>\n",
       "<path clip-path=\"url(#clip140)\" d=\"\n",
       "M0 1600 L2400 1600 L2400 0 L0 0  Z\n",
       "  \" fill=\"#ffffff\" fill-rule=\"evenodd\" fill-opacity=\"1\"/>\n",
       "<defs>\n",
       "  <clipPath id=\"clip141\">\n",
       "    <rect x=\"480\" y=\"0\" width=\"1681\" height=\"1600\"/>\n",
       "  </clipPath>\n",
       "</defs>\n",
       "<path clip-path=\"url(#clip140)\" d=\"\n",
       "M351.784 1486.45 L2352.76 1486.45 L2352.76 47.2441 L351.784 47.2441  Z\n",
       "  \" fill=\"#ffffff\" fill-rule=\"evenodd\" fill-opacity=\"1\"/>\n",
       "<defs>\n",
       "  <clipPath id=\"clip142\">\n",
       "    <rect x=\"351\" y=\"47\" width=\"2002\" height=\"1440\"/>\n",
       "  </clipPath>\n",
       "</defs>\n",
       "<polyline clip-path=\"url(#clip142)\" style=\"stroke:#000000; stroke-linecap:butt; stroke-linejoin:round; stroke-width:2; stroke-opacity:0.1; fill:none\" points=\"\n",
       "  618.161,1486.45 618.161,47.2441 \n",
       "  \"/>\n",
       "<polyline clip-path=\"url(#clip142)\" style=\"stroke:#000000; stroke-linecap:butt; stroke-linejoin:round; stroke-width:2; stroke-opacity:0.1; fill:none\" points=\"\n",
       "  1037.65,1486.45 1037.65,47.2441 \n",
       "  \"/>\n",
       "<polyline clip-path=\"url(#clip142)\" style=\"stroke:#000000; stroke-linecap:butt; stroke-linejoin:round; stroke-width:2; stroke-opacity:0.1; fill:none\" points=\"\n",
       "  1457.14,1486.45 1457.14,47.2441 \n",
       "  \"/>\n",
       "<polyline clip-path=\"url(#clip142)\" style=\"stroke:#000000; stroke-linecap:butt; stroke-linejoin:round; stroke-width:2; stroke-opacity:0.1; fill:none\" points=\"\n",
       "  1876.63,1486.45 1876.63,47.2441 \n",
       "  \"/>\n",
       "<polyline clip-path=\"url(#clip142)\" style=\"stroke:#000000; stroke-linecap:butt; stroke-linejoin:round; stroke-width:2; stroke-opacity:0.1; fill:none\" points=\"\n",
       "  2296.12,1486.45 2296.12,47.2441 \n",
       "  \"/>\n",
       "<polyline clip-path=\"url(#clip140)\" style=\"stroke:#000000; stroke-linecap:butt; stroke-linejoin:round; stroke-width:4; stroke-opacity:1; fill:none\" points=\"\n",
       "  351.784,1486.45 2352.76,1486.45 \n",
       "  \"/>\n",
       "<polyline clip-path=\"url(#clip140)\" style=\"stroke:#000000; stroke-linecap:butt; stroke-linejoin:round; stroke-width:4; stroke-opacity:1; fill:none\" points=\"\n",
       "  618.161,1486.45 618.161,1467.55 \n",
       "  \"/>\n",
       "<polyline clip-path=\"url(#clip140)\" style=\"stroke:#000000; stroke-linecap:butt; stroke-linejoin:round; stroke-width:4; stroke-opacity:1; fill:none\" points=\"\n",
       "  1037.65,1486.45 1037.65,1467.55 \n",
       "  \"/>\n",
       "<polyline clip-path=\"url(#clip140)\" style=\"stroke:#000000; stroke-linecap:butt; stroke-linejoin:round; stroke-width:4; stroke-opacity:1; fill:none\" points=\"\n",
       "  1457.14,1486.45 1457.14,1467.55 \n",
       "  \"/>\n",
       "<polyline clip-path=\"url(#clip140)\" style=\"stroke:#000000; stroke-linecap:butt; stroke-linejoin:round; stroke-width:4; stroke-opacity:1; fill:none\" points=\"\n",
       "  1876.63,1486.45 1876.63,1467.55 \n",
       "  \"/>\n",
       "<polyline clip-path=\"url(#clip140)\" style=\"stroke:#000000; stroke-linecap:butt; stroke-linejoin:round; stroke-width:4; stroke-opacity:1; fill:none\" points=\"\n",
       "  2296.12,1486.45 2296.12,1467.55 \n",
       "  \"/>\n",
       "<path clip-path=\"url(#clip140)\" d=\"M612.813 1544.91 L629.133 1544.91 L629.133 1548.85 L607.188 1548.85 L607.188 1544.91 Q609.85 1542.16 614.434 1537.53 Q619.04 1532.88 620.221 1531.53 Q622.466 1529.01 623.346 1527.27 Q624.249 1525.51 624.249 1523.82 Q624.249 1521.07 622.304 1519.33 Q620.383 1517.6 617.281 1517.6 Q615.082 1517.6 612.628 1518.36 Q610.198 1519.13 607.42 1520.68 L607.42 1515.95 Q610.244 1514.82 612.698 1514.24 Q615.151 1513.66 617.188 1513.66 Q622.559 1513.66 625.753 1516.35 Q628.948 1519.03 628.948 1523.52 Q628.948 1525.65 628.137 1527.57 Q627.35 1529.47 625.244 1532.07 Q624.665 1532.74 621.563 1535.95 Q618.462 1539.15 612.813 1544.91 Z\" fill=\"#000000\" fill-rule=\"evenodd\" fill-opacity=\"1\" /><path clip-path=\"url(#clip140)\" d=\"M1040.66 1518.36 L1028.86 1536.81 L1040.66 1536.81 L1040.66 1518.36 M1039.43 1514.29 L1045.31 1514.29 L1045.31 1536.81 L1050.24 1536.81 L1050.24 1540.7 L1045.31 1540.7 L1045.31 1548.85 L1040.66 1548.85 L1040.66 1540.7 L1025.06 1540.7 L1025.06 1536.19 L1039.43 1514.29 Z\" fill=\"#000000\" fill-rule=\"evenodd\" fill-opacity=\"1\" /><path clip-path=\"url(#clip140)\" d=\"M1457.55 1529.7 Q1454.4 1529.7 1452.55 1531.86 Q1450.72 1534.01 1450.72 1537.76 Q1450.72 1541.49 1452.55 1543.66 Q1454.4 1545.82 1457.55 1545.82 Q1460.7 1545.82 1462.52 1543.66 Q1464.38 1541.49 1464.38 1537.76 Q1464.38 1534.01 1462.52 1531.86 Q1460.7 1529.7 1457.55 1529.7 M1466.83 1515.05 L1466.83 1519.31 Q1465.07 1518.48 1463.27 1518.04 Q1461.48 1517.6 1459.72 1517.6 Q1455.09 1517.6 1452.64 1520.72 Q1450.21 1523.85 1449.86 1530.17 Q1451.23 1528.15 1453.29 1527.09 Q1455.35 1526 1457.83 1526 Q1463.03 1526 1466.04 1529.17 Q1469.08 1532.32 1469.08 1537.76 Q1469.08 1543.08 1465.93 1546.3 Q1462.78 1549.52 1457.55 1549.52 Q1451.55 1549.52 1448.38 1544.94 Q1445.21 1540.33 1445.21 1531.6 Q1445.21 1523.41 1449.1 1518.55 Q1452.99 1513.66 1459.54 1513.66 Q1461.3 1513.66 1463.08 1514.01 Q1464.89 1514.36 1466.83 1515.05 Z\" fill=\"#000000\" fill-rule=\"evenodd\" fill-opacity=\"1\" /><path clip-path=\"url(#clip140)\" d=\"M1876.63 1532.44 Q1873.3 1532.44 1871.38 1534.22 Q1869.48 1536 1869.48 1539.13 Q1869.48 1542.25 1871.38 1544.03 Q1873.3 1545.82 1876.63 1545.82 Q1879.97 1545.82 1881.89 1544.03 Q1883.81 1542.23 1883.81 1539.13 Q1883.81 1536 1881.89 1534.22 Q1879.99 1532.44 1876.63 1532.44 M1871.96 1530.45 Q1868.95 1529.7 1867.26 1527.64 Q1865.59 1525.58 1865.59 1522.62 Q1865.59 1518.48 1868.53 1516.07 Q1871.49 1513.66 1876.63 1513.66 Q1881.8 1513.66 1884.74 1516.07 Q1887.68 1518.48 1887.68 1522.62 Q1887.68 1525.58 1885.99 1527.64 Q1884.32 1529.7 1881.33 1530.45 Q1884.71 1531.23 1886.59 1533.52 Q1888.49 1535.82 1888.49 1539.13 Q1888.49 1544.15 1885.41 1546.83 Q1882.35 1549.52 1876.63 1549.52 Q1870.92 1549.52 1867.84 1546.83 Q1864.78 1544.15 1864.78 1539.13 Q1864.78 1535.82 1866.68 1533.52 Q1868.58 1531.23 1871.96 1530.45 M1870.24 1523.06 Q1870.24 1525.75 1871.91 1527.25 Q1873.6 1528.76 1876.63 1528.76 Q1879.64 1528.76 1881.33 1527.25 Q1883.05 1525.75 1883.05 1523.06 Q1883.05 1520.38 1881.33 1518.87 Q1879.64 1517.37 1876.63 1517.37 Q1873.6 1517.37 1871.91 1518.87 Q1870.24 1520.38 1870.24 1523.06 Z\" fill=\"#000000\" fill-rule=\"evenodd\" fill-opacity=\"1\" /><path clip-path=\"url(#clip140)\" d=\"M2270.81 1544.91 L2278.45 1544.91 L2278.45 1518.55 L2270.14 1520.21 L2270.14 1515.95 L2278.4 1514.29 L2283.08 1514.29 L2283.08 1544.91 L2290.72 1544.91 L2290.72 1548.85 L2270.81 1548.85 L2270.81 1544.91 Z\" fill=\"#000000\" fill-rule=\"evenodd\" fill-opacity=\"1\" /><path clip-path=\"url(#clip140)\" d=\"M2310.16 1517.37 Q2306.55 1517.37 2304.72 1520.93 Q2302.92 1524.47 2302.92 1531.6 Q2302.92 1538.71 2304.72 1542.27 Q2306.55 1545.82 2310.16 1545.82 Q2313.8 1545.82 2315.6 1542.27 Q2317.43 1538.71 2317.43 1531.6 Q2317.43 1524.47 2315.6 1520.93 Q2313.8 1517.37 2310.16 1517.37 M2310.16 1513.66 Q2315.97 1513.66 2319.03 1518.27 Q2322.11 1522.85 2322.11 1531.6 Q2322.11 1540.33 2319.03 1544.94 Q2315.97 1549.52 2310.16 1549.52 Q2304.35 1549.52 2301.28 1544.94 Q2298.22 1540.33 2298.22 1531.6 Q2298.22 1522.85 2301.28 1518.27 Q2304.35 1513.66 2310.16 1513.66 Z\" fill=\"#000000\" fill-rule=\"evenodd\" fill-opacity=\"1\" /><polyline clip-path=\"url(#clip142)\" style=\"stroke:#000000; stroke-linecap:butt; stroke-linejoin:round; stroke-width:2; stroke-opacity:0.1; fill:none\" points=\"\n",
       "  351.784,1445.72 2352.76,1445.72 \n",
       "  \"/>\n",
       "<polyline clip-path=\"url(#clip142)\" style=\"stroke:#000000; stroke-linecap:butt; stroke-linejoin:round; stroke-width:2; stroke-opacity:0.1; fill:none\" points=\"\n",
       "  351.784,1051.53 2352.76,1051.53 \n",
       "  \"/>\n",
       "<polyline clip-path=\"url(#clip142)\" style=\"stroke:#000000; stroke-linecap:butt; stroke-linejoin:round; stroke-width:2; stroke-opacity:0.1; fill:none\" points=\"\n",
       "  351.784,657.346 2352.76,657.346 \n",
       "  \"/>\n",
       "<polyline clip-path=\"url(#clip142)\" style=\"stroke:#000000; stroke-linecap:butt; stroke-linejoin:round; stroke-width:2; stroke-opacity:0.1; fill:none\" points=\"\n",
       "  351.784,263.161 2352.76,263.161 \n",
       "  \"/>\n",
       "<polyline clip-path=\"url(#clip140)\" style=\"stroke:#000000; stroke-linecap:butt; stroke-linejoin:round; stroke-width:4; stroke-opacity:1; fill:none\" points=\"\n",
       "  351.784,1486.45 351.784,47.2441 \n",
       "  \"/>\n",
       "<polyline clip-path=\"url(#clip140)\" style=\"stroke:#000000; stroke-linecap:butt; stroke-linejoin:round; stroke-width:4; stroke-opacity:1; fill:none\" points=\"\n",
       "  351.784,1445.72 370.681,1445.72 \n",
       "  \"/>\n",
       "<polyline clip-path=\"url(#clip140)\" style=\"stroke:#000000; stroke-linecap:butt; stroke-linejoin:round; stroke-width:4; stroke-opacity:1; fill:none\" points=\"\n",
       "  351.784,1051.53 370.681,1051.53 \n",
       "  \"/>\n",
       "<polyline clip-path=\"url(#clip140)\" style=\"stroke:#000000; stroke-linecap:butt; stroke-linejoin:round; stroke-width:4; stroke-opacity:1; fill:none\" points=\"\n",
       "  351.784,657.346 370.681,657.346 \n",
       "  \"/>\n",
       "<polyline clip-path=\"url(#clip140)\" style=\"stroke:#000000; stroke-linecap:butt; stroke-linejoin:round; stroke-width:4; stroke-opacity:1; fill:none\" points=\"\n",
       "  351.784,263.161 370.681,263.161 \n",
       "  \"/>\n",
       "<path clip-path=\"url(#clip140)\" d=\"M303.839 1431.51 Q300.228 1431.51 298.4 1435.08 Q296.594 1438.62 296.594 1445.75 Q296.594 1452.86 298.4 1456.42 Q300.228 1459.96 303.839 1459.96 Q307.474 1459.96 309.279 1456.42 Q311.108 1452.86 311.108 1445.75 Q311.108 1438.62 309.279 1435.08 Q307.474 1431.51 303.839 1431.51 M303.839 1427.81 Q309.65 1427.81 312.705 1432.42 Q315.784 1437 315.784 1445.75 Q315.784 1454.48 312.705 1459.08 Q309.65 1463.67 303.839 1463.67 Q298.029 1463.67 294.951 1459.08 Q291.895 1454.48 291.895 1445.75 Q291.895 1437 294.951 1432.42 Q298.029 1427.81 303.839 1427.81 Z\" fill=\"#000000\" fill-rule=\"evenodd\" fill-opacity=\"1\" /><path clip-path=\"url(#clip140)\" d=\"M52.4505 1040.7 L70.8068 1040.7 L70.8068 1044.63 L56.7328 1044.63 L56.7328 1053.11 Q57.7513 1052.76 58.7699 1052.6 Q59.7884 1052.41 60.8069 1052.41 Q66.5939 1052.41 69.9735 1055.58 Q73.3531 1058.75 73.3531 1064.17 Q73.3531 1069.75 69.8809 1072.85 Q66.4087 1075.93 60.0893 1075.93 Q57.9134 1075.93 55.6449 1075.56 Q53.3995 1075.19 50.9921 1074.45 L50.9921 1069.75 Q53.0754 1070.88 55.2977 1071.44 Q57.5199 1071.99 59.9967 1071.99 Q64.0013 1071.99 66.3393 1069.89 Q68.6772 1067.78 68.6772 1064.17 Q68.6772 1060.56 66.3393 1058.45 Q64.0013 1056.35 59.9967 1056.35 Q58.1217 1056.35 56.2467 1056.76 Q54.3949 1057.18 52.4505 1058.06 L52.4505 1040.7 Z\" fill=\"#000000\" fill-rule=\"evenodd\" fill-opacity=\"1\" /><path clip-path=\"url(#clip140)\" d=\"M82.566 1069.38 L87.4503 1069.38 L87.4503 1075.26 L82.566 1075.26 L82.566 1069.38 Z\" fill=\"#000000\" fill-rule=\"evenodd\" fill-opacity=\"1\" /><path clip-path=\"url(#clip140)\" d=\"M107.635 1043.78 Q104.024 1043.78 102.196 1047.34 Q100.39 1050.88 100.39 1058.01 Q100.39 1065.12 102.196 1068.68 Q104.024 1072.23 107.635 1072.23 Q111.27 1072.23 113.075 1068.68 Q114.904 1065.12 114.904 1058.01 Q114.904 1050.88 113.075 1047.34 Q111.27 1043.78 107.635 1043.78 M107.635 1040.07 Q113.445 1040.07 116.501 1044.68 Q119.58 1049.26 119.58 1058.01 Q119.58 1066.74 116.501 1071.35 Q113.445 1075.93 107.635 1075.93 Q101.825 1075.93 98.7465 1071.35 Q95.691 1066.74 95.691 1058.01 Q95.691 1049.26 98.7465 1044.68 Q101.825 1040.07 107.635 1040.07 Z\" fill=\"#000000\" fill-rule=\"evenodd\" fill-opacity=\"1\" /><path clip-path=\"url(#clip140)\" d=\"M137.797 1043.78 Q134.186 1043.78 132.357 1047.34 Q130.552 1050.88 130.552 1058.01 Q130.552 1065.12 132.357 1068.68 Q134.186 1072.23 137.797 1072.23 Q141.431 1072.23 143.237 1068.68 Q145.066 1065.12 145.066 1058.01 Q145.066 1050.88 143.237 1047.34 Q141.431 1043.78 137.797 1043.78 M137.797 1040.07 Q143.607 1040.07 146.663 1044.68 Q149.742 1049.26 149.742 1058.01 Q149.742 1066.74 146.663 1071.35 Q143.607 1075.93 137.797 1075.93 Q131.987 1075.93 128.908 1071.35 Q125.853 1066.74 125.853 1058.01 Q125.853 1049.26 128.908 1044.68 Q131.987 1040.07 137.797 1040.07 Z\" fill=\"#000000\" fill-rule=\"evenodd\" fill-opacity=\"1\" /><path clip-path=\"url(#clip140)\" d=\"M186.13 1049.8 L175.552 1060.42 L186.13 1071 L183.376 1073.8 L172.751 1063.18 L162.126 1073.8 L159.394 1071 L169.95 1060.42 L159.394 1049.8 L162.126 1046.99 L172.751 1057.62 L183.376 1046.99 L186.13 1049.8 Z\" fill=\"#000000\" fill-rule=\"evenodd\" fill-opacity=\"1\" /><path clip-path=\"url(#clip140)\" d=\"M198.491 1071.32 L206.13 1071.32 L206.13 1044.96 L197.82 1046.62 L197.82 1042.36 L206.084 1040.7 L210.76 1040.7 L210.76 1071.32 L218.399 1071.32 L218.399 1075.26 L198.491 1075.26 L198.491 1071.32 Z\" fill=\"#000000\" fill-rule=\"evenodd\" fill-opacity=\"1\" /><path clip-path=\"url(#clip140)\" d=\"M237.843 1043.78 Q234.232 1043.78 232.403 1047.34 Q230.598 1050.88 230.598 1058.01 Q230.598 1065.12 232.403 1068.68 Q234.232 1072.23 237.843 1072.23 Q241.477 1072.23 243.283 1068.68 Q245.111 1065.12 245.111 1058.01 Q245.111 1050.88 243.283 1047.34 Q241.477 1043.78 237.843 1043.78 M237.843 1040.07 Q243.653 1040.07 246.709 1044.68 Q249.787 1049.26 249.787 1058.01 Q249.787 1066.74 246.709 1071.35 Q243.653 1075.93 237.843 1075.93 Q232.033 1075.93 228.954 1071.35 Q225.899 1066.74 225.899 1058.01 Q225.899 1049.26 228.954 1044.68 Q232.033 1040.07 237.843 1040.07 Z\" fill=\"#000000\" fill-rule=\"evenodd\" fill-opacity=\"1\" /><path clip-path=\"url(#clip140)\" d=\"M250.333 1044.65 L256.539 1044.65 L256.539 1023.23 L249.787 1024.58 L249.787 1021.12 L256.502 1019.77 L260.301 1019.77 L260.301 1044.65 L266.507 1044.65 L266.507 1047.85 L250.333 1047.85 L250.333 1044.65 Z\" fill=\"#000000\" fill-rule=\"evenodd\" fill-opacity=\"1\" /><path clip-path=\"url(#clip140)\" d=\"M273.222 1019.77 L291.277 1019.77 L291.277 1021.39 L281.083 1047.85 L277.115 1047.85 L286.707 1022.97 L273.222 1022.97 L273.222 1019.77 Z\" fill=\"#000000\" fill-rule=\"evenodd\" fill-opacity=\"1\" /><path clip-path=\"url(#clip140)\" d=\"M297.728 1019.77 L315.784 1019.77 L315.784 1021.39 L305.59 1047.85 L301.622 1047.85 L311.214 1022.97 L297.728 1022.97 L297.728 1019.77 Z\" fill=\"#000000\" fill-rule=\"evenodd\" fill-opacity=\"1\" /><path clip-path=\"url(#clip140)\" d=\"M52.5561 677.138 L60.1949 677.138 L60.1949 650.773 L51.8848 652.439 L51.8848 648.18 L60.1486 646.513 L64.8245 646.513 L64.8245 677.138 L72.4634 677.138 L72.4634 681.073 L52.5561 681.073 L52.5561 677.138 Z\" fill=\"#000000\" fill-rule=\"evenodd\" fill-opacity=\"1\" /><path clip-path=\"url(#clip140)\" d=\"M81.9078 675.194 L86.792 675.194 L86.792 681.073 L81.9078 681.073 L81.9078 675.194 Z\" fill=\"#000000\" fill-rule=\"evenodd\" fill-opacity=\"1\" /><path clip-path=\"url(#clip140)\" d=\"M106.977 649.592 Q103.366 649.592 101.537 653.157 Q99.7317 656.698 99.7317 663.828 Q99.7317 670.935 101.537 674.499 Q103.366 678.041 106.977 678.041 Q110.611 678.041 112.417 674.499 Q114.246 670.935 114.246 663.828 Q114.246 656.698 112.417 653.157 Q110.611 649.592 106.977 649.592 M106.977 645.888 Q112.787 645.888 115.843 650.495 Q118.921 655.078 118.921 663.828 Q118.921 672.555 115.843 677.161 Q112.787 681.745 106.977 681.745 Q101.167 681.745 98.0882 677.161 Q95.0327 672.555 95.0327 663.828 Q95.0327 655.078 98.0882 650.495 Q101.167 645.888 106.977 645.888 Z\" fill=\"#000000\" fill-rule=\"evenodd\" fill-opacity=\"1\" /><path clip-path=\"url(#clip140)\" d=\"M137.139 649.592 Q133.528 649.592 131.699 653.157 Q129.894 656.698 129.894 663.828 Q129.894 670.935 131.699 674.499 Q133.528 678.041 137.139 678.041 Q140.773 678.041 142.579 674.499 Q144.407 670.935 144.407 663.828 Q144.407 656.698 142.579 653.157 Q140.773 649.592 137.139 649.592 M137.139 645.888 Q142.949 645.888 146.005 650.495 Q149.083 655.078 149.083 663.828 Q149.083 672.555 146.005 677.161 Q142.949 681.745 137.139 681.745 Q131.329 681.745 128.25 677.161 Q125.195 672.555 125.195 663.828 Q125.195 655.078 128.25 650.495 Q131.329 645.888 137.139 645.888 Z\" fill=\"#000000\" fill-rule=\"evenodd\" fill-opacity=\"1\" /><path clip-path=\"url(#clip140)\" d=\"M185.472 655.611 L174.893 666.235 L185.472 676.814 L182.717 679.615 L172.092 668.99 L161.468 679.615 L158.736 676.814 L169.292 666.235 L158.736 655.611 L161.468 652.81 L172.092 663.435 L182.717 652.81 L185.472 655.611 Z\" fill=\"#000000\" fill-rule=\"evenodd\" fill-opacity=\"1\" /><path clip-path=\"url(#clip140)\" d=\"M197.833 677.138 L205.472 677.138 L205.472 650.773 L197.162 652.439 L197.162 648.18 L205.426 646.513 L210.102 646.513 L210.102 677.138 L217.74 677.138 L217.74 681.073 L197.833 681.073 L197.833 677.138 Z\" fill=\"#000000\" fill-rule=\"evenodd\" fill-opacity=\"1\" /><path clip-path=\"url(#clip140)\" d=\"M237.185 649.592 Q233.574 649.592 231.745 653.157 Q229.939 656.698 229.939 663.828 Q229.939 670.935 231.745 674.499 Q233.574 678.041 237.185 678.041 Q240.819 678.041 242.624 674.499 Q244.453 670.935 244.453 663.828 Q244.453 656.698 242.624 653.157 Q240.819 649.592 237.185 649.592 M237.185 645.888 Q242.995 645.888 246.05 650.495 Q249.129 655.078 249.129 663.828 Q249.129 672.555 246.05 677.161 Q242.995 681.745 237.185 681.745 Q231.375 681.745 228.296 677.161 Q225.24 672.555 225.24 663.828 Q225.24 655.078 228.296 650.495 Q231.375 645.888 237.185 645.888 Z\" fill=\"#000000\" fill-rule=\"evenodd\" fill-opacity=\"1\" /><path clip-path=\"url(#clip140)\" d=\"M249.675 650.466 L255.881 650.466 L255.881 629.044 L249.129 630.398 L249.129 626.937 L255.843 625.583 L259.643 625.583 L259.643 650.466 L265.849 650.466 L265.849 653.663 L249.675 653.663 L249.675 650.466 Z\" fill=\"#000000\" fill-rule=\"evenodd\" fill-opacity=\"1\" /><path clip-path=\"url(#clip140)\" d=\"M272.564 625.583 L290.619 625.583 L290.619 627.2 L280.425 653.663 L276.457 653.663 L286.049 628.78 L272.564 628.78 L272.564 625.583 Z\" fill=\"#000000\" fill-rule=\"evenodd\" fill-opacity=\"1\" /><path clip-path=\"url(#clip140)\" d=\"M306.154 640.328 Q303.446 640.328 301.885 641.776 Q300.343 643.225 300.343 645.764 Q300.343 648.303 301.885 649.751 Q303.446 651.199 306.154 651.199 Q308.863 651.199 310.424 649.751 Q311.985 648.284 311.985 645.764 Q311.985 643.225 310.424 641.776 Q308.881 640.328 306.154 640.328 M302.355 638.711 Q299.91 638.109 298.537 636.435 Q297.183 634.761 297.183 632.354 Q297.183 628.987 299.572 627.031 Q301.979 625.075 306.154 625.075 Q310.348 625.075 312.737 627.031 Q315.126 628.987 315.126 632.354 Q315.126 634.761 313.753 636.435 Q312.398 638.109 309.972 638.711 Q312.718 639.35 314.242 641.212 Q315.784 643.074 315.784 645.764 Q315.784 649.845 313.282 652.027 Q310.8 654.208 306.154 654.208 Q301.509 654.208 299.007 652.027 Q296.525 649.845 296.525 645.764 Q296.525 643.074 298.067 641.212 Q299.609 639.35 302.355 638.711 M300.963 632.711 Q300.963 634.893 302.317 636.115 Q303.69 637.338 306.154 637.338 Q308.599 637.338 309.972 636.115 Q311.364 634.893 311.364 632.711 Q311.364 630.529 309.972 629.307 Q308.599 628.084 306.154 628.084 Q303.69 628.084 302.317 629.307 Q300.963 630.529 300.963 632.711 Z\" fill=\"#000000\" fill-rule=\"evenodd\" fill-opacity=\"1\" /><path clip-path=\"url(#clip140)\" d=\"M52.5561 282.953 L60.1949 282.953 L60.1949 256.588 L51.8848 258.254 L51.8848 253.995 L60.1486 252.328 L64.8245 252.328 L64.8245 282.953 L72.4634 282.953 L72.4634 286.888 L52.5561 286.888 L52.5561 282.953 Z\" fill=\"#000000\" fill-rule=\"evenodd\" fill-opacity=\"1\" /><path clip-path=\"url(#clip140)\" d=\"M81.9078 281.009 L86.792 281.009 L86.792 286.888 L81.9078 286.888 L81.9078 281.009 Z\" fill=\"#000000\" fill-rule=\"evenodd\" fill-opacity=\"1\" /><path clip-path=\"url(#clip140)\" d=\"M97.0234 252.328 L115.38 252.328 L115.38 256.264 L101.306 256.264 L101.306 264.736 Q102.324 264.389 103.343 264.226 Q104.361 264.041 105.38 264.041 Q111.167 264.041 114.546 267.213 Q117.926 270.384 117.926 275.8 Q117.926 281.379 114.454 284.481 Q110.982 287.56 104.662 287.56 Q102.486 287.56 100.218 287.189 Q97.9725 286.819 95.5651 286.078 L95.5651 281.379 Q97.6484 282.513 99.8706 283.069 Q102.093 283.625 104.57 283.625 Q108.574 283.625 110.912 281.518 Q113.25 279.412 113.25 275.8 Q113.25 272.189 110.912 270.083 Q108.574 267.976 104.57 267.976 Q102.695 267.976 100.82 268.393 Q98.9679 268.81 97.0234 269.689 L97.0234 252.328 Z\" fill=\"#000000\" fill-rule=\"evenodd\" fill-opacity=\"1\" /><path clip-path=\"url(#clip140)\" d=\"M137.139 255.407 Q133.528 255.407 131.699 258.972 Q129.894 262.514 129.894 269.643 Q129.894 276.75 131.699 280.314 Q133.528 283.856 137.139 283.856 Q140.773 283.856 142.579 280.314 Q144.407 276.75 144.407 269.643 Q144.407 262.514 142.579 258.972 Q140.773 255.407 137.139 255.407 M137.139 251.703 Q142.949 251.703 146.005 256.31 Q149.083 260.893 149.083 269.643 Q149.083 278.37 146.005 282.976 Q142.949 287.56 137.139 287.56 Q131.329 287.56 128.25 282.976 Q125.195 278.37 125.195 269.643 Q125.195 260.893 128.25 256.31 Q131.329 251.703 137.139 251.703 Z\" fill=\"#000000\" fill-rule=\"evenodd\" fill-opacity=\"1\" /><path clip-path=\"url(#clip140)\" d=\"M185.472 261.426 L174.893 272.051 L185.472 282.629 L182.717 285.43 L172.092 274.805 L161.468 285.43 L158.736 282.629 L169.292 272.051 L158.736 261.426 L161.468 258.625 L172.092 269.25 L182.717 258.625 L185.472 261.426 Z\" fill=\"#000000\" fill-rule=\"evenodd\" fill-opacity=\"1\" /><path clip-path=\"url(#clip140)\" d=\"M197.833 282.953 L205.472 282.953 L205.472 256.588 L197.162 258.254 L197.162 253.995 L205.426 252.328 L210.102 252.328 L210.102 282.953 L217.74 282.953 L217.74 286.888 L197.833 286.888 L197.833 282.953 Z\" fill=\"#000000\" fill-rule=\"evenodd\" fill-opacity=\"1\" /><path clip-path=\"url(#clip140)\" d=\"M237.185 255.407 Q233.574 255.407 231.745 258.972 Q229.939 262.514 229.939 269.643 Q229.939 276.75 231.745 280.314 Q233.574 283.856 237.185 283.856 Q240.819 283.856 242.624 280.314 Q244.453 276.75 244.453 269.643 Q244.453 262.514 242.624 258.972 Q240.819 255.407 237.185 255.407 M237.185 251.703 Q242.995 251.703 246.05 256.31 Q249.129 260.893 249.129 269.643 Q249.129 278.37 246.05 282.976 Q242.995 287.56 237.185 287.56 Q231.375 287.56 228.296 282.976 Q225.24 278.37 225.24 269.643 Q225.24 260.893 228.296 256.31 Q231.375 251.703 237.185 251.703 Z\" fill=\"#000000\" fill-rule=\"evenodd\" fill-opacity=\"1\" /><path clip-path=\"url(#clip140)\" d=\"M249.675 256.281 L255.881 256.281 L255.881 234.859 L249.129 236.213 L249.129 232.752 L255.843 231.398 L259.643 231.398 L259.643 256.281 L265.849 256.281 L265.849 259.478 L249.675 259.478 L249.675 256.281 Z\" fill=\"#000000\" fill-rule=\"evenodd\" fill-opacity=\"1\" /><path clip-path=\"url(#clip140)\" d=\"M272.564 231.398 L290.619 231.398 L290.619 233.015 L280.425 259.478 L276.457 259.478 L286.049 234.595 L272.564 234.595 L272.564 231.398 Z\" fill=\"#000000\" fill-rule=\"evenodd\" fill-opacity=\"1\" /><path clip-path=\"url(#clip140)\" d=\"M306.154 246.143 Q303.446 246.143 301.885 247.591 Q300.343 249.04 300.343 251.579 Q300.343 254.118 301.885 255.566 Q303.446 257.014 306.154 257.014 Q308.863 257.014 310.424 255.566 Q311.985 254.099 311.985 251.579 Q311.985 249.04 310.424 247.591 Q308.881 246.143 306.154 246.143 M302.355 244.526 Q299.91 243.924 298.537 242.25 Q297.183 240.576 297.183 238.169 Q297.183 234.802 299.572 232.846 Q301.979 230.89 306.154 230.89 Q310.348 230.89 312.737 232.846 Q315.126 234.802 315.126 238.169 Q315.126 240.576 313.753 242.25 Q312.398 243.924 309.972 244.526 Q312.718 245.165 314.242 247.027 Q315.784 248.889 315.784 251.579 Q315.784 255.66 313.282 257.842 Q310.8 260.023 306.154 260.023 Q301.509 260.023 299.007 257.842 Q296.525 255.66 296.525 251.579 Q296.525 248.889 298.067 247.027 Q299.609 245.165 302.355 244.526 M300.963 238.526 Q300.963 240.708 302.317 241.93 Q303.69 243.153 306.154 243.153 Q308.599 243.153 309.972 241.93 Q311.364 240.708 311.364 238.526 Q311.364 236.344 309.972 235.122 Q308.599 233.899 306.154 233.899 Q303.69 233.899 302.317 235.122 Q300.963 236.344 300.963 238.526 Z\" fill=\"#000000\" fill-rule=\"evenodd\" fill-opacity=\"1\" /><polyline clip-path=\"url(#clip142)\" style=\"stroke:#009af9; stroke-linecap:butt; stroke-linejoin:round; stroke-width:4; stroke-opacity:1; fill:none\" points=\"\n",
       "  408.415,1445.72 618.161,1445.72 827.906,1445.72 1037.65,1445.72 1247.4,1445.72 1457.14,1445.72 1666.89,1445.72 1876.63,1445.72 2086.38,87.9763 2296.12,1445.72 \n",
       "  \n",
       "  \"/>\n",
       "<path clip-path=\"url(#clip140)\" d=\"\n",
       "M2011.3 198.898 L2286.06 198.898 L2286.06 95.2176 L2011.3 95.2176  Z\n",
       "  \" fill=\"#ffffff\" fill-rule=\"evenodd\" fill-opacity=\"1\"/>\n",
       "<polyline clip-path=\"url(#clip140)\" style=\"stroke:#000000; stroke-linecap:butt; stroke-linejoin:round; stroke-width:4; stroke-opacity:1; fill:none\" points=\"\n",
       "  2011.3,198.898 2286.06,198.898 2286.06,95.2176 2011.3,95.2176 2011.3,198.898 \n",
       "  \"/>\n",
       "<polyline clip-path=\"url(#clip140)\" style=\"stroke:#009af9; stroke-linecap:butt; stroke-linejoin:round; stroke-width:4; stroke-opacity:1; fill:none\" points=\"\n",
       "  2033.53,147.058 2166.93,147.058 \n",
       "  \"/>\n",
       "<path clip-path=\"url(#clip140)\" d=\"M2203 166.745 Q2201.2 171.375 2199.48 172.787 Q2197.77 174.199 2194.9 174.199 L2191.5 174.199 L2191.5 170.634 L2194 170.634 Q2195.76 170.634 2196.73 169.8 Q2197.7 168.967 2198.88 165.865 L2199.65 163.921 L2189.16 138.412 L2193.67 138.412 L2201.78 158.689 L2209.88 138.412 L2214.39 138.412 L2203 166.745 Z\" fill=\"#000000\" fill-rule=\"evenodd\" fill-opacity=\"1\" /><path clip-path=\"url(#clip140)\" d=\"M2221.68 160.402 L2229.32 160.402 L2229.32 134.037 L2221.01 135.703 L2221.01 131.444 L2229.28 129.778 L2233.95 129.778 L2233.95 160.402 L2241.59 160.402 L2241.59 164.338 L2221.68 164.338 L2221.68 160.402 Z\" fill=\"#000000\" fill-rule=\"evenodd\" fill-opacity=\"1\" /></svg>\n"
      ]
     },
     "execution_count": 16,
     "metadata": {},
     "output_type": "execute_result"
    }
   ],
   "source": [
    "plot(fid_simp_timeseries')"
   ]
  },
  {
   "cell_type": "code",
   "execution_count": null,
   "id": "63c3065d",
   "metadata": {},
   "outputs": [],
   "source": []
  }
 ],
 "metadata": {
  "kernelspec": {
   "display_name": "Julia 1.7.2",
   "language": "julia",
   "name": "julia-1.7"
  },
  "language_info": {
   "file_extension": ".jl",
   "mimetype": "application/julia",
   "name": "julia",
   "version": "1.7.2"
  }
 },
 "nbformat": 4,
 "nbformat_minor": 5
}
