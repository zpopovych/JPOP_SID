{
 "cells": [
  {
   "cell_type": "markdown",
   "id": "dc3ed87a",
   "metadata": {},
   "source": [
    "# Multi threading"
   ]
  },
  {
   "cell_type": "markdown",
   "id": "74340f3c",
   "metadata": {},
   "source": [
    "After starting the Julia 1.7.2. type"
   ]
  },
  {
   "cell_type": "markdown",
   "id": "a4be22e1",
   "metadata": {},
   "source": [
    "ENV[\"JULIA_NUM_THREADS\"] = 4 <br>\n",
    "using IJulia <br>\n",
    "notebook()"
   ]
  },
  {
   "cell_type": "markdown",
   "id": "68be5948",
   "metadata": {},
   "source": []
  },
  {
   "cell_type": "markdown",
   "id": "1ba327a6",
   "metadata": {},
   "source": [
    "https://github.com/dibondar/QControlPolyOpt/blob/master/QuantumControlPolyOpt.ipynb\n",
    "\n",
    "https://docs.julialang.org/en/v1/manual/multi-threading/"
   ]
  },
  {
   "cell_type": "code",
   "execution_count": 1,
   "id": "b7b4b754",
   "metadata": {},
   "outputs": [
    {
     "data": {
      "text/plain": [
       "4"
      ]
     },
     "execution_count": 1,
     "metadata": {},
     "output_type": "execute_result"
    }
   ],
   "source": [
    "Threads.nthreads()"
   ]
  },
  {
   "cell_type": "code",
   "execution_count": 23,
   "id": "6c8fb40e",
   "metadata": {},
   "outputs": [],
   "source": [
    "using LinearAlgebra"
   ]
  },
  {
   "cell_type": "code",
   "execution_count": 24,
   "id": "3752cc61",
   "metadata": {},
   "outputs": [
    {
     "data": {
      "text/plain": [
       "1000-element Vector{Float64}:\n",
       " 499.84674835665294\n",
       "  18.101301129931823\n",
       "  18.013522693559832\n",
       "  17.92487792906452\n",
       "  17.837990973723322\n",
       "  17.77376211843183\n",
       "  17.721408462718223\n",
       "  17.69033424254675\n",
       "  17.663565786417752\n",
       "  17.563554216042853\n",
       "  17.529070750069824\n",
       "  17.478982952765094\n",
       "  17.439167096197043\n",
       "   ⋮\n",
       "   0.14763820858182847\n",
       "   0.13179558810349737\n",
       "   0.1219267510673602\n",
       "   0.10894719293043292\n",
       "   0.10534706525232458\n",
       "   0.08367277437887265\n",
       "   0.07034787501825586\n",
       "   0.06377610312816093\n",
       "   0.05204424126812707\n",
       "   0.035729626545309756\n",
       "   0.00888128300245383\n",
       "   0.0028021092140536378"
      ]
     },
     "execution_count": 24,
     "metadata": {},
     "output_type": "execute_result"
    }
   ],
   "source": [
    "M = rand(1000,1000)\n",
    "svdvals(M)"
   ]
  },
  {
   "cell_type": "code",
   "execution_count": 26,
   "id": "d3fdc3f8",
   "metadata": {},
   "outputs": [],
   "source": [
    "n_samples = 16\n",
    "\n",
    "M = Matrix{Float64}[rand(1000,1000) for i = 1:n_samples];\n",
    "\n",
    "ids = zeros(n_samples)\n",
    "results = zeros(1000, n_samples)\n",
    "\n",
    "Threads.@threads for i=1:n_samples\n",
    "    ids[i] = Threads.threadid()\n",
    "    results[:,i] = svdvals(M[i])\n",
    "end\n"
   ]
  },
  {
   "cell_type": "code",
   "execution_count": 28,
   "id": "08a03a3e",
   "metadata": {},
   "outputs": [
    {
     "data": {
      "text/plain": [
       "1000×16 Matrix{Float64}:\n",
       " 499.885       500.238      500.189       …  500.049        499.718\n",
       "  18.178        18.0335      18.0006          18.0758        18.2645\n",
       "  17.9883       18.0095      17.9379          18.0058        18.0884\n",
       "  17.9143       17.9476      17.9191          17.9147        17.9728\n",
       "  17.8739       17.8555      17.8819          17.8481        17.8765\n",
       "  17.8476       17.7483      17.809       …   17.7728        17.851\n",
       "  17.7738       17.6604      17.7047          17.7656        17.7358\n",
       "  17.7487       17.6287      17.6341          17.6941        17.6995\n",
       "  17.6716       17.5836      17.56            17.6702        17.6207\n",
       "  17.6513       17.5669      17.5365          17.6425        17.5916\n",
       "  17.557        17.4791      17.5098      …   17.5585        17.5339\n",
       "  17.5411       17.4611      17.4798          17.4986        17.4844\n",
       "  17.4946       17.4432      17.4214          17.4476        17.4131\n",
       "   ⋮                                      ⋱                   ⋮\n",
       "   0.14543       0.162778     0.176168         0.166696       0.191383\n",
       "   0.130674      0.14239      0.152266         0.147775       0.15193\n",
       "   0.115425      0.127926     0.142707    …    0.126229       0.143658\n",
       "   0.111095      0.115326     0.115307         0.119304       0.129614\n",
       "   0.092369      0.113801     0.100608         0.100938       0.112917\n",
       "   0.0821327     0.100257     0.082664         0.0701864      0.0878824\n",
       "   0.0660435     0.08875      0.0769606        0.0662625      0.0788029\n",
       "   0.0504951     0.0734792    0.072325    …    0.0621016      0.0689876\n",
       "   0.0350044     0.0660384    0.0535381        0.0586699      0.0586244\n",
       "   0.0286432     0.0357944    0.03857          0.0235687      0.0319499\n",
       "   0.022975      0.0259366    0.0172276        0.00892609     0.0209275\n",
       "   0.00979431    0.0102967    0.00541871       0.000674318    0.00156836"
      ]
     },
     "execution_count": 28,
     "metadata": {},
     "output_type": "execute_result"
    }
   ],
   "source": [
    "results"
   ]
  },
  {
   "cell_type": "code",
   "execution_count": null,
   "id": "349478d6",
   "metadata": {},
   "outputs": [],
   "source": []
  }
 ],
 "metadata": {
  "kernelspec": {
   "display_name": "Julia 1.7.2",
   "language": "julia",
   "name": "julia-1.7"
  },
  "language_info": {
   "file_extension": ".jl",
   "mimetype": "application/julia",
   "name": "julia",
   "version": "1.7.2"
  }
 },
 "nbformat": 4,
 "nbformat_minor": 5
}
