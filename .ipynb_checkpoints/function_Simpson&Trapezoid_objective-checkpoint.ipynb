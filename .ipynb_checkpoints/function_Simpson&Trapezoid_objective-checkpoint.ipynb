{
 "cells": [
  {
   "cell_type": "markdown",
   "id": "e5686f81",
   "metadata": {},
   "source": [
    "### Simpson and Trapezoid objective builder functions"
   ]
  },
  {
   "cell_type": "code",
   "execution_count": 1,
   "id": "dc6fb2aa",
   "metadata": {},
   "outputs": [],
   "source": [
    "using Symbolics\n",
    "using LinearAlgebra\n",
    "using DynamicPolynomials\n",
    "using NumericalIntegration"
   ]
  },
  {
   "cell_type": "code",
   "execution_count": 2,
   "id": "0d98c028",
   "metadata": {},
   "outputs": [
    {
     "data": {
      "text/plain": [
       "frobenius_norm2 (generic function with 1 method)"
      ]
     },
     "execution_count": 2,
     "metadata": {},
     "output_type": "execute_result"
    }
   ],
   "source": [
    "function frobenius_norm2(m)\n",
    "    return tr(m * m')\n",
    "end"
   ]
  },
  {
   "cell_type": "markdown",
   "id": "55e3ec6a",
   "metadata": {},
   "source": [
    "Lindblad master equation is given by\n",
    "\\begin{align}\\label{eq:L1}\n",
    "    \\frac{d}{dt}{\\rho}(t) = \\mathcal{L}\\rho(t),\n",
    "\\end{align}"
   ]
  },
  {
   "cell_type": "markdown",
   "id": "2402701e",
   "metadata": {},
   "source": [
    "where Lindbladian right hand side operator is given as\n",
    "\\begin{align}\\label{eq:L2}\n",
    "    \\mathcal{L} [\\rho] = \\frac{i}{\\hbar}[H, \\rho]+\\sum_{j=1}^{\\ell}\\left[2 A_j \\rho A_j^\\dagger - \\left\\{ A_j^\\dagger A_j, \\rho \\right\\} \\right],\n",
    "\\end{align}"
   ]
  },
  {
   "cell_type": "code",
   "execution_count": 3,
   "id": "c5b5248f",
   "metadata": {},
   "outputs": [
    {
     "data": {
      "text/plain": [
       "lindblad_rhs (generic function with 1 method)"
      ]
     },
     "execution_count": 3,
     "metadata": {},
     "output_type": "execute_result"
    }
   ],
   "source": [
    "function lindblad_rhs(rho, H, A)\n",
    "    \"\"\"\n",
    "    Right hand side of the Lindblad master equation\n",
    "    \"\"\"\n",
    "    return -1im * (H * rho - rho * H) + A * rho * A' - (A' * A  * rho + rho * A' * A) / 2\n",
    "    \n",
    "end"
   ]
  },
  {
   "cell_type": "markdown",
   "id": "48a24bb9",
   "metadata": {},
   "source": [
    "The terms of the objective for the minimization problem:\n",
    "\\begin{align}\n",
    "\\rho_{(i)} - \\rho_{(0)} = \\int_{t_0}^{t_{i}} \\frac{d}{dt}{\\rho}(t) dt   \n",
    "= \\int_{t_0}^{t_{i}} \\!\\!\\!  \\mathcal{L} [\\rho(t)]dt  \\nonumber\n",
    "= \\mathcal{L} \\left[ \\int_{t_0}^{t_{i}} \\!\\!\\! \\rho(t) dt \\right].\\\\\n",
    "\\rho_{(i)} - \\rho_{(0)} - \\mathcal{L} \\left[ \\int_{t_0}^{t_{i}} \\!\\!\\! \\rho(t) dt \\right] \\rightarrow \\operatorname{min}\n",
    "\\end{align}"
   ]
  },
  {
   "cell_type": "markdown",
   "id": "3c9ec9d2",
   "metadata": {},
   "source": [
    "Original Python function for Simpson method"
   ]
  },
  {
   "cell_type": "raw",
   "id": "49802bba",
   "metadata": {},
   "source": [
    "def obj_int_simpson(rho, times, H, A):\n",
    "    obj = 0\n",
    "    for t in range(3, len(rho) + 1):\n",
    "        # the density matrix integrated over time\n",
    "        int_rho = integrate.simpson(\n",
    "            rho[:t],\n",
    "            x=times[:t],\n",
    "            axis=0\n",
    "        )\n",
    "        obj += (rho[t - 1] - rho[0] - lindblad_rhs(int_rho, H, A)).norm() ** 2\n",
    "    obj = re(obj.simplify())\n",
    "    return obj"
   ]
  },
  {
   "cell_type": "markdown",
   "id": "87f7b76d",
   "metadata": {},
   "source": [
    "Julia function to perform same action"
   ]
  },
  {
   "cell_type": "code",
   "execution_count": 4,
   "id": "c250e0a2",
   "metadata": {},
   "outputs": [
    {
     "data": {
      "text/plain": [
       "simp_obj (generic function with 1 method)"
      ]
     },
     "execution_count": 4,
     "metadata": {},
     "output_type": "execute_result"
    }
   ],
   "source": [
    "function simp_obj(ρ, t, H, A)\n",
    "    \n",
    "    obj = frobenius_norm2(lindblad_rhs(ρ[:, :, 1], H, A))\n",
    "    \n",
    "    rho_indices = CartesianIndices(ρ[:,:,1])\n",
    "    rho_size = size(ρ[:,:,1])\n",
    "    \n",
    "    for i in 4:size(ρ,3)\n",
    "        \n",
    "        # integrate using the default Trapezoidal method\n",
    "        int_rho = zeros(rho_size)\n",
    "        for idx in  rho_indices\n",
    "            int_rho[idx] = integrate(t[1:i], ρ[idx, 1:i], SimpsonEven())\n",
    "        end\n",
    "        \n",
    "        obj += frobenius_norm2(ρ[:, :, i] - ρ[:, :, 1] - lindblad_rhs(int_rho, H, A))\n",
    "    end\n",
    "    \n",
    "    obj = sum(real(coef) * mon for (coef, mon) in zip(coefficients(obj), monomials(obj)))\n",
    "    \n",
    "    return obj\n",
    "end"
   ]
  },
  {
   "cell_type": "markdown",
   "id": "78e76eb3",
   "metadata": {},
   "source": [
    "Original python function for trapezoid method"
   ]
  },
  {
   "cell_type": "raw",
   "id": "a7772ed5",
   "metadata": {},
   "source": [
    "def obj_int_trapz(rho, times, H, A):\n",
    "    obj = 0\n",
    "    for t in range(2, len(rho) + 1):\n",
    "        # the density matrix integrated over time\n",
    "        int_rho = np.trapz(\n",
    "            rho[:t],\n",
    "            x=times[:t],\n",
    "            axis=0\n",
    "        )\n",
    "        obj += (rho[t - 1] - rho[0] - lindblad_rhs(int_rho, H, A)).norm() ** 2\n",
    "    obj = re(obj.simplify())\n",
    "    return obj"
   ]
  },
  {
   "cell_type": "markdown",
   "id": "e731d907",
   "metadata": {},
   "source": [
    "Julia function to perform same action"
   ]
  },
  {
   "cell_type": "code",
   "execution_count": 5,
   "id": "dadfb07c",
   "metadata": {},
   "outputs": [
    {
     "data": {
      "text/plain": [
       "trapz_obj (generic function with 1 method)"
      ]
     },
     "execution_count": 5,
     "metadata": {},
     "output_type": "execute_result"
    }
   ],
   "source": [
    "function trapz_obj(ρ, t, H, A)  \n",
    "    \n",
    "    obj = frobenius_norm2(lindblad_rhs(ρ[:, :, 1], H, A))\n",
    "    \n",
    "    rho_indices = CartesianIndices(ρ[:,:,1])\n",
    "    rho_size = size(ρ[:,:,1])\n",
    "    \n",
    "    for i in 2:size(ρ,3)\n",
    "              \n",
    "        # integrate using the default Trapezoidal method\n",
    "        int_rho = zeros(rho_size)\n",
    "        for idx in CartesianIndices(ρ[:,:,1])\n",
    "            int_rho[idx] = integrate(t[1:i], ρ[idx, 1:i])\n",
    "        end\n",
    "        obj += frobenius_norm2(ρ[:, :, i] - ρ[:, :, 1] - lindblad_rhs(int_rho, H, A))\n",
    "    end\n",
    "    \n",
    "    obj2 = sum(real(coef) * mon for (coef, mon) in zip(coefficients(obj), monomials(obj)))\n",
    "    \n",
    "    return obj2\n",
    "end\n"
   ]
  },
  {
   "cell_type": "markdown",
   "id": "1b0e8e7c",
   "metadata": {},
   "source": [
    "Consider test example"
   ]
  },
  {
   "cell_type": "code",
   "execution_count": 6,
   "id": "803fc9c6",
   "metadata": {},
   "outputs": [
    {
     "data": {
      "text/plain": [
       "4-element Vector{Float64}:\n",
       " 0.0\n",
       " 0.1\n",
       " 0.2\n",
       " 0.3"
      ]
     },
     "execution_count": 6,
     "metadata": {},
     "output_type": "execute_result"
    }
   ],
   "source": [
    "@polyvar x[1:4]\n",
    "H = [ 1.0 * x[1]              x[3] + im * x[4]\n",
    "      x[3] - im * x[4]        x[2]             ]\n",
    "\n",
    "@polyvar a[1:2, 1:2]\n",
    "@polyvar b[1:2, 1:2]\n",
    "A = 1.0 * a + im * b\n",
    "\n",
    "ρ1 = [.5 0\n",
    "     0  .5]\n",
    "ρ2 = [.6 0\n",
    "     0  .4]\n",
    "ρ3 = [.7 0\n",
    "     0  .3]\n",
    "ρ4 = [.9 0\n",
    "     0  .1]\n",
    "\n",
    "ρ = [ρ1;;; ρ2;;; ρ3;;; ρ4]\n",
    "\n",
    "t = [0.0, 0.1, 0.2, 0.3]"
   ]
  },
  {
   "cell_type": "code",
   "execution_count": 7,
   "id": "8120c9bb",
   "metadata": {},
   "outputs": [
    {
     "data": {
      "text/latex": [
       "$$ 0.61485a_{1,1}^{2}a_{2,1}^{2} - 1.1789999999999998a_{1,1}^{2}a_{2,1}a_{1,2} + 0.5700000000000001a_{1,1}^{2}a_{1,2}^{2} + 0.61485a_{1,1}^{2}b_{2,1}^{2} + 1.1789999999999998a_{1,1}^{2}b_{2,1}b_{1,2} + 0.5700000000000001a_{1,1}^{2}b_{1,2}^{2} - 1.1789999999999998a_{1,1}a_{2,1}^{2}a_{2,2} + 2.2682999999999995a_{1,1}a_{2,1}a_{1,2}a_{2,2} - 2.3579999999999997a_{1,1}a_{2,1}b_{1,1}b_{1,2} + 2.2682999999999995a_{1,1}a_{2,1}b_{1,2}b_{2,2} - 1.101a_{1,1}a_{1,2}^{2}a_{2,2} - 2.3579999999999997a_{1,1}a_{1,2}b_{1,1}b_{2,1} + 2.2682999999999995a_{1,1}a_{1,2}b_{2,1}b_{2,2} - 1.1789999999999998a_{1,1}a_{2,2}b_{2,1}^{2} - 2.2682999999999995a_{1,1}a_{2,2}b_{2,1}b_{1,2} - 1.101a_{1,1}a_{2,2}b_{1,2}^{2} + 0.61485a_{2,1}^{4} - 1.1283a_{2,1}^{2}a_{1,2}^{2} + 0.5700000000000001a_{2,1}^{2}a_{2,2}^{2} + 0.61485a_{2,1}^{2}b_{1,1}^{2} - 1.1789999999999998a_{2,1}^{2}b_{1,1}b_{2,2} + 1.2297a_{2,1}^{2}b_{2,1}^{2} - 1.1283a_{2,1}^{2}b_{1,2}^{2} + 0.5700000000000001a_{2,1}^{2}b_{2,2}^{2} - 1.101a_{2,1}a_{1,2}a_{2,2}^{2} + 1.1789999999999998a_{2,1}a_{1,2}b_{1,1}^{2} - 2.2682999999999995a_{2,1}a_{1,2}b_{1,1}b_{2,2} + 1.101a_{2,1}a_{1,2}b_{2,2}^{2} + 2.2682999999999995a_{2,1}a_{2,2}b_{1,1}b_{1,2} - 2.202a_{2,1}a_{2,2}b_{1,2}b_{2,2} + 0.53685a_{1,2}^{4} + 0.53685a_{1,2}^{2}a_{2,2}^{2} + 0.5700000000000001a_{1,2}^{2}b_{1,1}^{2} - 1.101a_{1,2}^{2}b_{1,1}b_{2,2} - 1.1283a_{1,2}^{2}b_{2,1}^{2} + 1.0737a_{1,2}^{2}b_{1,2}^{2} + 0.53685a_{1,2}^{2}b_{2,2}^{2} + 2.2682999999999995a_{1,2}a_{2,2}b_{1,1}b_{2,1} - 2.202a_{1,2}a_{2,2}b_{2,1}b_{2,2} + 0.5700000000000001a_{2,2}^{2}b_{2,1}^{2} + 1.101a_{2,2}^{2}b_{2,1}b_{1,2} + 0.53685a_{2,2}^{2}b_{1,2}^{2} + 0.61485b_{1,1}^{2}b_{2,1}^{2} - 1.1789999999999998b_{1,1}^{2}b_{2,1}b_{1,2} + 0.5700000000000001b_{1,1}^{2}b_{1,2}^{2} - 1.1789999999999998b_{1,1}b_{2,1}^{2}b_{2,2} + 2.2682999999999995b_{1,1}b_{2,1}b_{1,2}b_{2,2} - 1.101b_{1,1}b_{1,2}^{2}b_{2,2} + 0.61485b_{2,1}^{4} - 1.1283b_{2,1}^{2}b_{1,2}^{2} + 0.5700000000000001b_{2,1}^{2}b_{2,2}^{2} - 1.101b_{2,1}b_{1,2}b_{2,2}^{2} + 0.53685b_{1,2}^{4} + 0.53685b_{1,2}^{2}b_{2,2}^{2} - 0.10139999999999999x_{3}a_{1,1}b_{2,1} - 0.07799999999999999x_{3}a_{1,1}b_{1,2} + 0.10139999999999999x_{3}a_{2,1}b_{1,1} - 0.07799999999999999x_{3}a_{2,1}b_{2,2} + 0.07799999999999999x_{3}a_{1,2}b_{1,1} - 0.054599999999999996x_{3}a_{1,2}b_{2,2} + 0.07799999999999999x_{3}a_{2,2}b_{2,1} + 0.054599999999999996x_{3}a_{2,2}b_{1,2} - 0.10139999999999999x_{4}a_{1,1}a_{2,1} + 0.07799999999999999x_{4}a_{1,1}a_{1,2} + 0.07799999999999999x_{4}a_{2,1}a_{2,2} - 0.054599999999999996x_{4}a_{1,2}a_{2,2} - 0.10139999999999999x_{4}b_{1,1}b_{2,1} + 0.07799999999999999x_{4}b_{1,1}b_{1,2} + 0.07799999999999999x_{4}b_{2,1}b_{2,2} - 0.054599999999999996x_{4}b_{1,2}b_{2,2} + 0.023399999999999997x_{3}^{2} + 0.023399999999999997x_{4}^{2} + 0.438a_{2,1}^{2} - 0.242a_{1,2}^{2} + 0.438b_{2,1}^{2} - 0.242b_{1,2}^{2} + 0.42000000000000004 $$"
      ],
      "text/plain": [
       "0.61485a₁₋₁²a₂₋₁² - 1.1789999999999998a₁₋₁²a₂₋₁a₁₋₂ + 0.5700000000000001a₁₋₁²a₁₋₂² + 0.61485a₁₋₁²b₂₋₁² + 1.1789999999999998a₁₋₁²b₂₋₁b₁₋₂ + 0.5700000000000001a₁₋₁²b₁₋₂² - 1.1789999999999998a₁₋₁a₂₋₁²a₂₋₂ + 2.2682999999999995a₁₋₁a₂₋₁a₁₋₂a₂₋₂ - 2.3579999999999997a₁₋₁a₂₋₁b₁₋₁b₁₋₂ + 2.2682999999999995a₁₋₁a₂₋₁b₁₋₂b₂₋₂ - 1.101a₁₋₁a₁₋₂²a₂₋₂ - 2.3579999999999997a₁₋₁a₁₋₂b₁₋₁b₂₋₁ + 2.2682999999999995a₁₋₁a₁₋₂b₂₋₁b₂₋₂ - 1.1789999999999998a₁₋₁a₂₋₂b₂₋₁² - 2.2682999999999995a₁₋₁a₂₋₂b₂₋₁b₁₋₂ - 1.101a₁₋₁a₂₋₂b₁₋₂² + 0.61485a₂₋₁⁴ - 1.1283a₂₋₁²a₁₋₂² + 0.5700000000000001a₂₋₁²a₂₋₂² + 0.61485a₂₋₁²b₁₋₁² - 1.1789999999999998a₂₋₁²b₁₋₁b₂₋₂ + 1.2297a₂₋₁²b₂₋₁² - 1.1283a₂₋₁²b₁₋₂² + 0.5700000000000001a₂₋₁²b₂₋₂² - 1.101a₂₋₁a₁₋₂a₂₋₂² + 1.1789999999999998a₂₋₁a₁₋₂b₁₋₁² - 2.2682999999999995a₂₋₁a₁₋₂b₁₋₁b₂₋₂ + 1.101a₂₋₁a₁₋₂b₂₋₂² + 2.2682999999999995a₂₋₁a₂₋₂b₁₋₁b₁₋₂ - 2.202a₂₋₁a₂₋₂b₁₋₂b₂₋₂ + 0.53685a₁₋₂⁴ + 0.53685a₁₋₂²a₂₋₂² + 0.5700000000000001a₁₋₂²b₁₋₁² - 1.101a₁₋₂²b₁₋₁b₂₋₂ - 1.1283a₁₋₂²b₂₋₁² + 1.0737a₁₋₂²b₁₋₂² + 0.53685a₁₋₂²b₂₋₂² + 2.2682999999999995a₁₋₂a₂₋₂b₁₋₁b₂₋₁ - 2.202a₁₋₂a₂₋₂b₂₋₁b₂₋₂ + 0.5700000000000001a₂₋₂²b₂₋₁² + 1.101a₂₋₂²b₂₋₁b₁₋₂ + 0.53685a₂₋₂²b₁₋₂² + 0.61485b₁₋₁²b₂₋₁² - 1.1789999999999998b₁₋₁²b₂₋₁b₁₋₂ + 0.5700000000000001b₁₋₁²b₁₋₂² - 1.1789999999999998b₁₋₁b₂₋₁²b₂₋₂ + 2.2682999999999995b₁₋₁b₂₋₁b₁₋₂b₂₋₂ - 1.101b₁₋₁b₁₋₂²b₂₋₂ + 0.61485b₂₋₁⁴ - 1.1283b₂₋₁²b₁₋₂² + 0.5700000000000001b₂₋₁²b₂₋₂² - 1.101b₂₋₁b₁₋₂b₂₋₂² + 0.53685b₁₋₂⁴ + 0.53685b₁₋₂²b₂₋₂² - 0.10139999999999999x₃a₁₋₁b₂₋₁ - 0.07799999999999999x₃a₁₋₁b₁₋₂ + 0.10139999999999999x₃a₂₋₁b₁₋₁ - 0.07799999999999999x₃a₂₋₁b₂₋₂ + 0.07799999999999999x₃a₁₋₂b₁₋₁ - 0.054599999999999996x₃a₁₋₂b₂₋₂ + 0.07799999999999999x₃a₂₋₂b₂₋₁ + 0.054599999999999996x₃a₂₋₂b₁₋₂ - 0.10139999999999999x₄a₁₋₁a₂₋₁ + 0.07799999999999999x₄a₁₋₁a₁₋₂ + 0.07799999999999999x₄a₂₋₁a₂₋₂ - 0.054599999999999996x₄a₁₋₂a₂₋₂ - 0.10139999999999999x₄b₁₋₁b₂₋₁ + 0.07799999999999999x₄b₁₋₁b₁₋₂ + 0.07799999999999999x₄b₂₋₁b₂₋₂ - 0.054599999999999996x₄b₁₋₂b₂₋₂ + 0.023399999999999997x₃² + 0.023399999999999997x₄² + 0.438a₂₋₁² - 0.242a₁₋₂² + 0.438b₂₋₁² - 0.242b₁₋₂² + 0.42000000000000004"
      ]
     },
     "execution_count": 7,
     "metadata": {},
     "output_type": "execute_result"
    }
   ],
   "source": [
    "trapz_obj(ρ, t, H, A) "
   ]
  },
  {
   "cell_type": "code",
   "execution_count": 8,
   "id": "f687786e",
   "metadata": {},
   "outputs": [],
   "source": [
    "obj = simp_obj(ρ, t, H, A);"
   ]
  },
  {
   "cell_type": "code",
   "execution_count": 9,
   "id": "684010c8",
   "metadata": {},
   "outputs": [
    {
     "name": "stdout",
     "output_type": "stream",
     "text": [
      "************************TSSOS************************\n",
      "TSSOS is launching...\n",
      "Starting to compute the block structure...\n",
      "------------------------------------------------------\n",
      "The sizes of PSD blocks:\n",
      "[9, 5, 1]\n",
      "[2, 1, 10]\n",
      "------------------------------------------------------\n",
      "Obtained the block structure. The maximal size of blocks is 9.\n",
      "Assembling the SDP...\n",
      "There are 85 affine constraints.\n",
      "Solving the SDP...\n",
      "Problem\n",
      "  Name                   :                 \n",
      "  Objective sense        : max             \n",
      "  Type                   : CONIC (conic optimization problem)\n",
      "  Constraints            : 85              \n",
      "  Cones                  : 0               \n",
      "  Scalar variables       : 11              \n",
      "  Matrix variables       : 3               \n",
      "  Integer variables      : 0               \n",
      "\n",
      "Optimizer started.\n",
      "Presolve started.\n",
      "Linear dependency checker started.\n",
      "Linear dependency checker terminated.\n",
      "Eliminator started.\n",
      "Freed constraints in eliminator : 0\n",
      "Eliminator terminated.\n",
      "Eliminator - tries                  : 1                 time                   : 0.00            \n",
      "Lin. dep.  - tries                  : 1                 time                   : 0.00            \n",
      "Lin. dep.  - number                 : 0               \n",
      "Presolve terminated. Time: 0.00    \n",
      "Problem\n",
      "  Name                   :                 \n",
      "  Objective sense        : max             \n",
      "  Type                   : CONIC (conic optimization problem)\n",
      "  Constraints            : 85              \n",
      "  Cones                  : 0               \n",
      "  Scalar variables       : 11              \n",
      "  Matrix variables       : 3               \n",
      "  Integer variables      : 0               \n",
      "\n",
      "Optimizer  - threads                : 4               \n",
      "Optimizer  - solved problem         : the primal      \n",
      "Optimizer  - Constraints            : 85\n",
      "Optimizer  - Cones                  : 1\n",
      "Optimizer  - Scalar variables       : 12                conic                  : 2               \n",
      "Optimizer  - Semi-definite variables: 3                 scalarized             : 105             \n",
      "Factor     - setup time             : 0.00              dense det. time        : 0.00            \n",
      "Factor     - ML order time          : 0.00              GP order time          : 0.00            \n",
      "Factor     - nonzeros before factor : 1876              after factor           : 1876            \n",
      "Factor     - dense dim.             : 0                 flops                  : 7.00e+04        \n",
      "ITE PFEAS    DFEAS    GFEAS    PRSTATUS   POBJ              DOBJ              MU       TIME  \n",
      "0   3.3e+00  1.0e+00  1.0e+00  0.00e+00   0.000000000e+00   0.000000000e+00   1.0e+00  0.05  \n",
      "1   8.3e-01  2.5e-01  3.0e-01  -4.80e-01  -1.043492017e+00  -1.922475376e+00  2.5e-01  0.06  \n",
      "2   2.4e-01  7.3e-02  2.1e-02  7.71e-01   -7.783500584e-02  -2.030796707e-02  7.3e-02  0.06  \n",
      "3   9.6e-02  2.9e-02  4.5e-03  1.84e+00   2.393323146e-01   2.534670619e-01   2.9e-02  0.06  \n",
      "4   2.7e-02  8.1e-03  6.1e-04  1.58e+00   2.444960033e-01   2.470222830e-01   8.1e-03  0.06  \n",
      "5   2.2e-03  6.8e-04  1.5e-05  1.20e+00   2.614186621e-01   2.615793951e-01   6.8e-04  0.06  \n",
      "6   2.2e-04  6.6e-05  4.5e-07  1.01e+00   2.632407811e-01   2.632560110e-01   6.6e-05  0.06  \n",
      "7   1.3e-05  3.8e-06  6.1e-09  1.00e+00   2.635910195e-01   2.635918964e-01   3.8e-06  0.06  \n",
      "8   7.9e-07  2.4e-07  9.6e-11  1.00e+00   2.636107146e-01   2.636107713e-01   2.4e-07  0.06  \n",
      "9   8.6e-08  2.6e-08  3.5e-12  1.00e+00   2.636116884e-01   2.636116946e-01   2.6e-08  0.06  \n",
      "10  3.5e-09  1.2e-09  3.0e-14  1.00e+00   2.636117860e-01   2.636117863e-01   1.1e-09  0.06  \n",
      "Optimizer terminated. Time: 0.06    \n",
      "\n",
      "SDP solving time: 1.5868983 seconds.\n",
      "optimum = 0.2636117860073413\n"
     ]
    }
   ],
   "source": [
    "using TSSOS\n",
    "\n",
    "opt,sol,data = tssos_first(obj, variables(obj));"
   ]
  },
  {
   "cell_type": "code",
   "execution_count": 10,
   "id": "520133ce",
   "metadata": {},
   "outputs": [
    {
     "name": "stdout",
     "output_type": "stream",
     "text": [
      "Starting to compute the block structure...\n",
      "No higher TSSOS hierarchy!\n"
     ]
    }
   ],
   "source": [
    "opt,sol,data = tssos_higher!(data);"
   ]
  },
  {
   "cell_type": "code",
   "execution_count": 11,
   "id": "c5e636e8",
   "metadata": {},
   "outputs": [
    {
     "name": "stdout",
     "output_type": "stream",
     "text": [
      "Starting to compute the block structure...\n",
      "No higher TSSOS hierarchy!\n"
     ]
    }
   ],
   "source": [
    "opt,sol,data = tssos_higher!(data);"
   ]
  },
  {
   "cell_type": "code",
   "execution_count": null,
   "id": "99be289d",
   "metadata": {},
   "outputs": [],
   "source": []
  }
 ],
 "metadata": {
  "kernelspec": {
   "display_name": "Julia 1.7.2",
   "language": "julia",
   "name": "julia-1.7"
  },
  "language_info": {
   "file_extension": ".jl",
   "mimetype": "application/julia",
   "name": "julia",
   "version": "1.7.2"
  }
 },
 "nbformat": 4,
 "nbformat_minor": 5
}
