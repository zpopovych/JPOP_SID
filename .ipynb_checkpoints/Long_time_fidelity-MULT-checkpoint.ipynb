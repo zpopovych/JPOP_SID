{
 "cells": [
  {
   "cell_type": "code",
   "execution_count": 1,
   "id": "b894ab08",
   "metadata": {},
   "outputs": [
    {
     "data": {
      "text/plain": [
       "Main.LiPoSID"
      ]
     },
     "execution_count": 1,
     "metadata": {},
     "output_type": "execute_result"
    }
   ],
   "source": [
    "using HDF5\n",
    "using LinearAlgebra\n",
    "using Statistics\n",
    "include(\"LiPoSID.jl\")"
   ]
  },
  {
   "cell_type": "code",
   "execution_count": 2,
   "id": "070cb1b7",
   "metadata": {},
   "outputs": [
    {
     "data": {
      "text/plain": [
       "\"C:/Users/Zakhar/Documents/GitHub/JPOP_SID/LiPoSID_clust_compare_methods_started_2022-Jul-15_at_15-12.h5\""
      ]
     },
     "execution_count": 2,
     "metadata": {},
     "output_type": "execute_result"
    }
   ],
   "source": [
    "file_name = \"C:/Users/Zakhar/Documents/GitHub/JPOP_SID/LiPoSID_clust_compare_methods_started_2022-Jul-15_at_15-12.h5\""
   ]
  },
  {
   "cell_type": "code",
   "execution_count": 3,
   "id": "a1c65aa3",
   "metadata": {},
   "outputs": [
    {
     "data": {
      "text/plain": [
       "get_kraus_sid (generic function with 1 method)"
      ]
     },
     "execution_count": 3,
     "metadata": {},
     "output_type": "execute_result"
    }
   ],
   "source": [
    "function get_seeds_and_timespan(file_name)   \n",
    "    h5open(file_name,\"r\") do fid   # read file, preserve existing contents\n",
    "        seeds = read(fid[\"seeds\"])\n",
    "        Δt = read(fid[\"dt\"])\n",
    "        tₘₐₓ = read(fid[\"t_max\"])\n",
    "        return seeds,  Δt, tₘₐₓ\n",
    "    end\n",
    "end\n",
    "\n",
    "function get_noise_levels(file_name)   \n",
    "    h5open(file_name,\"r\") do fid   # read file, preserve existing contents\n",
    "        noise_levels = keys(fid[\"data_by_noise_level\"])\n",
    "        return noise_levels\n",
    "    end\n",
    "end\n",
    "\n",
    "function get_variable_names(file_name, noise_level, seed)\n",
    "        h5open(file_name,\"r\") do fid   # read file, preserve existing contents\n",
    "        variable_names = keys(fid[\"data_by_noise_level\"][string(noise_level)][string(seed)])\n",
    "        return variable_names\n",
    "    end\n",
    "end\n",
    "\n",
    "function get_by_name(file_name, var_name, noise_levels, seeds)\n",
    "        h5open(file_name,\"r\") do fid # read file, preserve existing contents\n",
    "        var_by_name = []\n",
    "        for w in noise_levels\n",
    "            current_noise_var = [ read(fid[\"data_by_noise_level\"][string(w)][string(seed)][var_name]) for seed in seeds ]\n",
    "            push!(var_by_name, current_noise_var)\n",
    "        end\n",
    "        return(var_by_name)\n",
    "    end\n",
    "end\n",
    "\n",
    "function get_lsid(file_name, noise, seeds)\n",
    "    A = get_by_name(file_name, \"A\", [noise], seeds)[1][1]\n",
    "    C = get_by_name(file_name, \"C\", [noise], seeds)[1][1]\n",
    "    x0 = get_by_name(file_name, \"x0\", [noise], seeds)[1][1]\n",
    "    return A, C, x0\n",
    "end\n",
    "\n",
    "function get_kraus_sid(file_name, noise, seed)\n",
    "    ρ0 = get_by_name(file_name, \"rho0\", [noise], seeds)[1][1]\n",
    "    K1_sid = get_by_name(file_name, \"K1_sid\", [noise], seeds)[1][1]\n",
    "    K2_sid = get_by_name(file_name, \"K2_sid\", [noise], seeds)[1][1]\n",
    "    return ρ0, K1_sid, K2_sid\n",
    "end "
   ]
  },
  {
   "cell_type": "code",
   "execution_count": 4,
   "id": "12886d1b",
   "metadata": {},
   "outputs": [
    {
     "data": {
      "text/plain": [
       "8-element Vector{String}:\n",
       " \"0.0\"\n",
       " \"0.01\"\n",
       " \"0.02\"\n",
       " \"0.03\"\n",
       " \"0.04\"\n",
       " \"0.05\"\n",
       " \"0.08\"\n",
       " \"0.1\""
      ]
     },
     "execution_count": 4,
     "metadata": {},
     "output_type": "execute_result"
    }
   ],
   "source": [
    "seeds,  Δt, tₘₐₓ = get_seeds_and_timespan(file_name)\n",
    "noise_levels = get_noise_levels(file_name)\n",
    "# get_variable_names(file_name, noise_levels[1], seeds[1])"
   ]
  },
  {
   "cell_type": "code",
   "execution_count": 5,
   "id": "dd2f2d17",
   "metadata": {},
   "outputs": [
    {
     "data": {
      "text/plain": [
       "NLevel(N=2)"
      ]
     },
     "execution_count": 5,
     "metadata": {},
     "output_type": "execute_result"
    }
   ],
   "source": [
    "using QuantumOptics\n",
    "basis = NLevelBasis(2)"
   ]
  },
  {
   "cell_type": "code",
   "execution_count": 6,
   "id": "e12f14e9",
   "metadata": {},
   "outputs": [
    {
     "data": {
      "text/plain": [
       "lindblad_evolution (generic function with 1 method)"
      ]
     },
     "execution_count": 6,
     "metadata": {},
     "output_type": "execute_result"
    }
   ],
   "source": [
    "function lindblad_evolution(key, time_limit, noise_level, seed)\n",
    "    time_span = [0:Δt:time_limit;]\n",
    "    H_exact = DenseOperator(basis, get_by_name(file_name, \"H_\"*key, [noise_level], seed)[1][1])\n",
    "    J_exact = DenseOperator(basis, get_by_name(file_name, \"J_\"*key, [noise_level], seed)[1][1])\n",
    "    ρ0 = DenseOperator(basis, get_by_name(file_name, \"rho0\", [noise_level], seed)[1][1])\n",
    "    time, ρ_exact_ser  = timeevolution.master(time_span, ρ0, H_exact, [J_exact])\n",
    "    ρ = [ρₜ.data for ρₜ in ρ_exact_ser]\n",
    "end"
   ]
  },
  {
   "cell_type": "code",
   "execution_count": 7,
   "id": "3d9edc7c",
   "metadata": {},
   "outputs": [
    {
     "data": {
      "text/plain": [
       "\"SID_forecasting_fidelity_MEANS_2022-Aug-05_at_21-30.h5\""
      ]
     },
     "execution_count": 7,
     "metadata": {},
     "output_type": "execute_result"
    }
   ],
   "source": [
    "using Dates\n",
    "res_file_name = \"SID_forecasting_fidelity_\" * string(Dates.format(now(), \"yyyy-u-dd_at_HH-MM\")) * \".h5\" \n",
    "res_file_name_means = \"SID_forecasting_fidelity_MEANS_\" * string(Dates.format(now(), \"yyyy-u-dd_at_HH-MM\")) * \".h5\" "
   ]
  },
  {
   "cell_type": "code",
   "execution_count": null,
   "id": "54dbfe4c",
   "metadata": {},
   "outputs": [],
   "source": [
    "time_multipliers = [1:1:10;]\n",
    "fidelity_pade = Array{Float64}(undef, length(time_multipliers), length(noise_levels))\n",
    "fidelity_simp = Array{Float64}(undef, length(time_multipliers), length(noise_levels))\n",
    "fidelity_lsid = Array{Float64}(undef, length(time_multipliers), length(noise_levels))\n",
    "fidelity_kraus = Array{Float64}(undef, length(time_multipliers), length(noise_levels))\n",
    "\n",
    "for m in 1:length(time_multipliers)  # time scales\n",
    "    \n",
    "    h5open(res_file_name,\"cw\") do fid   # read-write, create file if not existing, preserve existing contents\n",
    "        time_multiplier_grop = create_group(fid, string(m))\n",
    "        end\n",
    "    \n",
    "    for n in 1:length(noise_levels)\n",
    "        noise = noise_levels[n]\n",
    "        fid_pade = []\n",
    "        fid_simp = []\n",
    "        fid_lsid = []\n",
    "        fid_kraus = []\n",
    "        Threads.@threads for seed in seeds #[1:10]\n",
    "            time_limit = m * tₘₐₓ\n",
    "            # Lindblad evolution selies \"exact\" and recovered\n",
    "            ρ_exact = lindblad_evolution(\"exact\", time_limit, noise, seed)\n",
    "            ρ_pade = lindblad_evolution(\"sid_pade\", time_limit, noise, seed)\n",
    "            ρ_simp = lindblad_evolution(\"sid_simp\", time_limit, noise, seed)           \n",
    "            push!(fid_pade, LiPoSID.min_fidelity_between_series(basis, ρ_pade, ρ_exact))\n",
    "            push!(fid_simp, LiPoSID.min_fidelity_between_series(basis, ρ_simp, ρ_exact)) \n",
    "            \n",
    "            # Series recoveres by linear system identification\n",
    "            time_steps = Integer(round(time_limit/Δt))+1\n",
    "            A, C, x0 = get_lsid(file_name, noise, seed)\n",
    "            bloch_sid = LiPoSID.propagate(A, C, x0, time_steps)\n",
    "            ρ_lsid = LiPoSID.rho_series_from_bloch(bloch_sid)[1:length(ρ_exact)]\n",
    "            push!(fid_lsid, LiPoSID.min_fidelity_between_series(basis, ρ_lsid, ρ_exact)) \n",
    "            \n",
    "            # Series recovered with Kraus hypothesis \n",
    "            ρ0, K1_sid, K2_sid = get_kraus_sid(file_name, noise, seed)\n",
    "            ρ_kraus = LiPoSID.timeevolution_kraus(time_steps, ρ0, [K1_sid, K2_sid])\n",
    "            fid_kraus = LiPoSID.min_fidelity_between_series(basis, ρ_kraus, ρ_exact) \n",
    "            \n",
    "        end\n",
    "        \n",
    "        # Write down data for all seeds\n",
    "        \n",
    "        h5open(res_file_name,\"cw\") do fid   # read-write, create file if not existing, preserve existing contents\n",
    "            time_multiplier_grop = open_group(fid, string(m))\n",
    "            noise_level_group = create_group(time_multiplier_grop, string(n))\n",
    "            noise_level_group[\"fidelity_lsid\"] =  convert.(Float64, fid_lsid)\n",
    "            noise_level_group[\"fidelity_simp\"] = convert.(Float64, fid_simp)\n",
    "            noise_level_group[\"fidelity_pade\"] = convert.(Float64, fid_pade)\n",
    "            noise_level_group[\"fidelity_kraus\"] = convert.(Float64, fid_kraus)\n",
    "        end\n",
    "        \n",
    "        fidelity_pade[m,n] = mean(fid_pade)\n",
    "        fidelity_simp[m,n] = mean(fid_simp)\n",
    "        fidelity_lsid[m,n] = mean(fid_lsid)\n",
    "        fidelity_kraus[m,n] = mean(fid_kraus)    \n",
    "\n",
    "        end \n",
    "end\n",
    "\n",
    "# Write down means   \n",
    "h5open(res_file_name_means,\"cw\") do mfid   # read-write, create file if not existing, preserve existing contents\n",
    "    mfid[\"fidelity_lsid\"] = fidelity_lsid\n",
    "    mfid[\"fidelity_simp\"] = fidelity_simp\n",
    "    mfid[\"fidelity_pade\"] = fidelity_pade\n",
    "    mfid[\"fidelity_kraus\"] = fidelity_kraus\n",
    "end"
   ]
  },
  {
   "cell_type": "code",
   "execution_count": null,
   "id": "e967c6b9",
   "metadata": {},
   "outputs": [],
   "source": [
    "using Plots"
   ]
  },
  {
   "cell_type": "code",
   "execution_count": null,
   "id": "a20bb104",
   "metadata": {},
   "outputs": [],
   "source": [
    "plot(title=\"Lindblad Pade shows stable forecasting\")\n",
    "plot!(fidelity_pade[1:end, 1])\n",
    "plot!(fidelity_pade[1:end, 2])\n",
    "plot!(fidelity_pade[1:end, 3])\n",
    "plot!(fidelity_pade[1:end, 4])\n",
    "plot!(fidelity_pade[1:end, 5])\n",
    "plot!(fidelity_pade[1:end, 6])\n",
    "plot!(fidelity_pade[1:end, 7])\n",
    "plot!(fidelity_pade[1:end, 8])"
   ]
  },
  {
   "cell_type": "code",
   "execution_count": null,
   "id": "c3e7cc84",
   "metadata": {},
   "outputs": [],
   "source": [
    "plot(title=\"Lindblad Simpson shows stable forecasting\")\n",
    "plot!(fidelity_simp[1:end, 1], label = noise_levels[1])\n",
    "plot!(fidelity_simp[1:end, 2], label = noise_levels[2])\n",
    "plot!(fidelity_simp[1:end, 3], label = noise_levels[3])\n",
    "plot!(fidelity_simp[1:end, 4], label = noise_levels[4])\n",
    "plot!(fidelity_simp[1:end, 5], label = noise_levels[5])\n",
    "plot!(fidelity_simp[1:end, 6], label = noise_levels[6])\n",
    "plot!(fidelity_simp[1:end, 7], label = noise_levels[7])\n",
    "plot!(fidelity_simp[1:end, 8], label = noise_levels[8])"
   ]
  },
  {
   "cell_type": "code",
   "execution_count": null,
   "id": "c1fada28",
   "metadata": {},
   "outputs": [],
   "source": [
    "fidelity_lsid == fidelity_simp == fidelity_lsid"
   ]
  },
  {
   "cell_type": "code",
   "execution_count": null,
   "id": "960fc3d8",
   "metadata": {},
   "outputs": [],
   "source": [
    "plot(title=\"Small noise improves forecasting by linear SID\")\n",
    "plot!(fidelity_lsid[1:end, 1], label = noise_levels[1])\n",
    "plot!(fidelity_lsid[1:end, 2], label = noise_levels[2])\n",
    "plot!(fidelity_lsid[1:end, 3], label = noise_levels[3])\n",
    "plot!(fidelity_lsid[1:end, 4], label = noise_levels[4])\n",
    "plot!(fidelity_lsid[1:end, 5], label = noise_levels[5])\n",
    "plot!(fidelity_lsid[1:end, 6], label = noise_levels[6])\n",
    "plot!(fidelity_lsid[1:end, 7], label = noise_levels[7])\n",
    "plot!(fidelity_lsid[1:end, 8], label = noise_levels[8])"
   ]
  },
  {
   "cell_type": "code",
   "execution_count": null,
   "id": "af6fc6f5",
   "metadata": {},
   "outputs": [],
   "source": [
    "plot(title=\"Kraus forecasting\")\n",
    "plot!(fidelity_kraus[1:end, 1], label = noise_levels[1])\n",
    "plot!(fidelity_kraus[1:end, 2], label = noise_levels[2])\n",
    "plot!(fidelity_kraus[1:end, 3], label = noise_levels[3])\n",
    "plot!(fidelity_kraus[1:end, 4], label = noise_levels[4])\n",
    "plot!(fidelity_kraus[1:end, 5], label = noise_levels[5])\n",
    "plot!(fidelity_kraus[1:end, 6], label = noise_levels[6])\n",
    "plot!(fidelity_kraus[1:end, 7], label = noise_levels[7])\n",
    "plot!(fidelity_kraus[1:end, 8], label = noise_levels[8])"
   ]
  },
  {
   "cell_type": "code",
   "execution_count": null,
   "id": "338304d3",
   "metadata": {},
   "outputs": [],
   "source": [
    "function get_fidelities(file_name)   \n",
    "    h5open(file_name,\"r\") do fid   # read file, preserve existing contents\n",
    "        fidelity_lsid = read(fid[\"fidelity_lsid\"])\n",
    "        fidelity_simp = read(fid[\"fidelity_simp\"])\n",
    "        fidelity_pade = read(fid[\"fidelity_pade\"])\n",
    "        fidelity_pade = read(fid[\"fidelity_kraus\"])\n",
    "        return fidelity_lsid, fidelity_simp, fidelity_pade, fidelity_kraus\n",
    "    end\n",
    "end"
   ]
  },
  {
   "cell_type": "code",
   "execution_count": null,
   "id": "381b6e89",
   "metadata": {},
   "outputs": [],
   "source": [
    "f_lsid, f_simp, f_pade, f_kraus = get_fidelities(res_file_name_means) "
   ]
  },
  {
   "cell_type": "code",
   "execution_count": null,
   "id": "e57012ee",
   "metadata": {},
   "outputs": [],
   "source": []
  }
 ],
 "metadata": {
  "kernelspec": {
   "display_name": "Julia 1.7.2",
   "language": "julia",
   "name": "julia-1.7"
  },
  "language_info": {
   "file_extension": ".jl",
   "mimetype": "application/julia",
   "name": "julia",
   "version": "1.7.2"
  }
 },
 "nbformat": 4,
 "nbformat_minor": 5
}
