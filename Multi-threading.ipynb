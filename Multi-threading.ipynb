{
 "cells": [
  {
   "cell_type": "markdown",
   "id": "dc3ed87a",
   "metadata": {},
   "source": [
    "# Multi threading"
   ]
  },
  {
   "cell_type": "markdown",
   "id": "74340f3c",
   "metadata": {},
   "source": [
    "After starting the Julia 1.7.2. type"
   ]
  },
  {
   "cell_type": "markdown",
   "id": "a4be22e1",
   "metadata": {},
   "source": [
    "ENV[\"JULIA_NUM_THREADS\"] = 4 <br>\n",
    "using IJulia <br>\n",
    "notebook()"
   ]
  },
  {
   "cell_type": "markdown",
   "id": "68be5948",
   "metadata": {},
   "source": []
  },
  {
   "cell_type": "markdown",
   "id": "1ba327a6",
   "metadata": {},
   "source": [
    "https://github.com/dibondar/QControlPolyOpt/blob/master/QuantumControlPolyOpt.ipynb\n",
    "\n",
    "https://docs.julialang.org/en/v1/manual/multi-threading/"
   ]
  },
  {
   "cell_type": "code",
   "execution_count": 29,
   "id": "4981cd6f",
   "metadata": {},
   "outputs": [
    {
     "data": {
      "text/plain": [
       "4"
      ]
     },
     "execution_count": 29,
     "metadata": {},
     "output_type": "execute_result"
    }
   ],
   "source": [
    "Threads.nthreads()"
   ]
  },
  {
   "cell_type": "code",
   "execution_count": 23,
   "id": "f45cbd0f",
   "metadata": {},
   "outputs": [],
   "source": [
    "using LinearAlgebra"
   ]
  },
  {
   "cell_type": "code",
   "execution_count": 24,
   "id": "2da8fcff",
   "metadata": {},
   "outputs": [
    {
     "data": {
      "text/plain": [
       "1000-element Vector{Float64}:\n",
       " 499.84674835665294\n",
       "  18.101301129931823\n",
       "  18.013522693559832\n",
       "  17.92487792906452\n",
       "  17.837990973723322\n",
       "  17.77376211843183\n",
       "  17.721408462718223\n",
       "  17.69033424254675\n",
       "  17.663565786417752\n",
       "  17.563554216042853\n",
       "  17.529070750069824\n",
       "  17.478982952765094\n",
       "  17.439167096197043\n",
       "   ⋮\n",
       "   0.14763820858182847\n",
       "   0.13179558810349737\n",
       "   0.1219267510673602\n",
       "   0.10894719293043292\n",
       "   0.10534706525232458\n",
       "   0.08367277437887265\n",
       "   0.07034787501825586\n",
       "   0.06377610312816093\n",
       "   0.05204424126812707\n",
       "   0.035729626545309756\n",
       "   0.00888128300245383\n",
       "   0.0028021092140536378"
      ]
     },
     "execution_count": 24,
     "metadata": {},
     "output_type": "execute_result"
    }
   ],
   "source": [
    "M = rand(1000,1000)\n",
    "svdvals(M)"
   ]
  },
  {
   "cell_type": "code",
   "execution_count": 30,
   "id": "a5e36dba",
   "metadata": {},
   "outputs": [],
   "source": [
    "n_samples = 16\n",
    "\n",
    "M = Matrix{Float64}[rand(1000,1000) for i = 1:n_samples];\n",
    "\n",
    "ids = zeros(n_samples)\n",
    "results = zeros(1000, n_samples)\n",
    "\n",
    "Threads.@threads for i=1:n_samples\n",
    "    ids[i] = Threads.threadid()\n",
    "    results[:,i] = svdvals(M[i])\n",
    "end\n"
   ]
  },
  {
   "cell_type": "code",
   "execution_count": 32,
   "id": "ce3304a5",
   "metadata": {},
   "outputs": [
    {
     "data": {
      "text/plain": [
       "16-element Vector{Float64}:\n",
       " 1.0\n",
       " 1.0\n",
       " 1.0\n",
       " 1.0\n",
       " 2.0\n",
       " 2.0\n",
       " 2.0\n",
       " 2.0\n",
       " 3.0\n",
       " 3.0\n",
       " 3.0\n",
       " 3.0\n",
       " 4.0\n",
       " 4.0\n",
       " 4.0\n",
       " 4.0"
      ]
     },
     "execution_count": 32,
     "metadata": {},
     "output_type": "execute_result"
    }
   ],
   "source": [
    "ids"
   ]
  },
  {
   "cell_type": "code",
   "execution_count": null,
   "id": "876a4b14",
   "metadata": {},
   "outputs": [],
   "source": []
  }
 ],
 "metadata": {
  "kernelspec": {
   "display_name": "Julia 1.7.2",
   "language": "julia",
   "name": "julia-1.7"
  },
  "language_info": {
   "file_extension": ".jl",
   "mimetype": "application/julia",
   "name": "julia",
   "version": "1.7.2"
  }
 },
 "nbformat": 4,
 "nbformat_minor": 5
}
