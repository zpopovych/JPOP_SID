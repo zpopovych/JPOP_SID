{
 "cells": [
  {
   "cell_type": "markdown",
   "id": "dc3ed87a",
   "metadata": {},
   "source": [
    "# Multi threading"
   ]
  },
  {
   "cell_type": "markdown",
   "id": "1ba327a6",
   "metadata": {},
   "source": [
    "https://github.com/dibondar/QControlPolyOpt/blob/master/QuantumControlPolyOpt.ipynb\n",
    "\n",
    "https://docs.julialang.org/en/v1/manual/multi-threading/"
   ]
  },
  {
   "cell_type": "code",
   "execution_count": null,
   "id": "67918bc8",
   "metadata": {},
   "outputs": [],
   "source": []
  },
  {
   "cell_type": "code",
   "execution_count": null,
   "id": "0bea876e",
   "metadata": {},
   "outputs": [],
   "source": []
  }
 ],
 "metadata": {
  "kernelspec": {
   "display_name": "Julia 1.7.2",
   "language": "julia",
   "name": "julia-1.7"
  },
  "language_info": {
   "file_extension": ".jl",
   "mimetype": "application/julia",
   "name": "julia",
   "version": "1.7.2"
  }
 },
 "nbformat": 4,
 "nbformat_minor": 5
}
